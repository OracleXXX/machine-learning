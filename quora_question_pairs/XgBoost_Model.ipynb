{
 "cells": [
  {
   "cell_type": "code",
   "execution_count": 8,
   "metadata": {},
   "outputs": [],
   "source": [
    "import json\n",
    "import re\n",
    "import numpy as np\n",
    "import pandas as pd\n",
    "from sklearn.preprocessing import LabelEncoder\n",
    "from sklearn.feature_extraction.text import TfidfVectorizer\n",
    "from sklearn.grid_search import GridSearchCV\n",
    "from text_unidecode import unidecode\n",
    "import xgboost as xgb\n",
    "from xgboost.sklearn import XGBClassifier "
   ]
  },
  {
   "cell_type": "code",
   "execution_count": 9,
   "metadata": {
    "collapsed": true
   },
   "outputs": [],
   "source": [
    "if verbose:\n",
    "    print 'all modules imported'\n",
    "\n",
    "##################################################################\n",
    "## STEP 1 - READING AND CLEANING DATASETS\n",
    "##################################################################\n",
    "train_df = pd.read_json('train.json')\n",
    "test_df = pd.read_json('test.json')\n",
    "\n",
    "## check the shape of training and test dataset\n",
    "if verbose:\n",
    "    print 'size of training dataset is', train_df.shape\n",
    "    print 'size of test dataset is', test_df.shape"
   ]
  },
  {
   "cell_type": "code",
   "execution_count": 10,
   "metadata": {
    "collapsed": true
   },
   "outputs": [],
   "source": [
    "## read the ingredient list and do some cleaning\n",
    "## remove digits and lower the characters. strip any whitespaces if present\n",
    "all_ingredients_train = []\n",
    "all_cuisines = []\n",
    "for i, row in train_df.iterrows():\n",
    "    all_ingredients_train.append(unidecode(re.sub('\\d+', '',' '.join(row['ingredients']).lower().strip())))\n",
    "    all_cuisines.append(row['cuisine'])\n",
    "\n",
    "all_ingredients_test= []\n",
    "for i, row in test_df.iterrows():\n",
    "    all_ingredients_test.append(unidecode(re.sub('\\d+', '',' '.join(row['ingredients']).lower().strip())))\n",
    "    \n",
    "## remove special characters from ingredients\n",
    "all_ingredients_train = [ ing.replace(\"-\", \" \").replace(\"&\", \" \").replace(\"'\", \" \").replace(\"''\", \" \").replace(\"%\", \" \")\\\n",
    "                    .replace(\"!\", \" \").replace(\"(\", \" \").replace(\")\", \" \").replace(\"/\", \" \").replace(\"/\", \" \")\\\n",
    "                    .replace(\",\", \" \").replace(\".\", \" \") for ing in all_ingredients_train]\n",
    "\n",
    "## remove extra whitespaces\n",
    "all_ingredients_train = [ re.sub('\\s+', ' ', ing).strip() for ing in all_ingredients_train]\n",
    "\n",
    "## number of unique ingredients and cuisine in the dataset\n",
    "if verbose:\n",
    "    print 'total number of ingedients are', len(set(all_ingredients))\n",
    "    print 'total number of cusines are', len(set(all_cuisines))"
   ]
  },
  {
   "cell_type": "code",
   "execution_count": 11,
   "metadata": {},
   "outputs": [
    {
     "name": "stdout",
     "output_type": "stream",
     "text": [
      "(39774, 3)\n",
      "39774\n",
      "(9944, 2)\n",
      "9944\n"
     ]
    }
   ],
   "source": [
    "print train_df.shape\n",
    "print len(all_ingredients_train)\n",
    "print test_df.shape\n",
    "print len(all_ingredients_test)"
   ]
  },
  {
   "cell_type": "code",
   "execution_count": 12,
   "metadata": {
    "collapsed": true
   },
   "outputs": [],
   "source": [
    "## initialize tfidf vectorizer and label encoder\n",
    "tfidf = TfidfVectorizer()\n",
    "lbl = LabelEncoder()\n",
    "\n",
    "## fit and transform on the test and train dataset\n",
    "train = tfidf.fit_transform(all_ingredients_train).astype('float32')\n",
    "y = lbl.fit_transform(all_cuisines)\n",
    "\n",
    "test = tfidf.transform(all_ingredients_test).astype('float32')"
   ]
  },
  {
   "cell_type": "code",
   "execution_count": 13,
   "metadata": {},
   "outputs": [],
   "source": [
    "nfolds = 5 ## use 5-fold cross validation to check the best parameters\n",
    "\n",
    "## first step is to get the number of estimators. this training will stop once\n",
    "## the error stops reducing\n",
    "xgtrain = xgb.DMatrix(train, label=y)"
   ]
  },
  {
   "cell_type": "code",
   "execution_count": 33,
   "metadata": {},
   "outputs": [],
   "source": [
    "param_dist = {'n_estimators': 500,\n",
    "              'learning_rate': 0.03,\n",
    "              'subsample': 0.7,\n",
    "              'max_depth':  7,\n",
    "              'colsample_bytree': 0.8,\n",
    "              'min_child_weight': 2,\n",
    "              'objective': 'multi:softmax',\n",
    "               'num_class': 20\n",
    "             }"
   ]
  },
  {
   "cell_type": "code",
   "execution_count": 34,
   "metadata": {},
   "outputs": [],
   "source": [
    "cvresult = xgb.cv(param_dist, xgtrain, num_boost_round=2000, nfold=nfolds,\n",
    "            metrics='merror', early_stopping_rounds=50, stratified = True)\n",
    "\n",
    "## optimum number of trees is 249"
   ]
  },
  {
   "cell_type": "code",
   "execution_count": 35,
   "metadata": {},
   "outputs": [
    {
     "name": "stdout",
     "output_type": "stream",
     "text": [
      "(884, 4)\n"
     ]
    }
   ],
   "source": [
    "print cvresult.shape"
   ]
  },
  {
   "cell_type": "code",
   "execution_count": null,
   "metadata": {},
   "outputs": [],
   "source": [
    "## now lets start tuning the parameters\n",
    "max_depth_values = range(4, 10, 3)\n",
    "min_child_weight_values = [6,8,10,12]\n",
    "subsample_values = [i/10.0 for i in range(6,10)],\n",
    "colsample_bytree_values = [i/10.0 for i in range(6,10)]\n",
    "gamma_values = [i/10.0 for i in range(0,5)]\n",
    "param_grid = {'max_depth':max_depth_values, 'min_child_weight': min_child_weight_values,\\\n",
    "               'subsample':subsample_values, 'colsample_bytree': colsample_bytree_values,\\\n",
    "              'gamma':gamma_values}\n",
    "grid_search = GridSearchCV(estimator = XGBClassifier( learning_rate =0.1, n_estimators=884, \\\n",
    "                                                      objective= 'multi:softmax', scale_pos_weight=1,seed=1), \\\n",
    "                           param_grid = param_grid, scoring='roc_auc',n_jobs=-1,iid=False, cv=nfolds)\n",
    "grid_search.fit(train, y)\n",
    "print grid_search.best_params_"
   ]
  },
  {
   "cell_type": "code",
   "execution_count": null,
   "metadata": {
    "collapsed": true
   },
   "outputs": [],
   "source": []
  }
 ],
 "metadata": {
  "kernelspec": {
   "display_name": "Python 2",
   "language": "python",
   "name": "python2"
  },
  "language_info": {
   "codemirror_mode": {
    "name": "ipython",
    "version": 2
   },
   "file_extension": ".py",
   "mimetype": "text/x-python",
   "name": "python",
   "nbconvert_exporter": "python",
   "pygments_lexer": "ipython2",
   "version": "2.7.11"
  }
 },
 "nbformat": 4,
 "nbformat_minor": 2
}
