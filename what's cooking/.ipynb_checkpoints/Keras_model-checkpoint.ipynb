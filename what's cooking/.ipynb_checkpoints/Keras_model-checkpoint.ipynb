{
 "cells": [
  {
   "cell_type": "code",
   "execution_count": 1,
   "metadata": {
    "collapsed": false
   },
   "outputs": [
    {
     "name": "stderr",
     "output_type": "stream",
     "text": [
      "Using Theano backend.\n"
     ]
    }
   ],
   "source": [
    "import json\n",
    "import re\n",
    "import numpy as np\n",
    "import pandas as pd\n",
    "from sklearn.preprocessing import LabelEncoder\n",
    "from sklearn.feature_extraction.text import TfidfVectorizer\n",
    "from text_unidecode import unidecode\n",
    "from keras.models import Sequential\n",
    "from keras.layers.core import Dense, Dropout"
   ]
  },
  {
   "cell_type": "code",
   "execution_count": 13,
   "metadata": {
    "collapsed": true
   },
   "outputs": [],
   "source": [
    "verbose = 0 ## print updates or not - boolean\n",
    "\n",
    "if verbose:\n",
    "    print 'all modules imported'\n",
    "\n",
    "##################################################################\n",
    "## STEP 1 - READING AND CLEANING DATASETS\n",
    "##################################################################\n",
    "train_df = pd.read_json('train.json')\n",
    "test_df = pd.read_json('test.json')\n",
    "\n",
    "## check the shape of training and test dataset\n",
    "if verbose:\n",
    "    print 'size of training dataset is', train_df.shape\n",
    "    print 'size of test dataset is', test_df.shape"
   ]
  },
  {
   "cell_type": "code",
   "execution_count": 14,
   "metadata": {
    "collapsed": true
   },
   "outputs": [],
   "source": [
    "## read the ingredient list and do some cleaning\n",
    "## remove digits and lower the characters. strip any whitespaces if present\n",
    "all_ingredients_train = []\n",
    "all_cuisines = []\n",
    "for i, row in train_df.iterrows():\n",
    "    all_ingredients_train.append(unidecode(re.sub('\\d+', '',' '.join(row['ingredients']).lower().strip())))\n",
    "    all_cuisines.append(row['cuisine'])\n",
    "\n",
    "all_ingredients_test= []\n",
    "for i, row in test_df.iterrows():\n",
    "    all_ingredients_test.append(unidecode(re.sub('\\d+', '',' '.join(row['ingredients']).lower().strip())))\n",
    "    \n",
    "## remove special characters from ingredients\n",
    "all_ingredients_train = [ ing.replace(\"-\", \" \").replace(\"&\", \" \").replace(\"'\", \" \").replace(\"''\", \" \").replace(\"%\", \" \")\\\n",
    "                    .replace(\"!\", \" \").replace(\"(\", \" \").replace(\")\", \" \").replace(\"/\", \" \").replace(\"/\", \" \")\\\n",
    "                    .replace(\",\", \" \").replace(\".\", \" \") for ing in all_ingredients_train]\n",
    "\n",
    "## remove extra whitespaces\n",
    "all_ingredients_train = [ re.sub('\\s+', ' ', ing).strip() for ing in all_ingredients_train]\n",
    "\n",
    "## number of unique ingredients and cuisine in the dataset\n",
    "if verbose:\n",
    "    print 'total number of ingedients are', len(set(all_ingredients))\n",
    "    print 'total number of cusines are', len(set(all_cuisines))"
   ]
  },
  {
   "cell_type": "code",
   "execution_count": 15,
   "metadata": {
    "collapsed": false
   },
   "outputs": [],
   "source": [
    "len(all_cuisines)\n",
    "import keras"
   ]
  },
  {
   "cell_type": "code",
   "execution_count": 16,
   "metadata": {
    "collapsed": false
   },
   "outputs": [],
   "source": [
    "tfidf = TfidfVectorizer()\n",
    "lbl = LabelEncoder()\n",
    "\n",
    "## fit and transform on the test and train dataset\n",
    "train = tfidf.fit_transform(all_ingredients_train).toarray().astype('float32')\n",
    "y = lbl.fit_transform(all_cuisines)\n",
    "# Convert labels to categorical one-hot encoding\n",
    "y = keras.utils.to_categorical(y, num_classes=20)\n",
    "test = tfidf.transform(all_ingredients_test).toarray().astype('float32')"
   ]
  },
  {
   "cell_type": "code",
   "execution_count": 17,
   "metadata": {
    "collapsed": false
   },
   "outputs": [
    {
     "name": "stdout",
     "output_type": "stream",
     "text": [
      "(39774L, 2993L)\n"
     ]
    }
   ],
   "source": [
    "print train.shape"
   ]
  },
  {
   "cell_type": "code",
   "execution_count": 18,
   "metadata": {
    "collapsed": false
   },
   "outputs": [
    {
     "name": "stderr",
     "output_type": "stream",
     "text": [
      "c:\\python27\\lib\\site-packages\\ipykernel\\__main__.py:3: UserWarning: Update your `Dense` call to the Keras 2 API: `Dense(512, activation=\"relu\", kernel_initializer=\"glorot_uniform\", input_shape=(2993L,))`\n",
      "  app.launch_new_instance()\n",
      "c:\\python27\\lib\\site-packages\\ipykernel\\__main__.py:5: UserWarning: Update your `Dense` call to the Keras 2 API: `Dense(128, activation=\"relu\", kernel_initializer=\"glorot_uniform\")`\n"
     ]
    }
   ],
   "source": [
    "mdl = Sequential()\n",
    "mdl.add(Dense(512, init='glorot_uniform', activation='relu', \n",
    "                                    input_shape=(train.shape[1],)))\n",
    "mdl.add(Dropout(0.5))\n",
    "mdl.add(Dense(128, init='glorot_uniform', activation='relu'))\n",
    "mdl.add(Dropout(0.5))\n",
    "mdl.add(Dense(20, activation='softmax'))\n",
    "mdl.compile(loss='categorical_crossentropy', optimizer='adadelta')"
   ]
  },
  {
   "cell_type": "code",
   "execution_count": 19,
   "metadata": {
    "collapsed": false
   },
   "outputs": [
    {
     "name": "stdout",
     "output_type": "stream",
     "text": [
      "Epoch 1/1\n",
      "39774/39774 [==============================] - 12s - loss: 2.9710    \n"
     ]
    },
    {
     "data": {
      "text/plain": [
       "<keras.callbacks.History at 0x4db8e4a8>"
      ]
     },
     "execution_count": 19,
     "metadata": {},
     "output_type": "execute_result"
    }
   ],
   "source": [
    "mdl.fit(train, y, nb_epoch=1, batch_size=4096)"
   ]
  },
  {
   "cell_type": "code",
   "execution_count": 20,
   "metadata": {
    "collapsed": false
   },
   "outputs": [
    {
     "name": "stdout",
     "output_type": "stream",
     "text": [
      "9664/9944 [============================>.] - ETA: 0s"
     ]
    }
   ],
   "source": [
    "pred = mdl.predict_classes(test)"
   ]
  },
  {
   "cell_type": "code",
   "execution_count": 21,
   "metadata": {
    "collapsed": true
   },
   "outputs": [],
   "source": [
    "cuisine_pred_labels = lbl.inverse_transform(pred)"
   ]
  },
  {
   "cell_type": "code",
   "execution_count": 22,
   "metadata": {
    "collapsed": true
   },
   "outputs": [],
   "source": [
    "ids = test_df['id']\n",
    "\n",
    "## make a submission file\n",
    "output = pd.DataFrame({'id': ids, 'cuisine': cuisine_pred_labels}, columns=['id', 'cuisine'])\n",
    "output.to_csv('keras_submission.csv', index=False)"
   ]
  },
  {
   "cell_type": "code",
   "execution_count": null,
   "metadata": {
    "collapsed": true
   },
   "outputs": [],
   "source": []
  }
 ],
 "metadata": {
  "kernelspec": {
   "display_name": "Python 2",
   "language": "python",
   "name": "python2"
  },
  "language_info": {
   "codemirror_mode": {
    "name": "ipython",
    "version": 2
   },
   "file_extension": ".py",
   "mimetype": "text/x-python",
   "name": "python",
   "nbconvert_exporter": "python",
   "pygments_lexer": "ipython2",
   "version": "2.7.11"
  }
 },
 "nbformat": 4,
 "nbformat_minor": 1
}
