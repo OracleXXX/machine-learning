{
 "cells": [
  {
   "cell_type": "code",
   "execution_count": 1,
   "metadata": {
    "collapsed": true
   },
   "outputs": [],
   "source": [
    "## first step is to import h2o module\n",
    "## make sure h20 is installed\n",
    "## pip install h2o \n",
    "## or it can be installed from h2o git for the latest version\n",
    "import h2o"
   ]
  },
  {
   "cell_type": "code",
   "execution_count": 3,
   "metadata": {
    "collapsed": false,
    "scrolled": true
   },
   "outputs": [
    {
     "name": "stdout",
     "output_type": "stream",
     "text": [
      "Checking whether there is an H2O instance running at http://localhost:54321. connected.\n"
     ]
    },
    {
     "data": {
      "text/html": [
       "<div style=\"overflow:auto\"><table style=\"width:50%\"><tr><td>H2O cluster uptime:</td>\n",
       "<td>34 secs</td></tr>\n",
       "<tr><td>H2O cluster version:</td>\n",
       "<td>3.10.3.4</td></tr>\n",
       "<tr><td>H2O cluster version age:</td>\n",
       "<td>20 days </td></tr>\n",
       "<tr><td>H2O cluster name:</td>\n",
       "<td>H2O_from_python_Hari_xurkh2</td></tr>\n",
       "<tr><td>H2O cluster total nodes:</td>\n",
       "<td>1</td></tr>\n",
       "<tr><td>H2O cluster free memory:</td>\n",
       "<td>887 Mb</td></tr>\n",
       "<tr><td>H2O cluster total cores:</td>\n",
       "<td>0</td></tr>\n",
       "<tr><td>H2O cluster allowed cores:</td>\n",
       "<td>0</td></tr>\n",
       "<tr><td>H2O cluster status:</td>\n",
       "<td>locked, healthy</td></tr>\n",
       "<tr><td>H2O connection url:</td>\n",
       "<td>http://localhost:54321</td></tr>\n",
       "<tr><td>H2O connection proxy:</td>\n",
       "<td>None</td></tr>\n",
       "<tr><td>Python version:</td>\n",
       "<td>2.7.11 final</td></tr></table></div>"
      ],
      "text/plain": [
       "--------------------------  ---------------------------\n",
       "H2O cluster uptime:         34 secs\n",
       "H2O cluster version:        3.10.3.4\n",
       "H2O cluster version age:    20 days\n",
       "H2O cluster name:           H2O_from_python_Hari_xurkh2\n",
       "H2O cluster total nodes:    1\n",
       "H2O cluster free memory:    887 Mb\n",
       "H2O cluster total cores:    0\n",
       "H2O cluster allowed cores:  0\n",
       "H2O cluster status:         locked, healthy\n",
       "H2O connection url:         http://localhost:54321\n",
       "H2O connection proxy:\n",
       "Python version:             2.7.11 final\n",
       "--------------------------  ---------------------------"
      ]
     },
     "metadata": {},
     "output_type": "display_data"
    }
   ],
   "source": [
    "h2o.init()\n",
    "# h2o.init(ip, port) -- use this when h2o is installed on a separate machine in the network\n",
    "# h2o.init(nthreads = -1, max_mem_size = 8) # nthreads uses all possible cores. mem size is what h2o will work on\n",
    "# h2o.remove_all()  #clean slate, in case cluster was already running"
   ]
  },
  {
   "cell_type": "code",
   "execution_count": 4,
   "metadata": {
    "collapsed": false
   },
   "outputs": [
    {
     "name": "stdout",
     "output_type": "stream",
     "text": [
      "Parse progress: |█████████████████████████████████████████████████████████| 100%\n"
     ]
    },
    {
     "data": {
      "text/html": [
       "<table>\n",
       "<thead>\n",
       "<tr><th style=\"text-align: right;\">  C1</th><th>C2  </th><th style=\"text-align: right;\">  C3</th></tr>\n",
       "</thead>\n",
       "<tbody>\n",
       "<tr><td style=\"text-align: right;\">   1</td><td>a   </td><td style=\"text-align: right;\"> 0.1</td></tr>\n",
       "<tr><td style=\"text-align: right;\">   2</td><td>b   </td><td style=\"text-align: right;\"> 0.2</td></tr>\n",
       "<tr><td style=\"text-align: right;\">   3</td><td>c   </td><td style=\"text-align: right;\"> 0.3</td></tr>\n",
       "</tbody>\n",
       "</table>"
      ]
     },
     "metadata": {},
     "output_type": "display_data"
    },
    {
     "name": "stdout",
     "output_type": "stream",
     "text": [
      "\n",
      "Parse progress: |█████████████████████████████████████████████████████████| 100%\n"
     ]
    },
    {
     "data": {
      "text/html": [
       "<table>\n",
       "<thead>\n",
       "<tr><th style=\"text-align: right;\">  C1</th><th>C2  </th><th style=\"text-align: right;\">  C3</th></tr>\n",
       "</thead>\n",
       "<tbody>\n",
       "<tr><td style=\"text-align: right;\">   1</td><td>a   </td><td style=\"text-align: right;\"> 0.1</td></tr>\n",
       "<tr><td style=\"text-align: right;\">   2</td><td>b   </td><td style=\"text-align: right;\"> 0.2</td></tr>\n",
       "<tr><td style=\"text-align: right;\">   3</td><td>c   </td><td style=\"text-align: right;\"> 0.3</td></tr>\n",
       "</tbody>\n",
       "</table>"
      ]
     },
     "metadata": {},
     "output_type": "display_data"
    },
    {
     "name": "stdout",
     "output_type": "stream",
     "text": [
      "\n"
     ]
    }
   ],
   "source": [
    "## h2o's syntax is very similar to python's scikit learn\n",
    "\n",
    "## initiate a h2o dataframe with tupple\n",
    "df = h2o.H2OFrame(zip(*((1, 2, 3), ('a', 'b', 'c'), (0.1, 0.2, 0.3))))\n",
    "print df\n",
    "\n",
    "## initiate a h2o dataframe with list\n",
    "df = h2o.H2OFrame(zip(*[[1, 2, 3], ['a', 'b', 'c'], [0.1, 0.2, 0.3]]))\n",
    "print df"
   ]
  },
  {
   "cell_type": "code",
   "execution_count": 5,
   "metadata": {
    "collapsed": false
   },
   "outputs": [
    {
     "name": "stdout",
     "output_type": "stream",
     "text": [
      "Parse progress: |█████████████████████████████████████████████████████████| 100%\n"
     ]
    },
    {
     "data": {
      "text/html": [
       "<table>\n",
       "<thead>\n",
       "<tr><th style=\"text-align: right;\">  A</th><th style=\"text-align: right;\">  C</th><th>B  </th></tr>\n",
       "</thead>\n",
       "<tbody>\n",
       "<tr><td style=\"text-align: right;\">  1</td><td style=\"text-align: right;\">0.1</td><td>a  </td></tr>\n",
       "<tr><td style=\"text-align: right;\">  2</td><td style=\"text-align: right;\">0.2</td><td>b  </td></tr>\n",
       "<tr><td style=\"text-align: right;\">  3</td><td style=\"text-align: right;\">0.3</td><td>c  </td></tr>\n",
       "</tbody>\n",
       "</table>"
      ]
     },
     "metadata": {},
     "output_type": "display_data"
    },
    {
     "name": "stdout",
     "output_type": "stream",
     "text": [
      "\n",
      "{u'A': u'int', u'C': u'real', u'B': u'string'}\n"
     ]
    }
   ],
   "source": [
    "## initialize an h2o frame using a dictionary\n",
    "## this can enable us to name the columns\n",
    "df = h2o.H2OFrame({'A': [1, 2, 3],'B': ['a', 'b', 'c'],'C': [0.1, 0.2, 0.3]})\n",
    "print df\n",
    "print df.types"
   ]
  },
  {
   "cell_type": "code",
   "execution_count": 6,
   "metadata": {
    "collapsed": false
   },
   "outputs": [
    {
     "name": "stdout",
     "output_type": "stream",
     "text": [
      "Parse progress: |█████████████████████████████████████████████████████████| 100%\n"
     ]
    },
    {
     "data": {
      "text/html": [
       "<table>\n",
       "<thead>\n",
       "<tr><th style=\"text-align: right;\">  A</th><th>C    </th><th>B  </th><th>D                  </th></tr>\n",
       "</thead>\n",
       "<tbody>\n",
       "<tr><td style=\"text-align: right;\">  1</td><td>hello</td><td>a  </td><td>2015-03-12 11:00:00</td></tr>\n",
       "<tr><td style=\"text-align: right;\">  2</td><td>all  </td><td>a  </td><td>2015-03-13 12:00:00</td></tr>\n",
       "<tr><td style=\"text-align: right;\">  3</td><td>world</td><td>b  </td><td>2015-03-14 13:00:00</td></tr>\n",
       "</tbody>\n",
       "</table>"
      ]
     },
     "metadata": {},
     "output_type": "display_data"
    },
    {
     "name": "stdout",
     "output_type": "stream",
     "text": [
      "\n",
      "{u'A': u'int', u'C': u'enum', u'B': u'string', u'D': u'time'}\n"
     ]
    }
   ],
   "source": [
    "df = h2o.H2OFrame.from_python({'A': [1, 2, 3], 'B': ['a', 'a', 'b'], 'C': ['hello', 'all', 'world'], \\\n",
    "                               'D': ['12MAR2015:11:00:00', '13MAR2015:12:00:00', '14MAR2015:13:00:00']},\\\n",
    "                              column_types=['numeric', 'enum', 'string', 'time'])\n",
    "\n",
    "print df\n",
    "print df.types"
   ]
  },
  {
   "cell_type": "code",
   "execution_count": 21,
   "metadata": {
    "collapsed": false
   },
   "outputs": [
    {
     "name": "stdout",
     "output_type": "stream",
     "text": [
      "Parse progress: |█████████████████████████████████████████████████████████| 100%\n"
     ]
    }
   ],
   "source": [
    "## generate a dataframe using randomly created numbers\n",
    "import numpy as np\n",
    "df = h2o.H2OFrame.from_python(np.random.randn(100,4).tolist(), column_names=list('ABCD'))"
   ]
  },
  {
   "cell_type": "code",
   "execution_count": 22,
   "metadata": {
    "collapsed": false
   },
   "outputs": [
    {
     "data": {
      "text/html": [
       "<table>\n",
       "<thead>\n",
       "<tr><th style=\"text-align: right;\">        A</th><th style=\"text-align: right;\">        B</th><th style=\"text-align: right;\">        C</th><th style=\"text-align: right;\">         D</th></tr>\n",
       "</thead>\n",
       "<tbody>\n",
       "<tr><td style=\"text-align: right;\"> 0.269896</td><td style=\"text-align: right;\">-0.865952</td><td style=\"text-align: right;\">-0.276396</td><td style=\"text-align: right;\"> 0.0776507</td></tr>\n",
       "<tr><td style=\"text-align: right;\"> 0.415327</td><td style=\"text-align: right;\">-0.96594 </td><td style=\"text-align: right;\"> 0.490325</td><td style=\"text-align: right;\"> 0.964605 </td></tr>\n",
       "<tr><td style=\"text-align: right;\"> 0.594605</td><td style=\"text-align: right;\"> 1.19073 </td><td style=\"text-align: right;\"> 1.07275 </td><td style=\"text-align: right;\">-0.729646 </td></tr>\n",
       "<tr><td style=\"text-align: right;\">-1.17624 </td><td style=\"text-align: right;\"> 0.011903</td><td style=\"text-align: right;\">-0.568521</td><td style=\"text-align: right;\">-1.70094  </td></tr>\n",
       "<tr><td style=\"text-align: right;\">-1.89206 </td><td style=\"text-align: right;\"> 0.466301</td><td style=\"text-align: right;\"> 0.582788</td><td style=\"text-align: right;\"> 0.260875 </td></tr>\n",
       "<tr><td style=\"text-align: right;\">-0.428659</td><td style=\"text-align: right;\"> 1.30084 </td><td style=\"text-align: right;\"> 0.732052</td><td style=\"text-align: right;\">-0.0062972</td></tr>\n",
       "<tr><td style=\"text-align: right;\">-0.235223</td><td style=\"text-align: right;\"> 1.89863 </td><td style=\"text-align: right;\"> 0.173552</td><td style=\"text-align: right;\"> 0.729738 </td></tr>\n",
       "<tr><td style=\"text-align: right;\"> 1.12253 </td><td style=\"text-align: right;\"> 1.57339 </td><td style=\"text-align: right;\">-1.46924 </td><td style=\"text-align: right;\"> 0.982647 </td></tr>\n",
       "<tr><td style=\"text-align: right;\"> 0.712093</td><td style=\"text-align: right;\">-1.413   </td><td style=\"text-align: right;\"> 0.279538</td><td style=\"text-align: right;\"> 1.98873  </td></tr>\n",
       "<tr><td style=\"text-align: right;\">-2.2179  </td><td style=\"text-align: right;\">-0.255462</td><td style=\"text-align: right;\"> 0.864262</td><td style=\"text-align: right;\">-1.28869  </td></tr>\n",
       "</tbody>\n",
       "</table>"
      ]
     },
     "metadata": {},
     "output_type": "display_data"
    },
    {
     "data": {
      "text/plain": []
     },
     "execution_count": 22,
     "metadata": {},
     "output_type": "execute_result"
    }
   ],
   "source": [
    "## see the top 10 rows of the h2o dataframe\n",
    "df.head() ## df.head(2)"
   ]
  },
  {
   "cell_type": "code",
   "execution_count": 9,
   "metadata": {
    "collapsed": false
   },
   "outputs": [
    {
     "data": {
      "text/html": [
       "<table>\n",
       "<thead>\n",
       "<tr><th style=\"text-align: right;\">         A</th><th style=\"text-align: right;\">         B</th><th style=\"text-align: right;\">          C</th><th style=\"text-align: right;\">         D</th></tr>\n",
       "</thead>\n",
       "<tbody>\n",
       "<tr><td style=\"text-align: right;\">-0.0308951</td><td style=\"text-align: right;\">-0.405008 </td><td style=\"text-align: right;\">-0.0275623 </td><td style=\"text-align: right;\">-1.06173  </td></tr>\n",
       "<tr><td style=\"text-align: right;\"> 1.78997  </td><td style=\"text-align: right;\">-0.286779 </td><td style=\"text-align: right;\"> 1.7157    </td><td style=\"text-align: right;\">-1.50796  </td></tr>\n",
       "<tr><td style=\"text-align: right;\"> 1.26621  </td><td style=\"text-align: right;\"> 0.189065 </td><td style=\"text-align: right;\"> 0.331336  </td><td style=\"text-align: right;\"> 1.33962  </td></tr>\n",
       "<tr><td style=\"text-align: right;\">-0.843966 </td><td style=\"text-align: right;\"> 0.949368 </td><td style=\"text-align: right;\">-0.00504118</td><td style=\"text-align: right;\">-0.0725097</td></tr>\n",
       "<tr><td style=\"text-align: right;\">-1.82147  </td><td style=\"text-align: right;\">-0.739363 </td><td style=\"text-align: right;\">-0.792319  </td><td style=\"text-align: right;\">-0.507157 </td></tr>\n",
       "<tr><td style=\"text-align: right;\"> 0.222296 </td><td style=\"text-align: right;\"> 0.0482048</td><td style=\"text-align: right;\"> 1.27518   </td><td style=\"text-align: right;\">-1.51885  </td></tr>\n",
       "<tr><td style=\"text-align: right;\"> 1.38787  </td><td style=\"text-align: right;\"> 0.469047 </td><td style=\"text-align: right;\"> 1.00545   </td><td style=\"text-align: right;\">-2.3627   </td></tr>\n",
       "<tr><td style=\"text-align: right;\">-0.807577 </td><td style=\"text-align: right;\"> 0.0563982</td><td style=\"text-align: right;\"> 0.228542  </td><td style=\"text-align: right;\">-0.404728 </td></tr>\n",
       "<tr><td style=\"text-align: right;\">-1.05154  </td><td style=\"text-align: right;\"> 0.395779 </td><td style=\"text-align: right;\"> 0.403606  </td><td style=\"text-align: right;\">-0.291074 </td></tr>\n",
       "<tr><td style=\"text-align: right;\">-1.53964  </td><td style=\"text-align: right;\"> 0.126006 </td><td style=\"text-align: right;\"> 0.519661  </td><td style=\"text-align: right;\">-2.32339  </td></tr>\n",
       "</tbody>\n",
       "</table>"
      ]
     },
     "metadata": {},
     "output_type": "display_data"
    },
    {
     "data": {
      "text/plain": []
     },
     "execution_count": 9,
     "metadata": {},
     "output_type": "execute_result"
    }
   ],
   "source": [
    "## see the last 10 rows of the dataframe\n",
    "df.tail() # df.tail(2)"
   ]
  },
  {
   "cell_type": "code",
   "execution_count": 10,
   "metadata": {
    "collapsed": false
   },
   "outputs": [
    {
     "data": {
      "text/plain": [
       "[u'A', u'B', u'C', u'D']"
      ]
     },
     "execution_count": 10,
     "metadata": {},
     "output_type": "execute_result"
    }
   ],
   "source": [
    "## get the column names ## same as that in sklearn\n",
    "df.columns"
   ]
  },
  {
   "cell_type": "code",
   "execution_count": 11,
   "metadata": {
    "collapsed": false
   },
   "outputs": [
    {
     "name": "stdout",
     "output_type": "stream",
     "text": [
      "Rows:100\n",
      "Cols:4\n",
      "\n",
      "\n"
     ]
    },
    {
     "data": {
      "text/html": [
       "<table>\n",
       "<thead>\n",
       "<tr><th>       </th><th>A                </th><th>B                 </th><th>C              </th><th>D              </th></tr>\n",
       "</thead>\n",
       "<tbody>\n",
       "<tr><td>type   </td><td>real             </td><td>real              </td><td>real           </td><td>real           </td></tr>\n",
       "<tr><td>mins   </td><td>-2.33063930346   </td><td>-2.45133607033    </td><td>-2.39741265147 </td><td>-2.36270095674 </td></tr>\n",
       "<tr><td>mean   </td><td>-0.00365301674539</td><td>-0.000612611345309</td><td>-0.256365564892</td><td>0.104572359581 </td></tr>\n",
       "<tr><td>maxs   </td><td>2.72681549885    </td><td>2.72307907829     </td><td>2.30684354355  </td><td>2.35934457647  </td></tr>\n",
       "<tr><td>sigma  </td><td>1.0250971685     </td><td>0.968296153304    </td><td>1.04390877405  </td><td>1.05233485729  </td></tr>\n",
       "<tr><td>zeros  </td><td>0                </td><td>0                 </td><td>0              </td><td>0              </td></tr>\n",
       "<tr><td>missing</td><td>0                </td><td>0                 </td><td>0              </td><td>0              </td></tr>\n",
       "<tr><td>0      </td><td>-0.140334229745  </td><td>0.383622669798    </td><td>-1.04370608371 </td><td>-1.04318294836 </td></tr>\n",
       "<tr><td>1      </td><td>1.38121149453    </td><td>-0.802860369666   </td><td>0.85799043865  </td><td>1.62352262904  </td></tr>\n",
       "<tr><td>2      </td><td>0.456932202721   </td><td>0.895567629279    </td><td>-1.36004782332 </td><td>-0.726321831146</td></tr>\n",
       "<tr><td>3      </td><td>0.109364383495   </td><td>0.0816451781675   </td><td>-1.55696743682 </td><td>-0.64892478023 </td></tr>\n",
       "<tr><td>4      </td><td>0.579467645099   </td><td>-0.856253809413   </td><td>-0.843681553922</td><td>0.477175595465 </td></tr>\n",
       "<tr><td>5      </td><td>0.0958561404326  </td><td>2.12129232028     </td><td>-1.35413675084 </td><td>1.26138322263  </td></tr>\n",
       "<tr><td>6      </td><td>0.741039915673   </td><td>-2.19807809509    </td><td>0.912158356047 </td><td>0.145989035868 </td></tr>\n",
       "<tr><td>7      </td><td>0.773131284959   </td><td>0.828201169194    </td><td>-1.8637425266  </td><td>0.592003568819 </td></tr>\n",
       "<tr><td>8      </td><td>1.43124426051    </td><td>0.167442265765    </td><td>-0.418614886898</td><td>2.09568037688  </td></tr>\n",
       "<tr><td>9      </td><td>-0.125034585261  </td><td>-0.019485460352   </td><td>-1.12858579113 </td><td>-0.962929540151</td></tr>\n",
       "</tbody>\n",
       "</table>"
      ]
     },
     "metadata": {},
     "output_type": "display_data"
    }
   ],
   "source": [
    "## give a basic summary about the h2o dataframe\n",
    "df.describe()"
   ]
  },
  {
   "cell_type": "code",
   "execution_count": 12,
   "metadata": {
    "collapsed": false
   },
   "outputs": [
    {
     "data": {
      "text/html": [
       "<table>\n",
       "<thead>\n",
       "<tr><th style=\"text-align: right;\">         A</th></tr>\n",
       "</thead>\n",
       "<tbody>\n",
       "<tr><td style=\"text-align: right;\">-0.140334 </td></tr>\n",
       "<tr><td style=\"text-align: right;\"> 1.38121  </td></tr>\n",
       "<tr><td style=\"text-align: right;\"> 0.456932 </td></tr>\n",
       "<tr><td style=\"text-align: right;\"> 0.109364 </td></tr>\n",
       "<tr><td style=\"text-align: right;\"> 0.579468 </td></tr>\n",
       "<tr><td style=\"text-align: right;\"> 0.0958561</td></tr>\n",
       "<tr><td style=\"text-align: right;\"> 0.74104  </td></tr>\n",
       "<tr><td style=\"text-align: right;\"> 0.773131 </td></tr>\n",
       "<tr><td style=\"text-align: right;\"> 1.43124  </td></tr>\n",
       "<tr><td style=\"text-align: right;\">-0.125035 </td></tr>\n",
       "</tbody>\n",
       "</table>"
      ]
     },
     "metadata": {},
     "output_type": "display_data"
    },
    {
     "data": {
      "text/plain": []
     },
     "execution_count": 12,
     "metadata": {},
     "output_type": "execute_result"
    }
   ],
   "source": [
    "## subsetting the h2o dataframe. take out the column A. By column name\n",
    "df['A']"
   ]
  },
  {
   "cell_type": "code",
   "execution_count": 13,
   "metadata": {
    "collapsed": false
   },
   "outputs": [
    {
     "data": {
      "text/html": [
       "<table>\n",
       "<thead>\n",
       "<tr><th style=\"text-align: right;\">         B</th></tr>\n",
       "</thead>\n",
       "<tbody>\n",
       "<tr><td style=\"text-align: right;\"> 0.383623 </td></tr>\n",
       "<tr><td style=\"text-align: right;\">-0.80286  </td></tr>\n",
       "<tr><td style=\"text-align: right;\"> 0.895568 </td></tr>\n",
       "<tr><td style=\"text-align: right;\"> 0.0816452</td></tr>\n",
       "<tr><td style=\"text-align: right;\">-0.856254 </td></tr>\n",
       "<tr><td style=\"text-align: right;\"> 2.12129  </td></tr>\n",
       "<tr><td style=\"text-align: right;\">-2.19808  </td></tr>\n",
       "<tr><td style=\"text-align: right;\"> 0.828201 </td></tr>\n",
       "<tr><td style=\"text-align: right;\"> 0.167442 </td></tr>\n",
       "<tr><td style=\"text-align: right;\">-0.0194855</td></tr>\n",
       "</tbody>\n",
       "</table>"
      ]
     },
     "metadata": {},
     "output_type": "display_data"
    },
    {
     "data": {
      "text/plain": []
     },
     "execution_count": 13,
     "metadata": {},
     "output_type": "execute_result"
    }
   ],
   "source": [
    "## subset the h2o dataframe using index\n",
    "df[1]"
   ]
  },
  {
   "cell_type": "code",
   "execution_count": 14,
   "metadata": {
    "collapsed": false
   },
   "outputs": [
    {
     "data": {
      "text/html": [
       "<table>\n",
       "<thead>\n",
       "<tr><th style=\"text-align: right;\">         B</th><th style=\"text-align: right;\">        C</th></tr>\n",
       "</thead>\n",
       "<tbody>\n",
       "<tr><td style=\"text-align: right;\"> 0.383623 </td><td style=\"text-align: right;\">-1.04371 </td></tr>\n",
       "<tr><td style=\"text-align: right;\">-0.80286  </td><td style=\"text-align: right;\"> 0.85799 </td></tr>\n",
       "<tr><td style=\"text-align: right;\"> 0.895568 </td><td style=\"text-align: right;\">-1.36005 </td></tr>\n",
       "<tr><td style=\"text-align: right;\"> 0.0816452</td><td style=\"text-align: right;\">-1.55697 </td></tr>\n",
       "<tr><td style=\"text-align: right;\">-0.856254 </td><td style=\"text-align: right;\">-0.843682</td></tr>\n",
       "<tr><td style=\"text-align: right;\"> 2.12129  </td><td style=\"text-align: right;\">-1.35414 </td></tr>\n",
       "<tr><td style=\"text-align: right;\">-2.19808  </td><td style=\"text-align: right;\"> 0.912158</td></tr>\n",
       "<tr><td style=\"text-align: right;\"> 0.828201 </td><td style=\"text-align: right;\">-1.86374 </td></tr>\n",
       "<tr><td style=\"text-align: right;\"> 0.167442 </td><td style=\"text-align: right;\">-0.418615</td></tr>\n",
       "<tr><td style=\"text-align: right;\">-0.0194855</td><td style=\"text-align: right;\">-1.12859 </td></tr>\n",
       "</tbody>\n",
       "</table>"
      ]
     },
     "metadata": {},
     "output_type": "display_data"
    },
    {
     "data": {
      "text/plain": []
     },
     "execution_count": 14,
     "metadata": {},
     "output_type": "execute_result"
    }
   ],
   "source": [
    "## subset more than one columns\n",
    "df[['B', 'C']]"
   ]
  },
  {
   "cell_type": "code",
   "execution_count": 26,
   "metadata": {
    "collapsed": false
   },
   "outputs": [
    {
     "name": "stdout",
     "output_type": "stream",
     "text": [
      "Parse progress: |█████████████████████████████████████████████████████████| 100%\n"
     ]
    }
   ],
   "source": [
    "## Dealing with missing values in H2O\n",
    "\n",
    "## generate a h2o frame with some NA or None data\n",
    "df = h2o.H2OFrame.from_python(\n",
    "{'A': [1, 2, 3,None,''],\n",
    " 'B': ['a', 'a', 'b', 'NA', 'NA'],\n",
    " 'C': ['hello', 'all', 'world', None, None],\n",
    " 'D': ['12MAR2015:11:00:00',None,\n",
    "'13MAR2015:12:00:00',None,\n",
    " '14MAR2015:13:00:00']},\n",
    " column_types=['numeric', 'enum', 'string', 'time'])"
   ]
  },
  {
   "cell_type": "code",
   "execution_count": 27,
   "metadata": {
    "collapsed": false
   },
   "outputs": [
    {
     "data": {
      "text/html": [
       "<table>\n",
       "<thead>\n",
       "<tr><th style=\"text-align: right;\">  isNA(A)</th></tr>\n",
       "</thead>\n",
       "<tbody>\n",
       "<tr><td style=\"text-align: right;\">        0</td></tr>\n",
       "<tr><td style=\"text-align: right;\">        0</td></tr>\n",
       "<tr><td style=\"text-align: right;\">        0</td></tr>\n",
       "<tr><td style=\"text-align: right;\">        1</td></tr>\n",
       "<tr><td style=\"text-align: right;\">        1</td></tr>\n",
       "</tbody>\n",
       "</table>"
      ]
     },
     "metadata": {},
     "output_type": "display_data"
    },
    {
     "data": {
      "text/plain": []
     },
     "execution_count": 27,
     "metadata": {},
     "output_type": "execute_result"
    }
   ],
   "source": [
    "## check if the column A contains a missing value\n",
    "df[\"A\"].isna()"
   ]
  },
  {
   "cell_type": "code",
   "execution_count": 28,
   "metadata": {
    "collapsed": false
   },
   "outputs": [
    {
     "data": {
      "text/html": [
       "<table>\n",
       "<thead>\n",
       "<tr><th style=\"text-align: right;\">  isNA(A)</th></tr>\n",
       "</thead>\n",
       "<tbody>\n",
       "<tr><td style=\"text-align: right;\">        0</td></tr>\n",
       "<tr><td style=\"text-align: right;\">        0</td></tr>\n",
       "<tr><td style=\"text-align: right;\">        0</td></tr>\n",
       "<tr><td style=\"text-align: right;\">        0</td></tr>\n",
       "<tr><td style=\"text-align: right;\">        0</td></tr>\n",
       "</tbody>\n",
       "</table>"
      ]
     },
     "metadata": {},
     "output_type": "display_data"
    },
    {
     "name": "stdout",
     "output_type": "stream",
     "text": [
      "\n"
     ]
    }
   ],
   "source": [
    "## assign the missing values in column A to 5\n",
    "df[ df[\"A\"].isna(), \"A\"] = 5\n",
    "print df[\"A\"].isna()"
   ]
  },
  {
   "cell_type": "code",
   "execution_count": 29,
   "metadata": {
    "collapsed": false
   },
   "outputs": [
    {
     "name": "stdout",
     "output_type": "stream",
     "text": [
      "Parse progress: |█████████████████████████████████████████████████████████| 100%\n",
      "***NA removed***\n",
      "[2.0, nan, nan, 1426248000000.0]\n"
     ]
    }
   ],
   "source": [
    "## taking mean when NAs are present\n",
    "df = h2o.H2OFrame.from_python( {'A': [1, 2, 3,None,''],  'B': ['a', 'a', 'b', 'NA', 'NA'],  \\\n",
    "                                 'C': ['hello', 'all', 'world', None, None], 'D': ['12MAR2015:11:00:00',None, \\\n",
    "                                                                                   '13MAR2015:12:00:00',None,\\\n",
    "                                                                                   '14MAR2015:13:00:00']}, \\\n",
    "                               column_types=['numeric', 'enum', 'string', 'time']) \n",
    "\n",
    "print '***NA removed***'\n",
    "print df.mean(na_rm=True)"
   ]
  },
  {
   "cell_type": "code",
   "execution_count": 32,
   "metadata": {
    "collapsed": false
   },
   "outputs": [
    {
     "name": "stdout",
     "output_type": "stream",
     "text": [
      "Parse progress: |█████████████████████████████████████████████████████████| 100%\n"
     ]
    },
    {
     "data": {
      "text/html": [
       "<table>\n",
       "<thead>\n",
       "<tr><th style=\"text-align: right;\">        A</th><th style=\"text-align: right;\">         B</th><th style=\"text-align: right;\">        C</th><th style=\"text-align: right;\">        D</th></tr>\n",
       "</thead>\n",
       "<tbody>\n",
       "<tr><td style=\"text-align: right;\">0.0849616</td><td style=\"text-align: right;\">-0.0195686</td><td style=\"text-align: right;\">0.0534621</td><td style=\"text-align: right;\">0.0128808</td></tr>\n",
       "</tbody>\n",
       "</table>"
      ]
     },
     "metadata": {},
     "output_type": "display_data"
    },
    {
     "name": "stdout",
     "output_type": "stream",
     "text": [
      " <class 'h2o.frame.H2OFrame'>\n",
      "[0.08496163922292263, -0.019568649767121055, 0.05346214047440261, 0.012880790432177174] <type 'list'>\n"
     ]
    }
   ],
   "source": [
    "## apply functions to multiple columns\n",
    "df = h2o.H2OFrame.from_python(np.random.randn(100,4).tolist(), column_names=list('ABCD'))\n",
    "\n",
    "## like in sklearn, apply function works well with lambda function\n",
    "print df.apply(lambda x: x.mean()), type(df.apply(lambda x: x.mean()))\n",
    "print df.mean(), type(df.mean())"
   ]
  },
  {
   "cell_type": "code",
   "execution_count": 38,
   "metadata": {
    "collapsed": false
   },
   "outputs": [
    {
     "data": {
      "text/html": [
       "<table>\n",
       "<thead>\n",
       "<tr><th style=\"text-align: right;\">       A</th><th style=\"text-align: right;\">        B</th><th style=\"text-align: right;\">       C</th><th style=\"text-align: right;\">        D</th></tr>\n",
       "</thead>\n",
       "<tbody>\n",
       "<tr><td style=\"text-align: right;\">-1.41469</td><td style=\"text-align: right;\">-0.643047</td><td style=\"text-align: right;\">-1.49336</td><td style=\"text-align: right;\">-0.535328</td></tr>\n",
       "</tbody>\n",
       "</table>"
      ]
     },
     "metadata": {},
     "output_type": "display_data"
    },
    {
     "data": {
      "text/plain": []
     },
     "execution_count": 38,
     "metadata": {},
     "output_type": "execute_result"
    }
   ],
   "source": [
    "df.apply(lambda row: row.sum(), axis=0)"
   ]
  },
  {
   "cell_type": "code",
   "execution_count": 39,
   "metadata": {
    "collapsed": false
   },
   "outputs": [
    {
     "name": "stdout",
     "output_type": "stream",
     "text": [
      "Parse progress: |█████████████████████████████████████████████████████████| 100%\n"
     ]
    }
   ],
   "source": [
    "## methods to deal with strings\n",
    "df = h2o.H2OFrame.from_python(['Hello', 'World', 'Welcome', 'To', 'H2O', 'World'])"
   ]
  },
  {
   "cell_type": "code",
   "execution_count": 40,
   "metadata": {
    "collapsed": false
   },
   "outputs": [
    {
     "name": "stdout",
     "output_type": "stream",
     "text": [
      "number of l's in the dataframe are =  "
     ]
    },
    {
     "data": {
      "text/html": [
       "<table>\n",
       "<thead>\n",
       "<tr><th style=\"text-align: right;\">  C1</th></tr>\n",
       "</thead>\n",
       "<tbody>\n",
       "<tr><td style=\"text-align: right;\">   2</td></tr>\n",
       "<tr><td style=\"text-align: right;\">   1</td></tr>\n",
       "<tr><td style=\"text-align: right;\">   1</td></tr>\n",
       "<tr><td style=\"text-align: right;\">   0</td></tr>\n",
       "<tr><td style=\"text-align: right;\">   0</td></tr>\n",
       "<tr><td style=\"text-align: right;\">   1</td></tr>\n",
       "</tbody>\n",
       "</table>"
      ]
     },
     "metadata": {},
     "output_type": "display_data"
    },
    {
     "name": "stdout",
     "output_type": "stream",
     "text": [
      "\n"
     ]
    }
   ],
   "source": [
    "print 'number of l\\'s in the dataframe are = ', df.countmatches('l')"
   ]
  },
  {
   "cell_type": "code",
   "execution_count": 41,
   "metadata": {
    "collapsed": false
   },
   "outputs": [
    {
     "data": {
      "text/html": [
       "<table>\n",
       "<thead>\n",
       "<tr><th>C1     </th></tr>\n",
       "</thead>\n",
       "<tbody>\n",
       "<tr><td>Hexlo  </td></tr>\n",
       "<tr><td>Worxd  </td></tr>\n",
       "<tr><td>Wexcome</td></tr>\n",
       "<tr><td>To     </td></tr>\n",
       "<tr><td>H2O    </td></tr>\n",
       "<tr><td>Worxd  </td></tr>\n",
       "</tbody>\n",
       "</table>"
      ]
     },
     "metadata": {},
     "output_type": "display_data"
    },
    {
     "name": "stdout",
     "output_type": "stream",
     "text": [
      "\n"
     ]
    }
   ],
   "source": [
    "## substituting l with x\n",
    "print df.sub('l','x')"
   ]
  },
  {
   "cell_type": "code",
   "execution_count": 42,
   "metadata": {
    "collapsed": false
   },
   "outputs": [
    {
     "name": "stdout",
     "output_type": "stream",
     "text": [
      "Parse progress: |█████████████████████████████████████████████████████████| 100%\n",
      "Parse progress: |█████████████████████████████████████████████████████████| 100%\n"
     ]
    }
   ],
   "source": [
    "## merging / joining dataframes\n",
    "## syntax works like dataframe in R\n",
    "\n",
    "df1 = h2o.H2OFrame.from_python(np.random.randn(100,4).tolist(), column_names=list('ABCD'))\n",
    "df2 = h2o.H2OFrame.from_python(np.random.randn(100,4).tolist(), column_names=list('ABCD'))"
   ]
  },
  {
   "cell_type": "code",
   "execution_count": 43,
   "metadata": {
    "collapsed": false
   },
   "outputs": [
    {
     "data": {
      "text/html": [
       "<table>\n",
       "<thead>\n",
       "<tr><th style=\"text-align: right;\">           A</th><th style=\"text-align: right;\">        B</th><th style=\"text-align: right;\">        C</th><th style=\"text-align: right;\">          D</th></tr>\n",
       "</thead>\n",
       "<tbody>\n",
       "<tr><td style=\"text-align: right;\">-1.82576    </td><td style=\"text-align: right;\">-1.58405 </td><td style=\"text-align: right;\"> 0.217588</td><td style=\"text-align: right;\">-0.637517  </td></tr>\n",
       "<tr><td style=\"text-align: right;\"> 0.740811   </td><td style=\"text-align: right;\">-2.26648 </td><td style=\"text-align: right;\"> 1.9496  </td><td style=\"text-align: right;\"> 1.43442   </td></tr>\n",
       "<tr><td style=\"text-align: right;\"> 0.946057   </td><td style=\"text-align: right;\">-0.491886</td><td style=\"text-align: right;\"> 0.277835</td><td style=\"text-align: right;\">-0.534715  </td></tr>\n",
       "<tr><td style=\"text-align: right;\"> 0.000251398</td><td style=\"text-align: right;\">-0.86951 </td><td style=\"text-align: right;\"> 0.699713</td><td style=\"text-align: right;\"> 0.794792  </td></tr>\n",
       "<tr><td style=\"text-align: right;\"> 0.0390592  </td><td style=\"text-align: right;\">-0.279418</td><td style=\"text-align: right;\"> 0.690292</td><td style=\"text-align: right;\">-0.641263  </td></tr>\n",
       "<tr><td style=\"text-align: right;\"> 0.438678   </td><td style=\"text-align: right;\"> 0.326225</td><td style=\"text-align: right;\"> 1.18508 </td><td style=\"text-align: right;\"> 0.00843382</td></tr>\n",
       "<tr><td style=\"text-align: right;\"> 0.531987   </td><td style=\"text-align: right;\"> 0.912445</td><td style=\"text-align: right;\"> 0.638092</td><td style=\"text-align: right;\"> 0.29905   </td></tr>\n",
       "<tr><td style=\"text-align: right;\">-0.770206   </td><td style=\"text-align: right;\"> 0.116926</td><td style=\"text-align: right;\"> 0.82748 </td><td style=\"text-align: right;\">-0.255066  </td></tr>\n",
       "<tr><td style=\"text-align: right;\"> 1.78641    </td><td style=\"text-align: right;\">-0.502205</td><td style=\"text-align: right;\"> 0.237441</td><td style=\"text-align: right;\">-0.57727   </td></tr>\n",
       "<tr><td style=\"text-align: right;\">-0.928735   </td><td style=\"text-align: right;\"> 0.478596</td><td style=\"text-align: right;\">-0.575327</td><td style=\"text-align: right;\">-0.597691  </td></tr>\n",
       "</tbody>\n",
       "</table>"
      ]
     },
     "metadata": {},
     "output_type": "display_data"
    },
    {
     "data": {
      "text/plain": []
     },
     "execution_count": 43,
     "metadata": {},
     "output_type": "execute_result"
    }
   ],
   "source": [
    "## row bind. append both rows. need to have same number of columns\n",
    "df2.rbind(df1)"
   ]
  },
  {
   "cell_type": "code",
   "execution_count": 44,
   "metadata": {
    "collapsed": false
   },
   "outputs": [
    {
     "data": {
      "text/html": [
       "<table>\n",
       "<thead>\n",
       "<tr><th style=\"text-align: right;\">           A</th><th style=\"text-align: right;\">        B</th><th style=\"text-align: right;\">        C</th><th style=\"text-align: right;\">          D</th><th style=\"text-align: right;\">        A0</th><th style=\"text-align: right;\">        B0</th><th style=\"text-align: right;\">       C0</th><th style=\"text-align: right;\">        D0</th></tr>\n",
       "</thead>\n",
       "<tbody>\n",
       "<tr><td style=\"text-align: right;\">-1.82576    </td><td style=\"text-align: right;\">-1.58405 </td><td style=\"text-align: right;\"> 0.217588</td><td style=\"text-align: right;\">-0.637517  </td><td style=\"text-align: right;\"> 2.1654   </td><td style=\"text-align: right;\"> 1.02442  </td><td style=\"text-align: right;\"> 0.678053</td><td style=\"text-align: right;\"> 0.84895  </td></tr>\n",
       "<tr><td style=\"text-align: right;\"> 0.740811   </td><td style=\"text-align: right;\">-2.26648 </td><td style=\"text-align: right;\"> 1.9496  </td><td style=\"text-align: right;\"> 1.43442   </td><td style=\"text-align: right;\">-0.887794 </td><td style=\"text-align: right;\">-0.0880076</td><td style=\"text-align: right;\"> 0.871375</td><td style=\"text-align: right;\"> 1.46817  </td></tr>\n",
       "<tr><td style=\"text-align: right;\"> 0.946057   </td><td style=\"text-align: right;\">-0.491886</td><td style=\"text-align: right;\"> 0.277835</td><td style=\"text-align: right;\">-0.534715  </td><td style=\"text-align: right;\"> 2.5882   </td><td style=\"text-align: right;\"> 0.96214  </td><td style=\"text-align: right;\">-0.575813</td><td style=\"text-align: right;\">-0.90839  </td></tr>\n",
       "<tr><td style=\"text-align: right;\"> 0.000251398</td><td style=\"text-align: right;\">-0.86951 </td><td style=\"text-align: right;\"> 0.699713</td><td style=\"text-align: right;\"> 0.794792  </td><td style=\"text-align: right;\">-1.00329  </td><td style=\"text-align: right;\"> 1.12423  </td><td style=\"text-align: right;\"> 0.527596</td><td style=\"text-align: right;\"> 1.85277  </td></tr>\n",
       "<tr><td style=\"text-align: right;\"> 0.0390592  </td><td style=\"text-align: right;\">-0.279418</td><td style=\"text-align: right;\"> 0.690292</td><td style=\"text-align: right;\">-0.641263  </td><td style=\"text-align: right;\"> 0.0623377</td><td style=\"text-align: right;\"> 0.749777 </td><td style=\"text-align: right;\">-0.805001</td><td style=\"text-align: right;\">-0.0272182</td></tr>\n",
       "<tr><td style=\"text-align: right;\"> 0.438678   </td><td style=\"text-align: right;\"> 0.326225</td><td style=\"text-align: right;\"> 1.18508 </td><td style=\"text-align: right;\"> 0.00843382</td><td style=\"text-align: right;\">-2.22313  </td><td style=\"text-align: right;\"> 0.115459 </td><td style=\"text-align: right;\"> 1.00188 </td><td style=\"text-align: right;\"> 0.543189 </td></tr>\n",
       "<tr><td style=\"text-align: right;\"> 0.531987   </td><td style=\"text-align: right;\"> 0.912445</td><td style=\"text-align: right;\"> 0.638092</td><td style=\"text-align: right;\"> 0.29905   </td><td style=\"text-align: right;\">-1.03278  </td><td style=\"text-align: right;\">-1.50022  </td><td style=\"text-align: right;\">-1.20239 </td><td style=\"text-align: right;\"> 0.159349 </td></tr>\n",
       "<tr><td style=\"text-align: right;\">-0.770206   </td><td style=\"text-align: right;\"> 0.116926</td><td style=\"text-align: right;\"> 0.82748 </td><td style=\"text-align: right;\">-0.255066  </td><td style=\"text-align: right;\">-0.0785205</td><td style=\"text-align: right;\"> 0.634706 </td><td style=\"text-align: right;\">-2.23708 </td><td style=\"text-align: right;\"> 0.0698855</td></tr>\n",
       "<tr><td style=\"text-align: right;\"> 1.78641    </td><td style=\"text-align: right;\">-0.502205</td><td style=\"text-align: right;\"> 0.237441</td><td style=\"text-align: right;\">-0.57727   </td><td style=\"text-align: right;\">-2.58661  </td><td style=\"text-align: right;\"> 1.14817  </td><td style=\"text-align: right;\"> 0.581431</td><td style=\"text-align: right;\"> 0.791463 </td></tr>\n",
       "<tr><td style=\"text-align: right;\">-0.928735   </td><td style=\"text-align: right;\"> 0.478596</td><td style=\"text-align: right;\">-0.575327</td><td style=\"text-align: right;\">-0.597691  </td><td style=\"text-align: right;\">-0.433513 </td><td style=\"text-align: right;\"> 0.506066 </td><td style=\"text-align: right;\">-2.49044 </td><td style=\"text-align: right;\">-0.499934 </td></tr>\n",
       "</tbody>\n",
       "</table>"
      ]
     },
     "metadata": {},
     "output_type": "display_data"
    },
    {
     "data": {
      "text/plain": []
     },
     "execution_count": 44,
     "metadata": {},
     "output_type": "execute_result"
    }
   ],
   "source": [
    "## column bind. append side by side\n",
    "df2.cbind(df1)"
   ]
  },
  {
   "cell_type": "code",
   "execution_count": 45,
   "metadata": {
    "collapsed": false
   },
   "outputs": [
    {
     "name": "stdout",
     "output_type": "stream",
     "text": [
      "Parse progress: |█████████████████████████████████████████████████████████| 100%\n",
      "Parse progress: |█████████████████████████████████████████████████████████| 100%\n"
     ]
    }
   ],
   "source": [
    "## merging dataframe\n",
    "df1 = h2o.H2OFrame.from_python( {'A': ['Hello', 'World', 'Welcome', 'To', 'H2O', 'World'], \\\n",
    "                                  'n': [0,1,2,3,4,5]} )\n",
    "df2 = h2o.H2OFrame.from_python(np.random.randint(0,6,(100,1)), column_names= list('n'))"
   ]
  },
  {
   "cell_type": "code",
   "execution_count": 46,
   "metadata": {
    "collapsed": false
   },
   "outputs": [
    {
     "data": {
      "text/html": [
       "<table>\n",
       "<thead>\n",
       "<tr><th style=\"text-align: right;\">  n</th><th>A      </th></tr>\n",
       "</thead>\n",
       "<tbody>\n",
       "<tr><td style=\"text-align: right;\">  3</td><td>To     </td></tr>\n",
       "<tr><td style=\"text-align: right;\">  4</td><td>H2O    </td></tr>\n",
       "<tr><td style=\"text-align: right;\">  1</td><td>World  </td></tr>\n",
       "<tr><td style=\"text-align: right;\">  0</td><td>Hello  </td></tr>\n",
       "<tr><td style=\"text-align: right;\">  4</td><td>H2O    </td></tr>\n",
       "<tr><td style=\"text-align: right;\">  2</td><td>Welcome</td></tr>\n",
       "<tr><td style=\"text-align: right;\">  3</td><td>To     </td></tr>\n",
       "<tr><td style=\"text-align: right;\">  4</td><td>H2O    </td></tr>\n",
       "<tr><td style=\"text-align: right;\">  1</td><td>World  </td></tr>\n",
       "<tr><td style=\"text-align: right;\">  5</td><td>World  </td></tr>\n",
       "</tbody>\n",
       "</table>"
      ]
     },
     "metadata": {},
     "output_type": "display_data"
    },
    {
     "data": {
      "text/plain": []
     },
     "execution_count": 46,
     "metadata": {},
     "output_type": "execute_result"
    }
   ],
   "source": [
    "# Combine column \"n\" from both datasets\n",
    "df2.merge(df1)"
   ]
  },
  {
   "cell_type": "code",
   "execution_count": 47,
   "metadata": {
    "collapsed": false
   },
   "outputs": [
    {
     "name": "stdout",
     "output_type": "stream",
     "text": [
      "Parse progress: |█████████████████████████████████████████████████████████| 100%\n"
     ]
    }
   ],
   "source": [
    "# grouping\n",
    "\n",
    "df = h2o.H2OFrame(\n",
    " {'A' : ['foo', 'bar', 'foo', 'bar', 'foo', 'bar', 'foo', 'foo'],\n",
    " 'B' : ['one', 'one', 'two', 'three', 'two', 'two', 'one', 'three'],\n",
    " 'C' : np.random.randn(8).tolist(),\n",
    " 'D' : np.random.randn(8).tolist()})"
   ]
  },
  {
   "cell_type": "code",
   "execution_count": 48,
   "metadata": {
    "collapsed": false
   },
   "outputs": [
    {
     "data": {
      "text/html": [
       "<table>\n",
       "<thead>\n",
       "<tr><th>A  </th><th style=\"text-align: right;\">   sum_C</th><th style=\"text-align: right;\">  sum_B</th><th style=\"text-align: right;\">    sum_D</th></tr>\n",
       "</thead>\n",
       "<tbody>\n",
       "<tr><td>bar</td><td style=\"text-align: right;\"> 1.80936</td><td style=\"text-align: right;\">      3</td><td style=\"text-align: right;\"> 1.46001 </td></tr>\n",
       "<tr><td>foo</td><td style=\"text-align: right;\">-4.60595</td><td style=\"text-align: right;\">      5</td><td style=\"text-align: right;\">-0.396115</td></tr>\n",
       "</tbody>\n",
       "</table>"
      ]
     },
     "metadata": {},
     "output_type": "display_data"
    },
    {
     "data": {
      "text/plain": []
     },
     "execution_count": 48,
     "metadata": {},
     "output_type": "execute_result"
    }
   ],
   "source": [
    "df.group_by('A').sum().frame"
   ]
  },
  {
   "cell_type": "code",
   "execution_count": 49,
   "metadata": {
    "collapsed": false
   },
   "outputs": [
    {
     "data": {
      "text/html": [
       "<table>\n",
       "<thead>\n",
       "<tr><th>A  </th><th style=\"text-align: right;\">    mean_D</th><th style=\"text-align: right;\">  mean_B</th><th style=\"text-align: right;\">   mean_C</th></tr>\n",
       "</thead>\n",
       "<tbody>\n",
       "<tr><td>bar</td><td style=\"text-align: right;\"> 0.48667  </td><td style=\"text-align: right;\">       1</td><td style=\"text-align: right;\"> 0.603119</td></tr>\n",
       "<tr><td>foo</td><td style=\"text-align: right;\">-0.0792229</td><td style=\"text-align: right;\">       1</td><td style=\"text-align: right;\">-0.92119 </td></tr>\n",
       "</tbody>\n",
       "</table>"
      ]
     },
     "metadata": {},
     "output_type": "display_data"
    },
    {
     "data": {
      "text/plain": []
     },
     "execution_count": 49,
     "metadata": {},
     "output_type": "execute_result"
    }
   ],
   "source": [
    "df.group_by('A').mean().frame"
   ]
  },
  {
   "cell_type": "code",
   "execution_count": 54,
   "metadata": {
    "collapsed": false
   },
   "outputs": [
    {
     "data": {
      "text/html": [
       "<table>\n",
       "<thead>\n",
       "<tr><th>A  </th><th style=\"text-align: right;\">    min_D</th><th style=\"text-align: right;\">  min_B</th><th style=\"text-align: right;\">    min_C</th></tr>\n",
       "</thead>\n",
       "<tbody>\n",
       "<tr><td>bar</td><td style=\"text-align: right;\">-0.653349</td><td style=\"text-align: right;\">      0</td><td style=\"text-align: right;\">-0.035211</td></tr>\n",
       "<tr><td>foo</td><td style=\"text-align: right;\">-0.888446</td><td style=\"text-align: right;\">      0</td><td style=\"text-align: right;\">-1.42597 </td></tr>\n",
       "</tbody>\n",
       "</table>"
      ]
     },
     "metadata": {},
     "output_type": "display_data"
    },
    {
     "name": "stdout",
     "output_type": "stream",
     "text": [
      "\n"
     ]
    },
    {
     "data": {
      "text/html": [
       "<table>\n",
       "<thead>\n",
       "<tr><th>A  </th><th style=\"text-align: right;\">  max_D</th><th style=\"text-align: right;\">  max_B</th><th style=\"text-align: right;\">    max_C</th></tr>\n",
       "</thead>\n",
       "<tbody>\n",
       "<tr><td>bar</td><td style=\"text-align: right;\">1.14798</td><td style=\"text-align: right;\">      2</td><td style=\"text-align: right;\">1.26203  </td></tr>\n",
       "<tr><td>foo</td><td style=\"text-align: right;\">1.13654</td><td style=\"text-align: right;\">      2</td><td style=\"text-align: right;\">0.0350038</td></tr>\n",
       "</tbody>\n",
       "</table>"
      ]
     },
     "metadata": {},
     "output_type": "display_data"
    },
    {
     "name": "stdout",
     "output_type": "stream",
     "text": [
      "\n"
     ]
    }
   ],
   "source": [
    "print df.group_by('A').min().frame\n",
    "print df.group_by('A').max().get_frame()"
   ]
  },
  {
   "cell_type": "code",
   "execution_count": 55,
   "metadata": {
    "collapsed": false
   },
   "outputs": [
    {
     "data": {
      "text/html": [
       "<table>\n",
       "<thead>\n",
       "<tr><th>A  </th><th>B    </th><th style=\"text-align: right;\">    sum_C</th><th style=\"text-align: right;\">    sum_D</th></tr>\n",
       "</thead>\n",
       "<tbody>\n",
       "<tr><td>bar</td><td>one  </td><td style=\"text-align: right;\"> 1.26203 </td><td style=\"text-align: right;\"> 1.14798 </td></tr>\n",
       "<tr><td>bar</td><td>three</td><td style=\"text-align: right;\">-0.035211</td><td style=\"text-align: right;\">-0.653349</td></tr>\n",
       "<tr><td>bar</td><td>two  </td><td style=\"text-align: right;\"> 0.582543</td><td style=\"text-align: right;\"> 0.965381</td></tr>\n",
       "<tr><td>foo</td><td>one  </td><td style=\"text-align: right;\">-0.745753</td><td style=\"text-align: right;\"> 0.764497</td></tr>\n",
       "<tr><td>foo</td><td>three</td><td style=\"text-align: right;\">-1.42597 </td><td style=\"text-align: right;\">-0.888446</td></tr>\n",
       "<tr><td>foo</td><td>two  </td><td style=\"text-align: right;\">-2.43423 </td><td style=\"text-align: right;\">-0.272166</td></tr>\n",
       "</tbody>\n",
       "</table>"
      ]
     },
     "metadata": {},
     "output_type": "display_data"
    },
    {
     "name": "stdout",
     "output_type": "stream",
     "text": [
      "\n"
     ]
    }
   ],
   "source": [
    "df1 = df.group_by(['A','B']).sum().frame\n",
    "print df1"
   ]
  },
  {
   "cell_type": "code",
   "execution_count": 56,
   "metadata": {
    "collapsed": false
   },
   "outputs": [
    {
     "name": "stdout",
     "output_type": "stream",
     "text": [
      "Parse progress: |█████████████████████████████████████████████████████████| 100%\n"
     ]
    },
    {
     "data": {
      "text/html": [
       "<table>\n",
       "<thead>\n",
       "<tr><th style=\"text-align: right;\">  D</th></tr>\n",
       "</thead>\n",
       "<tbody>\n",
       "<tr><td style=\"text-align: right;\"> 18</td></tr>\n",
       "<tr><td style=\"text-align: right;\"> 19</td></tr>\n",
       "<tr><td style=\"text-align: right;\"> 20</td></tr>\n",
       "</tbody>\n",
       "</table>"
      ]
     },
     "metadata": {},
     "output_type": "display_data"
    },
    {
     "name": "stdout",
     "output_type": "stream",
     "text": [
      "\n"
     ]
    },
    {
     "data": {
      "text/html": [
       "<table>\n",
       "<thead>\n",
       "<tr><th>D  </th></tr>\n",
       "</thead>\n",
       "<tbody>\n",
       "<tr><td>Sun</td></tr>\n",
       "<tr><td>Mon</td></tr>\n",
       "<tr><td>Tue</td></tr>\n",
       "</tbody>\n",
       "</table>"
      ]
     },
     "metadata": {},
     "output_type": "display_data"
    },
    {
     "name": "stdout",
     "output_type": "stream",
     "text": [
      "\n"
     ]
    }
   ],
   "source": [
    "## working with date and time\n",
    "\n",
    "df = h2o.H2OFrame.from_python({'D': ['18OCT2015:11:00:00', '19OCT2015:12:00:00', '20OCT2015:13:00:00']}, \\\n",
    "                              column_types=['time'])\n",
    "print df['D'].day()\n",
    "print df['D'].dayOfWeek()"
   ]
  },
  {
   "cell_type": "code",
   "execution_count": 58,
   "metadata": {
    "collapsed": true
   },
   "outputs": [],
   "source": [
    "## machine learning\n",
    "\n",
    "## H2O supports the following models:\n",
    "# Deep Learning\n",
    "# Naive Bayes\n",
    "# Principal Components Analysis (PCA)\n",
    "# K-means\n",
    "# Generalized Linear Models (GLM)\n",
    "# Gradient Boosting Machine (GBM)\n",
    "# Generalized Low Rank Model (GLRM)\n",
    "# Distributed Random Forest (DRF)"
   ]
  },
  {
   "cell_type": "code",
   "execution_count": 59,
   "metadata": {
    "collapsed": true
   },
   "outputs": [],
   "source": [
    "from h2o.estimators.gbm import H2OGradientBoostingEstimator\n",
    "#https://h2o-release.s3.amazonaws.com/h2o/rel-turan/4/docs-website/h2o-py/docs/modeling.html#h2ogradientboostingestimator\n",
    "from h2o.estimators.glm import H2OGeneralizedLinearEstimator\n",
    "#https://h2o-release.s3.amazonaws.com/h2o/rel-turan/4/docs-website/h2o-py/docs/modeling.html#h2ogeneralizedlinearestimator\n",
    "from h2o.estimators.random_forest import H2ORandomForestEstimator\n",
    "#https://h2o-release.s3.amazonaws.com/h2o/rel-turan/4/docs-website/h2o-py/docs/modeling.html#h2orandomforestestimator\n",
    "\n",
    "from h2o.grid.grid_search import H2OGridSearch\n",
    "## same as sklearn\n",
    "## from sklearn.ensemble import GradientBoostingClassifier"
   ]
  },
  {
   "cell_type": "code",
   "execution_count": 60,
   "metadata": {
    "collapsed": false
   },
   "outputs": [
    {
     "name": "stdout",
     "output_type": "stream",
     "text": [
      "Parse progress: |█████████████████████████████████████████████████████████| 100%\n"
     ]
    }
   ],
   "source": [
    "## read data set\n",
    "## data source -- http://archive.ics.uci.edu/ml/datasets/Bank+Marketing\n",
    "path = 'C:\\\\Users\\\\Hari\\\\Documents\\\\Experiment_with_H2O\\\\bank\\\\bank-full.csv'\n",
    "df = h2o.import_file(path=path)\n",
    "\n",
    "## sklearn -- df = pd.read_csv(path) # sklearn has no read method"
   ]
  },
  {
   "cell_type": "code",
   "execution_count": 61,
   "metadata": {
    "collapsed": false
   },
   "outputs": [
    {
     "data": {
      "text/html": [
       "<table>\n",
       "<thead>\n",
       "<tr><th style=\"text-align: right;\">  age</th><th>job         </th><th>marital  </th><th>education  </th><th>default  </th><th style=\"text-align: right;\">  balance</th><th>housing  </th><th>loan  </th><th>contact  </th><th style=\"text-align: right;\">  day</th><th>month  </th><th style=\"text-align: right;\">  duration</th><th style=\"text-align: right;\">  campaign</th><th style=\"text-align: right;\">  pdays</th><th style=\"text-align: right;\">  previous</th><th>poutcome  </th><th>y  </th></tr>\n",
       "</thead>\n",
       "<tbody>\n",
       "<tr><td style=\"text-align: right;\">   58</td><td>management  </td><td>married  </td><td>tertiary   </td><td>no       </td><td style=\"text-align: right;\">     2143</td><td>yes      </td><td>no    </td><td>unknown  </td><td style=\"text-align: right;\">    5</td><td>may    </td><td style=\"text-align: right;\">       261</td><td style=\"text-align: right;\">         1</td><td style=\"text-align: right;\">     -1</td><td style=\"text-align: right;\">         0</td><td>unknown   </td><td>no </td></tr>\n",
       "<tr><td style=\"text-align: right;\">   44</td><td>technician  </td><td>single   </td><td>secondary  </td><td>no       </td><td style=\"text-align: right;\">       29</td><td>yes      </td><td>no    </td><td>unknown  </td><td style=\"text-align: right;\">    5</td><td>may    </td><td style=\"text-align: right;\">       151</td><td style=\"text-align: right;\">         1</td><td style=\"text-align: right;\">     -1</td><td style=\"text-align: right;\">         0</td><td>unknown   </td><td>no </td></tr>\n",
       "<tr><td style=\"text-align: right;\">   33</td><td>entrepreneur</td><td>married  </td><td>secondary  </td><td>no       </td><td style=\"text-align: right;\">        2</td><td>yes      </td><td>yes   </td><td>unknown  </td><td style=\"text-align: right;\">    5</td><td>may    </td><td style=\"text-align: right;\">        76</td><td style=\"text-align: right;\">         1</td><td style=\"text-align: right;\">     -1</td><td style=\"text-align: right;\">         0</td><td>unknown   </td><td>no </td></tr>\n",
       "<tr><td style=\"text-align: right;\">   47</td><td>blue-collar </td><td>married  </td><td>unknown    </td><td>no       </td><td style=\"text-align: right;\">     1506</td><td>yes      </td><td>no    </td><td>unknown  </td><td style=\"text-align: right;\">    5</td><td>may    </td><td style=\"text-align: right;\">        92</td><td style=\"text-align: right;\">         1</td><td style=\"text-align: right;\">     -1</td><td style=\"text-align: right;\">         0</td><td>unknown   </td><td>no </td></tr>\n",
       "<tr><td style=\"text-align: right;\">   33</td><td>unknown     </td><td>single   </td><td>unknown    </td><td>no       </td><td style=\"text-align: right;\">        1</td><td>no       </td><td>no    </td><td>unknown  </td><td style=\"text-align: right;\">    5</td><td>may    </td><td style=\"text-align: right;\">       198</td><td style=\"text-align: right;\">         1</td><td style=\"text-align: right;\">     -1</td><td style=\"text-align: right;\">         0</td><td>unknown   </td><td>no </td></tr>\n",
       "</tbody>\n",
       "</table>"
      ]
     },
     "metadata": {},
     "output_type": "display_data"
    },
    {
     "data": {
      "text/plain": []
     },
     "execution_count": 61,
     "metadata": {},
     "output_type": "execute_result"
    }
   ],
   "source": [
    "## check out the first 5 rows\n",
    "df.head(5)"
   ]
  },
  {
   "cell_type": "code",
   "execution_count": null,
   "metadata": {
    "collapsed": true
   },
   "outputs": [],
   "source": [
    "# Input variables:\n",
    "# # bank client data:\n",
    "# 1 - age (numeric)\n",
    "# 2 - job : type of job (categorical: 'admin.','blue-collar','entrepreneur','housemaid','management','retired','self-employed','services','student','technician','unemployed','unknown')\n",
    "# 3 - marital : marital status (categorical: 'divorced','married','single','unknown'; note: 'divorced' means divorced or widowed)\n",
    "# 4 - education (categorical: 'basic.4y','basic.6y','basic.9y','high.school','illiterate','professional.course','university.degree','unknown')\n",
    "# 5 - default: has credit in default? (categorical: 'no','yes','unknown')\n",
    "# 6 - housing: has housing loan? (categorical: 'no','yes','unknown')\n",
    "# 7 - loan: has personal loan? (categorical: 'no','yes','unknown')\n",
    "# # related with the last contact of the current campaign:\n",
    "# 8 - contact: contact communication type (categorical: 'cellular','telephone') \n",
    "# 9 - month: last contact month of year (categorical: 'jan', 'feb', 'mar', ..., 'nov', 'dec')\n",
    "# 10 - day_of_week: last contact day of the week (categorical: 'mon','tue','wed','thu','fri')\n",
    "# 11 - duration: last contact duration, in seconds (numeric). Important note: this attribute highly affects the output target (e.g., if duration=0 then y='no'). Yet, the duration is not known before a call is performed. Also, after the end of the call y is obviously known. Thus, this input should only be included for benchmark purposes and should be discarded if the intention is to have a realistic predictive model.\n",
    "# # other attributes:\n",
    "# 12 - campaign: number of contacts performed during this campaign and for this client (numeric, includes last contact)\n",
    "# 13 - pdays: number of days that passed by after the client was last contacted from a previous campaign (numeric; 999 means client was not previously contacted)\n",
    "# 14 - previous: number of contacts performed before this campaign and for this client (numeric)\n",
    "# 15 - poutcome: outcome of the previous marketing campaign (categorical: 'failure','nonexistent','success')\n",
    "    \n",
    "# Output variable (desired target):\n",
    "# 21 - y - has the client subscribed a term deposit? (binary: 'yes','no')"
   ]
  },
  {
   "cell_type": "code",
   "execution_count": 62,
   "metadata": {
    "collapsed": false
   },
   "outputs": [
    {
     "data": {
      "text/plain": [
       "{u'age': u'int',\n",
       " u'balance': u'int',\n",
       " u'campaign': u'int',\n",
       " u'contact': u'enum',\n",
       " u'day': u'int',\n",
       " u'default': u'enum',\n",
       " u'duration': u'int',\n",
       " u'education': u'enum',\n",
       " u'housing': u'enum',\n",
       " u'job': u'enum',\n",
       " u'loan': u'enum',\n",
       " u'marital': u'enum',\n",
       " u'month': u'enum',\n",
       " u'pdays': u'int',\n",
       " u'poutcome': u'enum',\n",
       " u'previous': u'int',\n",
       " u'y': u'enum'}"
      ]
     },
     "execution_count": 62,
     "metadata": {},
     "output_type": "execute_result"
    }
   ],
   "source": [
    "## check what data types h2o parsed\n",
    "df.types"
   ]
  },
  {
   "cell_type": "code",
   "execution_count": 63,
   "metadata": {
    "collapsed": true
   },
   "outputs": [],
   "source": [
    "## to change a variable to a factor. Not there in scikit learn. There in R\n",
    "## df[\"var\"] = df[\"var\"].asfactor()   "
   ]
  },
  {
   "cell_type": "code",
   "execution_count": 64,
   "metadata": {
    "collapsed": false
   },
   "outputs": [
    {
     "data": {
      "text/plain": [
       "[['divorced', 'married', 'single']]"
      ]
     },
     "execution_count": 64,
     "metadata": {},
     "output_type": "execute_result"
    }
   ],
   "source": [
    "## get the categories for a categorical variable\n",
    "df['marital'].levels()"
   ]
  },
  {
   "cell_type": "code",
   "execution_count": 65,
   "metadata": {
    "collapsed": false
   },
   "outputs": [
    {
     "name": "stdout",
     "output_type": "stream",
     "text": [
      "Rows:45211\n",
      "Cols:17\n",
      "\n",
      "\n"
     ]
    },
    {
     "data": {
      "text/html": [
       "<table>\n",
       "<thead>\n",
       "<tr><th>       </th><th>age          </th><th>job         </th><th>marital  </th><th>education  </th><th>default  </th><th>balance      </th><th>housing  </th><th>loan  </th><th>contact  </th><th>day          </th><th>month  </th><th>duration     </th><th>campaign     </th><th>pdays        </th><th>previous      </th><th>poutcome  </th><th>y   </th></tr>\n",
       "</thead>\n",
       "<tbody>\n",
       "<tr><td>type   </td><td>int          </td><td>enum        </td><td>enum     </td><td>enum       </td><td>enum     </td><td>int          </td><td>enum     </td><td>enum  </td><td>enum     </td><td>int          </td><td>enum   </td><td>int          </td><td>int          </td><td>int          </td><td>int           </td><td>enum      </td><td>enum</td></tr>\n",
       "<tr><td>mins   </td><td>18.0         </td><td>            </td><td>         </td><td>           </td><td>         </td><td>-8019.0      </td><td>         </td><td>      </td><td>         </td><td>1.0          </td><td>       </td><td>0.0          </td><td>1.0          </td><td>-1.0         </td><td>0.0           </td><td>          </td><td>    </td></tr>\n",
       "<tr><td>mean   </td><td>40.9362102143</td><td>            </td><td>         </td><td>           </td><td>         </td><td>1362.27205769</td><td>         </td><td>      </td><td>         </td><td>15.8064187919</td><td>       </td><td>258.163079781</td><td>2.76384065825</td><td>40.1978279622</td><td>0.580323372631</td><td>          </td><td>    </td></tr>\n",
       "<tr><td>maxs   </td><td>95.0         </td><td>            </td><td>         </td><td>           </td><td>         </td><td>102127.0     </td><td>         </td><td>      </td><td>         </td><td>31.0         </td><td>       </td><td>4918.0       </td><td>63.0         </td><td>871.0        </td><td>275.0         </td><td>          </td><td>    </td></tr>\n",
       "<tr><td>sigma  </td><td>10.618762041 </td><td>            </td><td>         </td><td>           </td><td>         </td><td>3044.76582917</td><td>         </td><td>      </td><td>         </td><td>8.32247615304</td><td>       </td><td>257.527812265</td><td>3.09802088328</td><td>100.128745991</td><td>2.30344104493 </td><td>          </td><td>    </td></tr>\n",
       "<tr><td>zeros  </td><td>0            </td><td>            </td><td>         </td><td>           </td><td>         </td><td>3514         </td><td>         </td><td>      </td><td>         </td><td>0            </td><td>       </td><td>3            </td><td>0            </td><td>0            </td><td>36954         </td><td>          </td><td>    </td></tr>\n",
       "<tr><td>missing</td><td>0            </td><td>0           </td><td>0        </td><td>0          </td><td>0        </td><td>0            </td><td>0        </td><td>0     </td><td>0        </td><td>0            </td><td>0      </td><td>0            </td><td>0            </td><td>0            </td><td>0             </td><td>0         </td><td>0   </td></tr>\n",
       "<tr><td>0      </td><td>58.0         </td><td>management  </td><td>married  </td><td>tertiary   </td><td>no       </td><td>2143.0       </td><td>yes      </td><td>no    </td><td>unknown  </td><td>5.0          </td><td>may    </td><td>261.0        </td><td>1.0          </td><td>-1.0         </td><td>0.0           </td><td>unknown   </td><td>no  </td></tr>\n",
       "<tr><td>1      </td><td>44.0         </td><td>technician  </td><td>single   </td><td>secondary  </td><td>no       </td><td>29.0         </td><td>yes      </td><td>no    </td><td>unknown  </td><td>5.0          </td><td>may    </td><td>151.0        </td><td>1.0          </td><td>-1.0         </td><td>0.0           </td><td>unknown   </td><td>no  </td></tr>\n",
       "<tr><td>2      </td><td>33.0         </td><td>entrepreneur</td><td>married  </td><td>secondary  </td><td>no       </td><td>2.0          </td><td>yes      </td><td>yes   </td><td>unknown  </td><td>5.0          </td><td>may    </td><td>76.0         </td><td>1.0          </td><td>-1.0         </td><td>0.0           </td><td>unknown   </td><td>no  </td></tr>\n",
       "<tr><td>3      </td><td>47.0         </td><td>blue-collar </td><td>married  </td><td>unknown    </td><td>no       </td><td>1506.0       </td><td>yes      </td><td>no    </td><td>unknown  </td><td>5.0          </td><td>may    </td><td>92.0         </td><td>1.0          </td><td>-1.0         </td><td>0.0           </td><td>unknown   </td><td>no  </td></tr>\n",
       "<tr><td>4      </td><td>33.0         </td><td>unknown     </td><td>single   </td><td>unknown    </td><td>no       </td><td>1.0          </td><td>no       </td><td>no    </td><td>unknown  </td><td>5.0          </td><td>may    </td><td>198.0        </td><td>1.0          </td><td>-1.0         </td><td>0.0           </td><td>unknown   </td><td>no  </td></tr>\n",
       "<tr><td>5      </td><td>35.0         </td><td>management  </td><td>married  </td><td>tertiary   </td><td>no       </td><td>231.0        </td><td>yes      </td><td>no    </td><td>unknown  </td><td>5.0          </td><td>may    </td><td>139.0        </td><td>1.0          </td><td>-1.0         </td><td>0.0           </td><td>unknown   </td><td>no  </td></tr>\n",
       "<tr><td>6      </td><td>28.0         </td><td>management  </td><td>single   </td><td>tertiary   </td><td>no       </td><td>447.0        </td><td>yes      </td><td>yes   </td><td>unknown  </td><td>5.0          </td><td>may    </td><td>217.0        </td><td>1.0          </td><td>-1.0         </td><td>0.0           </td><td>unknown   </td><td>no  </td></tr>\n",
       "<tr><td>7      </td><td>42.0         </td><td>entrepreneur</td><td>divorced </td><td>tertiary   </td><td>yes      </td><td>2.0          </td><td>yes      </td><td>no    </td><td>unknown  </td><td>5.0          </td><td>may    </td><td>380.0        </td><td>1.0          </td><td>-1.0         </td><td>0.0           </td><td>unknown   </td><td>no  </td></tr>\n",
       "<tr><td>8      </td><td>58.0         </td><td>retired     </td><td>married  </td><td>primary    </td><td>no       </td><td>121.0        </td><td>yes      </td><td>no    </td><td>unknown  </td><td>5.0          </td><td>may    </td><td>50.0         </td><td>1.0          </td><td>-1.0         </td><td>0.0           </td><td>unknown   </td><td>no  </td></tr>\n",
       "<tr><td>9      </td><td>43.0         </td><td>technician  </td><td>single   </td><td>secondary  </td><td>no       </td><td>593.0        </td><td>yes      </td><td>no    </td><td>unknown  </td><td>5.0          </td><td>may    </td><td>55.0         </td><td>1.0          </td><td>-1.0         </td><td>0.0           </td><td>unknown   </td><td>no  </td></tr>\n",
       "</tbody>\n",
       "</table>"
      ]
     },
     "metadata": {},
     "output_type": "display_data"
    }
   ],
   "source": [
    "## get a brief summary of the data\n",
    "df.describe()"
   ]
  },
  {
   "cell_type": "code",
   "execution_count": 71,
   "metadata": {
    "collapsed": false
   },
   "outputs": [],
   "source": [
    "## any machine learning task, we divide the data into three parts\n",
    "## training set - the algorithm learns using this data\n",
    "## validation set - the algorithm prunes or avoids overfitting using this data\n",
    "## test set - the final output and the accuracy is gauged using this data\n",
    "\n",
    "## METHOD 1\n",
    "\n",
    "## a little different syntax that scikit learn\n",
    "splits = df.split_frame(ratios=[0.70, 0.15], seed=1)  \n",
    "\n",
    "train = splits[0]\n",
    "valid = splits[1]\n",
    "test = splits[2]\n",
    "\n",
    "## METHOD 2\n",
    "# # Construct validation and training datasets by sampling (20/80)\n",
    "iloc = df[0].runif()\n",
    "train = df[iloc < 0.7]\n",
    "valid = df[iloc >= 0.7]"
   ]
  },
  {
   "cell_type": "code",
   "execution_count": 72,
   "metadata": {
    "collapsed": false
   },
   "outputs": [
    {
     "name": "stdout",
     "output_type": "stream",
     "text": [
      "train shape (31649, 17)\n",
      "validation shape (13562, 17)\n"
     ]
    }
   ],
   "source": [
    "## get the shape of each of the datasets\n",
    "print 'train shape', train.shape\n",
    "print 'validation shape', valid.shape"
   ]
  },
  {
   "cell_type": "code",
   "execution_count": 73,
   "metadata": {
    "collapsed": false
   },
   "outputs": [
    {
     "name": "stdout",
     "output_type": "stream",
     "text": [
      "Help on class H2OGeneralizedLinearEstimator in module h2o.estimators.glm:\n",
      "\n",
      "class H2OGeneralizedLinearEstimator(h2o.estimators.estimator_base.H2OEstimator)\n",
      " |  Generalized Linear Modeling\n",
      " |  \n",
      " |  Fits a generalized linear model, specified by a response variable, a set of predictors, and a\n",
      " |  description of the error distribution.\n",
      " |  \n",
      " |  A subclass of :class:`ModelBase` is returned. The specific subclass depends on the machine learning task\n",
      " |  at hand (if it's binomial classification, then an H2OBinomialModel is returned, if it's regression then a\n",
      " |  H2ORegressionModel is returned). The default print-out of the models is shown, but further GLM-specific\n",
      " |  information can be queried out of the object. Upon completion of the GLM, the resulting object has\n",
      " |  coefficients, normalized coefficients, residual/null deviance, aic, and a host of model metrics including\n",
      " |  MSE, AUC (for logistic regression), degrees of freedom, and confusion matrices.\n",
      " |  \n",
      " |  Method resolution order:\n",
      " |      H2OGeneralizedLinearEstimator\n",
      " |      h2o.estimators.estimator_base.H2OEstimator\n",
      " |      h2o.model.model_base.ModelBase\n",
      " |      h2o.utils.backward_compatibility.BackwardsCompatibleBase\n",
      " |      __builtin__.object\n",
      " |  \n",
      " |  Methods defined here:\n",
      " |  \n",
      " |  __init__(self, **kwargs)\n",
      " |  \n",
      " |  ----------------------------------------------------------------------\n",
      " |  Static methods defined here:\n",
      " |  \n",
      " |  getGLMRegularizationPath(model)\n",
      " |      Extract full regularization path explored during lambda search from glm model.\n",
      " |      \n",
      " |      :param model: source lambda search model\n",
      " |  \n",
      " |  makeGLMModel(model, coefs, threshold=0.5)\n",
      " |      Create a custom GLM model using the given coefficients.\n",
      " |      \n",
      " |      Needs to be passed source model trained on the dataset to extract the dataset information from.\n",
      " |      \n",
      " |      :param model: source model, used for extracting dataset information\n",
      " |      :param coefs: dictionary containing model coefficients\n",
      " |      :param threshold: (optional, only for binomial) decision threshold used for classification\n",
      " |  \n",
      " |  ----------------------------------------------------------------------\n",
      " |  Data descriptors defined here:\n",
      " |  \n",
      " |  Lambda\n",
      " |      DEPRECATED. Use ``self.lambda_`` instead\n",
      " |  \n",
      " |  alpha\n",
      " |      distribution of regularization between L1 and L2. Default value of alpha is 0 when SOLVER = 'L-BFGS', 0.5\n",
      " |      otherwise\n",
      " |      \n",
      " |      Type: ``List[float]``.\n",
      " |  \n",
      " |  balance_classes\n",
      " |      Balance training data class counts via over/under-sampling (for imbalanced data).\n",
      " |      \n",
      " |      Type: ``bool``  (default: ``False``).\n",
      " |  \n",
      " |  beta_constraints\n",
      " |      beta constraints\n",
      " |      \n",
      " |      Type: ``str``.\n",
      " |  \n",
      " |  beta_epsilon\n",
      " |      converge if  beta changes less (using L-infinity norm) than beta esilon, ONLY applies to IRLSM solver\n",
      " |      \n",
      " |      Type: ``float``  (default: ``0.0001``).\n",
      " |  \n",
      " |  class_sampling_factors\n",
      " |      Desired over/under-sampling ratios per class (in lexicographic order). If not specified, sampling factors will\n",
      " |      be automatically computed to obtain class balance during training. Requires balance_classes.\n",
      " |      \n",
      " |      Type: ``List[float]``.\n",
      " |  \n",
      " |  compute_p_values\n",
      " |      request p-values computation, p-values work only with IRLSM solver and no regularization\n",
      " |      \n",
      " |      Type: ``bool``  (default: ``False``).\n",
      " |  \n",
      " |  early_stopping\n",
      " |      stop early when there is no more relative improvement on train or validation (if provided)\n",
      " |      \n",
      " |      Type: ``bool``  (default: ``True``).\n",
      " |  \n",
      " |  family\n",
      " |      Family. Use binomial for classification with logistic regression, others are for regression problems.\n",
      " |      \n",
      " |      One of: ``\"gaussian\"``, ``\"binomial\"``, ``\"quasibinomial\"``, ``\"multinomial\"``, ``\"poisson\"``, ``\"gamma\"``,\n",
      " |      ``\"tweedie\"``  (default: ``\"gaussian\"``).\n",
      " |  \n",
      " |  fold_assignment\n",
      " |      Cross-validation fold assignment scheme, if fold_column is not specified. The 'Stratified' option will stratify\n",
      " |      the folds based on the response variable, for classification problems.\n",
      " |      \n",
      " |      One of: ``\"auto\"``, ``\"random\"``, ``\"modulo\"``, ``\"stratified\"``  (default: ``\"auto\"``).\n",
      " |  \n",
      " |  fold_column\n",
      " |      Column with cross-validation fold index assignment per observation.\n",
      " |      \n",
      " |      Type: ``str``.\n",
      " |  \n",
      " |  gradient_epsilon\n",
      " |      Converge if  objective changes less (using L-infinity norm) than this, ONLY applies to L-BFGS solver. Default\n",
      " |      indicates: If lambda_search is set to False and lambda is equal to zero, the default value of gradient_epsilon\n",
      " |      is equal to .000001, otherwise the default value is .0001. If lambda_search is set to True, the conditional\n",
      " |      values above are 1E-8 and 1E-6 respectively.\n",
      " |      \n",
      " |      Type: ``float``  (default: ``-1``).\n",
      " |  \n",
      " |  ignore_const_cols\n",
      " |      Ignore constant columns.\n",
      " |      \n",
      " |      Type: ``bool``  (default: ``True``).\n",
      " |  \n",
      " |  ignored_columns\n",
      " |      Names of columns to ignore for training.\n",
      " |      \n",
      " |      Type: ``List[str]``.\n",
      " |  \n",
      " |  interactions\n",
      " |      A list of predictor column indices to interact. All pairwise combinations will be computed for the list.\n",
      " |      \n",
      " |      Type: ``List[str]``.\n",
      " |  \n",
      " |  intercept\n",
      " |      include constant term in the model\n",
      " |      \n",
      " |      Type: ``bool``  (default: ``True``).\n",
      " |  \n",
      " |  keep_cross_validation_fold_assignment\n",
      " |      Whether to keep the cross-validation fold assignment.\n",
      " |      \n",
      " |      Type: ``bool``  (default: ``False``).\n",
      " |  \n",
      " |  keep_cross_validation_predictions\n",
      " |      Whether to keep the predictions of the cross-validation models.\n",
      " |      \n",
      " |      Type: ``bool``  (default: ``False``).\n",
      " |  \n",
      " |  lambda_\n",
      " |      regularization strength\n",
      " |      \n",
      " |      Type: ``List[float]``.\n",
      " |  \n",
      " |  lambda_min_ratio\n",
      " |      Min lambda used in lambda search, specified as a ratio of lambda_max. Default indicates: if the number of\n",
      " |      observations is greater than the number of variables then lambda_min_ratio is set to 0.0001; if the number of\n",
      " |      observations is less than the number of variables then lambda_min_ratio is set to 0.01.\n",
      " |      \n",
      " |      Type: ``float``  (default: ``-1``).\n",
      " |  \n",
      " |  lambda_search\n",
      " |      use lambda search starting at lambda max, given lambda is then interpreted as lambda min\n",
      " |      \n",
      " |      Type: ``bool``  (default: ``False``).\n",
      " |  \n",
      " |  link\n",
      " |      One of: ``\"family_default\"``, ``\"identity\"``, ``\"logit\"``, ``\"log\"``, ``\"inverse\"``, ``\"tweedie\"``  (default:\n",
      " |      ``\"family_default\"``).\n",
      " |  \n",
      " |  max_active_predictors\n",
      " |      Maximum number of active predictors during computation. Use as a stopping criterion to prevent expensive model\n",
      " |      building with many predictors. Default indicates: If the IRLSM solver is used, the value of\n",
      " |      max_active_predictors is set to 7000 otherwise it is set to 100000000.\n",
      " |      \n",
      " |      Type: ``int``  (default: ``-1``).\n",
      " |  \n",
      " |  max_after_balance_size\n",
      " |      Maximum relative size of the training data after balancing class counts (can be less than 1.0). Requires\n",
      " |      balance_classes.\n",
      " |      \n",
      " |      Type: ``float``  (default: ``5``).\n",
      " |  \n",
      " |  max_confusion_matrix_size\n",
      " |      [Deprecated] Maximum size (# classes) for confusion matrices to be printed in the Logs\n",
      " |      \n",
      " |      Type: ``int``  (default: ``20``).\n",
      " |  \n",
      " |  max_hit_ratio_k\n",
      " |      Max. number (top K) of predictions to use for hit ratio computation (for multi-class only, 0 to disable)\n",
      " |      \n",
      " |      Type: ``int``  (default: ``0``).\n",
      " |  \n",
      " |  max_iterations\n",
      " |      Maximum number of iterations\n",
      " |      \n",
      " |      Type: ``int``  (default: ``-1``).\n",
      " |  \n",
      " |  max_runtime_secs\n",
      " |      Maximum allowed runtime in seconds for model training. Use 0 to disable.\n",
      " |      \n",
      " |      Type: ``float``  (default: ``0``).\n",
      " |  \n",
      " |  missing_values_handling\n",
      " |      Handling of missing values. Either MeanImputation or Skip.\n",
      " |      \n",
      " |      One of: ``\"mean_imputation\"``, ``\"skip\"``  (default: ``\"mean_imputation\"``).\n",
      " |  \n",
      " |  nfolds\n",
      " |      Number of folds for N-fold cross-validation (0 to disable or >= 2).\n",
      " |      \n",
      " |      Type: ``int``  (default: ``0``).\n",
      " |  \n",
      " |  nlambdas\n",
      " |      Number of lambdas to be used in a search. Default indicates: If alpha is zero, with lambda search set to True,\n",
      " |      the value of nlamdas is set to 30 (fewer lambdas are needed for ridge regression) otherwise it is set to 100.\n",
      " |      \n",
      " |      Type: ``int``  (default: ``-1``).\n",
      " |  \n",
      " |  non_negative\n",
      " |      Restrict coefficients (not intercept) to be non-negative\n",
      " |      \n",
      " |      Type: ``bool``  (default: ``False``).\n",
      " |  \n",
      " |  objective_epsilon\n",
      " |      Converge if  objective value changes less than this. Default indicates: If lambda_search is set to True the\n",
      " |      value of objective_epsilon is set to .0001. If the lambda_search is set to False and lambda is equal to zero,\n",
      " |      the value of objective_epsilon is set to .000001, for any other value of lambda the default value of\n",
      " |      objective_epsilon is set to .0001.\n",
      " |      \n",
      " |      Type: ``float``  (default: ``-1``).\n",
      " |  \n",
      " |  offset_column\n",
      " |      Offset column. This will be added to the combination of columns before applying the link function.\n",
      " |      \n",
      " |      Type: ``str``.\n",
      " |  \n",
      " |  prior\n",
      " |      prior probability for y==1. To be used only for logistic regression iff the data has been sampled and the mean\n",
      " |      of response does not reflect reality.\n",
      " |      \n",
      " |      Type: ``float``  (default: ``-1``).\n",
      " |  \n",
      " |  remove_collinear_columns\n",
      " |      in case of linearly dependent columns remove some of the dependent columns\n",
      " |      \n",
      " |      Type: ``bool``  (default: ``False``).\n",
      " |  \n",
      " |  response_column\n",
      " |      Response variable column.\n",
      " |      \n",
      " |      Type: ``str``.\n",
      " |  \n",
      " |  score_each_iteration\n",
      " |      Whether to score during each iteration of model training.\n",
      " |      \n",
      " |      Type: ``bool``  (default: ``False``).\n",
      " |  \n",
      " |  seed\n",
      " |      Seed for pseudo random number generator (if applicable)\n",
      " |      \n",
      " |      Type: ``int``  (default: ``-1``).\n",
      " |  \n",
      " |  solver\n",
      " |      AUTO will set the solver based on given data and the other parameters. IRLSM is fast on on problems with small\n",
      " |      number of predictors and for lambda-search with L1 penalty, L_BFGS scales better for datasets with many columns.\n",
      " |      Coordinate descent is experimental (beta).\n",
      " |      \n",
      " |      One of: ``\"auto\"``, ``\"irlsm\"``, ``\"l_bfgs\"``, ``\"coordinate_descent_naive\"``, ``\"coordinate_descent\"``\n",
      " |      (default: ``\"auto\"``).\n",
      " |  \n",
      " |  standardize\n",
      " |      Standardize numeric columns to have zero mean and unit variance\n",
      " |      \n",
      " |      Type: ``bool``  (default: ``True``).\n",
      " |  \n",
      " |  training_frame\n",
      " |      Id of the training data frame (Not required, to allow initial validation of model parameters).\n",
      " |      \n",
      " |      Type: ``str``.\n",
      " |  \n",
      " |  tweedie_link_power\n",
      " |      Tweedie link power\n",
      " |      \n",
      " |      Type: ``float``  (default: ``1``).\n",
      " |  \n",
      " |  tweedie_variance_power\n",
      " |      Tweedie variance power\n",
      " |      \n",
      " |      Type: ``float``  (default: ``0``).\n",
      " |  \n",
      " |  validation_frame\n",
      " |      Id of the validation data frame.\n",
      " |      \n",
      " |      Type: ``str``.\n",
      " |  \n",
      " |  weights_column\n",
      " |      Column with observation weights. Giving some observation a weight of zero is equivalent to excluding it from the\n",
      " |      dataset; giving an observation a relative weight of 2 is equivalent to repeating that row twice. Negative\n",
      " |      weights are not allowed.\n",
      " |      \n",
      " |      Type: ``str``.\n",
      " |  \n",
      " |  ----------------------------------------------------------------------\n",
      " |  Data and other attributes defined here:\n",
      " |  \n",
      " |  algo = u'glm'\n",
      " |  \n",
      " |  ----------------------------------------------------------------------\n",
      " |  Methods inherited from h2o.estimators.estimator_base.H2OEstimator:\n",
      " |  \n",
      " |  fit(self, x, y=None, **params)\n",
      " |      Fit an H2O model as part of a scikit-learn pipeline or grid search.\n",
      " |      \n",
      " |      A warning will be issued if a caller other than sklearn attempts to use this method.\n",
      " |      \n",
      " |      :param H2OFrame x: An H2OFrame consisting of the predictor variables.\n",
      " |      :param H2OFrame y: An H2OFrame consisting of the response variable.\n",
      " |      :param params: Extra arguments.\n",
      " |      :returns: The current instance of H2OEstimator for method chaining.\n",
      " |  \n",
      " |  get_params(self, deep=True)\n",
      " |      Obtain parameters for this estimator.\n",
      " |      \n",
      " |      Used primarily for sklearn Pipelines and sklearn grid search.\n",
      " |      \n",
      " |      :param deep: If True, return parameters of all sub-objects that are estimators.\n",
      " |      \n",
      " |      :returns: A dict of parameters\n",
      " |  \n",
      " |  join(self)\n",
      " |      Wait until job's completion.\n",
      " |  \n",
      " |  set_params(self, **parms)\n",
      " |      Used by sklearn for updating parameters during grid search.\n",
      " |      \n",
      " |      :param parms: A dictionary of parameters that will be set on this model.\n",
      " |      :returns: self, the current estimator object with the parameters all set as desired.\n",
      " |  \n",
      " |  start(self, x, y=None, training_frame=None, offset_column=None, fold_column=None, weights_column=None, validation_frame=None, **params)\n",
      " |      Train the model asynchronously (to block for results call :meth:`join`).\n",
      " |      \n",
      " |      :param x: A list of column names or indices indicating the predictor columns.\n",
      " |      :param y: An index or a column name indicating the response column.\n",
      " |      :param H2OFrame training_frame: The H2OFrame having the columns indicated by x and y (as well as any\n",
      " |          additional columns specified by fold, offset, and weights).\n",
      " |      :param offset_column: The name or index of the column in training_frame that holds the offsets.\n",
      " |      :param fold_column: The name or index of the column in training_frame that holds the per-row fold\n",
      " |          assignments.\n",
      " |      :param weights_column: The name or index of the column in training_frame that holds the per-row weights.\n",
      " |      :param validation_frame: H2OFrame with validation data to be scored on while training.\n",
      " |  \n",
      " |  train(self, x=None, y=None, training_frame=None, offset_column=None, fold_column=None, weights_column=None, validation_frame=None, max_runtime_secs=None, ignored_columns=None, model_id=None)\n",
      " |      Train the H2O model.\n",
      " |      \n",
      " |      :param x: A list of column names or indices indicating the predictor columns.\n",
      " |      :param y: An index or a column name indicating the response column.\n",
      " |      :param H2OFrame training_frame: The H2OFrame having the columns indicated by x and y (as well as any\n",
      " |          additional columns specified by fold, offset, and weights).\n",
      " |      :param offset_column: The name or index of the column in training_frame that holds the offsets.\n",
      " |      :param fold_column: The name or index of the column in training_frame that holds the per-row fold\n",
      " |          assignments.\n",
      " |      :param weights_column: The name or index of the column in training_frame that holds the per-row weights.\n",
      " |      :param validation_frame: H2OFrame with validation data to be scored on while training.\n",
      " |      :param float max_runtime_secs: Maximum allowed runtime in seconds for model training. Use 0 to disable.\n",
      " |  \n",
      " |  ----------------------------------------------------------------------\n",
      " |  Static methods inherited from h2o.estimators.estimator_base.H2OEstimator:\n",
      " |  \n",
      " |  mixin(obj, cls)\n",
      " |  \n",
      " |  ----------------------------------------------------------------------\n",
      " |  Methods inherited from h2o.model.model_base.ModelBase:\n",
      " |  \n",
      " |  __repr__(self)\n",
      " |  \n",
      " |  aic(self, train=False, valid=False, xval=False)\n",
      " |      Get the AIC (Akaike Information Criterium).\n",
      " |      \n",
      " |      If all are False (default), then return the training metric value.\n",
      " |      If more than one options is set to True, then return a dictionary of metrics where the keys are \"train\",\n",
      " |      \"valid\", and \"xval\".\n",
      " |      \n",
      " |      :param bool train: If train is True, then return the AIC value for the training data.\n",
      " |      :param bool valid: If valid is True, then return the AIC value for the validation data.\n",
      " |      :param bool xval:  If xval is True, then return the AIC value for the validation data.\n",
      " |      \n",
      " |      :returns: The AIC.\n",
      " |  \n",
      " |  auc(self, train=False, valid=False, xval=False)\n",
      " |      Get the AUC (Area Under Curve).\n",
      " |      \n",
      " |      If all are False (default), then return the training metric value.\n",
      " |      If more than one options is set to True, then return a dictionary of metrics where the keys are \"train\",\n",
      " |      \"valid\", and \"xval\".\n",
      " |      \n",
      " |      :param bool train: If train is True, then return the AUC value for the training data.\n",
      " |      :param bool valid: If valid is True, then return the AUC value for the validation data.\n",
      " |      :param bool xval:  If xval is True, then return the AUC value for the validation data.\n",
      " |      \n",
      " |      :returns: The AUC.\n",
      " |  \n",
      " |  biases(self, vector_id=0)\n",
      " |      Return the frame for the respective bias vector.\n",
      " |      \n",
      " |      :param: vector_id: an integer, ranging from 0 to number of layers, that specifies the bias vector to return.\n",
      " |      \n",
      " |      :returns: an H2OFrame which represents the bias vector identified by vector_id\n",
      " |  \n",
      " |  catoffsets(self)\n",
      " |      Categorical offsets for one-hot encoding.\n",
      " |  \n",
      " |  coef(self)\n",
      " |      Return the coefficients which can be applied to the non-standardized data.\n",
      " |      \n",
      " |      Note: standardize = True by default, if set to False then coef() return the coefficients which are fit directly.\n",
      " |  \n",
      " |  coef_norm(self)\n",
      " |      Return coefficients fitted on the standardized data (requires standardize = True, which is on by default).\n",
      " |      \n",
      " |      These coefficients can be used to evaluate variable importance.\n",
      " |  \n",
      " |  cross_validation_fold_assignment(self)\n",
      " |      Obtain the cross-validation fold assignment for all rows in the training data.\n",
      " |      \n",
      " |      :returns: H2OFrame\n",
      " |  \n",
      " |  cross_validation_holdout_predictions(self)\n",
      " |      Obtain the (out-of-sample) holdout predictions of all cross-validation models on the training data.\n",
      " |      \n",
      " |      This is equivalent to summing up all H2OFrames returned by cross_validation_predictions.\n",
      " |      \n",
      " |      :returns: H2OFrame\n",
      " |  \n",
      " |  cross_validation_metrics_summary(self)\n",
      " |      Retrieve Cross-Validation Metrics Summary.\n",
      " |      \n",
      " |      :returns: The cross-validation metrics summary as an H2OTwoDimTable\n",
      " |  \n",
      " |  cross_validation_models(self)\n",
      " |      Obtain a list of cross-validation models.\n",
      " |      \n",
      " |      :returns: list of H2OModel objects.\n",
      " |  \n",
      " |  cross_validation_predictions(self)\n",
      " |      Obtain the (out-of-sample) holdout predictions of all cross-validation models on their holdout data.\n",
      " |      \n",
      " |      Note that the predictions are expanded to the full number of rows of the training data, with 0 fill-in.\n",
      " |      \n",
      " |      :returns: list of H2OFrame objects.\n",
      " |  \n",
      " |  deepfeatures(self, test_data, layer)\n",
      " |      Return hidden layer details.\n",
      " |      \n",
      " |      :param test_data: Data to create a feature space on\n",
      " |      :param layer: 0 index hidden layer\n",
      " |  \n",
      " |  download_mojo(self, path=u'.', get_genmodel_jar=False)\n",
      " |      Download the model in MOJO format.\n",
      " |      \n",
      " |      :param path: the path where MOJO file should be saved.\n",
      " |      :param get_genmodel_jar: if True, then also download h2o-genmodel.jar and store it in folder ``path``.\n",
      " |      :returns: name of the MOJO file written.\n",
      " |  \n",
      " |  download_pojo(self, path=u'', get_genmodel_jar=False)\n",
      " |      Download the POJO for this model to the directory specified by path.\n",
      " |      \n",
      " |      If path is an empty string, then dump the output to screen.\n",
      " |      \n",
      " |      :param path:  An absolute path to the directory where POJO should be saved.\n",
      " |      :param get_genmodel_jar: if True, then also download h2o-genmodel.jar and store it in folder ``path``.\n",
      " |      :returns: name of the POJO file written.\n",
      " |  \n",
      " |  get_xval_models(self, key=None)\n",
      " |      Return a Model object.\n",
      " |      \n",
      " |      :param key: If None, return all cross-validated models; otherwise return the model that key points to.\n",
      " |      \n",
      " |      :returns: A model or list of models.\n",
      " |  \n",
      " |  gini(self, train=False, valid=False, xval=False)\n",
      " |      Get the Gini coefficient.\n",
      " |      \n",
      " |      If all are False (default), then return the training metric value.\n",
      " |      If more than one options is set to True, then return a dictionary of metrics where the keys are \"train\",\n",
      " |      \"valid\", and \"xval\"\n",
      " |      \n",
      " |      :param bool train: If train is True, then return the Gini Coefficient value for the training data.\n",
      " |      :param bool valid: If valid is True, then return the Gini Coefficient value for the validation data.\n",
      " |      :param bool xval:  If xval is True, then return the Gini Coefficient value for the cross validation data.\n",
      " |      \n",
      " |      :returns: The Gini Coefficient for this binomial model.\n",
      " |  \n",
      " |  is_cross_validated(self)\n",
      " |      Return True if the model was cross-validated.\n",
      " |  \n",
      " |  logloss(self, train=False, valid=False, xval=False)\n",
      " |      Get the Log Loss.\n",
      " |      \n",
      " |      If all are False (default), then return the training metric value.\n",
      " |      If more than one options is set to True, then return a dictionary of metrics where the keys are \"train\",\n",
      " |      \"valid\", and \"xval\".\n",
      " |      \n",
      " |      :param bool train: If train is True, then return the log loss value for the training data.\n",
      " |      :param bool valid: If valid is True, then return the log loss value for the validation data.\n",
      " |      :param bool xval:  If xval is True, then return the log loss value for the cross validation data.\n",
      " |      \n",
      " |      :returns: The log loss for this regression model.\n",
      " |  \n",
      " |  mae(self, train=False, valid=False, xval=False)\n",
      " |      Get the Mean Absolute Error.\n",
      " |      \n",
      " |      If all are False (default), then return the training metric value.\n",
      " |      If more than one options is set to True, then return a dictionary of metrics where the keys are \"train\",\n",
      " |      \"valid\", and \"xval\".\n",
      " |      \n",
      " |      :param bool train: If train is True, then return the MAE value for the training data.\n",
      " |      :param bool valid: If valid is True, then return the MAE value for the validation data.\n",
      " |      :param bool xval:  If xval is True, then return the MAE value for the cross validation data.\n",
      " |      \n",
      " |      :returns: The MAE for this regression model.\n",
      " |  \n",
      " |  mean_residual_deviance(self, train=False, valid=False, xval=False)\n",
      " |      Get the Mean Residual Deviances.\n",
      " |      \n",
      " |      If all are False (default), then return the training metric value.\n",
      " |      If more than one options is set to True, then return a dictionary of metrics where the keys are \"train\",\n",
      " |      \"valid\", and \"xval\".\n",
      " |      \n",
      " |      :param bool train: If train is True, then return the Mean Residual Deviance value for the training data.\n",
      " |      :param bool valid: If valid is True, then return the Mean Residual Deviance value for the validation data.\n",
      " |      :param bool xval:  If xval is True, then return the Mean Residual Deviance value for the cross validation data.\n",
      " |      \n",
      " |      :returns: The Mean Residual Deviance for this regression model.\n",
      " |  \n",
      " |  metalearner(self)\n",
      " |      Print the metalearner for the model, if any.  Currently only used by H2OStackedEnsembleEstimator.\n",
      " |  \n",
      " |  model_performance(self, test_data=None, train=False, valid=False, xval=False)\n",
      " |      Generate model metrics for this model on test_data.\n",
      " |      \n",
      " |      :param H2OFrame test_data: Data set for which model metrics shall be computed against. All three of train,\n",
      " |          valid and xval arguments are ignored if test_data is not None.\n",
      " |      :param bool train: Report the training metrics for the model.\n",
      " |      :param bool valid: Report the validation metrics for the model.\n",
      " |      :param bool xval: Report the cross-validation metrics for the model. If train and valid are True, then it\n",
      " |          defaults to True.\n",
      " |      \n",
      " |      :returns: An object of class H2OModelMetrics.\n",
      " |  \n",
      " |  mse(self, train=False, valid=False, xval=False)\n",
      " |      Get the Mean Square Error.\n",
      " |      \n",
      " |      If all are False (default), then return the training metric value.\n",
      " |      If more than one options is set to True, then return a dictionary of metrics where the keys are \"train\",\n",
      " |      \"valid\", and \"xval\".\n",
      " |      \n",
      " |      :param bool train: If train is True, then return the MSE value for the training data.\n",
      " |      :param bool valid: If valid is True, then return the MSE value for the validation data.\n",
      " |      :param bool xval:  If xval is True, then return the MSE value for the cross validation data.\n",
      " |      \n",
      " |      :returns: The MSE for this regression model.\n",
      " |  \n",
      " |  normmul(self)\n",
      " |      Normalization/Standardization multipliers for numeric predictors.\n",
      " |  \n",
      " |  normsub(self)\n",
      " |      Normalization/Standardization offsets for numeric predictors.\n",
      " |  \n",
      " |  null_degrees_of_freedom(self, train=False, valid=False, xval=False)\n",
      " |      Retreive the null degress of freedom if this model has the attribute, or None otherwise.\n",
      " |      \n",
      " |      :param bool train: Get the null dof for the training set. If both train and valid are False, then train is\n",
      " |          selected by default.\n",
      " |      :param bool valid: Get the null dof for the validation set. If both train and valid are True, then train is\n",
      " |          selected by default.\n",
      " |      \n",
      " |      :returns: Return the null dof, or None if it is not present.\n",
      " |  \n",
      " |  null_deviance(self, train=False, valid=False, xval=False)\n",
      " |      Retreive the null deviance if this model has the attribute, or None otherwise.\n",
      " |      \n",
      " |      :param bool train: Get the null deviance for the training set. If both train and valid are False, then train\n",
      " |          is selected by default.\n",
      " |      :param bool valid: Get the null deviance for the validation set. If both train and valid are True, then train\n",
      " |          is selected by default.\n",
      " |      \n",
      " |      :returns: Return the null deviance, or None if it is not present.\n",
      " |  \n",
      " |  partial_plot(self, data, cols, destination_key=None, nbins=20, plot=True, figsize=(7, 10), server=False)\n",
      " |      Create partial dependence plot which gives a graphical depiction of the marginal effect of a variable on the\n",
      " |      response. The effect of a variable is measured in change in the mean response.\n",
      " |      \n",
      " |      :param H2OFrame data: An H2OFrame object used for scoring and constructing the plot.\n",
      " |      :param cols: Feature(s) for which partial dependence will be calculated.\n",
      " |      :param destination_key: An key reference to the created partial dependence tables in H2O.\n",
      " |      :param nbins: Number of bins used. For categorical columns make sure the number of bins exceed the level count.\n",
      " |      :param plot: A boolean specifying whether to plot partial dependence table.\n",
      " |      :param figsize: Dimension/size of the returning plots, adjust to fit your output cells.\n",
      " |      :param server: ?\n",
      " |      :returns: Plot and list of calculated mean response tables for each feature requested.\n",
      " |  \n",
      " |  pprint_coef(self)\n",
      " |      Pretty print the coefficents table (includes normalized coefficients).\n",
      " |  \n",
      " |  predict(self, test_data)\n",
      " |      Predict on a dataset.\n",
      " |      \n",
      " |      :param H2OFrame test_data: Data on which to make predictions.\n",
      " |      \n",
      " |      :returns: A new H2OFrame of predictions.\n",
      " |  \n",
      " |  predict_leaf_node_assignment(self, test_data)\n",
      " |      Predict on a dataset and return the leaf node assignment (only for tree-based models).\n",
      " |      \n",
      " |      :param H2OFrame test_data: Data on which to make predictions.\n",
      " |      \n",
      " |      :returns: A new H2OFrame of predictions.\n",
      " |  \n",
      " |  r2(self, train=False, valid=False, xval=False)\n",
      " |      Return the R squared for this regression model.\n",
      " |      \n",
      " |      Will return R^2 for GLM Models and will return NaN otherwise.\n",
      " |      \n",
      " |      The R^2 value is defined to be 1 - MSE/var, where var is computed as sigma*sigma.\n",
      " |      \n",
      " |      If all are False (default), then return the training metric value.\n",
      " |      If more than one options is set to True, then return a dictionary of metrics where the keys are \"train\",\n",
      " |      \"valid\", and \"xval\".\n",
      " |      \n",
      " |      :param bool train: If train is True, then return the R^2 value for the training data.\n",
      " |      :param bool valid: If valid is True, then return the R^2 value for the validation data.\n",
      " |      :param bool xval:  If xval is True, then return the R^2 value for the cross validation data.\n",
      " |      \n",
      " |      :returns: The R squared for this regression model.\n",
      " |  \n",
      " |  residual_degrees_of_freedom(self, train=False, valid=False, xval=False)\n",
      " |      Retreive the residual degress of freedom if this model has the attribute, or None otherwise.\n",
      " |      \n",
      " |      :param bool train: Get the residual dof for the training set. If both train and valid are False, then train\n",
      " |          is selected by default.\n",
      " |      :param bool valid: Get the residual dof for the validation set. If both train and valid are True, then train\n",
      " |          is selected by default.\n",
      " |      \n",
      " |      :returns: Return the residual dof, or None if it is not present.\n",
      " |  \n",
      " |  residual_deviance(self, train=False, valid=False, xval=None)\n",
      " |      Retreive the residual deviance if this model has the attribute, or None otherwise.\n",
      " |      \n",
      " |      :param bool train: Get the residual deviance for the training set. If both train and valid are False, then\n",
      " |          train is selected by default.\n",
      " |      :param bool valid: Get the residual deviance for the validation set. If both train and valid are True, then\n",
      " |          train is selected by default.\n",
      " |      \n",
      " |      :returns: Return the residual deviance, or None if it is not present.\n",
      " |  \n",
      " |  respmul(self)\n",
      " |      Normalization/Standardization multipliers for numeric response.\n",
      " |  \n",
      " |  respsub(self)\n",
      " |      Normalization/Standardization offsets for numeric response.\n",
      " |  \n",
      " |  rmse(self, train=False, valid=False, xval=False)\n",
      " |      Get the Root Mean Square Error.\n",
      " |      \n",
      " |      If all are False (default), then return the training metric value.\n",
      " |      If more than one options is set to True, then return a dictionary of metrics where the keys are \"train\",\n",
      " |      \"valid\", and \"xval\".\n",
      " |      \n",
      " |      :param bool train: If train is True, then return the RMSE value for the training data.\n",
      " |      :param bool valid: If valid is True, then return the RMSE value for the validation data.\n",
      " |      :param bool xval:  If xval is True, then return the RMSE value for the cross validation data.\n",
      " |      \n",
      " |      :returns: The RMSE for this regression model.\n",
      " |  \n",
      " |  rmsle(self, train=False, valid=False, xval=False)\n",
      " |      Get the Root Mean Squared Logarithmic Error.\n",
      " |      \n",
      " |      If all are False (default), then return the training metric value.\n",
      " |      If more than one options is set to True, then return a dictionary of metrics where the keys are \"train\",\n",
      " |      \"valid\", and \"xval\".\n",
      " |      \n",
      " |      :param bool train: If train is True, then return the RMSLE value for the training data.\n",
      " |      :param bool valid: If valid is True, then return the RMSLE value for the validation data.\n",
      " |      :param bool xval:  If xval is True, then return the RMSLE value for the cross validation data.\n",
      " |      \n",
      " |      :returns: The RMSLE for this regression model.\n",
      " |  \n",
      " |  save_mojo(self, path=u'', force=False)\n",
      " |      Save an H2O Model as MOJO (Model Object, Optimized) to disk.\n",
      " |      \n",
      " |      :param model: The model object to save.\n",
      " |      :param path: a path to save the model at (hdfs, s3, local)\n",
      " |      :param force: if True overwrite destination directory in case it exists, or throw exception if set to False.\n",
      " |      \n",
      " |      :returns str: the path of the saved model\n",
      " |  \n",
      " |  score_history(self)\n",
      " |      DEPRECATED. Use :meth:`scoring_history` instead.\n",
      " |  \n",
      " |  scoring_history(self)\n",
      " |      Retrieve Model Score History.\n",
      " |      \n",
      " |      :returns: The score history as an H2OTwoDimTable or a Pandas DataFrame.\n",
      " |  \n",
      " |  show(self)\n",
      " |      Print innards of model, without regards to type.\n",
      " |  \n",
      " |  std_coef_plot(self, num_of_features=None, server=False)\n",
      " |      Plot a GLM model\"s standardized coefficient magnitudes.\n",
      " |      \n",
      " |      :param num_of_features: the number of features shown in the plot.\n",
      " |      :param server: ?\n",
      " |      \n",
      " |      :returns: None.\n",
      " |  \n",
      " |  summary(self)\n",
      " |      Print a detailed summary of the model.\n",
      " |  \n",
      " |  varimp(self, use_pandas=False)\n",
      " |      Pretty print the variable importances, or return them in a list.\n",
      " |      \n",
      " |      :param use_pandas: If True, then the variable importances will be returned as a pandas data frame.\n",
      " |      \n",
      " |      :returns: A list or Pandas DataFrame.\n",
      " |  \n",
      " |  varimp_plot(self, num_of_features=None, server=False)\n",
      " |      Plot the variable importance for a trained model.\n",
      " |      \n",
      " |      :param num_of_features: the number of features shown in the plot.\n",
      " |      :param server: ?\n",
      " |      \n",
      " |      :returns: None.\n",
      " |  \n",
      " |  weights(self, matrix_id=0)\n",
      " |      Return the frame for the respective weight matrix.\n",
      " |      \n",
      " |      :param: matrix_id: an integer, ranging from 0 to number of layers, that specifies the weight matrix to return.\n",
      " |      \n",
      " |      :returns: an H2OFrame which represents the weight matrix identified by matrix_id\n",
      " |  \n",
      " |  xval_keys(self)\n",
      " |      Return model keys for the cross-validated model.\n",
      " |  \n",
      " |  ----------------------------------------------------------------------\n",
      " |  Data descriptors inherited from h2o.model.model_base.ModelBase:\n",
      " |  \n",
      " |  actual_params\n",
      " |      Dictionary of actual parameters of the model.\n",
      " |  \n",
      " |  default_params\n",
      " |      Dictionary of the default parameters of the model.\n",
      " |  \n",
      " |  full_parameters\n",
      " |      Dictionary of the full specification of all parameters.\n",
      " |  \n",
      " |  model_id\n",
      " |      Model identifier.\n",
      " |  \n",
      " |  params\n",
      " |      Get the parameters and the actual/default values only.\n",
      " |      \n",
      " |      :returns: A dictionary of parameters used to build this model.\n",
      " |  \n",
      " |  type\n",
      " |      The type of model built: ``\"classifier\"`` or ``\"regressor\"`` or ``\"unsupervised\"``\n",
      " |  \n",
      " |  xvals\n",
      " |      Return a list of the cross-validated models.\n",
      " |      \n",
      " |      :returns: A list of models.\n",
      " |  \n",
      " |  ----------------------------------------------------------------------\n",
      " |  Methods inherited from h2o.utils.backward_compatibility.BackwardsCompatibleBase:\n",
      " |  \n",
      " |  __getattr__(self, item)\n",
      " |  \n",
      " |  ----------------------------------------------------------------------\n",
      " |  Data descriptors inherited from h2o.utils.backward_compatibility.BackwardsCompatibleBase:\n",
      " |  \n",
      " |  __dict__\n",
      " |      dictionary for instance variables (if defined)\n",
      " |  \n",
      " |  __weakref__\n",
      " |      list of weak references to the object (if defined)\n",
      "\n"
     ]
    }
   ],
   "source": [
    "## read about the documentation\n",
    "help(H2OGeneralizedLinearEstimator)"
   ]
  },
  {
   "cell_type": "code",
   "execution_count": 74,
   "metadata": {
    "collapsed": false
   },
   "outputs": [
    {
     "data": {
      "text/html": [
       "<table>\n",
       "<thead>\n",
       "<tr><th>C1  </th></tr>\n",
       "</thead>\n",
       "<tbody>\n",
       "<tr><td>no  </td></tr>\n",
       "<tr><td>yes </td></tr>\n",
       "</tbody>\n",
       "</table>"
      ]
     },
     "metadata": {},
     "output_type": "display_data"
    },
    {
     "name": "stdout",
     "output_type": "stream",
     "text": [
      "\n"
     ]
    }
   ],
   "source": [
    "print df['y'].unique()"
   ]
  },
  {
   "cell_type": "code",
   "execution_count": 77,
   "metadata": {
    "collapsed": false
   },
   "outputs": [],
   "source": [
    "## MODEL 1 - GENERALIZED LINEAR MODEL OR LOGISTIC REGRESSION (BINOMIAL)\n",
    "## lambda, controls the amount of regularization in a GLM model and we can find the optimal\n",
    "## value for lambda automatically by setting lambda_search = True and passing in a validation \n",
    "## frame (which is used to evaluate model performance using a particular value of lambda).\n",
    "\n",
    "glm_model = H2OGeneralizedLinearEstimator(family='binomial', model_id='glm_model', lambda_search=True)"
   ]
  },
  {
   "cell_type": "code",
   "execution_count": 78,
   "metadata": {
    "collapsed": true
   },
   "outputs": [],
   "source": [
    "#Prepare predictors and response columns\n",
    "predictors = df.col_names[:-1]     #last column is response, our desired response variable \n",
    "response = df.col_names[-1] "
   ]
  },
  {
   "cell_type": "code",
   "execution_count": 79,
   "metadata": {
    "collapsed": false
   },
   "outputs": [
    {
     "name": "stdout",
     "output_type": "stream",
     "text": [
      "glm Model Build progress: |███████████████████████████████████████████████| 100%\n"
     ]
    }
   ],
   "source": [
    "glm_model.train(predictors, response, training_frame=train, validation_frame=valid)"
   ]
  },
  {
   "cell_type": "code",
   "execution_count": 80,
   "metadata": {
    "collapsed": false
   },
   "outputs": [
    {
     "name": "stdout",
     "output_type": "stream",
     "text": [
      "Model Details\n",
      "=============\n",
      "H2OGeneralizedLinearEstimator :  Generalized Linear Modeling\n",
      "Model Key:  glm_model\n",
      "\n",
      "\n",
      "ModelMetricsBinomialGLM: glm\n",
      "** Reported on train data. **\n",
      "\n",
      "MSE: 0.0715488988629\n",
      "RMSE: 0.267486259204\n",
      "LogLoss: 0.240970792281\n",
      "Null degrees of freedom: 31648\n",
      "Residual degrees of freedom: 31603\n",
      "Null deviance: 22949.7138487\n",
      "Residual deviance: 15252.9692098\n",
      "AIC: 15344.9692098\n",
      "AUC: 0.905765966586\n",
      "Gini: 0.811531933172\n",
      "Confusion Matrix (Act/Pred) for max f1 @ threshold = 0.209074401458: \n"
     ]
    },
    {
     "data": {
      "text/html": [
       "<div style=\"overflow:auto\"><table style=\"width:50%\"><tr><td><b></b></td>\n",
       "<td><b>no</b></td>\n",
       "<td><b>yes</b></td>\n",
       "<td><b>Error</b></td>\n",
       "<td><b>Rate</b></td></tr>\n",
       "<tr><td>no</td>\n",
       "<td>25590.0</td>\n",
       "<td>2330.0</td>\n",
       "<td>0.0835</td>\n",
       "<td> (2330.0/27920.0)</td></tr>\n",
       "<tr><td>yes</td>\n",
       "<td>1245.0</td>\n",
       "<td>2484.0</td>\n",
       "<td>0.3339</td>\n",
       "<td> (1245.0/3729.0)</td></tr>\n",
       "<tr><td>Total</td>\n",
       "<td>26835.0</td>\n",
       "<td>4814.0</td>\n",
       "<td>0.113</td>\n",
       "<td> (3575.0/31649.0)</td></tr></table></div>"
      ],
      "text/plain": [
       "       no     yes    Error    Rate\n",
       "-----  -----  -----  -------  ----------------\n",
       "no     25590  2330   0.0835   (2330.0/27920.0)\n",
       "yes    1245   2484   0.3339   (1245.0/3729.0)\n",
       "Total  26835  4814   0.113    (3575.0/31649.0)"
      ]
     },
     "metadata": {},
     "output_type": "display_data"
    },
    {
     "name": "stdout",
     "output_type": "stream",
     "text": [
      "Maximum Metrics: Maximum metrics at their respective thresholds\n",
      "\n"
     ]
    },
    {
     "data": {
      "text/html": [
       "<div style=\"overflow:auto\"><table style=\"width:50%\"><tr><td><b>metric</b></td>\n",
       "<td><b>threshold</b></td>\n",
       "<td><b>value</b></td>\n",
       "<td><b>idx</b></td></tr>\n",
       "<tr><td>max f1</td>\n",
       "<td>0.2090744</td>\n",
       "<td>0.5815287</td>\n",
       "<td>239.0</td></tr>\n",
       "<tr><td>max f2</td>\n",
       "<td>0.1126536</td>\n",
       "<td>0.6889807</td>\n",
       "<td>291.0</td></tr>\n",
       "<tr><td>max f0point5</td>\n",
       "<td>0.3563224</td>\n",
       "<td>0.5793646</td>\n",
       "<td>178.0</td></tr>\n",
       "<tr><td>max accuracy</td>\n",
       "<td>0.3862490</td>\n",
       "<td>0.9029985</td>\n",
       "<td>167.0</td></tr>\n",
       "<tr><td>max precision</td>\n",
       "<td>0.9156518</td>\n",
       "<td>0.7218543</td>\n",
       "<td>21.0</td></tr>\n",
       "<tr><td>max recall</td>\n",
       "<td>0.0034602</td>\n",
       "<td>1.0</td>\n",
       "<td>397.0</td></tr>\n",
       "<tr><td>max specificity</td>\n",
       "<td>0.9993865</td>\n",
       "<td>0.9995344</td>\n",
       "<td>0.0</td></tr>\n",
       "<tr><td>max absolute_mcc</td>\n",
       "<td>0.1854274</td>\n",
       "<td>0.5237316</td>\n",
       "<td>250.0</td></tr>\n",
       "<tr><td>max min_per_class_accuracy</td>\n",
       "<td>0.1142768</td>\n",
       "<td>0.8344198</td>\n",
       "<td>290.0</td></tr>\n",
       "<tr><td>max mean_per_class_accuracy</td>\n",
       "<td>0.1042503</td>\n",
       "<td>0.8368325</td>\n",
       "<td>296.0</td></tr></table></div>"
      ],
      "text/plain": [
       "metric                       threshold    value     idx\n",
       "---------------------------  -----------  --------  -----\n",
       "max f1                       0.209074     0.581529  239\n",
       "max f2                       0.112654     0.688981  291\n",
       "max f0point5                 0.356322     0.579365  178\n",
       "max accuracy                 0.386249     0.902999  167\n",
       "max precision                0.915652     0.721854  21\n",
       "max recall                   0.00346022   1         397\n",
       "max specificity              0.999387     0.999534  0\n",
       "max absolute_mcc             0.185427     0.523732  250\n",
       "max min_per_class_accuracy   0.114277     0.83442   290\n",
       "max mean_per_class_accuracy  0.10425      0.836832  296"
      ]
     },
     "metadata": {},
     "output_type": "display_data"
    },
    {
     "name": "stdout",
     "output_type": "stream",
     "text": [
      "Gains/Lift Table: Avg response rate: 11.78 %\n",
      "\n"
     ]
    },
    {
     "data": {
      "text/html": [
       "<div style=\"overflow:auto\"><table style=\"width:50%\"><tr><td><b></b></td>\n",
       "<td><b>group</b></td>\n",
       "<td><b>cumulative_data_fraction</b></td>\n",
       "<td><b>lower_threshold</b></td>\n",
       "<td><b>lift</b></td>\n",
       "<td><b>cumulative_lift</b></td>\n",
       "<td><b>response_rate</b></td>\n",
       "<td><b>cumulative_response_rate</b></td>\n",
       "<td><b>capture_rate</b></td>\n",
       "<td><b>cumulative_capture_rate</b></td>\n",
       "<td><b>gain</b></td>\n",
       "<td><b>cumulative_gain</b></td></tr>\n",
       "<tr><td></td>\n",
       "<td>1</td>\n",
       "<td>0.0100161</td>\n",
       "<td>0.9092256</td>\n",
       "<td>6.1311767</td>\n",
       "<td>6.1311767</td>\n",
       "<td>0.7223975</td>\n",
       "<td>0.7223975</td>\n",
       "<td>0.0614106</td>\n",
       "<td>0.0614106</td>\n",
       "<td>513.1176650</td>\n",
       "<td>513.1176650</td></tr>\n",
       "<tr><td></td>\n",
       "<td>2</td>\n",
       "<td>0.0200006</td>\n",
       "<td>0.8162094</td>\n",
       "<td>5.8819949</td>\n",
       "<td>6.0067826</td>\n",
       "<td>0.6930380</td>\n",
       "<td>0.7077409</td>\n",
       "<td>0.0587289</td>\n",
       "<td>0.1201394</td>\n",
       "<td>488.1994867</td>\n",
       "<td>500.6782585</td></tr>\n",
       "<tr><td></td>\n",
       "<td>3</td>\n",
       "<td>0.0300167</td>\n",
       "<td>0.7344288</td>\n",
       "<td>5.9705345</td>\n",
       "<td>5.9946872</td>\n",
       "<td>0.7034700</td>\n",
       "<td>0.7063158</td>\n",
       "<td>0.0598016</td>\n",
       "<td>0.1799410</td>\n",
       "<td>497.0534467</td>\n",
       "<td>499.4687160</td></tr>\n",
       "<tr><td></td>\n",
       "<td>4</td>\n",
       "<td>0.0400013</td>\n",
       "<td>0.6522332</td>\n",
       "<td>5.2911095</td>\n",
       "<td>5.8190706</td>\n",
       "<td>0.6234177</td>\n",
       "<td>0.6856240</td>\n",
       "<td>0.0528292</td>\n",
       "<td>0.2327702</td>\n",
       "<td>429.1109538</td>\n",
       "<td>481.9070629</td></tr>\n",
       "<tr><td></td>\n",
       "<td>5</td>\n",
       "<td>0.0500174</td>\n",
       "<td>0.5748806</td>\n",
       "<td>5.0066814</td>\n",
       "<td>5.6563875</td>\n",
       "<td>0.5899054</td>\n",
       "<td>0.6664561</td>\n",
       "<td>0.0501475</td>\n",
       "<td>0.2829177</td>\n",
       "<td>400.6681369</td>\n",
       "<td>465.6387499</td></tr>\n",
       "<tr><td></td>\n",
       "<td>6</td>\n",
       "<td>0.1000032</td>\n",
       "<td>0.3301088</td>\n",
       "<td>4.4904161</td>\n",
       "<td>5.0735860</td>\n",
       "<td>0.5290771</td>\n",
       "<td>0.5977883</td>\n",
       "<td>0.2244570</td>\n",
       "<td>0.5073746</td>\n",
       "<td>349.0416115</td>\n",
       "<td>407.3586005</td></tr>\n",
       "<tr><td></td>\n",
       "<td>7</td>\n",
       "<td>0.1500205</td>\n",
       "<td>0.2111736</td>\n",
       "<td>3.0453347</td>\n",
       "<td>4.3973598</td>\n",
       "<td>0.3588124</td>\n",
       "<td>0.5181129</td>\n",
       "<td>0.1523197</td>\n",
       "<td>0.6596943</td>\n",
       "<td>204.5334691</td>\n",
       "<td>339.7359840</td></tr>\n",
       "<tr><td></td>\n",
       "<td>8</td>\n",
       "<td>0.2000063</td>\n",
       "<td>0.1478666</td>\n",
       "<td>2.1888767</td>\n",
       "<td>3.8454135</td>\n",
       "<td>0.2579014</td>\n",
       "<td>0.4530806</td>\n",
       "<td>0.1094127</td>\n",
       "<td>0.7691070</td>\n",
       "<td>118.8876673</td>\n",
       "<td>284.5413494</td></tr>\n",
       "<tr><td></td>\n",
       "<td>9</td>\n",
       "<td>0.3000095</td>\n",
       "<td>0.0873804</td>\n",
       "<td>1.1718589</td>\n",
       "<td>2.9542286</td>\n",
       "<td>0.1380727</td>\n",
       "<td>0.3480779</td>\n",
       "<td>0.1171896</td>\n",
       "<td>0.8862966</td>\n",
       "<td>17.1858924</td>\n",
       "<td>195.4228637</td></tr>\n",
       "<tr><td></td>\n",
       "<td>10</td>\n",
       "<td>0.4000126</td>\n",
       "<td>0.0608777</td>\n",
       "<td>0.5148671</td>\n",
       "<td>2.3443882</td>\n",
       "<td>0.0606635</td>\n",
       "<td>0.2762243</td>\n",
       "<td>0.0514883</td>\n",
       "<td>0.9377849</td>\n",
       "<td>-48.5132921</td>\n",
       "<td>134.4388248</td></tr>\n",
       "<tr><td></td>\n",
       "<td>11</td>\n",
       "<td>0.5000158</td>\n",
       "<td>0.0457302</td>\n",
       "<td>0.2735231</td>\n",
       "<td>1.9302152</td>\n",
       "<td>0.0322275</td>\n",
       "<td>0.2274250</td>\n",
       "<td>0.0273532</td>\n",
       "<td>0.9651381</td>\n",
       "<td>-72.6476864</td>\n",
       "<td>93.0215225</td></tr>\n",
       "<tr><td></td>\n",
       "<td>12</td>\n",
       "<td>0.5999874</td>\n",
       "<td>0.0346381</td>\n",
       "<td>0.1528995</td>\n",
       "<td>1.6340739</td>\n",
       "<td>0.0180152</td>\n",
       "<td>0.1925325</td>\n",
       "<td>0.0152856</td>\n",
       "<td>0.9804237</td>\n",
       "<td>-84.7100527</td>\n",
       "<td>63.4073931</td></tr>\n",
       "<tr><td></td>\n",
       "<td>13</td>\n",
       "<td>0.6999905</td>\n",
       "<td>0.0255295</td>\n",
       "<td>0.1045824</td>\n",
       "<td>1.4155653</td>\n",
       "<td>0.0123223</td>\n",
       "<td>0.1667870</td>\n",
       "<td>0.0104586</td>\n",
       "<td>0.9908823</td>\n",
       "<td>-89.5417625</td>\n",
       "<td>41.5565275</td></tr>\n",
       "<tr><td></td>\n",
       "<td>14</td>\n",
       "<td>0.7999937</td>\n",
       "<td>0.0171747</td>\n",
       "<td>0.0482688</td>\n",
       "<td>1.2446465</td>\n",
       "<td>0.0056872</td>\n",
       "<td>0.1466488</td>\n",
       "<td>0.0048270</td>\n",
       "<td>0.9957093</td>\n",
       "<td>-95.1731211</td>\n",
       "<td>24.4646463</td></tr>\n",
       "<tr><td></td>\n",
       "<td>15</td>\n",
       "<td>0.8999968</td>\n",
       "<td>0.0098152</td>\n",
       "<td>0.0268160</td>\n",
       "<td>1.1093272</td>\n",
       "<td>0.0031596</td>\n",
       "<td>0.1307050</td>\n",
       "<td>0.0026817</td>\n",
       "<td>0.9983910</td>\n",
       "<td>-97.3184006</td>\n",
       "<td>10.9327216</td></tr>\n",
       "<tr><td></td>\n",
       "<td>16</td>\n",
       "<td>1.0</td>\n",
       "<td>0.0000448</td>\n",
       "<td>0.0160896</td>\n",
       "<td>1.0</td>\n",
       "<td>0.0018957</td>\n",
       "<td>0.1178236</td>\n",
       "<td>0.0016090</td>\n",
       "<td>1.0</td>\n",
       "<td>-98.3910404</td>\n",
       "<td>0.0</td></tr></table></div>"
      ],
      "text/plain": [
       "    group    cumulative_data_fraction    lower_threshold    lift       cumulative_lift    response_rate    cumulative_response_rate    capture_rate    cumulative_capture_rate    gain      cumulative_gain\n",
       "--  -------  --------------------------  -----------------  ---------  -----------------  ---------------  --------------------------  --------------  -------------------------  --------  -----------------\n",
       "    1        0.0100161                   0.909226           6.13118    6.13118            0.722397         0.722397                    0.0614106       0.0614106                  513.118   513.118\n",
       "    2        0.0200006                   0.816209           5.88199    6.00678            0.693038         0.707741                    0.0587289       0.120139                   488.199   500.678\n",
       "    3        0.0300167                   0.734429           5.97053    5.99469            0.70347          0.706316                    0.0598016       0.179941                   497.053   499.469\n",
       "    4        0.0400013                   0.652233           5.29111    5.81907            0.623418         0.685624                    0.0528292       0.23277                    429.111   481.907\n",
       "    5        0.0500174                   0.574881           5.00668    5.65639            0.589905         0.666456                    0.0501475       0.282918                   400.668   465.639\n",
       "    6        0.100003                    0.330109           4.49042    5.07359            0.529077         0.597788                    0.224457        0.507375                   349.042   407.359\n",
       "    7        0.150021                    0.211174           3.04533    4.39736            0.358812         0.518113                    0.15232         0.659694                   204.533   339.736\n",
       "    8        0.200006                    0.147867           2.18888    3.84541            0.257901         0.453081                    0.109413        0.769107                   118.888   284.541\n",
       "    9        0.300009                    0.0873804          1.17186    2.95423            0.138073         0.348078                    0.11719         0.886297                   17.1859   195.423\n",
       "    10       0.400013                    0.0608777          0.514867   2.34439            0.0606635        0.276224                    0.0514883       0.937785                   -48.5133  134.439\n",
       "    11       0.500016                    0.0457302          0.273523   1.93022            0.0322275        0.227425                    0.0273532       0.965138                   -72.6477  93.0215\n",
       "    12       0.599987                    0.0346381          0.152899   1.63407            0.0180152        0.192533                    0.0152856       0.980424                   -84.7101  63.4074\n",
       "    13       0.699991                    0.0255295          0.104582   1.41557            0.0123223        0.166787                    0.0104586       0.990882                   -89.5418  41.5565\n",
       "    14       0.799994                    0.0171747          0.0482688  1.24465            0.0056872        0.146649                    0.00482703      0.995709                   -95.1731  24.4646\n",
       "    15       0.899997                    0.00981518         0.026816   1.10933            0.00315956       0.130705                    0.00268168      0.998391                   -97.3184  10.9327\n",
       "    16       1                           4.48144e-05        0.0160896  1                  0.00189573       0.117824                    0.00160901      1                          -98.391   0"
      ]
     },
     "metadata": {},
     "output_type": "display_data"
    },
    {
     "name": "stdout",
     "output_type": "stream",
     "text": [
      "\n",
      "\n",
      "ModelMetricsBinomialGLM: glm\n",
      "** Reported on validation data. **\n",
      "\n",
      "MSE: 0.0691761325485\n",
      "RMSE: 0.263013559629\n",
      "LogLoss: 0.233285524937\n",
      "Null degrees of freedom: 13561\n",
      "Residual degrees of freedom: 13516\n",
      "Null deviance: 9681.5473721\n",
      "Residual deviance: 6327.6365784\n",
      "AIC: 6419.6365784\n",
      "AUC: 0.913249260807\n",
      "Gini: 0.826498521614\n",
      "Confusion Matrix (Act/Pred) for max f1 @ threshold = 0.216282244408: \n"
     ]
    },
    {
     "data": {
      "text/html": [
       "<div style=\"overflow:auto\"><table style=\"width:50%\"><tr><td><b></b></td>\n",
       "<td><b>no</b></td>\n",
       "<td><b>yes</b></td>\n",
       "<td><b>Error</b></td>\n",
       "<td><b>Rate</b></td></tr>\n",
       "<tr><td>no</td>\n",
       "<td>11086.0</td>\n",
       "<td>916.0</td>\n",
       "<td>0.0763</td>\n",
       "<td> (916.0/12002.0)</td></tr>\n",
       "<tr><td>yes</td>\n",
       "<td>535.0</td>\n",
       "<td>1025.0</td>\n",
       "<td>0.3429</td>\n",
       "<td> (535.0/1560.0)</td></tr>\n",
       "<tr><td>Total</td>\n",
       "<td>11621.0</td>\n",
       "<td>1941.0</td>\n",
       "<td>0.107</td>\n",
       "<td> (1451.0/13562.0)</td></tr></table></div>"
      ],
      "text/plain": [
       "       no     yes    Error    Rate\n",
       "-----  -----  -----  -------  ----------------\n",
       "no     11086  916    0.0763   (916.0/12002.0)\n",
       "yes    535    1025   0.3429   (535.0/1560.0)\n",
       "Total  11621  1941   0.107    (1451.0/13562.0)"
      ]
     },
     "metadata": {},
     "output_type": "display_data"
    },
    {
     "name": "stdout",
     "output_type": "stream",
     "text": [
      "Maximum Metrics: Maximum metrics at their respective thresholds\n",
      "\n"
     ]
    },
    {
     "data": {
      "text/html": [
       "<div style=\"overflow:auto\"><table style=\"width:50%\"><tr><td><b>metric</b></td>\n",
       "<td><b>threshold</b></td>\n",
       "<td><b>value</b></td>\n",
       "<td><b>idx</b></td></tr>\n",
       "<tr><td>max f1</td>\n",
       "<td>0.2162822</td>\n",
       "<td>0.5855470</td>\n",
       "<td>229.0</td></tr>\n",
       "<tr><td>max f2</td>\n",
       "<td>0.0970539</td>\n",
       "<td>0.6968203</td>\n",
       "<td>297.0</td></tr>\n",
       "<tr><td>max f0point5</td>\n",
       "<td>0.3747514</td>\n",
       "<td>0.5871212</td>\n",
       "<td>166.0</td></tr>\n",
       "<tr><td>max accuracy</td>\n",
       "<td>0.3747514</td>\n",
       "<td>0.9069459</td>\n",
       "<td>166.0</td></tr>\n",
       "<tr><td>max precision</td>\n",
       "<td>0.8305757</td>\n",
       "<td>0.7136929</td>\n",
       "<td>39.0</td></tr>\n",
       "<tr><td>max recall</td>\n",
       "<td>0.0032239</td>\n",
       "<td>1.0</td>\n",
       "<td>397.0</td></tr>\n",
       "<tr><td>max specificity</td>\n",
       "<td>0.9995784</td>\n",
       "<td>0.9997500</td>\n",
       "<td>0.0</td></tr>\n",
       "<tr><td>max absolute_mcc</td>\n",
       "<td>0.1748817</td>\n",
       "<td>0.5295948</td>\n",
       "<td>248.0</td></tr>\n",
       "<tr><td>max min_per_class_accuracy</td>\n",
       "<td>0.1147125</td>\n",
       "<td>0.8396934</td>\n",
       "<td>285.0</td></tr>\n",
       "<tr><td>max mean_per_class_accuracy</td>\n",
       "<td>0.0970539</td>\n",
       "<td>0.8475513</td>\n",
       "<td>297.0</td></tr></table></div>"
      ],
      "text/plain": [
       "metric                       threshold    value     idx\n",
       "---------------------------  -----------  --------  -----\n",
       "max f1                       0.216282     0.585547  229\n",
       "max f2                       0.0970539    0.69682   297\n",
       "max f0point5                 0.374751     0.587121  166\n",
       "max accuracy                 0.374751     0.906946  166\n",
       "max precision                0.830576     0.713693  39\n",
       "max recall                   0.00322388   1         397\n",
       "max specificity              0.999578     0.99975   0\n",
       "max absolute_mcc             0.174882     0.529595  248\n",
       "max min_per_class_accuracy   0.114712     0.839693  285\n",
       "max mean_per_class_accuracy  0.0970539    0.847551  297"
      ]
     },
     "metadata": {},
     "output_type": "display_data"
    },
    {
     "name": "stdout",
     "output_type": "stream",
     "text": [
      "Gains/Lift Table: Avg response rate: 11.50 %\n",
      "\n"
     ]
    },
    {
     "data": {
      "text/html": [
       "<div style=\"overflow:auto\"><table style=\"width:50%\"><tr><td><b></b></td>\n",
       "<td><b>group</b></td>\n",
       "<td><b>cumulative_data_fraction</b></td>\n",
       "<td><b>lower_threshold</b></td>\n",
       "<td><b>lift</b></td>\n",
       "<td><b>cumulative_lift</b></td>\n",
       "<td><b>response_rate</b></td>\n",
       "<td><b>cumulative_response_rate</b></td>\n",
       "<td><b>capture_rate</b></td>\n",
       "<td><b>cumulative_capture_rate</b></td>\n",
       "<td><b>gain</b></td>\n",
       "<td><b>cumulative_gain</b></td></tr>\n",
       "<tr><td></td>\n",
       "<td>1</td>\n",
       "<td>0.0100280</td>\n",
       "<td>0.9035688</td>\n",
       "<td>6.0088047</td>\n",
       "<td>6.0088047</td>\n",
       "<td>0.6911765</td>\n",
       "<td>0.6911765</td>\n",
       "<td>0.0602564</td>\n",
       "<td>0.0602564</td>\n",
       "<td>500.8804676</td>\n",
       "<td>500.8804676</td></tr>\n",
       "<tr><td></td>\n",
       "<td>2</td>\n",
       "<td>0.0200560</td>\n",
       "<td>0.8037839</td>\n",
       "<td>6.3284219</td>\n",
       "<td>6.1686133</td>\n",
       "<td>0.7279412</td>\n",
       "<td>0.7095588</td>\n",
       "<td>0.0634615</td>\n",
       "<td>0.1237179</td>\n",
       "<td>532.8421946</td>\n",
       "<td>516.8613311</td></tr>\n",
       "<tr><td></td>\n",
       "<td>3</td>\n",
       "<td>0.0300103</td>\n",
       "<td>0.7099888</td>\n",
       "<td>5.7957265</td>\n",
       "<td>6.0449285</td>\n",
       "<td>0.6666667</td>\n",
       "<td>0.6953317</td>\n",
       "<td>0.0576923</td>\n",
       "<td>0.1814103</td>\n",
       "<td>479.5726496</td>\n",
       "<td>504.4928495</td></tr>\n",
       "<tr><td></td>\n",
       "<td>4</td>\n",
       "<td>0.0400383</td>\n",
       "<td>0.6211027</td>\n",
       "<td>6.0727281</td>\n",
       "<td>6.0518912</td>\n",
       "<td>0.6985294</td>\n",
       "<td>0.6961326</td>\n",
       "<td>0.0608974</td>\n",
       "<td>0.2423077</td>\n",
       "<td>507.2728130</td>\n",
       "<td>505.1891203</td></tr>\n",
       "<tr><td></td>\n",
       "<td>5</td>\n",
       "<td>0.0500664</td>\n",
       "<td>0.5567199</td>\n",
       "<td>5.4334936</td>\n",
       "<td>5.9280295</td>\n",
       "<td>0.625</td>\n",
       "<td>0.6818851</td>\n",
       "<td>0.0544872</td>\n",
       "<td>0.2967949</td>\n",
       "<td>443.3493590</td>\n",
       "<td>492.8029531</td></tr>\n",
       "<tr><td></td>\n",
       "<td>6</td>\n",
       "<td>0.1000590</td>\n",
       "<td>0.3145546</td>\n",
       "<td>4.4878413</td>\n",
       "<td>5.2084661</td>\n",
       "<td>0.5162242</td>\n",
       "<td>0.5991157</td>\n",
       "<td>0.2243590</td>\n",
       "<td>0.5211538</td>\n",
       "<td>348.7841313</td>\n",
       "<td>420.8466073</td></tr>\n",
       "<tr><td></td>\n",
       "<td>7</td>\n",
       "<td>0.1500516</td>\n",
       "<td>0.2032214</td>\n",
       "<td>2.9235081</td>\n",
       "<td>4.4471877</td>\n",
       "<td>0.3362832</td>\n",
       "<td>0.5115479</td>\n",
       "<td>0.1461538</td>\n",
       "<td>0.6673077</td>\n",
       "<td>192.3508055</td>\n",
       "<td>344.7187677</td></tr>\n",
       "<tr><td></td>\n",
       "<td>8</td>\n",
       "<td>0.2000442</td>\n",
       "<td>0.1416573</td>\n",
       "<td>2.1028742</td>\n",
       "<td>3.8613253</td>\n",
       "<td>0.2418879</td>\n",
       "<td>0.4441578</td>\n",
       "<td>0.1051282</td>\n",
       "<td>0.7724359</td>\n",
       "<td>110.2874215</td>\n",
       "<td>286.1325338</td></tr>\n",
       "<tr><td></td>\n",
       "<td>9</td>\n",
       "<td>0.3000295</td>\n",
       "<td>0.0841781</td>\n",
       "<td>1.3591748</td>\n",
       "<td>3.0274801</td>\n",
       "<td>0.1563422</td>\n",
       "<td>0.3482428</td>\n",
       "<td>0.1358974</td>\n",
       "<td>0.9083333</td>\n",
       "<td>35.9174798</td>\n",
       "<td>202.7480134</td></tr>\n",
       "<tr><td></td>\n",
       "<td>10</td>\n",
       "<td>0.4000147</td>\n",
       "<td>0.0582293</td>\n",
       "<td>0.4359617</td>\n",
       "<td>2.3797200</td>\n",
       "<td>0.0501475</td>\n",
       "<td>0.2737327</td>\n",
       "<td>0.0435897</td>\n",
       "<td>0.9519231</td>\n",
       "<td>-56.4038272</td>\n",
       "<td>137.9719957</td></tr>\n",
       "<tr><td></td>\n",
       "<td>11</td>\n",
       "<td>0.5</td>\n",
       "<td>0.0436100</td>\n",
       "<td>0.2436257</td>\n",
       "<td>1.9525641</td>\n",
       "<td>0.0280236</td>\n",
       "<td>0.2245981</td>\n",
       "<td>0.0243590</td>\n",
       "<td>0.9762821</td>\n",
       "<td>-75.6374329</td>\n",
       "<td>95.2564103</td></tr>\n",
       "<tr><td></td>\n",
       "<td>12</td>\n",
       "<td>0.5999853</td>\n",
       "<td>0.0330562</td>\n",
       "<td>0.1025792</td>\n",
       "<td>1.6442712</td>\n",
       "<td>0.0117994</td>\n",
       "<td>0.1891360</td>\n",
       "<td>0.0102564</td>\n",
       "<td>0.9865385</td>\n",
       "<td>-89.7420770</td>\n",
       "<td>64.4271183</td></tr>\n",
       "<tr><td></td>\n",
       "<td>13</td>\n",
       "<td>0.6999705</td>\n",
       "<td>0.0242509</td>\n",
       "<td>0.0641120</td>\n",
       "<td>1.4185579</td>\n",
       "<td>0.0073746</td>\n",
       "<td>0.1631729</td>\n",
       "<td>0.0064103</td>\n",
       "<td>0.9929487</td>\n",
       "<td>-93.5887981</td>\n",
       "<td>41.8557939</td></tr>\n",
       "<tr><td></td>\n",
       "<td>14</td>\n",
       "<td>0.7999558</td>\n",
       "<td>0.0165138</td>\n",
       "<td>0.0064112</td>\n",
       "<td>1.2420559</td>\n",
       "<td>0.0007375</td>\n",
       "<td>0.1428703</td>\n",
       "<td>0.0006410</td>\n",
       "<td>0.9935897</td>\n",
       "<td>-99.3588798</td>\n",
       "<td>24.2055867</td></tr>\n",
       "<tr><td></td>\n",
       "<td>15</td>\n",
       "<td>0.8999410</td>\n",
       "<td>0.0094255</td>\n",
       "<td>0.0256448</td>\n",
       "<td>1.1069102</td>\n",
       "<td>0.0029499</td>\n",
       "<td>0.1273249</td>\n",
       "<td>0.0025641</td>\n",
       "<td>0.9961538</td>\n",
       "<td>-97.4355192</td>\n",
       "<td>10.6910157</td></tr>\n",
       "<tr><td></td>\n",
       "<td>16</td>\n",
       "<td>1.0</td>\n",
       "<td>0.0002760</td>\n",
       "<td>0.0384389</td>\n",
       "<td>1.0</td>\n",
       "<td>0.0044215</td>\n",
       "<td>0.1150273</td>\n",
       "<td>0.0038462</td>\n",
       "<td>1.0</td>\n",
       "<td>-96.1561136</td>\n",
       "<td>0.0</td></tr></table></div>"
      ],
      "text/plain": [
       "    group    cumulative_data_fraction    lower_threshold    lift       cumulative_lift    response_rate    cumulative_response_rate    capture_rate    cumulative_capture_rate    gain      cumulative_gain\n",
       "--  -------  --------------------------  -----------------  ---------  -----------------  ---------------  --------------------------  --------------  -------------------------  --------  -----------------\n",
       "    1        0.010028                    0.903569           6.0088     6.0088             0.691176         0.691176                    0.0602564       0.0602564                  500.88    500.88\n",
       "    2        0.020056                    0.803784           6.32842    6.16861            0.727941         0.709559                    0.0634615       0.123718                   532.842   516.861\n",
       "    3        0.0300103                   0.709989           5.79573    6.04493            0.666667         0.695332                    0.0576923       0.18141                    479.573   504.493\n",
       "    4        0.0400383                   0.621103           6.07273    6.05189            0.698529         0.696133                    0.0608974       0.242308                   507.273   505.189\n",
       "    5        0.0500664                   0.55672            5.43349    5.92803            0.625            0.681885                    0.0544872       0.296795                   443.349   492.803\n",
       "    6        0.100059                    0.314555           4.48784    5.20847            0.516224         0.599116                    0.224359        0.521154                   348.784   420.847\n",
       "    7        0.150052                    0.203221           2.92351    4.44719            0.336283         0.511548                    0.146154        0.667308                   192.351   344.719\n",
       "    8        0.200044                    0.141657           2.10287    3.86133            0.241888         0.444158                    0.105128        0.772436                   110.287   286.133\n",
       "    9        0.300029                    0.0841781          1.35917    3.02748            0.156342         0.348243                    0.135897        0.908333                   35.9175   202.748\n",
       "    10       0.400015                    0.0582293          0.435962   2.37972            0.0501475        0.273733                    0.0435897       0.951923                   -56.4038  137.972\n",
       "    11       0.5                         0.04361            0.243626   1.95256            0.0280236        0.224598                    0.024359        0.976282                   -75.6374  95.2564\n",
       "    12       0.599985                    0.0330562          0.102579   1.64427            0.0117994        0.189136                    0.0102564       0.986538                   -89.7421  64.4271\n",
       "    13       0.699971                    0.0242509          0.064112   1.41856            0.00737463       0.163173                    0.00641026      0.992949                   -93.5888  41.8558\n",
       "    14       0.799956                    0.0165138          0.0064112  1.24206            0.000737463      0.14287                     0.000641026     0.99359                    -99.3589  24.2056\n",
       "    15       0.899941                    0.00942551         0.0256448  1.10691            0.00294985       0.127325                    0.0025641       0.996154                   -97.4355  10.691\n",
       "    16       1                           0.00027595         0.0384389  1                  0.00442152       0.115027                    0.00384615      1                          -96.1561  0"
      ]
     },
     "metadata": {},
     "output_type": "display_data"
    },
    {
     "name": "stdout",
     "output_type": "stream",
     "text": [
      "\n",
      "Scoring History: \n"
     ]
    },
    {
     "data": {
      "text/html": [
       "<div style=\"overflow:auto\"><table style=\"width:50%\"><tr><td><b></b></td>\n",
       "<td><b>timestamp</b></td>\n",
       "<td><b>duration</b></td>\n",
       "<td><b>iteration</b></td>\n",
       "<td><b>lambda</b></td>\n",
       "<td><b>predictors</b></td>\n",
       "<td><b>deviance_train</b></td>\n",
       "<td><b>deviance_test</b></td></tr>\n",
       "<tr><td></td>\n",
       "<td>2017-02-23 19:15:14</td>\n",
       "<td> 0.000 sec</td>\n",
       "<td>3</td>\n",
       "<td>.23E0</td>\n",
       "<td>2</td>\n",
       "<td>0.7126002</td>\n",
       "<td>0.7018805</td></tr>\n",
       "<tr><td></td>\n",
       "<td>2017-02-23 19:15:14</td>\n",
       "<td> 0.110 sec</td>\n",
       "<td>5</td>\n",
       "<td>.21E0</td>\n",
       "<td>2</td>\n",
       "<td>0.7012941</td>\n",
       "<td>0.6910565</td></tr>\n",
       "<tr><td></td>\n",
       "<td>2017-02-23 19:15:14</td>\n",
       "<td> 0.239 sec</td>\n",
       "<td>7</td>\n",
       "<td>.19E0</td>\n",
       "<td>2</td>\n",
       "<td>0.6911816</td>\n",
       "<td>0.6813684</td></tr>\n",
       "<tr><td></td>\n",
       "<td>2017-02-23 19:15:14</td>\n",
       "<td> 0.329 sec</td>\n",
       "<td>9</td>\n",
       "<td>.18E0</td>\n",
       "<td>2</td>\n",
       "<td>0.6821507</td>\n",
       "<td>0.6727057</td></tr>\n",
       "<tr><td></td>\n",
       "<td>2017-02-23 19:15:14</td>\n",
       "<td> 0.423 sec</td>\n",
       "<td>11</td>\n",
       "<td>.16E0</td>\n",
       "<td>2</td>\n",
       "<td>0.6740675</td>\n",
       "<td>0.6649383</td></tr>\n",
       "<tr><td>---</td>\n",
       "<td>---</td>\n",
       "<td>---</td>\n",
       "<td>---</td>\n",
       "<td>---</td>\n",
       "<td>---</td>\n",
       "<td>---</td>\n",
       "<td>---</td></tr>\n",
       "<tr><td></td>\n",
       "<td>2017-02-23 19:15:19</td>\n",
       "<td> 5.409 sec</td>\n",
       "<td>136</td>\n",
       "<td>.15E-3</td>\n",
       "<td>44</td>\n",
       "<td>0.4820060</td>\n",
       "<td>0.4666700</td></tr>\n",
       "<tr><td></td>\n",
       "<td>2017-02-23 19:15:19</td>\n",
       "<td> 5.463 sec</td>\n",
       "<td>137</td>\n",
       "<td>.14E-3</td>\n",
       "<td>44</td>\n",
       "<td>0.4819856</td>\n",
       "<td>0.4666391</td></tr>\n",
       "<tr><td></td>\n",
       "<td>2017-02-23 19:15:19</td>\n",
       "<td> 5.496 sec</td>\n",
       "<td>138</td>\n",
       "<td>.12E-3</td>\n",
       "<td>45</td>\n",
       "<td>0.4819684</td>\n",
       "<td>0.4666128</td></tr>\n",
       "<tr><td></td>\n",
       "<td>2017-02-23 19:15:20</td>\n",
       "<td> 5.539 sec</td>\n",
       "<td>139</td>\n",
       "<td>.11E-3</td>\n",
       "<td>45</td>\n",
       "<td>0.4819540</td>\n",
       "<td>0.4665898</td></tr>\n",
       "<tr><td></td>\n",
       "<td>2017-02-23 19:15:20</td>\n",
       "<td> 5.572 sec</td>\n",
       "<td>140</td>\n",
       "<td>.1E-3</td>\n",
       "<td>46</td>\n",
       "<td>0.4819416</td>\n",
       "<td>0.4665710</td></tr></table></div>"
      ],
      "text/plain": [
       "     timestamp            duration    iteration    lambda    predictors    deviance_train    deviance_test\n",
       "---  -------------------  ----------  -----------  --------  ------------  ----------------  ---------------\n",
       "     2017-02-23 19:15:14  0.000 sec   3            .23E0     2             0.712600178192    0.70188052208\n",
       "     2017-02-23 19:15:14  0.110 sec   5            .21E0     2             0.701294106739    0.691056513502\n",
       "     2017-02-23 19:15:14  0.239 sec   7            .19E0     2             0.691181594891    0.681368380172\n",
       "     2017-02-23 19:15:14  0.329 sec   9            .18E0     2             0.682150710101    0.672705674855\n",
       "     2017-02-23 19:15:14  0.423 sec   11           .16E0     2             0.674067537096    0.66493831129\n",
       "---  ---                  ---         ---          ---       ---           ---               ---\n",
       "     2017-02-23 19:15:19  5.409 sec   136          .15E-3    44            0.482006041326    0.4666700316\n",
       "     2017-02-23 19:15:19  5.463 sec   137          .14E-3    44            0.481985600112    0.466639108658\n",
       "     2017-02-23 19:15:19  5.496 sec   138          .12E-3    45            0.481968416813    0.466612783032\n",
       "     2017-02-23 19:15:20  5.539 sec   139          .11E-3    45            0.481953977989    0.466589800879\n",
       "     2017-02-23 19:15:20  5.572 sec   140          .1E-3     46            0.481941584561    0.466571049875"
      ]
     },
     "metadata": {},
     "output_type": "display_data"
    },
    {
     "name": "stdout",
     "output_type": "stream",
     "text": [
      "\n",
      "See the whole table with table.as_data_frame()\n"
     ]
    },
    {
     "data": {
      "text/plain": []
     },
     "execution_count": 80,
     "metadata": {},
     "output_type": "execute_result"
    }
   ],
   "source": [
    "glm_model"
   ]
  },
  {
   "cell_type": "code",
   "execution_count": 83,
   "metadata": {
    "collapsed": false
   },
   "outputs": [
    {
     "name": "stdout",
     "output_type": "stream",
     "text": [
      "accuracy [[0.3862489940360238, 0.9029985149609783]]\n",
      "auc 0.905765966586\n",
      "confusion matrix Confusion Matrix (Act/Pred) for max f1 @ threshold = 0.209074401458: \n"
     ]
    },
    {
     "data": {
      "text/html": [
       "<div style=\"overflow:auto\"><table style=\"width:50%\"><tr><td><b></b></td>\n",
       "<td><b>no</b></td>\n",
       "<td><b>yes</b></td>\n",
       "<td><b>Error</b></td>\n",
       "<td><b>Rate</b></td></tr>\n",
       "<tr><td>no</td>\n",
       "<td>25590.0</td>\n",
       "<td>2330.0</td>\n",
       "<td>0.0835</td>\n",
       "<td> (2330.0/27920.0)</td></tr>\n",
       "<tr><td>yes</td>\n",
       "<td>1245.0</td>\n",
       "<td>2484.0</td>\n",
       "<td>0.3339</td>\n",
       "<td> (1245.0/3729.0)</td></tr>\n",
       "<tr><td>Total</td>\n",
       "<td>26835.0</td>\n",
       "<td>4814.0</td>\n",
       "<td>0.113</td>\n",
       "<td> (3575.0/31649.0)</td></tr></table></div>"
      ],
      "text/plain": [
       "       no     yes    Error    Rate\n",
       "-----  -----  -----  -------  ----------------\n",
       "no     25590  2330   0.0835   (2330.0/27920.0)\n",
       "yes    1245   2484   0.3339   (1245.0/3729.0)\n",
       "Total  26835  4814   0.113    (3575.0/31649.0)"
      ]
     },
     "metadata": {},
     "output_type": "display_data"
    },
    {
     "name": "stdout",
     "output_type": "stream",
     "text": [
      "\n",
      "Could not find exact threshold 0.1; using closest threshold found 0.100344669854.\n",
      "Could not find exact threshold 0.5; using closest threshold found 0.5001301086.\n",
      "Could not find exact threshold 0.99; using closest threshold found 0.988340636634.\n",
      "Confusion Matrix (Act/Pred) @ threshold = 0.100344669854: \n"
     ]
    },
    {
     "data": {
      "text/html": [
       "<div style=\"overflow:auto\"><table style=\"width:50%\"><tr><td><b></b></td>\n",
       "<td><b>no</b></td>\n",
       "<td><b>yes</b></td>\n",
       "<td><b>Error</b></td>\n",
       "<td><b>Rate</b></td></tr>\n",
       "<tr><td>no</td>\n",
       "<td>22550.0</td>\n",
       "<td>5370.0</td>\n",
       "<td>0.1923</td>\n",
       "<td> (5370.0/27920.0)</td></tr>\n",
       "<tr><td>yes</td>\n",
       "<td>505.0</td>\n",
       "<td>3224.0</td>\n",
       "<td>0.1354</td>\n",
       "<td> (505.0/3729.0)</td></tr>\n",
       "<tr><td>Total</td>\n",
       "<td>23055.0</td>\n",
       "<td>8594.0</td>\n",
       "<td>0.1856</td>\n",
       "<td> (5875.0/31649.0)</td></tr></table></div>"
      ],
      "text/plain": [
       "       no     yes    Error    Rate\n",
       "-----  -----  -----  -------  ----------------\n",
       "no     22550  5370   0.1923   (5370.0/27920.0)\n",
       "yes    505    3224   0.1354   (505.0/3729.0)\n",
       "Total  23055  8594   0.1856   (5875.0/31649.0)"
      ]
     },
     "metadata": {},
     "output_type": "display_data"
    },
    {
     "name": "stdout",
     "output_type": "stream",
     "text": [
      "Confusion Matrix (Act/Pred) @ threshold = 0.5001301086: \n"
     ]
    },
    {
     "data": {
      "text/html": [
       "<div style=\"overflow:auto\"><table style=\"width:50%\"><tr><td><b></b></td>\n",
       "<td><b>no</b></td>\n",
       "<td><b>yes</b></td>\n",
       "<td><b>Error</b></td>\n",
       "<td><b>Rate</b></td></tr>\n",
       "<tr><td>no</td>\n",
       "<td>27238.0</td>\n",
       "<td>682.0</td>\n",
       "<td>0.0244</td>\n",
       "<td> (682.0/27920.0)</td></tr>\n",
       "<tr><td>yes</td>\n",
       "<td>2457.0</td>\n",
       "<td>1272.0</td>\n",
       "<td>0.6589</td>\n",
       "<td> (2457.0/3729.0)</td></tr>\n",
       "<tr><td>Total</td>\n",
       "<td>29695.0</td>\n",
       "<td>1954.0</td>\n",
       "<td>0.0992</td>\n",
       "<td> (3139.0/31649.0)</td></tr></table></div>"
      ],
      "text/plain": [
       "       no     yes    Error    Rate\n",
       "-----  -----  -----  -------  ----------------\n",
       "no     27238  682    0.0244   (682.0/27920.0)\n",
       "yes    2457   1272   0.6589   (2457.0/3729.0)\n",
       "Total  29695  1954   0.0992   (3139.0/31649.0)"
      ]
     },
     "metadata": {},
     "output_type": "display_data"
    },
    {
     "name": "stdout",
     "output_type": "stream",
     "text": [
      "Confusion Matrix (Act/Pred) @ threshold = 0.988340636634: \n"
     ]
    },
    {
     "data": {
      "text/html": [
       "<div style=\"overflow:auto\"><table style=\"width:50%\"><tr><td><b></b></td>\n",
       "<td><b>no</b></td>\n",
       "<td><b>yes</b></td>\n",
       "<td><b>Error</b></td>\n",
       "<td><b>Rate</b></td></tr>\n",
       "<tr><td>no</td>\n",
       "<td>27891.0</td>\n",
       "<td>29.0</td>\n",
       "<td>0.001</td>\n",
       "<td> (29.0/27920.0)</td></tr>\n",
       "<tr><td>yes</td>\n",
       "<td>3680.0</td>\n",
       "<td>49.0</td>\n",
       "<td>0.9869</td>\n",
       "<td> (3680.0/3729.0)</td></tr>\n",
       "<tr><td>Total</td>\n",
       "<td>31571.0</td>\n",
       "<td>78.0</td>\n",
       "<td>0.1172</td>\n",
       "<td> (3709.0/31649.0)</td></tr></table></div>"
      ],
      "text/plain": [
       "       no     yes    Error    Rate\n",
       "-----  -----  -----  -------  ----------------\n",
       "no     27891  29     0.001    (29.0/27920.0)\n",
       "yes    3680   49     0.9869   (3680.0/3729.0)\n",
       "Total  31571  78     0.1172   (3709.0/31649.0)"
      ]
     },
     "metadata": {},
     "output_type": "display_data"
    },
    {
     "name": "stdout",
     "output_type": "stream",
     "text": [
      "[, , ]\n"
     ]
    }
   ],
   "source": [
    "## accuracy, auc, confusion matrix\n",
    "print 'accuracy', glm_model.accuracy()\n",
    "print 'auc', glm_model.auc()\n",
    "print 'confusion matrix', glm_model.confusion_matrix()\n",
    "print glm_model.confusion_matrix(thresholds=[0.1, 0.5, 0.99])"
   ]
  },
  {
   "cell_type": "code",
   "execution_count": 84,
   "metadata": {
    "collapsed": false
   },
   "outputs": [
    {
     "name": "stdout",
     "output_type": "stream",
     "text": [
      "glm prediction progress: |████████████████████████████████████████████████| 100%\n"
     ]
    }
   ],
   "source": [
    "prediction = glm_model.predict(valid[:-1])"
   ]
  },
  {
   "cell_type": "code",
   "execution_count": 85,
   "metadata": {
    "collapsed": false
   },
   "outputs": [
    {
     "data": {
      "text/html": [
       "<table>\n",
       "<thead>\n",
       "<tr><th>predict  </th></tr>\n",
       "</thead>\n",
       "<tbody>\n",
       "<tr><td>no       </td></tr>\n",
       "<tr><td>no       </td></tr>\n",
       "<tr><td>no       </td></tr>\n",
       "<tr><td>no       </td></tr>\n",
       "<tr><td>no       </td></tr>\n",
       "<tr><td>no       </td></tr>\n",
       "<tr><td>no       </td></tr>\n",
       "<tr><td>no       </td></tr>\n",
       "<tr><td>no       </td></tr>\n",
       "<tr><td>no       </td></tr>\n",
       "</tbody>\n",
       "</table>"
      ]
     },
     "metadata": {},
     "output_type": "display_data"
    },
    {
     "name": "stdout",
     "output_type": "stream",
     "text": [
      "\n"
     ]
    },
    {
     "data": {
      "text/html": [
       "<table>\n",
       "<thead>\n",
       "<tr><th>y  </th></tr>\n",
       "</thead>\n",
       "<tbody>\n",
       "<tr><td>no </td></tr>\n",
       "<tr><td>no </td></tr>\n",
       "<tr><td>no </td></tr>\n",
       "<tr><td>no </td></tr>\n",
       "<tr><td>no </td></tr>\n",
       "<tr><td>no </td></tr>\n",
       "<tr><td>no </td></tr>\n",
       "<tr><td>no </td></tr>\n",
       "<tr><td>no </td></tr>\n",
       "<tr><td>no </td></tr>\n",
       "</tbody>\n",
       "</table>"
      ]
     },
     "metadata": {},
     "output_type": "display_data"
    },
    {
     "name": "stdout",
     "output_type": "stream",
     "text": [
      "\n"
     ]
    }
   ],
   "source": [
    "print prediction['predict']\n",
    "print valid['y']"
   ]
  },
  {
   "cell_type": "code",
   "execution_count": 87,
   "metadata": {
    "collapsed": false
   },
   "outputs": [],
   "source": [
    "## Gradient Boosting Estimator with cross validation\n",
    "gbm_model = H2OGradientBoostingEstimator(distribution=\"bernoulli\", ntrees=50, max_depth=3, min_rows=2, learn_rate=0.2, nfolds=5)"
   ]
  },
  {
   "cell_type": "code",
   "execution_count": 88,
   "metadata": {
    "collapsed": false
   },
   "outputs": [
    {
     "name": "stdout",
     "output_type": "stream",
     "text": [
      "gbm Model Build progress: |███████████████████████████████████████████████| 100%\n"
     ]
    }
   ],
   "source": [
    "# train the model\n",
    "gbm_model.train(predictors, response, training_frame=train, validation_frame=valid)"
   ]
  },
  {
   "cell_type": "code",
   "execution_count": 90,
   "metadata": {
    "collapsed": false
   },
   "outputs": [
    {
     "name": "stdout",
     "output_type": "stream",
     "text": [
      "accuracy [[0.5178505221352689, 0.9125090840152927]]\n",
      "auc 0.93525688459\n",
      "confusion matrix Confusion Matrix (Act/Pred) for max f1 @ threshold = 0.266472480789: \n"
     ]
    },
    {
     "data": {
      "text/html": [
       "<div style=\"overflow:auto\"><table style=\"width:50%\"><tr><td><b></b></td>\n",
       "<td><b>no</b></td>\n",
       "<td><b>yes</b></td>\n",
       "<td><b>Error</b></td>\n",
       "<td><b>Rate</b></td></tr>\n",
       "<tr><td>no</td>\n",
       "<td>25791.0</td>\n",
       "<td>2129.0</td>\n",
       "<td>0.0763</td>\n",
       "<td> (2129.0/27920.0)</td></tr>\n",
       "<tr><td>yes</td>\n",
       "<td>1000.0</td>\n",
       "<td>2729.0</td>\n",
       "<td>0.2682</td>\n",
       "<td> (1000.0/3729.0)</td></tr>\n",
       "<tr><td>Total</td>\n",
       "<td>26791.0</td>\n",
       "<td>4858.0</td>\n",
       "<td>0.0989</td>\n",
       "<td> (3129.0/31649.0)</td></tr></table></div>"
      ],
      "text/plain": [
       "       no     yes    Error    Rate\n",
       "-----  -----  -----  -------  ----------------\n",
       "no     25791  2129   0.0763   (2129.0/27920.0)\n",
       "yes    1000   2729   0.2682   (1000.0/3729.0)\n",
       "Total  26791  4858   0.0989   (3129.0/31649.0)"
      ]
     },
     "metadata": {},
     "output_type": "display_data"
    },
    {
     "name": "stdout",
     "output_type": "stream",
     "text": [
      "\n",
      "Could not find exact threshold 0.1; using closest threshold found 0.100060833882.\n",
      "Could not find exact threshold 0.5; using closest threshold found 0.499137013588.\n",
      "Could not find exact threshold 0.99; using closest threshold found 0.978210972288.\n",
      "Confusion Matrix (Act/Pred) @ threshold = 0.100060833882: \n"
     ]
    },
    {
     "data": {
      "text/html": [
       "<div style=\"overflow:auto\"><table style=\"width:50%\"><tr><td><b></b></td>\n",
       "<td><b>no</b></td>\n",
       "<td><b>yes</b></td>\n",
       "<td><b>Error</b></td>\n",
       "<td><b>Rate</b></td></tr>\n",
       "<tr><td>no</td>\n",
       "<td>22938.0</td>\n",
       "<td>4982.0</td>\n",
       "<td>0.1784</td>\n",
       "<td> (4982.0/27920.0)</td></tr>\n",
       "<tr><td>yes</td>\n",
       "<td>330.0</td>\n",
       "<td>3399.0</td>\n",
       "<td>0.0885</td>\n",
       "<td> (330.0/3729.0)</td></tr>\n",
       "<tr><td>Total</td>\n",
       "<td>23268.0</td>\n",
       "<td>8381.0</td>\n",
       "<td>0.1678</td>\n",
       "<td> (5312.0/31649.0)</td></tr></table></div>"
      ],
      "text/plain": [
       "       no     yes    Error    Rate\n",
       "-----  -----  -----  -------  ----------------\n",
       "no     22938  4982   0.1784   (4982.0/27920.0)\n",
       "yes    330    3399   0.0885   (330.0/3729.0)\n",
       "Total  23268  8381   0.1678   (5312.0/31649.0)"
      ]
     },
     "metadata": {},
     "output_type": "display_data"
    },
    {
     "name": "stdout",
     "output_type": "stream",
     "text": [
      "Confusion Matrix (Act/Pred) @ threshold = 0.499137013588: \n"
     ]
    },
    {
     "data": {
      "text/html": [
       "<div style=\"overflow:auto\"><table style=\"width:50%\"><tr><td><b></b></td>\n",
       "<td><b>no</b></td>\n",
       "<td><b>yes</b></td>\n",
       "<td><b>Error</b></td>\n",
       "<td><b>Rate</b></td></tr>\n",
       "<tr><td>no</td>\n",
       "<td>27142.0</td>\n",
       "<td>778.0</td>\n",
       "<td>0.0279</td>\n",
       "<td> (778.0/27920.0)</td></tr>\n",
       "<tr><td>yes</td>\n",
       "<td>1998.0</td>\n",
       "<td>1731.0</td>\n",
       "<td>0.5358</td>\n",
       "<td> (1998.0/3729.0)</td></tr>\n",
       "<tr><td>Total</td>\n",
       "<td>29140.0</td>\n",
       "<td>2509.0</td>\n",
       "<td>0.0877</td>\n",
       "<td> (2776.0/31649.0)</td></tr></table></div>"
      ],
      "text/plain": [
       "       no     yes    Error    Rate\n",
       "-----  -----  -----  -------  ----------------\n",
       "no     27142  778    0.0279   (778.0/27920.0)\n",
       "yes    1998   1731   0.5358   (1998.0/3729.0)\n",
       "Total  29140  2509   0.0877   (2776.0/31649.0)"
      ]
     },
     "metadata": {},
     "output_type": "display_data"
    },
    {
     "name": "stdout",
     "output_type": "stream",
     "text": [
      "Confusion Matrix (Act/Pred) @ threshold = 0.978210972288: \n"
     ]
    },
    {
     "data": {
      "text/html": [
       "<div style=\"overflow:auto\"><table style=\"width:50%\"><tr><td><b></b></td>\n",
       "<td><b>no</b></td>\n",
       "<td><b>yes</b></td>\n",
       "<td><b>Error</b></td>\n",
       "<td><b>Rate</b></td></tr>\n",
       "<tr><td>no</td>\n",
       "<td>27920.0</td>\n",
       "<td>0.0</td>\n",
       "<td>0.0</td>\n",
       "<td> (0.0/27920.0)</td></tr>\n",
       "<tr><td>yes</td>\n",
       "<td>3725.0</td>\n",
       "<td>4.0</td>\n",
       "<td>0.9989</td>\n",
       "<td> (3725.0/3729.0)</td></tr>\n",
       "<tr><td>Total</td>\n",
       "<td>31645.0</td>\n",
       "<td>4.0</td>\n",
       "<td>0.1177</td>\n",
       "<td> (3725.0/31649.0)</td></tr></table></div>"
      ],
      "text/plain": [
       "       no     yes    Error    Rate\n",
       "-----  -----  -----  -------  ----------------\n",
       "no     27920  0      0        (0.0/27920.0)\n",
       "yes    3725   4      0.9989   (3725.0/3729.0)\n",
       "Total  31645  4      0.1177   (3725.0/31649.0)"
      ]
     },
     "metadata": {},
     "output_type": "display_data"
    },
    {
     "name": "stdout",
     "output_type": "stream",
     "text": [
      "[, , ]\n"
     ]
    }
   ],
   "source": [
    "## accuracy, auc, confusion matrix\n",
    "print 'accuracy', gbm_model.accuracy()\n",
    "print 'auc', gbm_model.auc()\n",
    "print 'confusion matrix', gbm_model.confusion_matrix()\n",
    "print gbm_model.confusion_matrix(thresholds=[0.1, 0.5, 0.99])"
   ]
  },
  {
   "cell_type": "code",
   "execution_count": 91,
   "metadata": {
    "collapsed": true
   },
   "outputs": [],
   "source": [
    "## Grid Search\n",
    "ntrees_opt = [5,50,100]\n",
    "max_depth_opt = [2,3,5]\n",
    "learn_rate_opt = [0.1,0.2]\n",
    "\n",
    "hyper_params = {'ntrees': ntrees_opt, \n",
    "                'max_depth': max_depth_opt,\n",
    "                'learn_rate': learn_rate_opt}\n",
    "search_criteria = {'strategy': 'RandomDiscrete', 'max_runtime_secs': 60}  #updated"
   ]
  },
  {
   "cell_type": "code",
   "execution_count": 92,
   "metadata": {
    "collapsed": true
   },
   "outputs": [],
   "source": [
    "gs = H2OGridSearch(H2OGradientBoostingEstimator, hyper_params = hyper_params, search_criteria = search_criteria)"
   ]
  },
  {
   "cell_type": "code",
   "execution_count": 93,
   "metadata": {
    "collapsed": false
   },
   "outputs": [
    {
     "name": "stdout",
     "output_type": "stream",
     "text": [
      "gbm Grid Build progress: |████████████████████████████████████████████████| 100%\n"
     ]
    }
   ],
   "source": [
    "gs.train(predictors, response, training_frame=train, validation_frame=valid)"
   ]
  },
  {
   "cell_type": "code",
   "execution_count": 94,
   "metadata": {
    "collapsed": false
   },
   "outputs": [
    {
     "name": "stdout",
     "output_type": "stream",
     "text": [
      "     learn_rate max_depth ntrees  \\\n",
      "0           0.1         5    100   \n",
      "1           0.2         5    100   \n",
      "2           0.2         3    100   \n",
      "3           0.2         5     50   \n",
      "4           0.2         2    100   \n",
      "5           0.1         3    100   \n",
      "6           0.2         3     50   \n",
      "7           0.1         3     50   \n",
      "8           0.1         2    100   \n",
      "9           0.2         5      5   \n",
      "10          0.2         2      5   \n",
      "11          0.1         5      5   \n",
      "12          0.1         3      5   \n",
      "13          0.1         2      5   \n",
      "\n",
      "                                                          model_ids  \\\n",
      "0    Grid_GBM_py_62_sid_a435_model_python_1487894265768_230_model_7   \n",
      "1   Grid_GBM_py_62_sid_a435_model_python_1487894265768_230_model_12   \n",
      "2    Grid_GBM_py_62_sid_a435_model_python_1487894265768_230_model_1   \n",
      "3   Grid_GBM_py_62_sid_a435_model_python_1487894265768_230_model_13   \n",
      "4    Grid_GBM_py_62_sid_a435_model_python_1487894265768_230_model_9   \n",
      "5   Grid_GBM_py_62_sid_a435_model_python_1487894265768_230_model_10   \n",
      "6    Grid_GBM_py_62_sid_a435_model_python_1487894265768_230_model_2   \n",
      "7    Grid_GBM_py_62_sid_a435_model_python_1487894265768_230_model_6   \n",
      "8    Grid_GBM_py_62_sid_a435_model_python_1487894265768_230_model_0   \n",
      "9   Grid_GBM_py_62_sid_a435_model_python_1487894265768_230_model_11   \n",
      "10   Grid_GBM_py_62_sid_a435_model_python_1487894265768_230_model_4   \n",
      "11   Grid_GBM_py_62_sid_a435_model_python_1487894265768_230_model_5   \n",
      "12   Grid_GBM_py_62_sid_a435_model_python_1487894265768_230_model_8   \n",
      "13   Grid_GBM_py_62_sid_a435_model_python_1487894265768_230_model_3   \n",
      "\n",
      "                logloss  \n",
      "0   0.19106953955479566  \n",
      "1   0.19115958337717803  \n",
      "2   0.19518260161668924  \n",
      "3    0.1988051558089062  \n",
      "4   0.19949668088278877  \n",
      "5   0.20083405149619768  \n",
      "6   0.20084927873229033  \n",
      "7   0.21098021877186088  \n",
      "8    0.2110840907288325  \n",
      "9    0.2411497621677471  \n",
      "10   0.2721184668973483  \n",
      "11  0.27564176883960656  \n",
      "12   0.2868518335934299  \n",
      "13   0.2988229384749955  \n",
      "\n"
     ]
    }
   ],
   "source": [
    "print gs"
   ]
  },
  {
   "cell_type": "code",
   "execution_count": 95,
   "metadata": {
    "collapsed": true
   },
   "outputs": [],
   "source": [
    "# sort the models by auc score\n",
    "gbm_gridperf = gs.get_grid(sort_by='auc', decreasing=True)"
   ]
  },
  {
   "cell_type": "code",
   "execution_count": 96,
   "metadata": {
    "collapsed": true
   },
   "outputs": [],
   "source": [
    "# get the best model\n",
    "best_model = gbm_gridperf.models[0]"
   ]
  },
  {
   "cell_type": "code",
   "execution_count": 97,
   "metadata": {
    "collapsed": false
   },
   "outputs": [
    {
     "name": "stdout",
     "output_type": "stream",
     "text": [
      "0.939471386179\n"
     ]
    }
   ],
   "source": [
    "# get the auc score\n",
    "gbm_perf = best_model.model_performance(valid)\n",
    "print gbm_perf.auc()"
   ]
  },
  {
   "cell_type": "code",
   "execution_count": 98,
   "metadata": {
    "collapsed": true
   },
   "outputs": [],
   "source": [
    "## RANDOM FOREST"
   ]
  },
  {
   "cell_type": "code",
   "execution_count": 99,
   "metadata": {
    "collapsed": false
   },
   "outputs": [],
   "source": [
    "rf = H2ORandomForestEstimator(seed=1, nfolds=5, model_id=\"rf\",\n",
    "    ntrees=200,\n",
    "    max_depth=30,\n",
    "    stopping_rounds=2,\n",
    "    stopping_tolerance=0.01,\n",
    "    score_each_iteration=True)"
   ]
  },
  {
   "cell_type": "code",
   "execution_count": 100,
   "metadata": {
    "collapsed": false
   },
   "outputs": [
    {
     "name": "stdout",
     "output_type": "stream",
     "text": [
      "drf Model Build progress: |███████████████████████████████████████████████| 100%\n"
     ]
    }
   ],
   "source": [
    "rf.train(x=predictors, y=response, training_frame=train, validation_frame = valid)"
   ]
  },
  {
   "cell_type": "code",
   "execution_count": 101,
   "metadata": {
    "collapsed": false
   },
   "outputs": [
    {
     "data": {
      "text/plain": [
       "[(u'duration', 16109.12890625, 1.0, 0.27097335099132025),\n",
       " (u'month', 7392.951171875, 0.4589292949916548, 0.12435760893197284),\n",
       " (u'age', 5529.138671875, 0.343230146338317, 0.09300622291453499),\n",
       " (u'poutcome', 5217.38232421875, 0.3238773713080486, 0.08776213661360202),\n",
       " (u'day', 5088.8173828125, 0.31589649647897144, 0.08559953221732469),\n",
       " (u'job', 4493.61376953125, 0.27894827806535355, 0.07558754966062746),\n",
       " (u'balance', 3706.746337890625, 0.23010222088746748, 0.062351569864422036),\n",
       " (u'pdays', 2460.367431640625, 0.1527312523202949, 0.04138609924233117),\n",
       " (u'campaign', 2097.118896484375, 0.13018201720831332, 0.03527585744174638),\n",
       " (u'education', 1719.081787109375, 0.10671475764542475, 0.02891685547940736),\n",
       " (u'marital', 1403.2259521484375, 0.08710750036918605, 0.02360381127151601),\n",
       " (u'contact', 1211.5206298828125, 0.07520708518340605, 0.02037911589043721),\n",
       " (u'housing', 1178.2987060546875, 0.07314478100659637, 0.019820286416883694),\n",
       " (u'previous', 1147.650634765625, 0.0712422528520683, 0.019304751987495893),\n",
       " (u'loan', 580.8748168945312, 0.0360587354086641, 0.009770956366195085),\n",
       " (u'default', 113.20865631103516, 0.007027608815465658, 0.0019042947101828723)]"
      ]
     },
     "execution_count": 101,
     "metadata": {},
     "output_type": "execute_result"
    }
   ],
   "source": [
    "rf.varimp()"
   ]
  },
  {
   "cell_type": "code",
   "execution_count": 102,
   "metadata": {
    "collapsed": false
   },
   "outputs": [
    {
     "name": "stdout",
     "output_type": "stream",
     "text": [
      "Model Details\n",
      "=============\n",
      "H2ORandomForestEstimator :  Distributed Random Forest\n",
      "Model Key:  rf\n",
      "\n",
      "\n",
      "ModelMetricsBinomial: drf\n",
      "** Reported on train data. **\n",
      "\n",
      "MSE: 0.0701776590924\n",
      "RMSE: 0.264910662474\n",
      "LogLoss: 0.47675875444\n",
      "Mean Per-Class Error: 0.156155161358\n",
      "AUC: 0.896125706055\n",
      "Gini: 0.79225141211\n",
      "Confusion Matrix (Act/Pred) for max f1 @ threshold = 0.303231111832: \n"
     ]
    },
    {
     "data": {
      "text/html": [
       "<div style=\"overflow:auto\"><table style=\"width:50%\"><tr><td><b></b></td>\n",
       "<td><b>no</b></td>\n",
       "<td><b>yes</b></td>\n",
       "<td><b>Error</b></td>\n",
       "<td><b>Rate</b></td></tr>\n",
       "<tr><td>no</td>\n",
       "<td>25364.0</td>\n",
       "<td>2556.0</td>\n",
       "<td>0.0915</td>\n",
       "<td> (2556.0/27920.0)</td></tr>\n",
       "<tr><td>yes</td>\n",
       "<td>1159.0</td>\n",
       "<td>2570.0</td>\n",
       "<td>0.3108</td>\n",
       "<td> (1159.0/3729.0)</td></tr>\n",
       "<tr><td>Total</td>\n",
       "<td>26523.0</td>\n",
       "<td>5126.0</td>\n",
       "<td>0.1174</td>\n",
       "<td> (3715.0/31649.0)</td></tr></table></div>"
      ],
      "text/plain": [
       "       no     yes    Error    Rate\n",
       "-----  -----  -----  -------  ----------------\n",
       "no     25364  2556   0.0915   (2556.0/27920.0)\n",
       "yes    1159   2570   0.3108   (1159.0/3729.0)\n",
       "Total  26523  5126   0.1174   (3715.0/31649.0)"
      ]
     },
     "metadata": {},
     "output_type": "display_data"
    },
    {
     "name": "stdout",
     "output_type": "stream",
     "text": [
      "Maximum Metrics: Maximum metrics at their respective thresholds\n",
      "\n"
     ]
    },
    {
     "data": {
      "text/html": [
       "<div style=\"overflow:auto\"><table style=\"width:50%\"><tr><td><b>metric</b></td>\n",
       "<td><b>threshold</b></td>\n",
       "<td><b>value</b></td>\n",
       "<td><b>idx</b></td></tr>\n",
       "<tr><td>max f1</td>\n",
       "<td>0.3032311</td>\n",
       "<td>0.5804630</td>\n",
       "<td>235.0</td></tr>\n",
       "<tr><td>max f2</td>\n",
       "<td>0.1511398</td>\n",
       "<td>0.6978951</td>\n",
       "<td>305.0</td></tr>\n",
       "<tr><td>max f0point5</td>\n",
       "<td>0.4741819</td>\n",
       "<td>0.5626811</td>\n",
       "<td>154.0</td></tr>\n",
       "<tr><td>max accuracy</td>\n",
       "<td>0.5133341</td>\n",
       "<td>0.8997441</td>\n",
       "<td>142.0</td></tr>\n",
       "<tr><td>max precision</td>\n",
       "<td>0.9464286</td>\n",
       "<td>0.7681159</td>\n",
       "<td>6.0</td></tr>\n",
       "<tr><td>max recall</td>\n",
       "<td>0.0</td>\n",
       "<td>1.0</td>\n",
       "<td>399.0</td></tr>\n",
       "<tr><td>max specificity</td>\n",
       "<td>1.0</td>\n",
       "<td>0.9988539</td>\n",
       "<td>0.0</td></tr>\n",
       "<tr><td>max absolute_mcc</td>\n",
       "<td>0.2352305</td>\n",
       "<td>0.5264974</td>\n",
       "<td>266.0</td></tr>\n",
       "<tr><td>max min_per_class_accuracy</td>\n",
       "<td>0.1666723</td>\n",
       "<td>0.8402579</td>\n",
       "<td>297.0</td></tr>\n",
       "<tr><td>max mean_per_class_accuracy</td>\n",
       "<td>0.1234835</td>\n",
       "<td>0.8438448</td>\n",
       "<td>320.0</td></tr></table></div>"
      ],
      "text/plain": [
       "metric                       threshold    value     idx\n",
       "---------------------------  -----------  --------  -----\n",
       "max f1                       0.303231     0.580463  235\n",
       "max f2                       0.15114      0.697895  305\n",
       "max f0point5                 0.474182     0.562681  154\n",
       "max accuracy                 0.513334     0.899744  142\n",
       "max precision                0.946429     0.768116  6\n",
       "max recall                   0            1         399\n",
       "max specificity              1            0.998854  0\n",
       "max absolute_mcc             0.23523      0.526497  266\n",
       "max min_per_class_accuracy   0.166672     0.840258  297\n",
       "max mean_per_class_accuracy  0.123484     0.843845  320"
      ]
     },
     "metadata": {},
     "output_type": "display_data"
    },
    {
     "name": "stdout",
     "output_type": "stream",
     "text": [
      "Gains/Lift Table: Avg response rate: 11.78 %\n",
      "\n"
     ]
    },
    {
     "data": {
      "text/html": [
       "<div style=\"overflow:auto\"><table style=\"width:50%\"><tr><td><b></b></td>\n",
       "<td><b>group</b></td>\n",
       "<td><b>cumulative_data_fraction</b></td>\n",
       "<td><b>lower_threshold</b></td>\n",
       "<td><b>lift</b></td>\n",
       "<td><b>cumulative_lift</b></td>\n",
       "<td><b>response_rate</b></td>\n",
       "<td><b>cumulative_response_rate</b></td>\n",
       "<td><b>capture_rate</b></td>\n",
       "<td><b>cumulative_capture_rate</b></td>\n",
       "<td><b>gain</b></td>\n",
       "<td><b>cumulative_gain</b></td></tr>\n",
       "<tr><td></td>\n",
       "<td>1</td>\n",
       "<td>0.0100161</td>\n",
       "<td>0.9370000</td>\n",
       "<td>8.4872620</td>\n",
       "<td>8.4872620</td>\n",
       "<td>1.0</td>\n",
       "<td>1.0</td>\n",
       "<td>0.0850094</td>\n",
       "<td>0.0850094</td>\n",
       "<td>748.7262001</td>\n",
       "<td>748.7262001</td></tr>\n",
       "<tr><td></td>\n",
       "<td>2</td>\n",
       "<td>0.0200006</td>\n",
       "<td>0.9072962</td>\n",
       "<td>8.4872620</td>\n",
       "<td>8.4872620</td>\n",
       "<td>1.0</td>\n",
       "<td>1.0</td>\n",
       "<td>0.0847412</td>\n",
       "<td>0.1697506</td>\n",
       "<td>748.7262001</td>\n",
       "<td>748.7262001</td></tr>\n",
       "<tr><td></td>\n",
       "<td>3</td>\n",
       "<td>0.0303643</td>\n",
       "<td>0.8928571</td>\n",
       "<td>8.4872620</td>\n",
       "<td>8.4872620</td>\n",
       "<td>1.0</td>\n",
       "<td>1.0</td>\n",
       "<td>0.0879592</td>\n",
       "<td>0.2577098</td>\n",
       "<td>748.7262001</td>\n",
       "<td>748.7262001</td></tr>\n",
       "<tr><td></td>\n",
       "<td>4</td>\n",
       "<td>0.0436665</td>\n",
       "<td>0.8571429</td>\n",
       "<td>8.4872620</td>\n",
       "<td>8.4872620</td>\n",
       "<td>1.0</td>\n",
       "<td>1.0</td>\n",
       "<td>0.1128989</td>\n",
       "<td>0.3706087</td>\n",
       "<td>748.7262001</td>\n",
       "<td>748.7262001</td></tr>\n",
       "<tr><td></td>\n",
       "<td>5</td>\n",
       "<td>0.0557364</td>\n",
       "<td>0.8214286</td>\n",
       "<td>8.4872620</td>\n",
       "<td>8.4872620</td>\n",
       "<td>1.0</td>\n",
       "<td>1.0</td>\n",
       "<td>0.1024403</td>\n",
       "<td>0.4730491</td>\n",
       "<td>748.7262001</td>\n",
       "<td>748.7262001</td></tr>\n",
       "<tr><td></td>\n",
       "<td>6</td>\n",
       "<td>0.1004139</td>\n",
       "<td>0.6785714</td>\n",
       "<td>8.4872620</td>\n",
       "<td>8.4872620</td>\n",
       "<td>1.0</td>\n",
       "<td>1.0</td>\n",
       "<td>0.3791901</td>\n",
       "<td>0.8522392</td>\n",
       "<td>748.7262001</td>\n",
       "<td>748.7262001</td></tr>\n",
       "<tr><td></td>\n",
       "<td>7</td>\n",
       "<td>0.1502733</td>\n",
       "<td>0.1964286</td>\n",
       "<td>2.9635497</td>\n",
       "<td>6.6545416</td>\n",
       "<td>0.3491762</td>\n",
       "<td>0.7840622</td>\n",
       "<td>0.1477608</td>\n",
       "<td>1.0</td>\n",
       "<td>196.3549659</td>\n",
       "<td>565.4541632</td></tr>\n",
       "<tr><td></td>\n",
       "<td>8</td>\n",
       "<td>0.2153939</td>\n",
       "<td>0.1071429</td>\n",
       "<td>0.0</td>\n",
       "<td>4.6426581</td>\n",
       "<td>0.0</td>\n",
       "<td>0.5470148</td>\n",
       "<td>0.0</td>\n",
       "<td>1.0</td>\n",
       "<td>-100.0</td>\n",
       "<td>364.2658061</td></tr>\n",
       "<tr><td></td>\n",
       "<td>9</td>\n",
       "<td>0.3608645</td>\n",
       "<td>0.0357143</td>\n",
       "<td>0.0</td>\n",
       "<td>2.7711234</td>\n",
       "<td>0.0</td>\n",
       "<td>0.3265038</td>\n",
       "<td>0.0</td>\n",
       "<td>1.0</td>\n",
       "<td>-100.0</td>\n",
       "<td>177.1123369</td></tr>\n",
       "<tr><td></td>\n",
       "<td>10</td>\n",
       "<td>0.5280104</td>\n",
       "<td>0.0015814</td>\n",
       "<td>0.0</td>\n",
       "<td>1.8939022</td>\n",
       "<td>0.0</td>\n",
       "<td>0.2231464</td>\n",
       "<td>0.0</td>\n",
       "<td>1.0</td>\n",
       "<td>-100.0</td>\n",
       "<td>89.3902220</td></tr>\n",
       "<tr><td></td>\n",
       "<td>11</td>\n",
       "<td>1.0</td>\n",
       "<td>0.0</td>\n",
       "<td>0.0</td>\n",
       "<td>1.0</td>\n",
       "<td>0.0</td>\n",
       "<td>0.1178236</td>\n",
       "<td>0.0</td>\n",
       "<td>1.0</td>\n",
       "<td>-100.0</td>\n",
       "<td>0.0</td></tr></table></div>"
      ],
      "text/plain": [
       "    group    cumulative_data_fraction    lower_threshold    lift     cumulative_lift    response_rate    cumulative_response_rate    capture_rate    cumulative_capture_rate    gain     cumulative_gain\n",
       "--  -------  --------------------------  -----------------  -------  -----------------  ---------------  --------------------------  --------------  -------------------------  -------  -----------------\n",
       "    1        0.0100161                   0.937              8.48726  8.48726            1                1                           0.0850094       0.0850094                  748.726  748.726\n",
       "    2        0.0200006                   0.907296           8.48726  8.48726            1                1                           0.0847412       0.169751                   748.726  748.726\n",
       "    3        0.0303643                   0.892857           8.48726  8.48726            1                1                           0.0879592       0.25771                    748.726  748.726\n",
       "    4        0.0436665                   0.857143           8.48726  8.48726            1                1                           0.112899        0.370609                   748.726  748.726\n",
       "    5        0.0557364                   0.821429           8.48726  8.48726            1                1                           0.10244         0.473049                   748.726  748.726\n",
       "    6        0.100414                    0.678571           8.48726  8.48726            1                1                           0.37919         0.852239                   748.726  748.726\n",
       "    7        0.150273                    0.196429           2.96355  6.65454            0.349176         0.784062                    0.147761        1                          196.355  565.454\n",
       "    8        0.215394                    0.107143           0        4.64266            0                0.547015                    0               1                          -100     364.266\n",
       "    9        0.360864                    0.0357143          0        2.77112            0                0.326504                    0               1                          -100     177.112\n",
       "    10       0.52801                     0.00158145         0        1.8939             0                0.223146                    0               1                          -100     89.3902\n",
       "    11       1                           0                  0        1                  0                0.117824                    0               1                          -100     0"
      ]
     },
     "metadata": {},
     "output_type": "display_data"
    },
    {
     "name": "stdout",
     "output_type": "stream",
     "text": [
      "\n",
      "\n",
      "ModelMetricsBinomial: drf\n",
      "** Reported on validation data. **\n",
      "\n",
      "MSE: 0.0626579193298\n",
      "RMSE: 0.250315639403\n",
      "LogLoss: 0.268976543602\n",
      "Mean Per-Class Error: 0.13860894979\n",
      "AUC: 0.923098927956\n",
      "Gini: 0.846197855913\n",
      "Confusion Matrix (Act/Pred) for max f1 @ threshold = 0.323041640982: \n"
     ]
    },
    {
     "data": {
      "text/html": [
       "<div style=\"overflow:auto\"><table style=\"width:50%\"><tr><td><b></b></td>\n",
       "<td><b>no</b></td>\n",
       "<td><b>yes</b></td>\n",
       "<td><b>Error</b></td>\n",
       "<td><b>Rate</b></td></tr>\n",
       "<tr><td>no</td>\n",
       "<td>11062.0</td>\n",
       "<td>940.0</td>\n",
       "<td>0.0783</td>\n",
       "<td> (940.0/12002.0)</td></tr>\n",
       "<tr><td>yes</td>\n",
       "<td>442.0</td>\n",
       "<td>1118.0</td>\n",
       "<td>0.2833</td>\n",
       "<td> (442.0/1560.0)</td></tr>\n",
       "<tr><td>Total</td>\n",
       "<td>11504.0</td>\n",
       "<td>2058.0</td>\n",
       "<td>0.1019</td>\n",
       "<td> (1382.0/13562.0)</td></tr></table></div>"
      ],
      "text/plain": [
       "       no     yes    Error    Rate\n",
       "-----  -----  -----  -------  ----------------\n",
       "no     11062  940    0.0783   (940.0/12002.0)\n",
       "yes    442    1118   0.2833   (442.0/1560.0)\n",
       "Total  11504  2058   0.1019   (1382.0/13562.0)"
      ]
     },
     "metadata": {},
     "output_type": "display_data"
    },
    {
     "name": "stdout",
     "output_type": "stream",
     "text": [
      "Maximum Metrics: Maximum metrics at their respective thresholds\n",
      "\n"
     ]
    },
    {
     "data": {
      "text/html": [
       "<div style=\"overflow:auto\"><table style=\"width:50%\"><tr><td><b>metric</b></td>\n",
       "<td><b>threshold</b></td>\n",
       "<td><b>value</b></td>\n",
       "<td><b>idx</b></td></tr>\n",
       "<tr><td>max f1</td>\n",
       "<td>0.3230416</td>\n",
       "<td>0.6180210</td>\n",
       "<td>222.0</td></tr>\n",
       "<tr><td>max f2</td>\n",
       "<td>0.1563736</td>\n",
       "<td>0.7232571</td>\n",
       "<td>304.0</td></tr>\n",
       "<tr><td>max f0point5</td>\n",
       "<td>0.4444131</td>\n",
       "<td>0.6049945</td>\n",
       "<td>157.0</td></tr>\n",
       "<tr><td>max accuracy</td>\n",
       "<td>0.5000018</td>\n",
       "<td>0.9098953</td>\n",
       "<td>131.0</td></tr>\n",
       "<tr><td>max precision</td>\n",
       "<td>0.7250000</td>\n",
       "<td>0.7892977</td>\n",
       "<td>39.0</td></tr>\n",
       "<tr><td>max recall</td>\n",
       "<td>0.0</td>\n",
       "<td>1.0</td>\n",
       "<td>399.0</td></tr>\n",
       "<tr><td>max specificity</td>\n",
       "<td>1.0</td>\n",
       "<td>0.9999167</td>\n",
       "<td>0.0</td></tr>\n",
       "<tr><td>max absolute_mcc</td>\n",
       "<td>0.3075893</td>\n",
       "<td>0.5685077</td>\n",
       "<td>227.0</td></tr>\n",
       "<tr><td>max min_per_class_accuracy</td>\n",
       "<td>0.1785736</td>\n",
       "<td>0.8539410</td>\n",
       "<td>293.0</td></tr>\n",
       "<tr><td>max mean_per_class_accuracy</td>\n",
       "<td>0.1444229</td>\n",
       "<td>0.8613911</td>\n",
       "<td>313.0</td></tr></table></div>"
      ],
      "text/plain": [
       "metric                       threshold    value     idx\n",
       "---------------------------  -----------  --------  -----\n",
       "max f1                       0.323042     0.618021  222\n",
       "max f2                       0.156374     0.723257  304\n",
       "max f0point5                 0.444413     0.604994  157\n",
       "max accuracy                 0.500002     0.909895  131\n",
       "max precision                0.725        0.789298  39\n",
       "max recall                   0            1         399\n",
       "max specificity              1            0.999917  0\n",
       "max absolute_mcc             0.307589     0.568508  227\n",
       "max min_per_class_accuracy   0.178574     0.853941  293\n",
       "max mean_per_class_accuracy  0.144423     0.861391  313"
      ]
     },
     "metadata": {},
     "output_type": "display_data"
    },
    {
     "name": "stdout",
     "output_type": "stream",
     "text": [
      "Gains/Lift Table: Avg response rate: 11.50 %\n",
      "\n"
     ]
    },
    {
     "data": {
      "text/html": [
       "<div style=\"overflow:auto\"><table style=\"width:50%\"><tr><td><b></b></td>\n",
       "<td><b>group</b></td>\n",
       "<td><b>cumulative_data_fraction</b></td>\n",
       "<td><b>lower_threshold</b></td>\n",
       "<td><b>lift</b></td>\n",
       "<td><b>cumulative_lift</b></td>\n",
       "<td><b>response_rate</b></td>\n",
       "<td><b>cumulative_response_rate</b></td>\n",
       "<td><b>capture_rate</b></td>\n",
       "<td><b>cumulative_capture_rate</b></td>\n",
       "<td><b>gain</b></td>\n",
       "<td><b>cumulative_gain</b></td></tr>\n",
       "<tr><td></td>\n",
       "<td>1</td>\n",
       "<td>0.0112078</td>\n",
       "<td>0.8214286</td>\n",
       "<td>6.7489710</td>\n",
       "<td>6.7489710</td>\n",
       "<td>0.7763158</td>\n",
       "<td>0.7763158</td>\n",
       "<td>0.0756410</td>\n",
       "<td>0.0756410</td>\n",
       "<td>574.8970985</td>\n",
       "<td>574.8970985</td></tr>\n",
       "<tr><td></td>\n",
       "<td>2</td>\n",
       "<td>0.0211621</td>\n",
       "<td>0.75</td>\n",
       "<td>6.8904748</td>\n",
       "<td>6.8155320</td>\n",
       "<td>0.7925926</td>\n",
       "<td>0.7839721</td>\n",
       "<td>0.0685897</td>\n",
       "<td>0.1442308</td>\n",
       "<td>589.0474834</td>\n",
       "<td>581.5532029</td></tr>\n",
       "<tr><td></td>\n",
       "<td>3</td>\n",
       "<td>0.0349506</td>\n",
       "<td>0.6785714</td>\n",
       "<td>5.7647333</td>\n",
       "<td>6.4009764</td>\n",
       "<td>0.6631016</td>\n",
       "<td>0.7362869</td>\n",
       "<td>0.0794872</td>\n",
       "<td>0.2237179</td>\n",
       "<td>476.4733306</td>\n",
       "<td>540.0976415</td></tr>\n",
       "<tr><td></td>\n",
       "<td>4</td>\n",
       "<td>0.0439463</td>\n",
       "<td>0.6428571</td>\n",
       "<td>5.3444199</td>\n",
       "<td>6.1847014</td>\n",
       "<td>0.6147541</td>\n",
       "<td>0.7114094</td>\n",
       "<td>0.0480769</td>\n",
       "<td>0.2717949</td>\n",
       "<td>434.4419924</td>\n",
       "<td>518.4701428</td></tr>\n",
       "<tr><td></td>\n",
       "<td>5</td>\n",
       "<td>0.0531633</td>\n",
       "<td>0.6071429</td>\n",
       "<td>5.7029949</td>\n",
       "<td>6.1011878</td>\n",
       "<td>0.656</td>\n",
       "<td>0.7018031</td>\n",
       "<td>0.0525641</td>\n",
       "<td>0.3243590</td>\n",
       "<td>470.2994872</td>\n",
       "<td>510.1187809</td></tr>\n",
       "<tr><td></td>\n",
       "<td>6</td>\n",
       "<td>0.1013125</td>\n",
       "<td>0.4642857</td>\n",
       "<td>4.5797778</td>\n",
       "<td>5.3781305</td>\n",
       "<td>0.5267994</td>\n",
       "<td>0.6186317</td>\n",
       "<td>0.2205128</td>\n",
       "<td>0.5448718</td>\n",
       "<td>357.9777752</td>\n",
       "<td>437.8130482</td></tr>\n",
       "<tr><td></td>\n",
       "<td>7</td>\n",
       "<td>0.1501991</td>\n",
       "<td>0.3285714</td>\n",
       "<td>3.4092509</td>\n",
       "<td>4.7373022</td>\n",
       "<td>0.3921569</td>\n",
       "<td>0.5449190</td>\n",
       "<td>0.1666667</td>\n",
       "<td>0.7115385</td>\n",
       "<td>240.9250880</td>\n",
       "<td>373.7302217</td></tr>\n",
       "<tr><td></td>\n",
       "<td>8</td>\n",
       "<td>0.2102197</td>\n",
       "<td>0.2142857</td>\n",
       "<td>2.1360171</td>\n",
       "<td>3.9945993</td>\n",
       "<td>0.2457002</td>\n",
       "<td>0.4594879</td>\n",
       "<td>0.1282051</td>\n",
       "<td>0.8397436</td>\n",
       "<td>113.6017136</td>\n",
       "<td>299.4599286</td></tr>\n",
       "<tr><td></td>\n",
       "<td>9</td>\n",
       "<td>0.3374134</td>\n",
       "<td>0.0714286</td>\n",
       "<td>0.8668391</td>\n",
       "<td>2.8155376</td>\n",
       "<td>0.0997101</td>\n",
       "<td>0.3238636</td>\n",
       "<td>0.1102564</td>\n",
       "<td>0.95</td>\n",
       "<td>-13.3160907</td>\n",
       "<td>181.5537587</td></tr>\n",
       "<tr><td></td>\n",
       "<td>10</td>\n",
       "<td>0.4492700</td>\n",
       "<td>0.0357143</td>\n",
       "<td>0.2349619</td>\n",
       "<td>2.1730407</td>\n",
       "<td>0.0270270</td>\n",
       "<td>0.2499590</td>\n",
       "<td>0.0262821</td>\n",
       "<td>0.9762821</td>\n",
       "<td>-76.5038115</td>\n",
       "<td>117.3040732</td></tr>\n",
       "<tr><td></td>\n",
       "<td>11</td>\n",
       "<td>0.5996166</td>\n",
       "<td>0.0015814</td>\n",
       "<td>0.0255819</td>\n",
       "<td>1.6345916</td>\n",
       "<td>0.0029426</td>\n",
       "<td>0.1880226</td>\n",
       "<td>0.0038462</td>\n",
       "<td>0.9801282</td>\n",
       "<td>-97.4418078</td>\n",
       "<td>63.4591579</td></tr>\n",
       "<tr><td></td>\n",
       "<td>12</td>\n",
       "<td>0.6007963</td>\n",
       "<td>0.0009653</td>\n",
       "<td>0.0</td>\n",
       "<td>1.6313818</td>\n",
       "<td>0.0</td>\n",
       "<td>0.1876534</td>\n",
       "<td>0.0</td>\n",
       "<td>0.9801282</td>\n",
       "<td>-100.0</td>\n",
       "<td>63.1381777</td></tr>\n",
       "<tr><td></td>\n",
       "<td>13</td>\n",
       "<td>1.0</td>\n",
       "<td>0.0</td>\n",
       "<td>0.0497786</td>\n",
       "<td>1.0</td>\n",
       "<td>0.0057259</td>\n",
       "<td>0.1150273</td>\n",
       "<td>0.0198718</td>\n",
       "<td>1.0</td>\n",
       "<td>-95.0221411</td>\n",
       "<td>0.0</td></tr></table></div>"
      ],
      "text/plain": [
       "    group    cumulative_data_fraction    lower_threshold    lift       cumulative_lift    response_rate    cumulative_response_rate    capture_rate    cumulative_capture_rate    gain      cumulative_gain\n",
       "--  -------  --------------------------  -----------------  ---------  -----------------  ---------------  --------------------------  --------------  -------------------------  --------  -----------------\n",
       "    1        0.0112078                   0.821429           6.74897    6.74897            0.776316         0.776316                    0.075641        0.075641                   574.897   574.897\n",
       "    2        0.0211621                   0.75               6.89047    6.81553            0.792593         0.783972                    0.0685897       0.144231                   589.047   581.553\n",
       "    3        0.0349506                   0.678571           5.76473    6.40098            0.663102         0.736287                    0.0794872       0.223718                   476.473   540.098\n",
       "    4        0.0439463                   0.642857           5.34442    6.1847             0.614754         0.711409                    0.0480769       0.271795                   434.442   518.47\n",
       "    5        0.0531633                   0.607143           5.70299    6.10119            0.656            0.701803                    0.0525641       0.324359                   470.299   510.119\n",
       "    6        0.101312                    0.464286           4.57978    5.37813            0.526799         0.618632                    0.220513        0.544872                   357.978   437.813\n",
       "    7        0.150199                    0.328571           3.40925    4.7373             0.392157         0.544919                    0.166667        0.711538                   240.925   373.73\n",
       "    8        0.21022                     0.214286           2.13602    3.9946             0.2457           0.459488                    0.128205        0.839744                   113.602   299.46\n",
       "    9        0.337413                    0.0714286          0.866839   2.81554            0.0997101        0.323864                    0.110256        0.95                       -13.3161  181.554\n",
       "    10       0.44927                     0.0357143          0.234962   2.17304            0.027027         0.249959                    0.0262821       0.976282                   -76.5038  117.304\n",
       "    11       0.599617                    0.00158145         0.0255819  1.63459            0.00294262       0.188023                    0.00384615      0.980128                   -97.4418  63.4592\n",
       "    12       0.600796                    0.00096525         0          1.63138            0                0.187653                    0               0.980128                   -100      63.1382\n",
       "    13       1                           0                  0.0497786  1                  0.0057259        0.115027                    0.0198718       1                          -95.0221  0"
      ]
     },
     "metadata": {},
     "output_type": "display_data"
    },
    {
     "name": "stdout",
     "output_type": "stream",
     "text": [
      "\n",
      "\n",
      "ModelMetricsBinomial: drf\n",
      "** Reported on cross-validation data. **\n",
      "\n",
      "MSE: 0.06679400542\n",
      "RMSE: 0.258445362543\n",
      "LogLoss: 0.277824404731\n",
      "Mean Per-Class Error: 0.142660508206\n",
      "AUC: 0.918190534616\n",
      "Gini: 0.836381069231\n",
      "Confusion Matrix (Act/Pred) for max f1 @ threshold = 0.295157658688: \n"
     ]
    },
    {
     "data": {
      "text/html": [
       "<div style=\"overflow:auto\"><table style=\"width:50%\"><tr><td><b></b></td>\n",
       "<td><b>no</b></td>\n",
       "<td><b>yes</b></td>\n",
       "<td><b>Error</b></td>\n",
       "<td><b>Rate</b></td></tr>\n",
       "<tr><td>no</td>\n",
       "<td>25304.0</td>\n",
       "<td>2616.0</td>\n",
       "<td>0.0937</td>\n",
       "<td> (2616.0/27920.0)</td></tr>\n",
       "<tr><td>yes</td>\n",
       "<td>977.0</td>\n",
       "<td>2752.0</td>\n",
       "<td>0.262</td>\n",
       "<td> (977.0/3729.0)</td></tr>\n",
       "<tr><td>Total</td>\n",
       "<td>26281.0</td>\n",
       "<td>5368.0</td>\n",
       "<td>0.1135</td>\n",
       "<td> (3593.0/31649.0)</td></tr></table></div>"
      ],
      "text/plain": [
       "       no     yes    Error    Rate\n",
       "-----  -----  -----  -------  ----------------\n",
       "no     25304  2616   0.0937   (2616.0/27920.0)\n",
       "yes    977    2752   0.262    (977.0/3729.0)\n",
       "Total  26281  5368   0.1135   (3593.0/31649.0)"
      ]
     },
     "metadata": {},
     "output_type": "display_data"
    },
    {
     "name": "stdout",
     "output_type": "stream",
     "text": [
      "Maximum Metrics: Maximum metrics at their respective thresholds\n",
      "\n"
     ]
    },
    {
     "data": {
      "text/html": [
       "<div style=\"overflow:auto\"><table style=\"width:50%\"><tr><td><b>metric</b></td>\n",
       "<td><b>threshold</b></td>\n",
       "<td><b>value</b></td>\n",
       "<td><b>idx</b></td></tr>\n",
       "<tr><td>max f1</td>\n",
       "<td>0.2951577</td>\n",
       "<td>0.6050346</td>\n",
       "<td>240.0</td></tr>\n",
       "<tr><td>max f2</td>\n",
       "<td>0.1615565</td>\n",
       "<td>0.7193602</td>\n",
       "<td>303.0</td></tr>\n",
       "<tr><td>max f0point5</td>\n",
       "<td>0.4394788</td>\n",
       "<td>0.5775748</td>\n",
       "<td>175.0</td></tr>\n",
       "<tr><td>max accuracy</td>\n",
       "<td>0.4634618</td>\n",
       "<td>0.9012923</td>\n",
       "<td>165.0</td></tr>\n",
       "<tr><td>max precision</td>\n",
       "<td>1.0</td>\n",
       "<td>1.0</td>\n",
       "<td>0.0</td></tr>\n",
       "<tr><td>max recall</td>\n",
       "<td>0.0</td>\n",
       "<td>1.0</td>\n",
       "<td>399.0</td></tr>\n",
       "<tr><td>max specificity</td>\n",
       "<td>1.0</td>\n",
       "<td>1.0</td>\n",
       "<td>0.0</td></tr>\n",
       "<tr><td>max absolute_mcc</td>\n",
       "<td>0.2951577</td>\n",
       "<td>0.5534992</td>\n",
       "<td>240.0</td></tr>\n",
       "<tr><td>max min_per_class_accuracy</td>\n",
       "<td>0.1851879</td>\n",
       "<td>0.8533119</td>\n",
       "<td>292.0</td></tr>\n",
       "<tr><td>max mean_per_class_accuracy</td>\n",
       "<td>0.1481370</td>\n",
       "<td>0.8573395</td>\n",
       "<td>311.0</td></tr></table></div>"
      ],
      "text/plain": [
       "metric                       threshold    value     idx\n",
       "---------------------------  -----------  --------  -----\n",
       "max f1                       0.295158     0.605035  240\n",
       "max f2                       0.161557     0.71936   303\n",
       "max f0point5                 0.439479     0.577575  175\n",
       "max accuracy                 0.463462     0.901292  165\n",
       "max precision                1            1         0\n",
       "max recall                   0            1         399\n",
       "max specificity              1            1         0\n",
       "max absolute_mcc             0.295158     0.553499  240\n",
       "max min_per_class_accuracy   0.185188     0.853312  292\n",
       "max mean_per_class_accuracy  0.148137     0.857339  311"
      ]
     },
     "metadata": {},
     "output_type": "display_data"
    },
    {
     "name": "stdout",
     "output_type": "stream",
     "text": [
      "Gains/Lift Table: Avg response rate: 11.78 %\n",
      "\n"
     ]
    },
    {
     "data": {
      "text/html": [
       "<div style=\"overflow:auto\"><table style=\"width:50%\"><tr><td><b></b></td>\n",
       "<td><b>group</b></td>\n",
       "<td><b>cumulative_data_fraction</b></td>\n",
       "<td><b>lower_threshold</b></td>\n",
       "<td><b>lift</b></td>\n",
       "<td><b>cumulative_lift</b></td>\n",
       "<td><b>response_rate</b></td>\n",
       "<td><b>cumulative_response_rate</b></td>\n",
       "<td><b>capture_rate</b></td>\n",
       "<td><b>cumulative_capture_rate</b></td>\n",
       "<td><b>gain</b></td>\n",
       "<td><b>cumulative_gain</b></td></tr>\n",
       "<tr><td></td>\n",
       "<td>1</td>\n",
       "<td>0.0102373</td>\n",
       "<td>0.8148148</td>\n",
       "<td>6.5226180</td>\n",
       "<td>6.5226180</td>\n",
       "<td>0.7685185</td>\n",
       "<td>0.7685185</td>\n",
       "<td>0.0667739</td>\n",
       "<td>0.0667739</td>\n",
       "<td>552.2618019</td>\n",
       "<td>552.2618019</td></tr>\n",
       "<tr><td></td>\n",
       "<td>2</td>\n",
       "<td>0.0200006</td>\n",
       "<td>0.7469953</td>\n",
       "<td>5.9603102</td>\n",
       "<td>6.2481265</td>\n",
       "<td>0.7022654</td>\n",
       "<td>0.7361769</td>\n",
       "<td>0.0581925</td>\n",
       "<td>0.1249665</td>\n",
       "<td>496.0310207</td>\n",
       "<td>524.8126528</td></tr>\n",
       "<tr><td></td>\n",
       "<td>3</td>\n",
       "<td>0.0315018</td>\n",
       "<td>0.6923077</td>\n",
       "<td>5.4560970</td>\n",
       "<td>5.9589603</td>\n",
       "<td>0.6428571</td>\n",
       "<td>0.7021063</td>\n",
       "<td>0.0627514</td>\n",
       "<td>0.1877179</td>\n",
       "<td>445.6097000</td>\n",
       "<td>495.8960281</td></tr>\n",
       "<tr><td></td>\n",
       "<td>4</td>\n",
       "<td>0.0413915</td>\n",
       "<td>0.6538462</td>\n",
       "<td>4.9350853</td>\n",
       "<td>5.7143245</td>\n",
       "<td>0.5814696</td>\n",
       "<td>0.6732824</td>\n",
       "<td>0.0488067</td>\n",
       "<td>0.2365245</td>\n",
       "<td>393.5085253</td>\n",
       "<td>471.4324492</td></tr>\n",
       "<tr><td></td>\n",
       "<td>5</td>\n",
       "<td>0.0514076</td>\n",
       "<td>0.6153846</td>\n",
       "<td>4.9531340</td>\n",
       "<td>5.5660163</td>\n",
       "<td>0.5835962</td>\n",
       "<td>0.6558082</td>\n",
       "<td>0.0496112</td>\n",
       "<td>0.2861357</td>\n",
       "<td>395.3133975</td>\n",
       "<td>456.6016321</td></tr>\n",
       "<tr><td></td>\n",
       "<td>6</td>\n",
       "<td>0.1020885</td>\n",
       "<td>0.4615385</td>\n",
       "<td>4.4605747</td>\n",
       "<td>5.0172301</td>\n",
       "<td>0.5255611</td>\n",
       "<td>0.5911483</td>\n",
       "<td>0.2260660</td>\n",
       "<td>0.5122017</td>\n",
       "<td>346.0574730</td>\n",
       "<td>401.7230090</td></tr>\n",
       "<tr><td></td>\n",
       "<td>7</td>\n",
       "<td>0.1529274</td>\n",
       "<td>0.3333333</td>\n",
       "<td>3.5288864</td>\n",
       "<td>4.5224481</td>\n",
       "<td>0.4157862</td>\n",
       "<td>0.5328512</td>\n",
       "<td>0.1794047</td>\n",
       "<td>0.6916063</td>\n",
       "<td>252.8886438</td>\n",
       "<td>352.2448078</td></tr>\n",
       "<tr><td></td>\n",
       "<td>8</td>\n",
       "<td>0.2014914</td>\n",
       "<td>0.2307692</td>\n",
       "<td>2.3854894</td>\n",
       "<td>4.0073931</td>\n",
       "<td>0.2810670</td>\n",
       "<td>0.4721656</td>\n",
       "<td>0.1158488</td>\n",
       "<td>0.8074551</td>\n",
       "<td>138.5489385</td>\n",
       "<td>300.7393113</td></tr>\n",
       "<tr><td></td>\n",
       "<td>9</td>\n",
       "<td>0.3048122</td>\n",
       "<td>0.0909091</td>\n",
       "<td>1.1368259</td>\n",
       "<td>3.0343699</td>\n",
       "<td>0.1339450</td>\n",
       "<td>0.3575205</td>\n",
       "<td>0.1174578</td>\n",
       "<td>0.9249128</td>\n",
       "<td>13.6825919</td>\n",
       "<td>203.4369922</td></tr>\n",
       "<tr><td></td>\n",
       "<td>10</td>\n",
       "<td>0.4069955</td>\n",
       "<td>0.0384615</td>\n",
       "<td>0.3805359</td>\n",
       "<td>2.3680785</td>\n",
       "<td>0.0448361</td>\n",
       "<td>0.2790156</td>\n",
       "<td>0.0388844</td>\n",
       "<td>0.9637973</td>\n",
       "<td>-61.9464134</td>\n",
       "<td>136.8078537</td></tr>\n",
       "<tr><td></td>\n",
       "<td>11</td>\n",
       "<td>0.5016588</td>\n",
       "<td>0.0003074</td>\n",
       "<td>0.1813033</td>\n",
       "<td>1.9554327</td>\n",
       "<td>0.0213618</td>\n",
       "<td>0.2303962</td>\n",
       "<td>0.0171628</td>\n",
       "<td>0.9809600</td>\n",
       "<td>-81.8696673</td>\n",
       "<td>95.5432663</td></tr>\n",
       "<tr><td></td>\n",
       "<td>12</td>\n",
       "<td>1.0</td>\n",
       "<td>0.0</td>\n",
       "<td>0.0382067</td>\n",
       "<td>1.0</td>\n",
       "<td>0.0045016</td>\n",
       "<td>0.1178236</td>\n",
       "<td>0.0190400</td>\n",
       "<td>1.0</td>\n",
       "<td>-96.1793330</td>\n",
       "<td>0.0</td></tr></table></div>"
      ],
      "text/plain": [
       "    group    cumulative_data_fraction    lower_threshold    lift       cumulative_lift    response_rate    cumulative_response_rate    capture_rate    cumulative_capture_rate    gain      cumulative_gain\n",
       "--  -------  --------------------------  -----------------  ---------  -----------------  ---------------  --------------------------  --------------  -------------------------  --------  -----------------\n",
       "    1        0.0102373                   0.814815           6.52262    6.52262            0.768519         0.768519                    0.0667739       0.0667739                  552.262   552.262\n",
       "    2        0.0200006                   0.746995           5.96031    6.24813            0.702265         0.736177                    0.0581925       0.124966                   496.031   524.813\n",
       "    3        0.0315018                   0.692308           5.4561     5.95896            0.642857         0.702106                    0.0627514       0.187718                   445.61    495.896\n",
       "    4        0.0413915                   0.653846           4.93509    5.71432            0.58147          0.673282                    0.0488067       0.236525                   393.509   471.432\n",
       "    5        0.0514076                   0.615385           4.95313    5.56602            0.583596         0.655808                    0.0496112       0.286136                   395.313   456.602\n",
       "    6        0.102089                    0.461538           4.46057    5.01723            0.525561         0.591148                    0.226066        0.512202                   346.057   401.723\n",
       "    7        0.152927                    0.333333           3.52889    4.52245            0.415786         0.532851                    0.179405        0.691606                   252.889   352.245\n",
       "    8        0.201491                    0.230769           2.38549    4.00739            0.281067         0.472166                    0.115849        0.807455                   138.549   300.739\n",
       "    9        0.304812                    0.0909091          1.13683    3.03437            0.133945         0.35752                     0.117458        0.924913                   13.6826   203.437\n",
       "    10       0.406995                    0.0384615          0.380536   2.36808            0.0448361        0.279016                    0.0388844       0.963797                   -61.9464  136.808\n",
       "    11       0.501659                    0.000307377        0.181303   1.95543            0.0213618        0.230396                    0.0171628       0.98096                    -81.8697  95.5433\n",
       "    12       1                           0                  0.0382067  1                  0.00450165       0.117824                    0.01904         1                          -96.1793  0"
      ]
     },
     "metadata": {},
     "output_type": "display_data"
    },
    {
     "name": "stdout",
     "output_type": "stream",
     "text": [
      "\n",
      "Cross-Validation Metrics Summary: \n"
     ]
    },
    {
     "data": {
      "text/html": [
       "<div style=\"overflow:auto\"><table style=\"width:50%\"><tr><td><b></b></td>\n",
       "<td><b>mean</b></td>\n",
       "<td><b>sd</b></td>\n",
       "<td><b>cv_1_valid</b></td>\n",
       "<td><b>cv_2_valid</b></td>\n",
       "<td><b>cv_3_valid</b></td>\n",
       "<td><b>cv_4_valid</b></td>\n",
       "<td><b>cv_5_valid</b></td></tr>\n",
       "<tr><td>accuracy</td>\n",
       "<td>0.8845808</td>\n",
       "<td>0.0060399</td>\n",
       "<td>0.86962</td>\n",
       "<td>0.8916587</td>\n",
       "<td>0.8814538</td>\n",
       "<td>0.886885</td>\n",
       "<td>0.8932869</td></tr>\n",
       "<tr><td>auc</td>\n",
       "<td>0.9182724</td>\n",
       "<td>0.0026785</td>\n",
       "<td>0.9157462</td>\n",
       "<td>0.9209911</td>\n",
       "<td>0.9168177</td>\n",
       "<td>0.9136567</td>\n",
       "<td>0.9241503</td></tr>\n",
       "<tr><td>err</td>\n",
       "<td>0.1154191</td>\n",
       "<td>0.0060399</td>\n",
       "<td>0.1303799</td>\n",
       "<td>0.1083413</td>\n",
       "<td>0.1185463</td>\n",
       "<td>0.1131150</td>\n",
       "<td>0.1067131</td></tr>\n",
       "<tr><td>err_count</td>\n",
       "<td>730.8</td>\n",
       "<td>40.460846</td>\n",
       "<td>827.0</td>\n",
       "<td>678.0</td>\n",
       "<td>760.0</td>\n",
       "<td>715.0</td>\n",
       "<td>674.0</td></tr>\n",
       "<tr><td>f0point5</td>\n",
       "<td>0.5435946</td>\n",
       "<td>0.0107998</td>\n",
       "<td>0.5168953</td>\n",
       "<td>0.5463259</td>\n",
       "<td>0.5412999</td>\n",
       "<td>0.5498008</td>\n",
       "<td>0.5636511</td></tr>\n",
       "<tr><td>f1</td>\n",
       "<td>0.60691</td>\n",
       "<td>0.0059715</td>\n",
       "<td>0.5991275</td>\n",
       "<td>0.6021127</td>\n",
       "<td>0.6033403</td>\n",
       "<td>0.6069269</td>\n",
       "<td>0.6230425</td></tr>\n",
       "<tr><td>f2</td>\n",
       "<td>0.6876460</td>\n",
       "<td>0.0106300</td>\n",
       "<td>0.7124740</td>\n",
       "<td>0.6705882</td>\n",
       "<td>0.6814430</td>\n",
       "<td>0.6773006</td>\n",
       "<td>0.6964241</td></tr>\n",
       "<tr><td>lift_top_group</td>\n",
       "<td>6.3798437</td>\n",
       "<td>0.2627986</td>\n",
       "<td>6.329697</td>\n",
       "<td>6.7492576</td>\n",
       "<td>6.8541565</td>\n",
       "<td>6.05984</td>\n",
       "<td>5.906267</td></tr>\n",
       "<tr><td>logloss</td>\n",
       "<td>0.2777598</td>\n",
       "<td>0.0132357</td>\n",
       "<td>0.2891578</td>\n",
       "<td>0.2529644</td>\n",
       "<td>0.2794759</td>\n",
       "<td>0.3052329</td>\n",
       "<td>0.2619678</td></tr>\n",
       "<tr><td>max_per_class_error</td>\n",
       "<td>0.2446960</td>\n",
       "<td>0.0224158</td>\n",
       "<td>0.1846966</td>\n",
       "<td>0.2743989</td>\n",
       "<td>0.2541935</td>\n",
       "<td>0.2659574</td>\n",
       "<td>0.2442334</td></tr>\n",
       "<tr><td>mcc</td>\n",
       "<td>0.5575829</td>\n",
       "<td>0.0063330</td>\n",
       "<td>0.5555246</td>\n",
       "<td>0.5522211</td>\n",
       "<td>0.5505062</td>\n",
       "<td>0.5545132</td>\n",
       "<td>0.5751494</td></tr>\n",
       "<tr><td>mean_per_class_accuracy</td>\n",
       "<td>0.8285404</td>\n",
       "<td>0.0071710</td>\n",
       "<td>0.8461477</td>\n",
       "<td>0.8192048</td>\n",
       "<td>0.8229564</td>\n",
       "<td>0.8207832</td>\n",
       "<td>0.8336101</td></tr>\n",
       "<tr><td>mean_per_class_error</td>\n",
       "<td>0.1714595</td>\n",
       "<td>0.0071710</td>\n",
       "<td>0.1538523</td>\n",
       "<td>0.1807952</td>\n",
       "<td>0.1770435</td>\n",
       "<td>0.1792168</td>\n",
       "<td>0.1663899</td></tr>\n",
       "<tr><td>mse</td>\n",
       "<td>0.0667867</td>\n",
       "<td>0.0011265</td>\n",
       "<td>0.0677336</td>\n",
       "<td>0.0654243</td>\n",
       "<td>0.0680364</td>\n",
       "<td>0.0683732</td>\n",
       "<td>0.0643660</td></tr>\n",
       "<tr><td>precision</td>\n",
       "<td>0.5083979</td>\n",
       "<td>0.0134161</td>\n",
       "<td>0.4735632</td>\n",
       "<td>0.5145437</td>\n",
       "<td>0.5065732</td>\n",
       "<td>0.5173383</td>\n",
       "<td>0.5299715</td></tr>\n",
       "<tr><td>r2</td>\n",
       "<td>0.3572815</td>\n",
       "<td>0.0073152</td>\n",
       "<td>0.3562740</td>\n",
       "<td>0.3471406</td>\n",
       "<td>0.3597935</td>\n",
       "<td>0.3476774</td>\n",
       "<td>0.3755221</td></tr>\n",
       "<tr><td>recall</td>\n",
       "<td>0.7553040</td>\n",
       "<td>0.0224158</td>\n",
       "<td>0.8153034</td>\n",
       "<td>0.7256011</td>\n",
       "<td>0.7458065</td>\n",
       "<td>0.7340425</td>\n",
       "<td>0.7557666</td></tr>\n",
       "<tr><td>rmse</td>\n",
       "<td>0.2584127</td>\n",
       "<td>0.0021862</td>\n",
       "<td>0.2602567</td>\n",
       "<td>0.2557818</td>\n",
       "<td>0.2608378</td>\n",
       "<td>0.2614827</td>\n",
       "<td>0.2537046</td></tr>\n",
       "<tr><td>specificity</td>\n",
       "<td>0.9017768</td>\n",
       "<td>0.0093029</td>\n",
       "<td>0.8769919</td>\n",
       "<td>0.9128085</td>\n",
       "<td>0.9001064</td>\n",
       "<td>0.9075238</td>\n",
       "<td>0.9114537</td></tr></table></div>"
      ],
      "text/plain": [
       "                         mean       sd          cv_1_valid    cv_2_valid    cv_3_valid    cv_4_valid    cv_5_valid\n",
       "-----------------------  ---------  ----------  ------------  ------------  ------------  ------------  ------------\n",
       "accuracy                 0.884581   0.0060399   0.86962       0.891659      0.881454      0.886885      0.893287\n",
       "auc                      0.918272   0.00267849  0.915746      0.920991      0.916818      0.913657      0.92415\n",
       "err                      0.115419   0.0060399   0.13038       0.108341      0.118546      0.113115      0.106713\n",
       "err_count                730.8      40.4608     827           678           760           715           674\n",
       "f0point5                 0.543595   0.0107998   0.516895      0.546326      0.5413        0.549801      0.563651\n",
       "f1                       0.60691    0.00597145  0.599128      0.602113      0.60334       0.606927      0.623043\n",
       "f2                       0.687646   0.01063     0.712474      0.670588      0.681443      0.677301      0.696424\n",
       "lift_top_group           6.37984    0.262799    6.3297        6.74926       6.85416       6.05984       5.90627\n",
       "logloss                  0.27776    0.0132357   0.289158      0.252964      0.279476      0.305233      0.261968\n",
       "max_per_class_error      0.244696   0.0224158   0.184697      0.274399      0.254194      0.265957      0.244233\n",
       "mcc                      0.557583   0.006333    0.555525      0.552221      0.550506      0.554513      0.575149\n",
       "mean_per_class_accuracy  0.82854    0.00717096  0.846148      0.819205      0.822956      0.820783      0.83361\n",
       "mean_per_class_error     0.17146    0.00717096  0.153852      0.180795      0.177044      0.179217      0.16639\n",
       "mse                      0.0667867  0.00112654  0.0677336     0.0654243     0.0680364     0.0683732     0.064366\n",
       "precision                0.508398   0.0134161   0.473563      0.514544      0.506573      0.517338      0.529972\n",
       "r2                       0.357282   0.00731519  0.356274      0.347141      0.359793      0.347677      0.375522\n",
       "recall                   0.755304   0.0224158   0.815303      0.725601      0.745806      0.734043      0.755767\n",
       "rmse                     0.258413   0.0021862   0.260257      0.255782      0.260838      0.261483      0.253705\n",
       "specificity              0.901777   0.00930294  0.876992      0.912809      0.900106      0.907524      0.911454"
      ]
     },
     "metadata": {},
     "output_type": "display_data"
    },
    {
     "name": "stdout",
     "output_type": "stream",
     "text": [
      "Scoring History: \n"
     ]
    },
    {
     "data": {
      "text/html": [
       "<div style=\"overflow:auto\"><table style=\"width:50%\"><tr><td><b></b></td>\n",
       "<td><b>timestamp</b></td>\n",
       "<td><b>duration</b></td>\n",
       "<td><b>number_of_trees</b></td>\n",
       "<td><b>training_rmse</b></td>\n",
       "<td><b>training_logloss</b></td>\n",
       "<td><b>training_auc</b></td>\n",
       "<td><b>training_lift</b></td>\n",
       "<td><b>training_classification_error</b></td>\n",
       "<td><b>validation_rmse</b></td>\n",
       "<td><b>validation_logloss</b></td>\n",
       "<td><b>validation_auc</b></td>\n",
       "<td><b>validation_lift</b></td>\n",
       "<td><b>validation_classification_error</b></td></tr>\n",
       "<tr><td></td>\n",
       "<td>2017-02-23 19:26:52</td>\n",
       "<td>54.119 sec</td>\n",
       "<td>0.0</td>\n",
       "<td>nan</td>\n",
       "<td>nan</td>\n",
       "<td>nan</td>\n",
       "<td>nan</td>\n",
       "<td>nan</td>\n",
       "<td>nan</td>\n",
       "<td>nan</td>\n",
       "<td>nan</td>\n",
       "<td>nan</td>\n",
       "<td>nan</td></tr>\n",
       "<tr><td></td>\n",
       "<td>2017-02-23 19:26:52</td>\n",
       "<td>54.203 sec</td>\n",
       "<td>1.0</td>\n",
       "<td>0.3586046</td>\n",
       "<td>4.4069587</td>\n",
       "<td>0.6914080</td>\n",
       "<td>6.7963311</td>\n",
       "<td>0.1306151</td>\n",
       "<td>0.3487614</td>\n",
       "<td>4.1692628</td>\n",
       "<td>0.7050370</td>\n",
       "<td>4.0789564</td>\n",
       "<td>0.1232119</td></tr>\n",
       "<tr><td></td>\n",
       "<td>2017-02-23 19:26:52</td>\n",
       "<td>54.313 sec</td>\n",
       "<td>2.0</td>\n",
       "<td>0.3449803</td>\n",
       "<td>3.8351851</td>\n",
       "<td>0.7177361</td>\n",
       "<td>8.1513728</td>\n",
       "<td>0.1330026</td>\n",
       "<td>0.3035062</td>\n",
       "<td>2.1248388</td>\n",
       "<td>0.7824082</td>\n",
       "<td>5.1812798</td>\n",
       "<td>0.1450376</td></tr>\n",
       "<tr><td></td>\n",
       "<td>2017-02-23 19:26:53</td>\n",
       "<td>54.495 sec</td>\n",
       "<td>3.0</td>\n",
       "<td>0.3379472</td>\n",
       "<td>3.4512549</td>\n",
       "<td>0.7361613</td>\n",
       "<td>8.4252789</td>\n",
       "<td>0.1381265</td>\n",
       "<td>0.2871126</td>\n",
       "<td>1.4264772</td>\n",
       "<td>0.8235846</td>\n",
       "<td>5.5283426</td>\n",
       "<td>0.1633240</td></tr>\n",
       "<tr><td></td>\n",
       "<td>2017-02-23 19:26:53</td>\n",
       "<td>54.658 sec</td>\n",
       "<td>4.0</td>\n",
       "<td>0.3288017</td>\n",
       "<td>3.0295213</td>\n",
       "<td>0.7510073</td>\n",
       "<td>8.4709403</td>\n",
       "<td>0.1437331</td>\n",
       "<td>0.2774813</td>\n",
       "<td>1.0749095</td>\n",
       "<td>0.8480628</td>\n",
       "<td>5.6419623</td>\n",
       "<td>0.1127415</td></tr>\n",
       "<tr><td>---</td>\n",
       "<td>---</td>\n",
       "<td>---</td>\n",
       "<td>---</td>\n",
       "<td>---</td>\n",
       "<td>---</td>\n",
       "<td>---</td>\n",
       "<td>---</td>\n",
       "<td>---</td>\n",
       "<td>---</td>\n",
       "<td>---</td>\n",
       "<td>---</td>\n",
       "<td>---</td>\n",
       "<td>---</td></tr>\n",
       "<tr><td></td>\n",
       "<td>2017-02-23 19:27:01</td>\n",
       "<td> 1 min  2.955 sec</td>\n",
       "<td>24.0</td>\n",
       "<td>0.2673525</td>\n",
       "<td>0.5440972</td>\n",
       "<td>0.8888501</td>\n",
       "<td>8.4872620</td>\n",
       "<td>0.1207937</td>\n",
       "<td>0.2514514</td>\n",
       "<td>0.2793526</td>\n",
       "<td>0.9211744</td>\n",
       "<td>6.6480392</td>\n",
       "<td>0.1048518</td></tr>\n",
       "<tr><td></td>\n",
       "<td>2017-02-23 19:27:02</td>\n",
       "<td> 1 min  3.608 sec</td>\n",
       "<td>25.0</td>\n",
       "<td>0.2665146</td>\n",
       "<td>0.5211094</td>\n",
       "<td>0.8913222</td>\n",
       "<td>8.4872620</td>\n",
       "<td>0.1240482</td>\n",
       "<td>0.2509901</td>\n",
       "<td>0.2789712</td>\n",
       "<td>0.9215679</td>\n",
       "<td>6.5360565</td>\n",
       "<td>0.1086123</td></tr>\n",
       "<tr><td></td>\n",
       "<td>2017-02-23 19:27:02</td>\n",
       "<td> 1 min  4.296 sec</td>\n",
       "<td>26.0</td>\n",
       "<td>0.2657235</td>\n",
       "<td>0.5034343</td>\n",
       "<td>0.8936158</td>\n",
       "<td>8.4872620</td>\n",
       "<td>0.1165598</td>\n",
       "<td>0.2506824</td>\n",
       "<td>0.2740809</td>\n",
       "<td>0.9222134</td>\n",
       "<td>6.8376549</td>\n",
       "<td>0.1019761</td></tr>\n",
       "<tr><td></td>\n",
       "<td>2017-02-23 19:27:03</td>\n",
       "<td> 1 min  5.003 sec</td>\n",
       "<td>27.0</td>\n",
       "<td>0.2652347</td>\n",
       "<td>0.4889971</td>\n",
       "<td>0.8951120</td>\n",
       "<td>8.4872620</td>\n",
       "<td>0.1175077</td>\n",
       "<td>0.2504942</td>\n",
       "<td>0.2715189</td>\n",
       "<td>0.9226019</td>\n",
       "<td>6.7968065</td>\n",
       "<td>0.1033033</td></tr>\n",
       "<tr><td></td>\n",
       "<td>2017-02-23 19:27:04</td>\n",
       "<td> 1 min  5.789 sec</td>\n",
       "<td>28.0</td>\n",
       "<td>0.2649107</td>\n",
       "<td>0.4767588</td>\n",
       "<td>0.8961257</td>\n",
       "<td>8.4872620</td>\n",
       "<td>0.1173813</td>\n",
       "<td>0.2503156</td>\n",
       "<td>0.2689765</td>\n",
       "<td>0.9230989</td>\n",
       "<td>6.7489710</td>\n",
       "<td>0.1019024</td></tr></table></div>"
      ],
      "text/plain": [
       "     timestamp            duration          number_of_trees    training_rmse    training_logloss    training_auc    training_lift    training_classification_error    validation_rmse    validation_logloss    validation_auc    validation_lift    validation_classification_error\n",
       "---  -------------------  ----------------  -----------------  ---------------  ------------------  --------------  ---------------  -------------------------------  -----------------  --------------------  ----------------  -----------------  ---------------------------------\n",
       "     2017-02-23 19:26:52  54.119 sec        0.0                nan              nan                 nan             nan              nan                              nan                nan                   nan               nan                nan\n",
       "     2017-02-23 19:26:52  54.203 sec        1.0                0.358604607381   4.40695870586       0.691407985982  6.79633109703    0.130615065653                   0.348761354858     4.16926282488         0.705036954311    4.07895642013      0.123211915647\n",
       "     2017-02-23 19:26:52  54.313 sec        2.0                0.344980279221   3.83518513968       0.717736110561  8.15137280672    0.133002610966                   0.30350624143      2.12483884968         0.78240819372     5.18127984718      0.145037605073\n",
       "     2017-02-23 19:26:53  54.495 sec        3.0                0.337947229456   3.45125486972       0.736161319686  8.42527886647    0.138126453796                   0.287112563459     1.42647722543         0.823584557488    5.52834260503      0.163323993511\n",
       "     2017-02-23 19:26:53  54.658 sec        4.0                0.328801724439   3.02952126921       0.751007261024  8.47094034284    0.143733072525                   0.277481312503     1.07490946219         0.848062822863    5.64196232339      0.112741483557\n",
       "---  ---                  ---               ---                ---              ---                 ---             ---              ---                              ---                ---                   ---               ---                ---\n",
       "     2017-02-23 19:27:01  1 min  2.955 sec  24.0               0.267352547634   0.544097242275      0.888850115566  8.48726200054    0.120793705962                   0.251451423109     0.279352605587        0.921174355556    6.64803921569      0.104851791771\n",
       "     2017-02-23 19:27:02  1 min  3.608 sec  25.0               0.266514636747   0.521109364067      0.891322173032  8.48726200054    0.12404815318                    0.250990051318     0.278971208177        0.921567853007    6.53605652255      0.108612299071\n",
       "     2017-02-23 19:27:02  1 min  4.296 sec  26.0               0.26572347191    0.503434304529      0.893615819746  8.48726200054    0.116559764921                   0.250682350718     0.274080944952        0.92221341849     6.83765485451      0.101976109718\n",
       "     2017-02-23 19:27:03  1 min  5.003 sec  27.0               0.265234732306   0.488997054142      0.895112016019  8.48726200054    0.117507662169                   0.250494229836     0.271518866146        0.92260194882     6.79680652681      0.103303347589\n",
       "     2017-02-23 19:27:04  1 min  5.789 sec  28.0               0.264910662474   0.47675875444       0.896125706055  8.48726200054    0.11738127587                    0.250315639403     0.268976543602        0.923098927956    6.74897098516      0.101902374281"
      ]
     },
     "metadata": {},
     "output_type": "display_data"
    },
    {
     "name": "stdout",
     "output_type": "stream",
     "text": [
      "\n",
      "See the whole table with table.as_data_frame()\n",
      "Variable Importances: \n"
     ]
    },
    {
     "data": {
      "text/html": [
       "<div style=\"overflow:auto\"><table style=\"width:50%\"><tr><td><b>variable</b></td>\n",
       "<td><b>relative_importance</b></td>\n",
       "<td><b>scaled_importance</b></td>\n",
       "<td><b>percentage</b></td></tr>\n",
       "<tr><td>duration</td>\n",
       "<td>16109.1289062</td>\n",
       "<td>1.0</td>\n",
       "<td>0.2709734</td></tr>\n",
       "<tr><td>month</td>\n",
       "<td>7392.9511719</td>\n",
       "<td>0.4589293</td>\n",
       "<td>0.1243576</td></tr>\n",
       "<tr><td>age</td>\n",
       "<td>5529.1386719</td>\n",
       "<td>0.3432301</td>\n",
       "<td>0.0930062</td></tr>\n",
       "<tr><td>poutcome</td>\n",
       "<td>5217.3823242</td>\n",
       "<td>0.3238774</td>\n",
       "<td>0.0877621</td></tr>\n",
       "<tr><td>day</td>\n",
       "<td>5088.8173828</td>\n",
       "<td>0.3158965</td>\n",
       "<td>0.0855995</td></tr>\n",
       "<tr><td>job</td>\n",
       "<td>4493.6137695</td>\n",
       "<td>0.2789483</td>\n",
       "<td>0.0755875</td></tr>\n",
       "<tr><td>balance</td>\n",
       "<td>3706.7463379</td>\n",
       "<td>0.2301022</td>\n",
       "<td>0.0623516</td></tr>\n",
       "<tr><td>pdays</td>\n",
       "<td>2460.3674316</td>\n",
       "<td>0.1527313</td>\n",
       "<td>0.0413861</td></tr>\n",
       "<tr><td>campaign</td>\n",
       "<td>2097.1188965</td>\n",
       "<td>0.1301820</td>\n",
       "<td>0.0352759</td></tr>\n",
       "<tr><td>education</td>\n",
       "<td>1719.0817871</td>\n",
       "<td>0.1067148</td>\n",
       "<td>0.0289169</td></tr>\n",
       "<tr><td>marital</td>\n",
       "<td>1403.2259522</td>\n",
       "<td>0.0871075</td>\n",
       "<td>0.0236038</td></tr>\n",
       "<tr><td>contact</td>\n",
       "<td>1211.5206299</td>\n",
       "<td>0.0752071</td>\n",
       "<td>0.0203791</td></tr>\n",
       "<tr><td>housing</td>\n",
       "<td>1178.2987060</td>\n",
       "<td>0.0731448</td>\n",
       "<td>0.0198203</td></tr>\n",
       "<tr><td>previous</td>\n",
       "<td>1147.6506348</td>\n",
       "<td>0.0712423</td>\n",
       "<td>0.0193048</td></tr>\n",
       "<tr><td>loan</td>\n",
       "<td>580.8748169</td>\n",
       "<td>0.0360587</td>\n",
       "<td>0.0097710</td></tr>\n",
       "<tr><td>default</td>\n",
       "<td>113.2086563</td>\n",
       "<td>0.0070276</td>\n",
       "<td>0.0019043</td></tr></table></div>"
      ],
      "text/plain": [
       "variable    relative_importance    scaled_importance    percentage\n",
       "----------  ---------------------  -------------------  ------------\n",
       "duration    16109.1                1                    0.270973\n",
       "month       7392.95                0.458929             0.124358\n",
       "age         5529.14                0.34323              0.0930062\n",
       "poutcome    5217.38                0.323877             0.0877621\n",
       "day         5088.82                0.315896             0.0855995\n",
       "job         4493.61                0.278948             0.0755875\n",
       "balance     3706.75                0.230102             0.0623516\n",
       "pdays       2460.37                0.152731             0.0413861\n",
       "campaign    2097.12                0.130182             0.0352759\n",
       "education   1719.08                0.106715             0.0289169\n",
       "marital     1403.23                0.0871075            0.0236038\n",
       "contact     1211.52                0.0752071            0.0203791\n",
       "housing     1178.3                 0.0731448            0.0198203\n",
       "previous    1147.65                0.0712423            0.0193048\n",
       "loan        580.875                0.0360587            0.00977096\n",
       "default     113.209                0.00702761           0.00190429"
      ]
     },
     "metadata": {},
     "output_type": "display_data"
    },
    {
     "name": "stdout",
     "output_type": "stream",
     "text": [
      "<bound method ?.accuracy of >\n"
     ]
    }
   ],
   "source": [
    "print rf.accuracy"
   ]
  },
  {
   "cell_type": "code",
   "execution_count": 69,
   "metadata": {
    "collapsed": false
   },
   "outputs": [
    {
     "name": "stdout",
     "output_type": "stream",
     "text": [
      "0.822187326635\n"
     ]
    }
   ],
   "source": [
    "print rf.auc()"
   ]
  },
  {
   "cell_type": "code",
   "execution_count": null,
   "metadata": {
    "collapsed": true
   },
   "outputs": [],
   "source": [
    "h2o.shutdown(prompt=False)"
   ]
  }
 ],
 "metadata": {
  "kernelspec": {
   "display_name": "Python 2",
   "language": "python",
   "name": "python2"
  },
  "language_info": {
   "codemirror_mode": {
    "name": "ipython",
    "version": 2
   },
   "file_extension": ".py",
   "mimetype": "text/x-python",
   "name": "python",
   "nbconvert_exporter": "python",
   "pygments_lexer": "ipython2",
   "version": "2.7.11"
  }
 },
 "nbformat": 4,
 "nbformat_minor": 1
}
