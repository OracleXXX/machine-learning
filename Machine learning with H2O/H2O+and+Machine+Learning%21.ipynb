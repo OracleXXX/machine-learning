{
 "cells": [
  {
   "cell_type": "code",
   "execution_count": 1,
   "metadata": {
    "collapsed": true
   },
   "outputs": [],
   "source": [
    "## first step is to import h2o module\n",
    "## make sure h20 is installed\n",
    "## pip install h2o \n",
    "## or it can be installed from h2o git for the latest version\n",
    "import h2o"
   ]
  },
  {
   "cell_type": "code",
   "execution_count": 3,
   "metadata": {
    "collapsed": false,
    "scrolled": false
   },
   "outputs": [
    {
     "name": "stdout",
     "output_type": "stream",
     "text": [
      "Checking whether there is an H2O instance running at http://localhost:54321. connected.\n"
     ]
    },
    {
     "data": {
      "text/html": [
       "<div style=\"overflow:auto\"><table style=\"width:50%\"><tr><td>H2O cluster uptime:</td>\n",
       "<td>25 secs</td></tr>\n",
       "<tr><td>H2O cluster version:</td>\n",
       "<td>3.10.3.4</td></tr>\n",
       "<tr><td>H2O cluster version age:</td>\n",
       "<td>2 months </td></tr>\n",
       "<tr><td>H2O cluster name:</td>\n",
       "<td>H2O_from_python_Hari_2p2iss</td></tr>\n",
       "<tr><td>H2O cluster total nodes:</td>\n",
       "<td>1</td></tr>\n",
       "<tr><td>H2O cluster free memory:</td>\n",
       "<td>869 Mb</td></tr>\n",
       "<tr><td>H2O cluster total cores:</td>\n",
       "<td>4</td></tr>\n",
       "<tr><td>H2O cluster allowed cores:</td>\n",
       "<td>4</td></tr>\n",
       "<tr><td>H2O cluster status:</td>\n",
       "<td>locked, healthy</td></tr>\n",
       "<tr><td>H2O connection url:</td>\n",
       "<td>http://localhost:54321</td></tr>\n",
       "<tr><td>H2O connection proxy:</td>\n",
       "<td>None</td></tr>\n",
       "<tr><td>Python version:</td>\n",
       "<td>2.7.11 final</td></tr></table></div>"
      ],
      "text/plain": [
       "--------------------------  ---------------------------\n",
       "H2O cluster uptime:         25 secs\n",
       "H2O cluster version:        3.10.3.4\n",
       "H2O cluster version age:    2 months\n",
       "H2O cluster name:           H2O_from_python_Hari_2p2iss\n",
       "H2O cluster total nodes:    1\n",
       "H2O cluster free memory:    869 Mb\n",
       "H2O cluster total cores:    4\n",
       "H2O cluster allowed cores:  4\n",
       "H2O cluster status:         locked, healthy\n",
       "H2O connection url:         http://localhost:54321\n",
       "H2O connection proxy:\n",
       "Python version:             2.7.11 final\n",
       "--------------------------  ---------------------------"
      ]
     },
     "metadata": {},
     "output_type": "display_data"
    }
   ],
   "source": [
    "h2o.init()\n",
    "# h2o.init(ip, port) -- use this when h2o is installed on a separate machine in the network\n",
    "# h2o.init(nthreads = -1, max_mem_size = 8) # nthreads uses all possible cores. mem size is what h2o will work on\n",
    "# h2o.remove_all()  #clean slate, in case cluster was already running"
   ]
  },
  {
   "cell_type": "code",
   "execution_count": 4,
   "metadata": {
    "collapsed": false
   },
   "outputs": [
    {
     "name": "stdout",
     "output_type": "stream",
     "text": [
      "Parse progress: |█████████████████████████████████████████████████████████| 100%\n"
     ]
    },
    {
     "data": {
      "text/html": [
       "<table>\n",
       "<thead>\n",
       "<tr><th style=\"text-align: right;\">  C1</th><th>C2  </th><th style=\"text-align: right;\">  C3</th></tr>\n",
       "</thead>\n",
       "<tbody>\n",
       "<tr><td style=\"text-align: right;\">   1</td><td>a   </td><td style=\"text-align: right;\"> 0.1</td></tr>\n",
       "<tr><td style=\"text-align: right;\">   2</td><td>b   </td><td style=\"text-align: right;\"> 0.2</td></tr>\n",
       "<tr><td style=\"text-align: right;\">   3</td><td>c   </td><td style=\"text-align: right;\"> 0.3</td></tr>\n",
       "</tbody>\n",
       "</table>"
      ]
     },
     "metadata": {},
     "output_type": "display_data"
    },
    {
     "name": "stdout",
     "output_type": "stream",
     "text": [
      "\n",
      "Parse progress: |█████████████████████████████████████████████████████████| 100%\n"
     ]
    },
    {
     "data": {
      "text/html": [
       "<table>\n",
       "<thead>\n",
       "<tr><th style=\"text-align: right;\">  C1</th><th>C2  </th><th style=\"text-align: right;\">  C3</th></tr>\n",
       "</thead>\n",
       "<tbody>\n",
       "<tr><td style=\"text-align: right;\">   1</td><td>a   </td><td style=\"text-align: right;\"> 0.1</td></tr>\n",
       "<tr><td style=\"text-align: right;\">   2</td><td>b   </td><td style=\"text-align: right;\"> 0.2</td></tr>\n",
       "<tr><td style=\"text-align: right;\">   3</td><td>c   </td><td style=\"text-align: right;\"> 0.3</td></tr>\n",
       "</tbody>\n",
       "</table>"
      ]
     },
     "metadata": {},
     "output_type": "display_data"
    },
    {
     "name": "stdout",
     "output_type": "stream",
     "text": [
      "\n"
     ]
    }
   ],
   "source": [
    "## h2o's syntax is very similar to python's scikit learn\n",
    "\n",
    "## initiate a h2o dataframe with tupple\n",
    "df = h2o.H2OFrame(zip(*((1, 2, 3), ('a', 'b', 'c'), (0.1, 0.2, 0.3))))\n",
    "print df\n",
    "\n",
    "## initiate a h2o dataframe with list\n",
    "df = h2o.H2OFrame(zip(*[[1, 2, 3], ['a', 'b', 'c'], [0.1, 0.2, 0.3]]))\n",
    "print df"
   ]
  },
  {
   "cell_type": "code",
   "execution_count": 5,
   "metadata": {
    "collapsed": false
   },
   "outputs": [
    {
     "name": "stdout",
     "output_type": "stream",
     "text": [
      "Parse progress: |█████████████████████████████████████████████████████████| 100%\n"
     ]
    },
    {
     "data": {
      "text/html": [
       "<table>\n",
       "<thead>\n",
       "<tr><th style=\"text-align: right;\">  A</th><th style=\"text-align: right;\">  C</th><th>B  </th></tr>\n",
       "</thead>\n",
       "<tbody>\n",
       "<tr><td style=\"text-align: right;\">  1</td><td style=\"text-align: right;\">0.1</td><td>a  </td></tr>\n",
       "<tr><td style=\"text-align: right;\">  2</td><td style=\"text-align: right;\">0.2</td><td>b  </td></tr>\n",
       "<tr><td style=\"text-align: right;\">  3</td><td style=\"text-align: right;\">0.3</td><td>c  </td></tr>\n",
       "</tbody>\n",
       "</table>"
      ]
     },
     "metadata": {},
     "output_type": "display_data"
    },
    {
     "name": "stdout",
     "output_type": "stream",
     "text": [
      "\n",
      "{u'A': u'int', u'C': u'real', u'B': u'string'}\n"
     ]
    }
   ],
   "source": [
    "## initialize an h2o frame using a dictionary\n",
    "## this can enable us to name the columns\n",
    "df = h2o.H2OFrame({'A': [1, 2, 3],'B': ['a', 'b', 'c'],'C': [0.1, 0.2, 0.3]})\n",
    "print df\n",
    "print df.types"
   ]
  },
  {
   "cell_type": "code",
   "execution_count": 6,
   "metadata": {
    "collapsed": false
   },
   "outputs": [
    {
     "name": "stdout",
     "output_type": "stream",
     "text": [
      "Parse progress: |█████████████████████████████████████████████████████████| 100%\n"
     ]
    },
    {
     "data": {
      "text/html": [
       "<table>\n",
       "<thead>\n",
       "<tr><th style=\"text-align: right;\">  A</th><th>C    </th><th>B  </th><th>D                  </th></tr>\n",
       "</thead>\n",
       "<tbody>\n",
       "<tr><td style=\"text-align: right;\">  1</td><td>hello</td><td>a  </td><td>2015-03-12 11:00:00</td></tr>\n",
       "<tr><td style=\"text-align: right;\">  2</td><td>all  </td><td>a  </td><td>2015-03-13 12:00:00</td></tr>\n",
       "<tr><td style=\"text-align: right;\">  3</td><td>world</td><td>b  </td><td>2015-03-14 13:00:00</td></tr>\n",
       "</tbody>\n",
       "</table>"
      ]
     },
     "metadata": {},
     "output_type": "display_data"
    },
    {
     "name": "stdout",
     "output_type": "stream",
     "text": [
      "\n",
      "{u'A': u'int', u'C': u'enum', u'B': u'string', u'D': u'time'}\n"
     ]
    }
   ],
   "source": [
    "df = h2o.H2OFrame.from_python({'A': [1, 2, 3], 'B': ['a', 'a', 'b'], 'C': ['hello', 'all', 'world'], \\\n",
    "                               'D': ['12MAR2015:11:00:00', '13MAR2015:12:00:00', '14MAR2015:13:00:00']},\\\n",
    "                              column_types=['numeric', 'enum', 'string', 'time'])\n",
    "\n",
    "print df\n",
    "print df.types"
   ]
  },
  {
   "cell_type": "code",
   "execution_count": 7,
   "metadata": {
    "collapsed": false
   },
   "outputs": [
    {
     "name": "stdout",
     "output_type": "stream",
     "text": [
      "Parse progress: |█████████████████████████████████████████████████████████| 100%\n"
     ]
    }
   ],
   "source": [
    "## generate a dataframe using randomly created numbers\n",
    "import numpy as np\n",
    "df = h2o.H2OFrame.from_python(np.random.randn(100,4).tolist(), column_names=list('ABCD'))"
   ]
  },
  {
   "cell_type": "code",
   "execution_count": 9,
   "metadata": {
    "collapsed": false
   },
   "outputs": [
    {
     "data": {
      "text/html": [
       "<table>\n",
       "<thead>\n",
       "<tr><th style=\"text-align: right;\">        A</th><th style=\"text-align: right;\">         B</th><th style=\"text-align: right;\">        C</th><th style=\"text-align: right;\">        D</th></tr>\n",
       "</thead>\n",
       "<tbody>\n",
       "<tr><td style=\"text-align: right;\">-1.03543 </td><td style=\"text-align: right;\"> 0.909379 </td><td style=\"text-align: right;\"> 0.994444</td><td style=\"text-align: right;\"> 0.373655</td></tr>\n",
       "<tr><td style=\"text-align: right;\"> 0.974353</td><td style=\"text-align: right;\">-0.0169278</td><td style=\"text-align: right;\">-0.571329</td><td style=\"text-align: right;\">-1.08699 </td></tr>\n",
       "</tbody>\n",
       "</table>"
      ]
     },
     "metadata": {},
     "output_type": "display_data"
    },
    {
     "data": {
      "text/plain": []
     },
     "execution_count": 9,
     "metadata": {},
     "output_type": "execute_result"
    }
   ],
   "source": [
    "## see the top 10 rows of the h2o dataframe\n",
    "df.head(2) ## df.head(2)"
   ]
  },
  {
   "cell_type": "code",
   "execution_count": 10,
   "metadata": {
    "collapsed": false
   },
   "outputs": [
    {
     "data": {
      "text/html": [
       "<table>\n",
       "<thead>\n",
       "<tr><th style=\"text-align: right;\">         A</th><th style=\"text-align: right;\">        B</th><th style=\"text-align: right;\">        C</th><th style=\"text-align: right;\">         D</th></tr>\n",
       "</thead>\n",
       "<tbody>\n",
       "<tr><td style=\"text-align: right;\"> 1.6099   </td><td style=\"text-align: right;\">-0.29257 </td><td style=\"text-align: right;\">-0.766423</td><td style=\"text-align: right;\">-0.293612 </td></tr>\n",
       "<tr><td style=\"text-align: right;\">-0.0161793</td><td style=\"text-align: right;\">-1.9786  </td><td style=\"text-align: right;\"> 0.764942</td><td style=\"text-align: right;\"> 0.50233  </td></tr>\n",
       "<tr><td style=\"text-align: right;\">-2.5635   </td><td style=\"text-align: right;\"> 1.72895 </td><td style=\"text-align: right;\"> 0.171417</td><td style=\"text-align: right;\"> 2.49418  </td></tr>\n",
       "<tr><td style=\"text-align: right;\">-1.64574  </td><td style=\"text-align: right;\">-0.649679</td><td style=\"text-align: right;\"> 0.851393</td><td style=\"text-align: right;\">-0.0257901</td></tr>\n",
       "<tr><td style=\"text-align: right;\"> 0.681083 </td><td style=\"text-align: right;\"> 1.99798 </td><td style=\"text-align: right;\"> 0.362346</td><td style=\"text-align: right;\"> 0.795162 </td></tr>\n",
       "<tr><td style=\"text-align: right;\"> 0.59534  </td><td style=\"text-align: right;\"> 0.253213</td><td style=\"text-align: right;\"> 0.305017</td><td style=\"text-align: right;\">-0.49355  </td></tr>\n",
       "<tr><td style=\"text-align: right;\">-0.147343 </td><td style=\"text-align: right;\">-0.654514</td><td style=\"text-align: right;\"> 0.326571</td><td style=\"text-align: right;\"> 0.150587 </td></tr>\n",
       "<tr><td style=\"text-align: right;\">-1.38354  </td><td style=\"text-align: right;\">-1.00327 </td><td style=\"text-align: right;\"> 0.02295 </td><td style=\"text-align: right;\"> 1.22599  </td></tr>\n",
       "<tr><td style=\"text-align: right;\">-1.01918  </td><td style=\"text-align: right;\"> 0.173406</td><td style=\"text-align: right;\">-0.264354</td><td style=\"text-align: right;\">-0.883294 </td></tr>\n",
       "<tr><td style=\"text-align: right;\">-0.769345 </td><td style=\"text-align: right;\">-0.160151</td><td style=\"text-align: right;\"> 0.385937</td><td style=\"text-align: right;\">-0.430516 </td></tr>\n",
       "</tbody>\n",
       "</table>"
      ]
     },
     "metadata": {},
     "output_type": "display_data"
    },
    {
     "data": {
      "text/plain": []
     },
     "execution_count": 10,
     "metadata": {},
     "output_type": "execute_result"
    }
   ],
   "source": [
    "## see the last 10 rows of the dataframe\n",
    "df.tail() # df.tail(2)"
   ]
  },
  {
   "cell_type": "code",
   "execution_count": 11,
   "metadata": {
    "collapsed": false
   },
   "outputs": [
    {
     "data": {
      "text/plain": [
       "[u'A', u'B', u'C', u'D']"
      ]
     },
     "execution_count": 11,
     "metadata": {},
     "output_type": "execute_result"
    }
   ],
   "source": [
    "## get the column names ## same as that in sklearn\n",
    "df.columns"
   ]
  },
  {
   "cell_type": "code",
   "execution_count": 12,
   "metadata": {
    "collapsed": false
   },
   "outputs": [
    {
     "name": "stdout",
     "output_type": "stream",
     "text": [
      "Rows:100\n",
      "Cols:4\n",
      "\n",
      "\n"
     ]
    },
    {
     "data": {
      "text/html": [
       "<table>\n",
       "<thead>\n",
       "<tr><th>       </th><th>A               </th><th>B               </th><th>C                </th><th>D               </th></tr>\n",
       "</thead>\n",
       "<tbody>\n",
       "<tr><td>type   </td><td>real            </td><td>real            </td><td>real             </td><td>real            </td></tr>\n",
       "<tr><td>mins   </td><td>-3.02012750236  </td><td>-2.98638960275  </td><td>-2.57208429425   </td><td>-2.4369225965   </td></tr>\n",
       "<tr><td>mean   </td><td>-0.0715529345131</td><td>-0.0178428779686</td><td>-0.0225369614545 </td><td>0.0713415205026 </td></tr>\n",
       "<tr><td>maxs   </td><td>3.90130990131   </td><td>2.73108841508   </td><td>2.75166106298    </td><td>3.48332225106   </td></tr>\n",
       "<tr><td>sigma  </td><td>1.20921873371   </td><td>0.977444966177  </td><td>1.06953137966    </td><td>1.09328346902   </td></tr>\n",
       "<tr><td>zeros  </td><td>0               </td><td>0               </td><td>0                </td><td>0               </td></tr>\n",
       "<tr><td>missing</td><td>0               </td><td>0               </td><td>0                </td><td>0               </td></tr>\n",
       "<tr><td>0      </td><td>-1.03542620857  </td><td>0.909378842725  </td><td>0.994444034398   </td><td>0.373655390315  </td></tr>\n",
       "<tr><td>1      </td><td>0.97435274277   </td><td>-0.0169277574882</td><td>-0.571328989491  </td><td>-1.08699268481  </td></tr>\n",
       "<tr><td>2      </td><td>2.40537107008   </td><td>0.367050331205  </td><td>-1.51747799918   </td><td>0.799445681213  </td></tr>\n",
       "<tr><td>3      </td><td>3.90130990131   </td><td>0.452033346865  </td><td>0.157483378279   </td><td>0.182914892577  </td></tr>\n",
       "<tr><td>4      </td><td>-0.0761140947523</td><td>-1.38733053721  </td><td>-1.34164958252   </td><td>-0.648680751441 </td></tr>\n",
       "<tr><td>5      </td><td>-3.02012750236  </td><td>0.749366903521  </td><td>-1.31954645446   </td><td>0.385412678893  </td></tr>\n",
       "<tr><td>6      </td><td>-0.759711681356 </td><td>-0.0714152522418</td><td>1.31607882942    </td><td>-0.0380845861496</td></tr>\n",
       "<tr><td>7      </td><td>-0.698606778574 </td><td>2.73108841508   </td><td>-0.994619496684  </td><td>-1.97881916581  </td></tr>\n",
       "<tr><td>8      </td><td>-0.203799035358 </td><td>-0.910066202297 </td><td>0.678528153564   </td><td>3.48332225106   </td></tr>\n",
       "<tr><td>9      </td><td>0.282422876669  </td><td>-0.432435748732 </td><td>0.000752552885474</td><td>0.375912458446  </td></tr>\n",
       "</tbody>\n",
       "</table>"
      ]
     },
     "metadata": {},
     "output_type": "display_data"
    }
   ],
   "source": [
    "## give a basic summary about the h2o dataframe\n",
    "df.describe()"
   ]
  },
  {
   "cell_type": "code",
   "execution_count": 13,
   "metadata": {
    "collapsed": false
   },
   "outputs": [
    {
     "data": {
      "text/html": [
       "<table>\n",
       "<thead>\n",
       "<tr><th style=\"text-align: right;\">         A</th></tr>\n",
       "</thead>\n",
       "<tbody>\n",
       "<tr><td style=\"text-align: right;\">-1.03543  </td></tr>\n",
       "<tr><td style=\"text-align: right;\"> 0.974353 </td></tr>\n",
       "<tr><td style=\"text-align: right;\"> 2.40537  </td></tr>\n",
       "<tr><td style=\"text-align: right;\"> 3.90131  </td></tr>\n",
       "<tr><td style=\"text-align: right;\">-0.0761141</td></tr>\n",
       "<tr><td style=\"text-align: right;\">-3.02013  </td></tr>\n",
       "<tr><td style=\"text-align: right;\">-0.759712 </td></tr>\n",
       "<tr><td style=\"text-align: right;\">-0.698607 </td></tr>\n",
       "<tr><td style=\"text-align: right;\">-0.203799 </td></tr>\n",
       "<tr><td style=\"text-align: right;\"> 0.282423 </td></tr>\n",
       "</tbody>\n",
       "</table>"
      ]
     },
     "metadata": {},
     "output_type": "display_data"
    },
    {
     "data": {
      "text/plain": []
     },
     "execution_count": 13,
     "metadata": {},
     "output_type": "execute_result"
    }
   ],
   "source": [
    "## subsetting the h2o dataframe. take out the column A. By column name\n",
    "df['A']"
   ]
  },
  {
   "cell_type": "code",
   "execution_count": 14,
   "metadata": {
    "collapsed": false
   },
   "outputs": [
    {
     "data": {
      "text/html": [
       "<table>\n",
       "<thead>\n",
       "<tr><th style=\"text-align: right;\">         B</th></tr>\n",
       "</thead>\n",
       "<tbody>\n",
       "<tr><td style=\"text-align: right;\"> 0.909379 </td></tr>\n",
       "<tr><td style=\"text-align: right;\">-0.0169278</td></tr>\n",
       "<tr><td style=\"text-align: right;\"> 0.36705  </td></tr>\n",
       "<tr><td style=\"text-align: right;\"> 0.452033 </td></tr>\n",
       "<tr><td style=\"text-align: right;\">-1.38733  </td></tr>\n",
       "<tr><td style=\"text-align: right;\"> 0.749367 </td></tr>\n",
       "<tr><td style=\"text-align: right;\">-0.0714153</td></tr>\n",
       "<tr><td style=\"text-align: right;\"> 2.73109  </td></tr>\n",
       "<tr><td style=\"text-align: right;\">-0.910066 </td></tr>\n",
       "<tr><td style=\"text-align: right;\">-0.432436 </td></tr>\n",
       "</tbody>\n",
       "</table>"
      ]
     },
     "metadata": {},
     "output_type": "display_data"
    },
    {
     "data": {
      "text/plain": []
     },
     "execution_count": 14,
     "metadata": {},
     "output_type": "execute_result"
    }
   ],
   "source": [
    "## subset the h2o dataframe using index\n",
    "df[1]"
   ]
  },
  {
   "cell_type": "code",
   "execution_count": 15,
   "metadata": {
    "collapsed": false
   },
   "outputs": [
    {
     "data": {
      "text/html": [
       "<table>\n",
       "<thead>\n",
       "<tr><th style=\"text-align: right;\">         B</th><th style=\"text-align: right;\">           C</th></tr>\n",
       "</thead>\n",
       "<tbody>\n",
       "<tr><td style=\"text-align: right;\"> 0.909379 </td><td style=\"text-align: right;\"> 0.994444   </td></tr>\n",
       "<tr><td style=\"text-align: right;\">-0.0169278</td><td style=\"text-align: right;\">-0.571329   </td></tr>\n",
       "<tr><td style=\"text-align: right;\"> 0.36705  </td><td style=\"text-align: right;\">-1.51748    </td></tr>\n",
       "<tr><td style=\"text-align: right;\"> 0.452033 </td><td style=\"text-align: right;\"> 0.157483   </td></tr>\n",
       "<tr><td style=\"text-align: right;\">-1.38733  </td><td style=\"text-align: right;\">-1.34165    </td></tr>\n",
       "<tr><td style=\"text-align: right;\"> 0.749367 </td><td style=\"text-align: right;\">-1.31955    </td></tr>\n",
       "<tr><td style=\"text-align: right;\">-0.0714153</td><td style=\"text-align: right;\"> 1.31608    </td></tr>\n",
       "<tr><td style=\"text-align: right;\"> 2.73109  </td><td style=\"text-align: right;\">-0.994619   </td></tr>\n",
       "<tr><td style=\"text-align: right;\">-0.910066 </td><td style=\"text-align: right;\"> 0.678528   </td></tr>\n",
       "<tr><td style=\"text-align: right;\">-0.432436 </td><td style=\"text-align: right;\"> 0.000752553</td></tr>\n",
       "</tbody>\n",
       "</table>"
      ]
     },
     "metadata": {},
     "output_type": "display_data"
    },
    {
     "data": {
      "text/plain": []
     },
     "execution_count": 15,
     "metadata": {},
     "output_type": "execute_result"
    }
   ],
   "source": [
    "## subset more than one columns\n",
    "df[['B', 'C']]"
   ]
  },
  {
   "cell_type": "code",
   "execution_count": 17,
   "metadata": {
    "collapsed": false
   },
   "outputs": [
    {
     "name": "stdout",
     "output_type": "stream",
     "text": [
      "Parse progress: |█████████████████████████████████████████████████████████| 100%\n"
     ]
    }
   ],
   "source": [
    "## Dealing with missing values in H2O\n",
    "\n",
    "## generate a h2o frame with some NA or None data\n",
    "df = h2o.H2OFrame.from_python(\n",
    "{'A': [1, 2, 3,None,''],\n",
    " 'B': ['a', 'a', 'b', 'NA', 'NA'],\n",
    " 'C': ['hello', 'all', 'world', None, None],\n",
    " 'D': ['12MAR2015:11:00:00',None,\n",
    "'13MAR2015:12:00:00',None,\n",
    " '14MAR2015:13:00:00']},\n",
    " column_types=['numeric', 'enum', 'string', 'time'])"
   ]
  },
  {
   "cell_type": "code",
   "execution_count": 18,
   "metadata": {
    "collapsed": false
   },
   "outputs": [
    {
     "data": {
      "text/html": [
       "<table>\n",
       "<thead>\n",
       "<tr><th style=\"text-align: right;\">  isNA(A)</th></tr>\n",
       "</thead>\n",
       "<tbody>\n",
       "<tr><td style=\"text-align: right;\">        0</td></tr>\n",
       "<tr><td style=\"text-align: right;\">        0</td></tr>\n",
       "<tr><td style=\"text-align: right;\">        0</td></tr>\n",
       "<tr><td style=\"text-align: right;\">        1</td></tr>\n",
       "<tr><td style=\"text-align: right;\">        1</td></tr>\n",
       "</tbody>\n",
       "</table>"
      ]
     },
     "metadata": {},
     "output_type": "display_data"
    },
    {
     "data": {
      "text/plain": []
     },
     "execution_count": 18,
     "metadata": {},
     "output_type": "execute_result"
    }
   ],
   "source": [
    "## check if the column A contains a missing value\n",
    "df[\"A\"].isna()"
   ]
  },
  {
   "cell_type": "code",
   "execution_count": 19,
   "metadata": {
    "collapsed": false
   },
   "outputs": [
    {
     "data": {
      "text/html": [
       "<table>\n",
       "<thead>\n",
       "<tr><th style=\"text-align: right;\">  isNA(A)</th></tr>\n",
       "</thead>\n",
       "<tbody>\n",
       "<tr><td style=\"text-align: right;\">        0</td></tr>\n",
       "<tr><td style=\"text-align: right;\">        0</td></tr>\n",
       "<tr><td style=\"text-align: right;\">        0</td></tr>\n",
       "<tr><td style=\"text-align: right;\">        0</td></tr>\n",
       "<tr><td style=\"text-align: right;\">        0</td></tr>\n",
       "</tbody>\n",
       "</table>"
      ]
     },
     "metadata": {},
     "output_type": "display_data"
    },
    {
     "name": "stdout",
     "output_type": "stream",
     "text": [
      "\n"
     ]
    }
   ],
   "source": [
    "## assign the missing values in column A to 5\n",
    "df[ df[\"A\"].isna(), \"A\"] = 5\n",
    "print df[\"A\"].isna()"
   ]
  },
  {
   "cell_type": "code",
   "execution_count": 20,
   "metadata": {
    "collapsed": false
   },
   "outputs": [
    {
     "name": "stdout",
     "output_type": "stream",
     "text": [
      "Parse progress: |█████████████████████████████████████████████████████████| 100%\n",
      "***NA removed***\n",
      "[2.0, nan, nan, 1426248000000.0]\n"
     ]
    }
   ],
   "source": [
    "## taking mean when NAs are present\n",
    "df = h2o.H2OFrame.from_python( {'A': [1, 2, 3,None,''],  'B': ['a', 'a', 'b', 'NA', 'NA'],  \\\n",
    "                                 'C': ['hello', 'all', 'world', None, None], 'D': ['12MAR2015:11:00:00',None, \\\n",
    "                                                                                   '13MAR2015:12:00:00',None,\\\n",
    "                                                                                   '14MAR2015:13:00:00']}, \\\n",
    "                               column_types=['numeric', 'enum', 'string', 'time']) \n",
    "\n",
    "print '***NA removed***'\n",
    "print df.mean(na_rm=True)"
   ]
  },
  {
   "cell_type": "code",
   "execution_count": 21,
   "metadata": {
    "collapsed": false
   },
   "outputs": [
    {
     "name": "stdout",
     "output_type": "stream",
     "text": [
      "Parse progress: |█████████████████████████████████████████████████████████| 100%\n"
     ]
    },
    {
     "data": {
      "text/html": [
       "<table>\n",
       "<thead>\n",
       "<tr><th style=\"text-align: right;\">        A</th><th style=\"text-align: right;\">         B</th><th style=\"text-align: right;\">         C</th><th style=\"text-align: right;\">       D</th></tr>\n",
       "</thead>\n",
       "<tbody>\n",
       "<tr><td style=\"text-align: right;\">-0.136173</td><td style=\"text-align: right;\">-0.0374335</td><td style=\"text-align: right;\">-0.0513363</td><td style=\"text-align: right;\">0.104493</td></tr>\n",
       "</tbody>\n",
       "</table>"
      ]
     },
     "metadata": {},
     "output_type": "display_data"
    },
    {
     "name": "stdout",
     "output_type": "stream",
     "text": [
      " <class 'h2o.frame.H2OFrame'>\n",
      "[-0.13617266610991108, -0.03743352538621636, -0.05133632825747932, 0.10449299515034864] <type 'list'>\n"
     ]
    }
   ],
   "source": [
    "## apply functions to multiple columns\n",
    "df = h2o.H2OFrame.from_python(np.random.randn(100,4).tolist(), column_names=list('ABCD'))\n",
    "\n",
    "## like in sklearn, apply function works well with lambda function\n",
    "print df.apply(lambda x: x.mean()), type(df.apply(lambda x: x.mean()))\n",
    "print df.mean(), type(df.mean())"
   ]
  },
  {
   "cell_type": "code",
   "execution_count": 22,
   "metadata": {
    "collapsed": false
   },
   "outputs": [
    {
     "data": {
      "text/html": [
       "<table>\n",
       "<thead>\n",
       "<tr><th style=\"text-align: right;\">       A</th><th style=\"text-align: right;\">       B</th><th style=\"text-align: right;\">       C</th><th style=\"text-align: right;\">      D</th></tr>\n",
       "</thead>\n",
       "<tbody>\n",
       "<tr><td style=\"text-align: right;\">-13.6173</td><td style=\"text-align: right;\">-3.74335</td><td style=\"text-align: right;\">-5.13363</td><td style=\"text-align: right;\">10.4493</td></tr>\n",
       "</tbody>\n",
       "</table>"
      ]
     },
     "metadata": {},
     "output_type": "display_data"
    },
    {
     "data": {
      "text/plain": []
     },
     "execution_count": 22,
     "metadata": {},
     "output_type": "execute_result"
    }
   ],
   "source": [
    "df.apply(lambda row: row.sum(), axis=0)"
   ]
  },
  {
   "cell_type": "code",
   "execution_count": 23,
   "metadata": {
    "collapsed": false
   },
   "outputs": [
    {
     "name": "stdout",
     "output_type": "stream",
     "text": [
      "Parse progress: |█████████████████████████████████████████████████████████| 100%\n"
     ]
    }
   ],
   "source": [
    "## methods to deal with strings\n",
    "df = h2o.H2OFrame.from_python(['Hello', 'World', 'Welcome', 'To', 'H2O', 'World'])"
   ]
  },
  {
   "cell_type": "code",
   "execution_count": 24,
   "metadata": {
    "collapsed": false
   },
   "outputs": [
    {
     "name": "stdout",
     "output_type": "stream",
     "text": [
      "number of l's in the dataframe are =  "
     ]
    },
    {
     "data": {
      "text/html": [
       "<table>\n",
       "<thead>\n",
       "<tr><th style=\"text-align: right;\">  C1</th></tr>\n",
       "</thead>\n",
       "<tbody>\n",
       "<tr><td style=\"text-align: right;\">   2</td></tr>\n",
       "<tr><td style=\"text-align: right;\">   1</td></tr>\n",
       "<tr><td style=\"text-align: right;\">   1</td></tr>\n",
       "<tr><td style=\"text-align: right;\">   0</td></tr>\n",
       "<tr><td style=\"text-align: right;\">   0</td></tr>\n",
       "<tr><td style=\"text-align: right;\">   1</td></tr>\n",
       "</tbody>\n",
       "</table>"
      ]
     },
     "metadata": {},
     "output_type": "display_data"
    },
    {
     "name": "stdout",
     "output_type": "stream",
     "text": [
      "\n"
     ]
    }
   ],
   "source": [
    "print 'number of l\\'s in the dataframe are = ', df.countmatches('l')"
   ]
  },
  {
   "cell_type": "code",
   "execution_count": 25,
   "metadata": {
    "collapsed": false
   },
   "outputs": [
    {
     "data": {
      "text/html": [
       "<table>\n",
       "<thead>\n",
       "<tr><th>C1     </th></tr>\n",
       "</thead>\n",
       "<tbody>\n",
       "<tr><td>Hexlo  </td></tr>\n",
       "<tr><td>Worxd  </td></tr>\n",
       "<tr><td>Wexcome</td></tr>\n",
       "<tr><td>To     </td></tr>\n",
       "<tr><td>H2O    </td></tr>\n",
       "<tr><td>Worxd  </td></tr>\n",
       "</tbody>\n",
       "</table>"
      ]
     },
     "metadata": {},
     "output_type": "display_data"
    },
    {
     "name": "stdout",
     "output_type": "stream",
     "text": [
      "\n"
     ]
    }
   ],
   "source": [
    "## substituting l with x\n",
    "print df.sub('l','x')"
   ]
  },
  {
   "cell_type": "code",
   "execution_count": 26,
   "metadata": {
    "collapsed": false
   },
   "outputs": [
    {
     "name": "stdout",
     "output_type": "stream",
     "text": [
      "Parse progress: |█████████████████████████████████████████████████████████| 100%\n",
      "Parse progress: |█████████████████████████████████████████████████████████| 100%\n"
     ]
    }
   ],
   "source": [
    "## merging / joining dataframes\n",
    "## syntax works like dataframe in R\n",
    "\n",
    "df1 = h2o.H2OFrame.from_python(np.random.randn(100,4).tolist(), column_names=list('ABCD'))\n",
    "df2 = h2o.H2OFrame.from_python(np.random.randn(100,4).tolist(), column_names=list('ABCD'))"
   ]
  },
  {
   "cell_type": "code",
   "execution_count": 27,
   "metadata": {
    "collapsed": false
   },
   "outputs": [
    {
     "data": {
      "text/html": [
       "<table>\n",
       "<thead>\n",
       "<tr><th style=\"text-align: right;\">         A</th><th style=\"text-align: right;\">        B</th><th style=\"text-align: right;\">          C</th><th style=\"text-align: right;\">         D</th></tr>\n",
       "</thead>\n",
       "<tbody>\n",
       "<tr><td style=\"text-align: right;\">-0.336579 </td><td style=\"text-align: right;\"> 1.05786 </td><td style=\"text-align: right;\"> 0.630106  </td><td style=\"text-align: right;\">-0.224133 </td></tr>\n",
       "<tr><td style=\"text-align: right;\">-0.322339 </td><td style=\"text-align: right;\"> 0.979067</td><td style=\"text-align: right;\">-1.32546   </td><td style=\"text-align: right;\">-0.943295 </td></tr>\n",
       "<tr><td style=\"text-align: right;\"> 0.724562 </td><td style=\"text-align: right;\">-0.228323</td><td style=\"text-align: right;\">-1.92471   </td><td style=\"text-align: right;\">-1.25866  </td></tr>\n",
       "<tr><td style=\"text-align: right;\">-0.0916786</td><td style=\"text-align: right;\"> 0.432251</td><td style=\"text-align: right;\">-0.00438264</td><td style=\"text-align: right;\"> 2.11848  </td></tr>\n",
       "<tr><td style=\"text-align: right;\">-1.07114  </td><td style=\"text-align: right;\"> 0.464086</td><td style=\"text-align: right;\"> 0.337923  </td><td style=\"text-align: right;\"> 0.0491678</td></tr>\n",
       "<tr><td style=\"text-align: right;\"> 0.970062 </td><td style=\"text-align: right;\">-1.89083 </td><td style=\"text-align: right;\"> 0.987645  </td><td style=\"text-align: right;\"> 0.513328 </td></tr>\n",
       "<tr><td style=\"text-align: right;\"> 0.232859 </td><td style=\"text-align: right;\">-1.01059 </td><td style=\"text-align: right;\">-0.587221  </td><td style=\"text-align: right;\">-0.387639 </td></tr>\n",
       "<tr><td style=\"text-align: right;\">-0.647283 </td><td style=\"text-align: right;\"> 0.493918</td><td style=\"text-align: right;\">-0.846988  </td><td style=\"text-align: right;\">-0.0714801</td></tr>\n",
       "<tr><td style=\"text-align: right;\">-1.23586  </td><td style=\"text-align: right;\">-1.56229 </td><td style=\"text-align: right;\"> 0.608167  </td><td style=\"text-align: right;\">-0.10527  </td></tr>\n",
       "<tr><td style=\"text-align: right;\">-2.04096  </td><td style=\"text-align: right;\">-0.218677</td><td style=\"text-align: right;\"> 0.413752  </td><td style=\"text-align: right;\"> 0.719071 </td></tr>\n",
       "</tbody>\n",
       "</table>"
      ]
     },
     "metadata": {},
     "output_type": "display_data"
    },
    {
     "data": {
      "text/plain": []
     },
     "execution_count": 27,
     "metadata": {},
     "output_type": "execute_result"
    }
   ],
   "source": [
    "## row bind. append both rows. need to have same number of columns\n",
    "df2.rbind(df1)"
   ]
  },
  {
   "cell_type": "code",
   "execution_count": 28,
   "metadata": {
    "collapsed": false
   },
   "outputs": [
    {
     "data": {
      "text/html": [
       "<table>\n",
       "<thead>\n",
       "<tr><th style=\"text-align: right;\">         A</th><th style=\"text-align: right;\">        B</th><th style=\"text-align: right;\">          C</th><th style=\"text-align: right;\">         D</th><th style=\"text-align: right;\">       A0</th><th style=\"text-align: right;\">         B0</th><th style=\"text-align: right;\">        C0</th><th style=\"text-align: right;\">       D0</th></tr>\n",
       "</thead>\n",
       "<tbody>\n",
       "<tr><td style=\"text-align: right;\">-0.336579 </td><td style=\"text-align: right;\"> 1.05786 </td><td style=\"text-align: right;\"> 0.630106  </td><td style=\"text-align: right;\">-0.224133 </td><td style=\"text-align: right;\">-1.1067  </td><td style=\"text-align: right;\">-0.0485177 </td><td style=\"text-align: right;\">-0.522742 </td><td style=\"text-align: right;\">-0.99105 </td></tr>\n",
       "<tr><td style=\"text-align: right;\">-0.322339 </td><td style=\"text-align: right;\"> 0.979067</td><td style=\"text-align: right;\">-1.32546   </td><td style=\"text-align: right;\">-0.943295 </td><td style=\"text-align: right;\">-0.469044</td><td style=\"text-align: right;\"> 0.130979  </td><td style=\"text-align: right;\">-0.15931  </td><td style=\"text-align: right;\">-0.456781</td></tr>\n",
       "<tr><td style=\"text-align: right;\"> 0.724562 </td><td style=\"text-align: right;\">-0.228323</td><td style=\"text-align: right;\">-1.92471   </td><td style=\"text-align: right;\">-1.25866  </td><td style=\"text-align: right;\"> 1.825   </td><td style=\"text-align: right;\"> 0.827959  </td><td style=\"text-align: right;\"> 0.549254 </td><td style=\"text-align: right;\">-0.868524</td></tr>\n",
       "<tr><td style=\"text-align: right;\">-0.0916786</td><td style=\"text-align: right;\"> 0.432251</td><td style=\"text-align: right;\">-0.00438264</td><td style=\"text-align: right;\"> 2.11848  </td><td style=\"text-align: right;\">-1.5467  </td><td style=\"text-align: right;\"> 0.685545  </td><td style=\"text-align: right;\">-0.264445 </td><td style=\"text-align: right;\">-1.15441 </td></tr>\n",
       "<tr><td style=\"text-align: right;\">-1.07114  </td><td style=\"text-align: right;\"> 0.464086</td><td style=\"text-align: right;\"> 0.337923  </td><td style=\"text-align: right;\"> 0.0491678</td><td style=\"text-align: right;\"> 0.949694</td><td style=\"text-align: right;\"> 0.0222718 </td><td style=\"text-align: right;\"> 0.544893 </td><td style=\"text-align: right;\"> 0.226752</td></tr>\n",
       "<tr><td style=\"text-align: right;\"> 0.970062 </td><td style=\"text-align: right;\">-1.89083 </td><td style=\"text-align: right;\"> 0.987645  </td><td style=\"text-align: right;\"> 0.513328 </td><td style=\"text-align: right;\"> 0.385319</td><td style=\"text-align: right;\">-0.199407  </td><td style=\"text-align: right;\">-0.638651 </td><td style=\"text-align: right;\">-1.1183  </td></tr>\n",
       "<tr><td style=\"text-align: right;\"> 0.232859 </td><td style=\"text-align: right;\">-1.01059 </td><td style=\"text-align: right;\">-0.587221  </td><td style=\"text-align: right;\">-0.387639 </td><td style=\"text-align: right;\"> 1.01137 </td><td style=\"text-align: right;\"> 0.00964041</td><td style=\"text-align: right;\"> 0.0682824</td><td style=\"text-align: right;\">-0.792892</td></tr>\n",
       "<tr><td style=\"text-align: right;\">-0.647283 </td><td style=\"text-align: right;\"> 0.493918</td><td style=\"text-align: right;\">-0.846988  </td><td style=\"text-align: right;\">-0.0714801</td><td style=\"text-align: right;\">-1.44081 </td><td style=\"text-align: right;\"> 1.00483   </td><td style=\"text-align: right;\">-0.250032 </td><td style=\"text-align: right;\">-0.304646</td></tr>\n",
       "<tr><td style=\"text-align: right;\">-1.23586  </td><td style=\"text-align: right;\">-1.56229 </td><td style=\"text-align: right;\"> 0.608167  </td><td style=\"text-align: right;\">-0.10527  </td><td style=\"text-align: right;\"> 0.936107</td><td style=\"text-align: right;\"> 0.365372  </td><td style=\"text-align: right;\">-0.136865 </td><td style=\"text-align: right;\">-0.416424</td></tr>\n",
       "<tr><td style=\"text-align: right;\">-2.04096  </td><td style=\"text-align: right;\">-0.218677</td><td style=\"text-align: right;\"> 0.413752  </td><td style=\"text-align: right;\"> 0.719071 </td><td style=\"text-align: right;\">-0.104475</td><td style=\"text-align: right;\"> 0.125852  </td><td style=\"text-align: right;\"> 1.00419  </td><td style=\"text-align: right;\"> 1.95182 </td></tr>\n",
       "</tbody>\n",
       "</table>"
      ]
     },
     "metadata": {},
     "output_type": "display_data"
    },
    {
     "data": {
      "text/plain": []
     },
     "execution_count": 28,
     "metadata": {},
     "output_type": "execute_result"
    }
   ],
   "source": [
    "## column bind. append side by side\n",
    "df2.cbind(df1)"
   ]
  },
  {
   "cell_type": "code",
   "execution_count": 29,
   "metadata": {
    "collapsed": false
   },
   "outputs": [
    {
     "name": "stdout",
     "output_type": "stream",
     "text": [
      "Parse progress: |█████████████████████████████████████████████████████████| 100%\n",
      "Parse progress: |█████████████████████████████████████████████████████████| 100%\n"
     ]
    }
   ],
   "source": [
    "## merging dataframe\n",
    "df1 = h2o.H2OFrame.from_python( {'A': ['Hello', 'World', 'Welcome', 'To', 'H2O', 'World'], \\\n",
    "                                  'n': [0,1,2,3,4,5]} )\n",
    "df2 = h2o.H2OFrame.from_python(np.random.randint(0,6,(100,1)), column_names= list('n'))"
   ]
  },
  {
   "cell_type": "code",
   "execution_count": 30,
   "metadata": {
    "collapsed": false
   },
   "outputs": [
    {
     "data": {
      "text/html": [
       "<table>\n",
       "<thead>\n",
       "<tr><th style=\"text-align: right;\">  n</th><th>A      </th></tr>\n",
       "</thead>\n",
       "<tbody>\n",
       "<tr><td style=\"text-align: right;\">  4</td><td>H2O    </td></tr>\n",
       "<tr><td style=\"text-align: right;\">  5</td><td>World  </td></tr>\n",
       "<tr><td style=\"text-align: right;\">  5</td><td>World  </td></tr>\n",
       "<tr><td style=\"text-align: right;\">  0</td><td>Hello  </td></tr>\n",
       "<tr><td style=\"text-align: right;\">  3</td><td>To     </td></tr>\n",
       "<tr><td style=\"text-align: right;\">  1</td><td>World  </td></tr>\n",
       "<tr><td style=\"text-align: right;\">  0</td><td>Hello  </td></tr>\n",
       "<tr><td style=\"text-align: right;\">  5</td><td>World  </td></tr>\n",
       "<tr><td style=\"text-align: right;\">  2</td><td>Welcome</td></tr>\n",
       "<tr><td style=\"text-align: right;\">  4</td><td>H2O    </td></tr>\n",
       "</tbody>\n",
       "</table>"
      ]
     },
     "metadata": {},
     "output_type": "display_data"
    },
    {
     "data": {
      "text/plain": []
     },
     "execution_count": 30,
     "metadata": {},
     "output_type": "execute_result"
    }
   ],
   "source": [
    "# Combine column \"n\" from both datasets\n",
    "df2.merge(df1)"
   ]
  },
  {
   "cell_type": "code",
   "execution_count": 31,
   "metadata": {
    "collapsed": false
   },
   "outputs": [
    {
     "name": "stdout",
     "output_type": "stream",
     "text": [
      "Parse progress: |█████████████████████████████████████████████████████████| 100%\n"
     ]
    }
   ],
   "source": [
    "# grouping\n",
    "\n",
    "df = h2o.H2OFrame(\n",
    " {'A' : ['foo', 'bar', 'foo', 'bar', 'foo', 'bar', 'foo', 'foo'],\n",
    " 'B' : ['one', 'one', 'two', 'three', 'two', 'two', 'one', 'three'],\n",
    " 'C' : np.random.randn(8).tolist(),\n",
    " 'D' : np.random.randn(8).tolist()})"
   ]
  },
  {
   "cell_type": "code",
   "execution_count": 32,
   "metadata": {
    "collapsed": false
   },
   "outputs": [
    {
     "data": {
      "text/html": [
       "<table>\n",
       "<thead>\n",
       "<tr><th>A  </th><th style=\"text-align: right;\">    sum_C</th><th style=\"text-align: right;\">  sum_B</th><th style=\"text-align: right;\">   sum_D</th></tr>\n",
       "</thead>\n",
       "<tbody>\n",
       "<tr><td>bar</td><td style=\"text-align: right;\">-0.176285</td><td style=\"text-align: right;\">      3</td><td style=\"text-align: right;\">0.432173</td></tr>\n",
       "<tr><td>foo</td><td style=\"text-align: right;\"> 0.895666</td><td style=\"text-align: right;\">      5</td><td style=\"text-align: right;\">0.463436</td></tr>\n",
       "</tbody>\n",
       "</table>"
      ]
     },
     "metadata": {},
     "output_type": "display_data"
    },
    {
     "data": {
      "text/plain": []
     },
     "execution_count": 32,
     "metadata": {},
     "output_type": "execute_result"
    }
   ],
   "source": [
    "df.group_by('A').sum().frame"
   ]
  },
  {
   "cell_type": "code",
   "execution_count": 33,
   "metadata": {
    "collapsed": false
   },
   "outputs": [
    {
     "data": {
      "text/html": [
       "<table>\n",
       "<thead>\n",
       "<tr><th>A  </th><th style=\"text-align: right;\">   mean_D</th><th style=\"text-align: right;\">  mean_B</th><th style=\"text-align: right;\">    mean_C</th></tr>\n",
       "</thead>\n",
       "<tbody>\n",
       "<tr><td>bar</td><td style=\"text-align: right;\">0.144058 </td><td style=\"text-align: right;\">       1</td><td style=\"text-align: right;\">-0.0587618</td></tr>\n",
       "<tr><td>foo</td><td style=\"text-align: right;\">0.0926871</td><td style=\"text-align: right;\">       1</td><td style=\"text-align: right;\"> 0.179133 </td></tr>\n",
       "</tbody>\n",
       "</table>"
      ]
     },
     "metadata": {},
     "output_type": "display_data"
    },
    {
     "data": {
      "text/plain": []
     },
     "execution_count": 33,
     "metadata": {},
     "output_type": "execute_result"
    }
   ],
   "source": [
    "df.group_by('A').mean().frame"
   ]
  },
  {
   "cell_type": "code",
   "execution_count": 34,
   "metadata": {
    "collapsed": false
   },
   "outputs": [
    {
     "data": {
      "text/html": [
       "<table>\n",
       "<thead>\n",
       "<tr><th>A  </th><th style=\"text-align: right;\">     min_D</th><th style=\"text-align: right;\">  min_B</th><th style=\"text-align: right;\">   min_C</th></tr>\n",
       "</thead>\n",
       "<tbody>\n",
       "<tr><td>bar</td><td style=\"text-align: right;\"> 0.0338973</td><td style=\"text-align: right;\">      0</td><td style=\"text-align: right;\">-1.46841</td></tr>\n",
       "<tr><td>foo</td><td style=\"text-align: right;\">-1.18631  </td><td style=\"text-align: right;\">      0</td><td style=\"text-align: right;\">-1.15827</td></tr>\n",
       "</tbody>\n",
       "</table>"
      ]
     },
     "metadata": {},
     "output_type": "display_data"
    },
    {
     "name": "stdout",
     "output_type": "stream",
     "text": [
      "\n"
     ]
    },
    {
     "data": {
      "text/html": [
       "<table>\n",
       "<thead>\n",
       "<tr><th>A  </th><th style=\"text-align: right;\">   max_D</th><th style=\"text-align: right;\">  max_B</th><th style=\"text-align: right;\">  max_C</th></tr>\n",
       "</thead>\n",
       "<tbody>\n",
       "<tr><td>bar</td><td style=\"text-align: right;\">0.266902</td><td style=\"text-align: right;\">      2</td><td style=\"text-align: right;\">1.08642</td></tr>\n",
       "<tr><td>foo</td><td style=\"text-align: right;\">1.25459 </td><td style=\"text-align: right;\">      2</td><td style=\"text-align: right;\">1.71932</td></tr>\n",
       "</tbody>\n",
       "</table>"
      ]
     },
     "metadata": {},
     "output_type": "display_data"
    },
    {
     "name": "stdout",
     "output_type": "stream",
     "text": [
      "\n"
     ]
    }
   ],
   "source": [
    "print df.group_by('A').min().frame\n",
    "print df.group_by('A').max().get_frame()"
   ]
  },
  {
   "cell_type": "code",
   "execution_count": 35,
   "metadata": {
    "collapsed": false
   },
   "outputs": [
    {
     "data": {
      "text/html": [
       "<table>\n",
       "<thead>\n",
       "<tr><th>A  </th><th>B    </th><th style=\"text-align: right;\">    sum_C</th><th style=\"text-align: right;\">     sum_D</th></tr>\n",
       "</thead>\n",
       "<tbody>\n",
       "<tr><td>bar</td><td>one  </td><td style=\"text-align: right;\"> 1.08642 </td><td style=\"text-align: right;\"> 0.0338973</td></tr>\n",
       "<tr><td>bar</td><td>three</td><td style=\"text-align: right;\"> 0.205707</td><td style=\"text-align: right;\"> 0.266902 </td></tr>\n",
       "<tr><td>bar</td><td>two  </td><td style=\"text-align: right;\">-1.46841 </td><td style=\"text-align: right;\"> 0.131374 </td></tr>\n",
       "<tr><td>foo</td><td>one  </td><td style=\"text-align: right;\">-0.923943</td><td style=\"text-align: right;\">-1.62136  </td></tr>\n",
       "<tr><td>foo</td><td>three</td><td style=\"text-align: right;\">-0.371698</td><td style=\"text-align: right;\"> 1.04974  </td></tr>\n",
       "<tr><td>foo</td><td>two  </td><td style=\"text-align: right;\"> 2.19131 </td><td style=\"text-align: right;\"> 1.03506  </td></tr>\n",
       "</tbody>\n",
       "</table>"
      ]
     },
     "metadata": {},
     "output_type": "display_data"
    },
    {
     "name": "stdout",
     "output_type": "stream",
     "text": [
      "\n"
     ]
    }
   ],
   "source": [
    "df1 = df.group_by(['A','B']).sum().frame\n",
    "print df1"
   ]
  },
  {
   "cell_type": "code",
   "execution_count": 56,
   "metadata": {
    "collapsed": false
   },
   "outputs": [
    {
     "name": "stdout",
     "output_type": "stream",
     "text": [
      "Parse progress: |█████████████████████████████████████████████████████████| 100%\n"
     ]
    },
    {
     "data": {
      "text/html": [
       "<table>\n",
       "<thead>\n",
       "<tr><th style=\"text-align: right;\">  D</th></tr>\n",
       "</thead>\n",
       "<tbody>\n",
       "<tr><td style=\"text-align: right;\"> 18</td></tr>\n",
       "<tr><td style=\"text-align: right;\"> 19</td></tr>\n",
       "<tr><td style=\"text-align: right;\"> 20</td></tr>\n",
       "</tbody>\n",
       "</table>"
      ]
     },
     "metadata": {},
     "output_type": "display_data"
    },
    {
     "name": "stdout",
     "output_type": "stream",
     "text": [
      "\n"
     ]
    },
    {
     "data": {
      "text/html": [
       "<table>\n",
       "<thead>\n",
       "<tr><th>D  </th></tr>\n",
       "</thead>\n",
       "<tbody>\n",
       "<tr><td>Sun</td></tr>\n",
       "<tr><td>Mon</td></tr>\n",
       "<tr><td>Tue</td></tr>\n",
       "</tbody>\n",
       "</table>"
      ]
     },
     "metadata": {},
     "output_type": "display_data"
    },
    {
     "name": "stdout",
     "output_type": "stream",
     "text": [
      "\n"
     ]
    }
   ],
   "source": [
    "## working with date and time\n",
    "\n",
    "df = h2o.H2OFrame.from_python({'D': ['18OCT2015:11:00:00', '19OCT2015:12:00:00', '20OCT2015:13:00:00']}, \\\n",
    "                              column_types=['time'])\n",
    "print df['D'].day()\n",
    "print df['D'].dayOfWeek()"
   ]
  },
  {
   "cell_type": "code",
   "execution_count": 58,
   "metadata": {
    "collapsed": true
   },
   "outputs": [],
   "source": [
    "## machine learning\n",
    "\n",
    "## H2O supports the following models:\n",
    "# Deep Learning\n",
    "# Naive Bayes\n",
    "# Principal Components Analysis (PCA)\n",
    "# K-means\n",
    "# Generalized Linear Models (GLM)\n",
    "# Gradient Boosting Machine (GBM)\n",
    "# Generalized Low Rank Model (GLRM)\n",
    "# Distributed Random Forest (DRF)"
   ]
  },
  {
   "cell_type": "code",
   "execution_count": 43,
   "metadata": {
    "collapsed": true
   },
   "outputs": [],
   "source": [
    "from h2o.estimators.gbm import H2OGradientBoostingEstimator\n",
    "#https://h2o-release.s3.amazonaws.com/h2o/rel-turan/4/docs-website/h2o-py/docs/modeling.html#h2ogradientboostingestimator\n",
    "from h2o.estimators.glm import H2OGeneralizedLinearEstimator\n",
    "#https://h2o-release.s3.amazonaws.com/h2o/rel-turan/4/docs-website/h2o-py/docs/modeling.html#h2ogeneralizedlinearestimator\n",
    "from h2o.estimators.random_forest import H2ORandomForestEstimator\n",
    "#https://h2o-release.s3.amazonaws.com/h2o/rel-turan/4/docs-website/h2o-py/docs/modeling.html#h2orandomforestestimator\n",
    "\n",
    "from h2o.grid.grid_search import H2OGridSearch\n",
    "## same as sklearn\n",
    "## from sklearn.ensemble import GradientBoostingClassifier"
   ]
  },
  {
   "cell_type": "code",
   "execution_count": 36,
   "metadata": {
    "collapsed": false
   },
   "outputs": [
    {
     "name": "stdout",
     "output_type": "stream",
     "text": [
      "Parse progress: |█████████████████████████████████████████████████████████| 100%\n"
     ]
    }
   ],
   "source": [
    "## read data set\n",
    "## data source -- http://archive.ics.uci.edu/ml/datasets/Bank+Marketing\n",
    "path = 'C:\\\\Users\\\\Hari\\\\Documents\\\\Experiment_with_H2O\\\\bank\\\\bank-full.csv'\n",
    "df = h2o.import_file(path=path)\n",
    "\n",
    "## sklearn -- df = pd.read_csv(path) # sklearn has no read method"
   ]
  },
  {
   "cell_type": "code",
   "execution_count": 37,
   "metadata": {
    "collapsed": false
   },
   "outputs": [
    {
     "data": {
      "text/html": [
       "<table>\n",
       "<thead>\n",
       "<tr><th style=\"text-align: right;\">  age</th><th>job         </th><th>marital  </th><th>education  </th><th>default  </th><th style=\"text-align: right;\">  balance</th><th>housing  </th><th>loan  </th><th>contact  </th><th style=\"text-align: right;\">  day</th><th>month  </th><th style=\"text-align: right;\">  duration</th><th style=\"text-align: right;\">  campaign</th><th style=\"text-align: right;\">  pdays</th><th style=\"text-align: right;\">  previous</th><th>poutcome  </th><th>y  </th></tr>\n",
       "</thead>\n",
       "<tbody>\n",
       "<tr><td style=\"text-align: right;\">   58</td><td>management  </td><td>married  </td><td>tertiary   </td><td>no       </td><td style=\"text-align: right;\">     2143</td><td>yes      </td><td>no    </td><td>unknown  </td><td style=\"text-align: right;\">    5</td><td>may    </td><td style=\"text-align: right;\">       261</td><td style=\"text-align: right;\">         1</td><td style=\"text-align: right;\">     -1</td><td style=\"text-align: right;\">         0</td><td>unknown   </td><td>no </td></tr>\n",
       "<tr><td style=\"text-align: right;\">   44</td><td>technician  </td><td>single   </td><td>secondary  </td><td>no       </td><td style=\"text-align: right;\">       29</td><td>yes      </td><td>no    </td><td>unknown  </td><td style=\"text-align: right;\">    5</td><td>may    </td><td style=\"text-align: right;\">       151</td><td style=\"text-align: right;\">         1</td><td style=\"text-align: right;\">     -1</td><td style=\"text-align: right;\">         0</td><td>unknown   </td><td>no </td></tr>\n",
       "<tr><td style=\"text-align: right;\">   33</td><td>entrepreneur</td><td>married  </td><td>secondary  </td><td>no       </td><td style=\"text-align: right;\">        2</td><td>yes      </td><td>yes   </td><td>unknown  </td><td style=\"text-align: right;\">    5</td><td>may    </td><td style=\"text-align: right;\">        76</td><td style=\"text-align: right;\">         1</td><td style=\"text-align: right;\">     -1</td><td style=\"text-align: right;\">         0</td><td>unknown   </td><td>no </td></tr>\n",
       "<tr><td style=\"text-align: right;\">   47</td><td>blue-collar </td><td>married  </td><td>unknown    </td><td>no       </td><td style=\"text-align: right;\">     1506</td><td>yes      </td><td>no    </td><td>unknown  </td><td style=\"text-align: right;\">    5</td><td>may    </td><td style=\"text-align: right;\">        92</td><td style=\"text-align: right;\">         1</td><td style=\"text-align: right;\">     -1</td><td style=\"text-align: right;\">         0</td><td>unknown   </td><td>no </td></tr>\n",
       "<tr><td style=\"text-align: right;\">   33</td><td>unknown     </td><td>single   </td><td>unknown    </td><td>no       </td><td style=\"text-align: right;\">        1</td><td>no       </td><td>no    </td><td>unknown  </td><td style=\"text-align: right;\">    5</td><td>may    </td><td style=\"text-align: right;\">       198</td><td style=\"text-align: right;\">         1</td><td style=\"text-align: right;\">     -1</td><td style=\"text-align: right;\">         0</td><td>unknown   </td><td>no </td></tr>\n",
       "</tbody>\n",
       "</table>"
      ]
     },
     "metadata": {},
     "output_type": "display_data"
    },
    {
     "data": {
      "text/plain": []
     },
     "execution_count": 37,
     "metadata": {},
     "output_type": "execute_result"
    }
   ],
   "source": [
    "## check out the first 5 rows\n",
    "df.head(5)"
   ]
  },
  {
   "cell_type": "code",
   "execution_count": null,
   "metadata": {
    "collapsed": true
   },
   "outputs": [],
   "source": [
    "# Input variables:\n",
    "# # bank client data:\n",
    "# 1 - age (numeric)\n",
    "# 2 - job : type of job (categorical: 'admin.','blue-collar','entrepreneur','housemaid','management','retired','self-employed','services','student','technician','unemployed','unknown')\n",
    "# 3 - marital : marital status (categorical: 'divorced','married','single','unknown'; note: 'divorced' means divorced or widowed)\n",
    "# 4 - education (categorical: 'basic.4y','basic.6y','basic.9y','high.school','illiterate','professional.course','university.degree','unknown')\n",
    "# 5 - default: has credit in default? (categorical: 'no','yes','unknown')\n",
    "# 6 - housing: has housing loan? (categorical: 'no','yes','unknown')\n",
    "# 7 - loan: has personal loan? (categorical: 'no','yes','unknown')\n",
    "# # related with the last contact of the current campaign:\n",
    "# 8 - contact: contact communication type (categorical: 'cellular','telephone') \n",
    "# 9 - month: last contact month of year (categorical: 'jan', 'feb', 'mar', ..., 'nov', 'dec')\n",
    "# 10 - day_of_week: last contact day of the week (categorical: 'mon','tue','wed','thu','fri')\n",
    "# 11 - duration: last contact duration, in seconds (numeric). Important note: this attribute highly affects the output target (e.g., if duration=0 then y='no'). Yet, the duration is not known before a call is performed. Also, after the end of the call y is obviously known. Thus, this input should only be included for benchmark purposes and should be discarded if the intention is to have a realistic predictive model.\n",
    "# # other attributes:\n",
    "# 12 - campaign: number of contacts performed during this campaign and for this client (numeric, includes last contact)\n",
    "# 13 - pdays: number of days that passed by after the client was last contacted from a previous campaign (numeric; 999 means client was not previously contacted)\n",
    "# 14 - previous: number of contacts performed before this campaign and for this client (numeric)\n",
    "# 15 - poutcome: outcome of the previous marketing campaign (categorical: 'failure','nonexistent','success')\n",
    "    \n",
    "# Output variable (desired target):\n",
    "# 21 - y - has the client subscribed a term deposit? (binary: 'yes','no')"
   ]
  },
  {
   "cell_type": "code",
   "execution_count": 62,
   "metadata": {
    "collapsed": false
   },
   "outputs": [
    {
     "data": {
      "text/plain": [
       "{u'age': u'int',\n",
       " u'balance': u'int',\n",
       " u'campaign': u'int',\n",
       " u'contact': u'enum',\n",
       " u'day': u'int',\n",
       " u'default': u'enum',\n",
       " u'duration': u'int',\n",
       " u'education': u'enum',\n",
       " u'housing': u'enum',\n",
       " u'job': u'enum',\n",
       " u'loan': u'enum',\n",
       " u'marital': u'enum',\n",
       " u'month': u'enum',\n",
       " u'pdays': u'int',\n",
       " u'poutcome': u'enum',\n",
       " u'previous': u'int',\n",
       " u'y': u'enum'}"
      ]
     },
     "execution_count": 62,
     "metadata": {},
     "output_type": "execute_result"
    }
   ],
   "source": [
    "## check what data types h2o parsed\n",
    "df.types"
   ]
  },
  {
   "cell_type": "code",
   "execution_count": 63,
   "metadata": {
    "collapsed": true
   },
   "outputs": [],
   "source": [
    "## to change a variable to a factor. Not there in scikit learn. There in R\n",
    "## df[\"var\"] = df[\"var\"].asfactor()   "
   ]
  },
  {
   "cell_type": "code",
   "execution_count": 38,
   "metadata": {
    "collapsed": false
   },
   "outputs": [
    {
     "data": {
      "text/plain": [
       "[['divorced', 'married', 'single']]"
      ]
     },
     "execution_count": 38,
     "metadata": {},
     "output_type": "execute_result"
    }
   ],
   "source": [
    "## get the categories for a categorical variable\n",
    "df['marital'].levels()"
   ]
  },
  {
   "cell_type": "code",
   "execution_count": 39,
   "metadata": {
    "collapsed": false
   },
   "outputs": [
    {
     "name": "stdout",
     "output_type": "stream",
     "text": [
      "Rows:45211\n",
      "Cols:17\n",
      "\n",
      "\n"
     ]
    },
    {
     "data": {
      "text/html": [
       "<table>\n",
       "<thead>\n",
       "<tr><th>       </th><th>age          </th><th>job         </th><th>marital  </th><th>education  </th><th>default  </th><th>balance      </th><th>housing  </th><th>loan  </th><th>contact  </th><th>day          </th><th>month  </th><th>duration     </th><th>campaign     </th><th>pdays        </th><th>previous      </th><th>poutcome  </th><th>y   </th></tr>\n",
       "</thead>\n",
       "<tbody>\n",
       "<tr><td>type   </td><td>int          </td><td>enum        </td><td>enum     </td><td>enum       </td><td>enum     </td><td>int          </td><td>enum     </td><td>enum  </td><td>enum     </td><td>int          </td><td>enum   </td><td>int          </td><td>int          </td><td>int          </td><td>int           </td><td>enum      </td><td>enum</td></tr>\n",
       "<tr><td>mins   </td><td>18.0         </td><td>            </td><td>         </td><td>           </td><td>         </td><td>-8019.0      </td><td>         </td><td>      </td><td>         </td><td>1.0          </td><td>       </td><td>0.0          </td><td>1.0          </td><td>-1.0         </td><td>0.0           </td><td>          </td><td>    </td></tr>\n",
       "<tr><td>mean   </td><td>40.9362102143</td><td>            </td><td>         </td><td>           </td><td>         </td><td>1362.27205769</td><td>         </td><td>      </td><td>         </td><td>15.8064187919</td><td>       </td><td>258.163079781</td><td>2.76384065825</td><td>40.1978279622</td><td>0.580323372631</td><td>          </td><td>    </td></tr>\n",
       "<tr><td>maxs   </td><td>95.0         </td><td>            </td><td>         </td><td>           </td><td>         </td><td>102127.0     </td><td>         </td><td>      </td><td>         </td><td>31.0         </td><td>       </td><td>4918.0       </td><td>63.0         </td><td>871.0        </td><td>275.0         </td><td>          </td><td>    </td></tr>\n",
       "<tr><td>sigma  </td><td>10.618762041 </td><td>            </td><td>         </td><td>           </td><td>         </td><td>3044.76582917</td><td>         </td><td>      </td><td>         </td><td>8.32247615304</td><td>       </td><td>257.527812265</td><td>3.09802088328</td><td>100.128745991</td><td>2.30344104493 </td><td>          </td><td>    </td></tr>\n",
       "<tr><td>zeros  </td><td>0            </td><td>            </td><td>         </td><td>           </td><td>         </td><td>3514         </td><td>         </td><td>      </td><td>         </td><td>0            </td><td>       </td><td>3            </td><td>0            </td><td>0            </td><td>36954         </td><td>          </td><td>    </td></tr>\n",
       "<tr><td>missing</td><td>0            </td><td>0           </td><td>0        </td><td>0          </td><td>0        </td><td>0            </td><td>0        </td><td>0     </td><td>0        </td><td>0            </td><td>0      </td><td>0            </td><td>0            </td><td>0            </td><td>0             </td><td>0         </td><td>0   </td></tr>\n",
       "<tr><td>0      </td><td>58.0         </td><td>management  </td><td>married  </td><td>tertiary   </td><td>no       </td><td>2143.0       </td><td>yes      </td><td>no    </td><td>unknown  </td><td>5.0          </td><td>may    </td><td>261.0        </td><td>1.0          </td><td>-1.0         </td><td>0.0           </td><td>unknown   </td><td>no  </td></tr>\n",
       "<tr><td>1      </td><td>44.0         </td><td>technician  </td><td>single   </td><td>secondary  </td><td>no       </td><td>29.0         </td><td>yes      </td><td>no    </td><td>unknown  </td><td>5.0          </td><td>may    </td><td>151.0        </td><td>1.0          </td><td>-1.0         </td><td>0.0           </td><td>unknown   </td><td>no  </td></tr>\n",
       "<tr><td>2      </td><td>33.0         </td><td>entrepreneur</td><td>married  </td><td>secondary  </td><td>no       </td><td>2.0          </td><td>yes      </td><td>yes   </td><td>unknown  </td><td>5.0          </td><td>may    </td><td>76.0         </td><td>1.0          </td><td>-1.0         </td><td>0.0           </td><td>unknown   </td><td>no  </td></tr>\n",
       "<tr><td>3      </td><td>47.0         </td><td>blue-collar </td><td>married  </td><td>unknown    </td><td>no       </td><td>1506.0       </td><td>yes      </td><td>no    </td><td>unknown  </td><td>5.0          </td><td>may    </td><td>92.0         </td><td>1.0          </td><td>-1.0         </td><td>0.0           </td><td>unknown   </td><td>no  </td></tr>\n",
       "<tr><td>4      </td><td>33.0         </td><td>unknown     </td><td>single   </td><td>unknown    </td><td>no       </td><td>1.0          </td><td>no       </td><td>no    </td><td>unknown  </td><td>5.0          </td><td>may    </td><td>198.0        </td><td>1.0          </td><td>-1.0         </td><td>0.0           </td><td>unknown   </td><td>no  </td></tr>\n",
       "<tr><td>5      </td><td>35.0         </td><td>management  </td><td>married  </td><td>tertiary   </td><td>no       </td><td>231.0        </td><td>yes      </td><td>no    </td><td>unknown  </td><td>5.0          </td><td>may    </td><td>139.0        </td><td>1.0          </td><td>-1.0         </td><td>0.0           </td><td>unknown   </td><td>no  </td></tr>\n",
       "<tr><td>6      </td><td>28.0         </td><td>management  </td><td>single   </td><td>tertiary   </td><td>no       </td><td>447.0        </td><td>yes      </td><td>yes   </td><td>unknown  </td><td>5.0          </td><td>may    </td><td>217.0        </td><td>1.0          </td><td>-1.0         </td><td>0.0           </td><td>unknown   </td><td>no  </td></tr>\n",
       "<tr><td>7      </td><td>42.0         </td><td>entrepreneur</td><td>divorced </td><td>tertiary   </td><td>yes      </td><td>2.0          </td><td>yes      </td><td>no    </td><td>unknown  </td><td>5.0          </td><td>may    </td><td>380.0        </td><td>1.0          </td><td>-1.0         </td><td>0.0           </td><td>unknown   </td><td>no  </td></tr>\n",
       "<tr><td>8      </td><td>58.0         </td><td>retired     </td><td>married  </td><td>primary    </td><td>no       </td><td>121.0        </td><td>yes      </td><td>no    </td><td>unknown  </td><td>5.0          </td><td>may    </td><td>50.0         </td><td>1.0          </td><td>-1.0         </td><td>0.0           </td><td>unknown   </td><td>no  </td></tr>\n",
       "<tr><td>9      </td><td>43.0         </td><td>technician  </td><td>single   </td><td>secondary  </td><td>no       </td><td>593.0        </td><td>yes      </td><td>no    </td><td>unknown  </td><td>5.0          </td><td>may    </td><td>55.0         </td><td>1.0          </td><td>-1.0         </td><td>0.0           </td><td>unknown   </td><td>no  </td></tr>\n",
       "</tbody>\n",
       "</table>"
      ]
     },
     "metadata": {},
     "output_type": "display_data"
    }
   ],
   "source": [
    "## get a brief summary of the data\n",
    "df.describe()"
   ]
  },
  {
   "cell_type": "code",
   "execution_count": 40,
   "metadata": {
    "collapsed": false
   },
   "outputs": [],
   "source": [
    "## any machine learning task, we divide the data into three parts\n",
    "## training set - the algorithm learns using this data\n",
    "## validation set - the algorithm prunes or avoids overfitting using this data\n",
    "## test set - the final output and the accuracy is gauged using this data\n",
    "\n",
    "## METHOD 1\n",
    "\n",
    "## a little different syntax that scikit learn\n",
    "splits = df.split_frame(ratios=[0.70, 0.15], seed=1)  \n",
    "\n",
    "train = splits[0]\n",
    "valid = splits[1]\n",
    "test = splits[2]\n",
    "\n",
    "## METHOD 2\n",
    "# # Construct validation and training datasets by sampling (20/80)\n",
    "iloc = df[0].runif()\n",
    "train = df[iloc < 0.7]\n",
    "valid = df[iloc >= 0.7]"
   ]
  },
  {
   "cell_type": "code",
   "execution_count": 41,
   "metadata": {
    "collapsed": false
   },
   "outputs": [
    {
     "name": "stdout",
     "output_type": "stream",
     "text": [
      "train shape (31680, 17)\n",
      "validation shape (13531, 17)\n"
     ]
    }
   ],
   "source": [
    "## get the shape of each of the datasets\n",
    "print 'train shape', train.shape\n",
    "print 'validation shape', valid.shape"
   ]
  },
  {
   "cell_type": "code",
   "execution_count": 44,
   "metadata": {
    "collapsed": false
   },
   "outputs": [
    {
     "name": "stdout",
     "output_type": "stream",
     "text": [
      "Help on class H2OGeneralizedLinearEstimator in module h2o.estimators.glm:\n",
      "\n",
      "class H2OGeneralizedLinearEstimator(h2o.estimators.estimator_base.H2OEstimator)\n",
      " |  Generalized Linear Modeling\n",
      " |  \n",
      " |  Fits a generalized linear model, specified by a response variable, a set of predictors, and a\n",
      " |  description of the error distribution.\n",
      " |  \n",
      " |  A subclass of :class:`ModelBase` is returned. The specific subclass depends on the machine learning task\n",
      " |  at hand (if it's binomial classification, then an H2OBinomialModel is returned, if it's regression then a\n",
      " |  H2ORegressionModel is returned). The default print-out of the models is shown, but further GLM-specific\n",
      " |  information can be queried out of the object. Upon completion of the GLM, the resulting object has\n",
      " |  coefficients, normalized coefficients, residual/null deviance, aic, and a host of model metrics including\n",
      " |  MSE, AUC (for logistic regression), degrees of freedom, and confusion matrices.\n",
      " |  \n",
      " |  Method resolution order:\n",
      " |      H2OGeneralizedLinearEstimator\n",
      " |      h2o.estimators.estimator_base.H2OEstimator\n",
      " |      h2o.model.model_base.ModelBase\n",
      " |      h2o.utils.backward_compatibility.BackwardsCompatibleBase\n",
      " |      __builtin__.object\n",
      " |  \n",
      " |  Methods defined here:\n",
      " |  \n",
      " |  __init__(self, **kwargs)\n",
      " |  \n",
      " |  ----------------------------------------------------------------------\n",
      " |  Static methods defined here:\n",
      " |  \n",
      " |  getGLMRegularizationPath(model)\n",
      " |      Extract full regularization path explored during lambda search from glm model.\n",
      " |      \n",
      " |      :param model: source lambda search model\n",
      " |  \n",
      " |  makeGLMModel(model, coefs, threshold=0.5)\n",
      " |      Create a custom GLM model using the given coefficients.\n",
      " |      \n",
      " |      Needs to be passed source model trained on the dataset to extract the dataset information from.\n",
      " |      \n",
      " |      :param model: source model, used for extracting dataset information\n",
      " |      :param coefs: dictionary containing model coefficients\n",
      " |      :param threshold: (optional, only for binomial) decision threshold used for classification\n",
      " |  \n",
      " |  ----------------------------------------------------------------------\n",
      " |  Data descriptors defined here:\n",
      " |  \n",
      " |  Lambda\n",
      " |      DEPRECATED. Use ``self.lambda_`` instead\n",
      " |  \n",
      " |  alpha\n",
      " |      distribution of regularization between L1 and L2. Default value of alpha is 0 when SOLVER = 'L-BFGS', 0.5\n",
      " |      otherwise\n",
      " |      \n",
      " |      Type: ``List[float]``.\n",
      " |  \n",
      " |  balance_classes\n",
      " |      Balance training data class counts via over/under-sampling (for imbalanced data).\n",
      " |      \n",
      " |      Type: ``bool``  (default: ``False``).\n",
      " |  \n",
      " |  beta_constraints\n",
      " |      beta constraints\n",
      " |      \n",
      " |      Type: ``str``.\n",
      " |  \n",
      " |  beta_epsilon\n",
      " |      converge if  beta changes less (using L-infinity norm) than beta esilon, ONLY applies to IRLSM solver\n",
      " |      \n",
      " |      Type: ``float``  (default: ``0.0001``).\n",
      " |  \n",
      " |  class_sampling_factors\n",
      " |      Desired over/under-sampling ratios per class (in lexicographic order). If not specified, sampling factors will\n",
      " |      be automatically computed to obtain class balance during training. Requires balance_classes.\n",
      " |      \n",
      " |      Type: ``List[float]``.\n",
      " |  \n",
      " |  compute_p_values\n",
      " |      request p-values computation, p-values work only with IRLSM solver and no regularization\n",
      " |      \n",
      " |      Type: ``bool``  (default: ``False``).\n",
      " |  \n",
      " |  early_stopping\n",
      " |      stop early when there is no more relative improvement on train or validation (if provided)\n",
      " |      \n",
      " |      Type: ``bool``  (default: ``True``).\n",
      " |  \n",
      " |  family\n",
      " |      Family. Use binomial for classification with logistic regression, others are for regression problems.\n",
      " |      \n",
      " |      One of: ``\"gaussian\"``, ``\"binomial\"``, ``\"quasibinomial\"``, ``\"multinomial\"``, ``\"poisson\"``, ``\"gamma\"``,\n",
      " |      ``\"tweedie\"``  (default: ``\"gaussian\"``).\n",
      " |  \n",
      " |  fold_assignment\n",
      " |      Cross-validation fold assignment scheme, if fold_column is not specified. The 'Stratified' option will stratify\n",
      " |      the folds based on the response variable, for classification problems.\n",
      " |      \n",
      " |      One of: ``\"auto\"``, ``\"random\"``, ``\"modulo\"``, ``\"stratified\"``  (default: ``\"auto\"``).\n",
      " |  \n",
      " |  fold_column\n",
      " |      Column with cross-validation fold index assignment per observation.\n",
      " |      \n",
      " |      Type: ``str``.\n",
      " |  \n",
      " |  gradient_epsilon\n",
      " |      Converge if  objective changes less (using L-infinity norm) than this, ONLY applies to L-BFGS solver. Default\n",
      " |      indicates: If lambda_search is set to False and lambda is equal to zero, the default value of gradient_epsilon\n",
      " |      is equal to .000001, otherwise the default value is .0001. If lambda_search is set to True, the conditional\n",
      " |      values above are 1E-8 and 1E-6 respectively.\n",
      " |      \n",
      " |      Type: ``float``  (default: ``-1``).\n",
      " |  \n",
      " |  ignore_const_cols\n",
      " |      Ignore constant columns.\n",
      " |      \n",
      " |      Type: ``bool``  (default: ``True``).\n",
      " |  \n",
      " |  ignored_columns\n",
      " |      Names of columns to ignore for training.\n",
      " |      \n",
      " |      Type: ``List[str]``.\n",
      " |  \n",
      " |  interactions\n",
      " |      A list of predictor column indices to interact. All pairwise combinations will be computed for the list.\n",
      " |      \n",
      " |      Type: ``List[str]``.\n",
      " |  \n",
      " |  intercept\n",
      " |      include constant term in the model\n",
      " |      \n",
      " |      Type: ``bool``  (default: ``True``).\n",
      " |  \n",
      " |  keep_cross_validation_fold_assignment\n",
      " |      Whether to keep the cross-validation fold assignment.\n",
      " |      \n",
      " |      Type: ``bool``  (default: ``False``).\n",
      " |  \n",
      " |  keep_cross_validation_predictions\n",
      " |      Whether to keep the predictions of the cross-validation models.\n",
      " |      \n",
      " |      Type: ``bool``  (default: ``False``).\n",
      " |  \n",
      " |  lambda_\n",
      " |      regularization strength\n",
      " |      \n",
      " |      Type: ``List[float]``.\n",
      " |  \n",
      " |  lambda_min_ratio\n",
      " |      Min lambda used in lambda search, specified as a ratio of lambda_max. Default indicates: if the number of\n",
      " |      observations is greater than the number of variables then lambda_min_ratio is set to 0.0001; if the number of\n",
      " |      observations is less than the number of variables then lambda_min_ratio is set to 0.01.\n",
      " |      \n",
      " |      Type: ``float``  (default: ``-1``).\n",
      " |  \n",
      " |  lambda_search\n",
      " |      use lambda search starting at lambda max, given lambda is then interpreted as lambda min\n",
      " |      \n",
      " |      Type: ``bool``  (default: ``False``).\n",
      " |  \n",
      " |  link\n",
      " |      One of: ``\"family_default\"``, ``\"identity\"``, ``\"logit\"``, ``\"log\"``, ``\"inverse\"``, ``\"tweedie\"``  (default:\n",
      " |      ``\"family_default\"``).\n",
      " |  \n",
      " |  max_active_predictors\n",
      " |      Maximum number of active predictors during computation. Use as a stopping criterion to prevent expensive model\n",
      " |      building with many predictors. Default indicates: If the IRLSM solver is used, the value of\n",
      " |      max_active_predictors is set to 7000 otherwise it is set to 100000000.\n",
      " |      \n",
      " |      Type: ``int``  (default: ``-1``).\n",
      " |  \n",
      " |  max_after_balance_size\n",
      " |      Maximum relative size of the training data after balancing class counts (can be less than 1.0). Requires\n",
      " |      balance_classes.\n",
      " |      \n",
      " |      Type: ``float``  (default: ``5``).\n",
      " |  \n",
      " |  max_confusion_matrix_size\n",
      " |      [Deprecated] Maximum size (# classes) for confusion matrices to be printed in the Logs\n",
      " |      \n",
      " |      Type: ``int``  (default: ``20``).\n",
      " |  \n",
      " |  max_hit_ratio_k\n",
      " |      Max. number (top K) of predictions to use for hit ratio computation (for multi-class only, 0 to disable)\n",
      " |      \n",
      " |      Type: ``int``  (default: ``0``).\n",
      " |  \n",
      " |  max_iterations\n",
      " |      Maximum number of iterations\n",
      " |      \n",
      " |      Type: ``int``  (default: ``-1``).\n",
      " |  \n",
      " |  max_runtime_secs\n",
      " |      Maximum allowed runtime in seconds for model training. Use 0 to disable.\n",
      " |      \n",
      " |      Type: ``float``  (default: ``0``).\n",
      " |  \n",
      " |  missing_values_handling\n",
      " |      Handling of missing values. Either MeanImputation or Skip.\n",
      " |      \n",
      " |      One of: ``\"mean_imputation\"``, ``\"skip\"``  (default: ``\"mean_imputation\"``).\n",
      " |  \n",
      " |  nfolds\n",
      " |      Number of folds for N-fold cross-validation (0 to disable or >= 2).\n",
      " |      \n",
      " |      Type: ``int``  (default: ``0``).\n",
      " |  \n",
      " |  nlambdas\n",
      " |      Number of lambdas to be used in a search. Default indicates: If alpha is zero, with lambda search set to True,\n",
      " |      the value of nlamdas is set to 30 (fewer lambdas are needed for ridge regression) otherwise it is set to 100.\n",
      " |      \n",
      " |      Type: ``int``  (default: ``-1``).\n",
      " |  \n",
      " |  non_negative\n",
      " |      Restrict coefficients (not intercept) to be non-negative\n",
      " |      \n",
      " |      Type: ``bool``  (default: ``False``).\n",
      " |  \n",
      " |  objective_epsilon\n",
      " |      Converge if  objective value changes less than this. Default indicates: If lambda_search is set to True the\n",
      " |      value of objective_epsilon is set to .0001. If the lambda_search is set to False and lambda is equal to zero,\n",
      " |      the value of objective_epsilon is set to .000001, for any other value of lambda the default value of\n",
      " |      objective_epsilon is set to .0001.\n",
      " |      \n",
      " |      Type: ``float``  (default: ``-1``).\n",
      " |  \n",
      " |  offset_column\n",
      " |      Offset column. This will be added to the combination of columns before applying the link function.\n",
      " |      \n",
      " |      Type: ``str``.\n",
      " |  \n",
      " |  prior\n",
      " |      prior probability for y==1. To be used only for logistic regression iff the data has been sampled and the mean\n",
      " |      of response does not reflect reality.\n",
      " |      \n",
      " |      Type: ``float``  (default: ``-1``).\n",
      " |  \n",
      " |  remove_collinear_columns\n",
      " |      in case of linearly dependent columns remove some of the dependent columns\n",
      " |      \n",
      " |      Type: ``bool``  (default: ``False``).\n",
      " |  \n",
      " |  response_column\n",
      " |      Response variable column.\n",
      " |      \n",
      " |      Type: ``str``.\n",
      " |  \n",
      " |  score_each_iteration\n",
      " |      Whether to score during each iteration of model training.\n",
      " |      \n",
      " |      Type: ``bool``  (default: ``False``).\n",
      " |  \n",
      " |  seed\n",
      " |      Seed for pseudo random number generator (if applicable)\n",
      " |      \n",
      " |      Type: ``int``  (default: ``-1``).\n",
      " |  \n",
      " |  solver\n",
      " |      AUTO will set the solver based on given data and the other parameters. IRLSM is fast on on problems with small\n",
      " |      number of predictors and for lambda-search with L1 penalty, L_BFGS scales better for datasets with many columns.\n",
      " |      Coordinate descent is experimental (beta).\n",
      " |      \n",
      " |      One of: ``\"auto\"``, ``\"irlsm\"``, ``\"l_bfgs\"``, ``\"coordinate_descent_naive\"``, ``\"coordinate_descent\"``\n",
      " |      (default: ``\"auto\"``).\n",
      " |  \n",
      " |  standardize\n",
      " |      Standardize numeric columns to have zero mean and unit variance\n",
      " |      \n",
      " |      Type: ``bool``  (default: ``True``).\n",
      " |  \n",
      " |  training_frame\n",
      " |      Id of the training data frame (Not required, to allow initial validation of model parameters).\n",
      " |      \n",
      " |      Type: ``str``.\n",
      " |  \n",
      " |  tweedie_link_power\n",
      " |      Tweedie link power\n",
      " |      \n",
      " |      Type: ``float``  (default: ``1``).\n",
      " |  \n",
      " |  tweedie_variance_power\n",
      " |      Tweedie variance power\n",
      " |      \n",
      " |      Type: ``float``  (default: ``0``).\n",
      " |  \n",
      " |  validation_frame\n",
      " |      Id of the validation data frame.\n",
      " |      \n",
      " |      Type: ``str``.\n",
      " |  \n",
      " |  weights_column\n",
      " |      Column with observation weights. Giving some observation a weight of zero is equivalent to excluding it from the\n",
      " |      dataset; giving an observation a relative weight of 2 is equivalent to repeating that row twice. Negative\n",
      " |      weights are not allowed.\n",
      " |      \n",
      " |      Type: ``str``.\n",
      " |  \n",
      " |  ----------------------------------------------------------------------\n",
      " |  Data and other attributes defined here:\n",
      " |  \n",
      " |  algo = u'glm'\n",
      " |  \n",
      " |  ----------------------------------------------------------------------\n",
      " |  Methods inherited from h2o.estimators.estimator_base.H2OEstimator:\n",
      " |  \n",
      " |  fit(self, x, y=None, **params)\n",
      " |      Fit an H2O model as part of a scikit-learn pipeline or grid search.\n",
      " |      \n",
      " |      A warning will be issued if a caller other than sklearn attempts to use this method.\n",
      " |      \n",
      " |      :param H2OFrame x: An H2OFrame consisting of the predictor variables.\n",
      " |      :param H2OFrame y: An H2OFrame consisting of the response variable.\n",
      " |      :param params: Extra arguments.\n",
      " |      :returns: The current instance of H2OEstimator for method chaining.\n",
      " |  \n",
      " |  get_params(self, deep=True)\n",
      " |      Obtain parameters for this estimator.\n",
      " |      \n",
      " |      Used primarily for sklearn Pipelines and sklearn grid search.\n",
      " |      \n",
      " |      :param deep: If True, return parameters of all sub-objects that are estimators.\n",
      " |      \n",
      " |      :returns: A dict of parameters\n",
      " |  \n",
      " |  join(self)\n",
      " |      Wait until job's completion.\n",
      " |  \n",
      " |  set_params(self, **parms)\n",
      " |      Used by sklearn for updating parameters during grid search.\n",
      " |      \n",
      " |      :param parms: A dictionary of parameters that will be set on this model.\n",
      " |      :returns: self, the current estimator object with the parameters all set as desired.\n",
      " |  \n",
      " |  start(self, x, y=None, training_frame=None, offset_column=None, fold_column=None, weights_column=None, validation_frame=None, **params)\n",
      " |      Train the model asynchronously (to block for results call :meth:`join`).\n",
      " |      \n",
      " |      :param x: A list of column names or indices indicating the predictor columns.\n",
      " |      :param y: An index or a column name indicating the response column.\n",
      " |      :param H2OFrame training_frame: The H2OFrame having the columns indicated by x and y (as well as any\n",
      " |          additional columns specified by fold, offset, and weights).\n",
      " |      :param offset_column: The name or index of the column in training_frame that holds the offsets.\n",
      " |      :param fold_column: The name or index of the column in training_frame that holds the per-row fold\n",
      " |          assignments.\n",
      " |      :param weights_column: The name or index of the column in training_frame that holds the per-row weights.\n",
      " |      :param validation_frame: H2OFrame with validation data to be scored on while training.\n",
      " |  \n",
      " |  train(self, x=None, y=None, training_frame=None, offset_column=None, fold_column=None, weights_column=None, validation_frame=None, max_runtime_secs=None, ignored_columns=None, model_id=None)\n",
      " |      Train the H2O model.\n",
      " |      \n",
      " |      :param x: A list of column names or indices indicating the predictor columns.\n",
      " |      :param y: An index or a column name indicating the response column.\n",
      " |      :param H2OFrame training_frame: The H2OFrame having the columns indicated by x and y (as well as any\n",
      " |          additional columns specified by fold, offset, and weights).\n",
      " |      :param offset_column: The name or index of the column in training_frame that holds the offsets.\n",
      " |      :param fold_column: The name or index of the column in training_frame that holds the per-row fold\n",
      " |          assignments.\n",
      " |      :param weights_column: The name or index of the column in training_frame that holds the per-row weights.\n",
      " |      :param validation_frame: H2OFrame with validation data to be scored on while training.\n",
      " |      :param float max_runtime_secs: Maximum allowed runtime in seconds for model training. Use 0 to disable.\n",
      " |  \n",
      " |  ----------------------------------------------------------------------\n",
      " |  Static methods inherited from h2o.estimators.estimator_base.H2OEstimator:\n",
      " |  \n",
      " |  mixin(obj, cls)\n",
      " |  \n",
      " |  ----------------------------------------------------------------------\n",
      " |  Methods inherited from h2o.model.model_base.ModelBase:\n",
      " |  \n",
      " |  __repr__(self)\n",
      " |  \n",
      " |  aic(self, train=False, valid=False, xval=False)\n",
      " |      Get the AIC (Akaike Information Criterium).\n",
      " |      \n",
      " |      If all are False (default), then return the training metric value.\n",
      " |      If more than one options is set to True, then return a dictionary of metrics where the keys are \"train\",\n",
      " |      \"valid\", and \"xval\".\n",
      " |      \n",
      " |      :param bool train: If train is True, then return the AIC value for the training data.\n",
      " |      :param bool valid: If valid is True, then return the AIC value for the validation data.\n",
      " |      :param bool xval:  If xval is True, then return the AIC value for the validation data.\n",
      " |      \n",
      " |      :returns: The AIC.\n",
      " |  \n",
      " |  auc(self, train=False, valid=False, xval=False)\n",
      " |      Get the AUC (Area Under Curve).\n",
      " |      \n",
      " |      If all are False (default), then return the training metric value.\n",
      " |      If more than one options is set to True, then return a dictionary of metrics where the keys are \"train\",\n",
      " |      \"valid\", and \"xval\".\n",
      " |      \n",
      " |      :param bool train: If train is True, then return the AUC value for the training data.\n",
      " |      :param bool valid: If valid is True, then return the AUC value for the validation data.\n",
      " |      :param bool xval:  If xval is True, then return the AUC value for the validation data.\n",
      " |      \n",
      " |      :returns: The AUC.\n",
      " |  \n",
      " |  biases(self, vector_id=0)\n",
      " |      Return the frame for the respective bias vector.\n",
      " |      \n",
      " |      :param: vector_id: an integer, ranging from 0 to number of layers, that specifies the bias vector to return.\n",
      " |      \n",
      " |      :returns: an H2OFrame which represents the bias vector identified by vector_id\n",
      " |  \n",
      " |  catoffsets(self)\n",
      " |      Categorical offsets for one-hot encoding.\n",
      " |  \n",
      " |  coef(self)\n",
      " |      Return the coefficients which can be applied to the non-standardized data.\n",
      " |      \n",
      " |      Note: standardize = True by default, if set to False then coef() return the coefficients which are fit directly.\n",
      " |  \n",
      " |  coef_norm(self)\n",
      " |      Return coefficients fitted on the standardized data (requires standardize = True, which is on by default).\n",
      " |      \n",
      " |      These coefficients can be used to evaluate variable importance.\n",
      " |  \n",
      " |  cross_validation_fold_assignment(self)\n",
      " |      Obtain the cross-validation fold assignment for all rows in the training data.\n",
      " |      \n",
      " |      :returns: H2OFrame\n",
      " |  \n",
      " |  cross_validation_holdout_predictions(self)\n",
      " |      Obtain the (out-of-sample) holdout predictions of all cross-validation models on the training data.\n",
      " |      \n",
      " |      This is equivalent to summing up all H2OFrames returned by cross_validation_predictions.\n",
      " |      \n",
      " |      :returns: H2OFrame\n",
      " |  \n",
      " |  cross_validation_metrics_summary(self)\n",
      " |      Retrieve Cross-Validation Metrics Summary.\n",
      " |      \n",
      " |      :returns: The cross-validation metrics summary as an H2OTwoDimTable\n",
      " |  \n",
      " |  cross_validation_models(self)\n",
      " |      Obtain a list of cross-validation models.\n",
      " |      \n",
      " |      :returns: list of H2OModel objects.\n",
      " |  \n",
      " |  cross_validation_predictions(self)\n",
      " |      Obtain the (out-of-sample) holdout predictions of all cross-validation models on their holdout data.\n",
      " |      \n",
      " |      Note that the predictions are expanded to the full number of rows of the training data, with 0 fill-in.\n",
      " |      \n",
      " |      :returns: list of H2OFrame objects.\n",
      " |  \n",
      " |  deepfeatures(self, test_data, layer)\n",
      " |      Return hidden layer details.\n",
      " |      \n",
      " |      :param test_data: Data to create a feature space on\n",
      " |      :param layer: 0 index hidden layer\n",
      " |  \n",
      " |  download_mojo(self, path=u'.', get_genmodel_jar=False)\n",
      " |      Download the model in MOJO format.\n",
      " |      \n",
      " |      :param path: the path where MOJO file should be saved.\n",
      " |      :param get_genmodel_jar: if True, then also download h2o-genmodel.jar and store it in folder ``path``.\n",
      " |      :returns: name of the MOJO file written.\n",
      " |  \n",
      " |  download_pojo(self, path=u'', get_genmodel_jar=False)\n",
      " |      Download the POJO for this model to the directory specified by path.\n",
      " |      \n",
      " |      If path is an empty string, then dump the output to screen.\n",
      " |      \n",
      " |      :param path:  An absolute path to the directory where POJO should be saved.\n",
      " |      :param get_genmodel_jar: if True, then also download h2o-genmodel.jar and store it in folder ``path``.\n",
      " |      :returns: name of the POJO file written.\n",
      " |  \n",
      " |  get_xval_models(self, key=None)\n",
      " |      Return a Model object.\n",
      " |      \n",
      " |      :param key: If None, return all cross-validated models; otherwise return the model that key points to.\n",
      " |      \n",
      " |      :returns: A model or list of models.\n",
      " |  \n",
      " |  gini(self, train=False, valid=False, xval=False)\n",
      " |      Get the Gini coefficient.\n",
      " |      \n",
      " |      If all are False (default), then return the training metric value.\n",
      " |      If more than one options is set to True, then return a dictionary of metrics where the keys are \"train\",\n",
      " |      \"valid\", and \"xval\"\n",
      " |      \n",
      " |      :param bool train: If train is True, then return the Gini Coefficient value for the training data.\n",
      " |      :param bool valid: If valid is True, then return the Gini Coefficient value for the validation data.\n",
      " |      :param bool xval:  If xval is True, then return the Gini Coefficient value for the cross validation data.\n",
      " |      \n",
      " |      :returns: The Gini Coefficient for this binomial model.\n",
      " |  \n",
      " |  is_cross_validated(self)\n",
      " |      Return True if the model was cross-validated.\n",
      " |  \n",
      " |  logloss(self, train=False, valid=False, xval=False)\n",
      " |      Get the Log Loss.\n",
      " |      \n",
      " |      If all are False (default), then return the training metric value.\n",
      " |      If more than one options is set to True, then return a dictionary of metrics where the keys are \"train\",\n",
      " |      \"valid\", and \"xval\".\n",
      " |      \n",
      " |      :param bool train: If train is True, then return the log loss value for the training data.\n",
      " |      :param bool valid: If valid is True, then return the log loss value for the validation data.\n",
      " |      :param bool xval:  If xval is True, then return the log loss value for the cross validation data.\n",
      " |      \n",
      " |      :returns: The log loss for this regression model.\n",
      " |  \n",
      " |  mae(self, train=False, valid=False, xval=False)\n",
      " |      Get the Mean Absolute Error.\n",
      " |      \n",
      " |      If all are False (default), then return the training metric value.\n",
      " |      If more than one options is set to True, then return a dictionary of metrics where the keys are \"train\",\n",
      " |      \"valid\", and \"xval\".\n",
      " |      \n",
      " |      :param bool train: If train is True, then return the MAE value for the training data.\n",
      " |      :param bool valid: If valid is True, then return the MAE value for the validation data.\n",
      " |      :param bool xval:  If xval is True, then return the MAE value for the cross validation data.\n",
      " |      \n",
      " |      :returns: The MAE for this regression model.\n",
      " |  \n",
      " |  mean_residual_deviance(self, train=False, valid=False, xval=False)\n",
      " |      Get the Mean Residual Deviances.\n",
      " |      \n",
      " |      If all are False (default), then return the training metric value.\n",
      " |      If more than one options is set to True, then return a dictionary of metrics where the keys are \"train\",\n",
      " |      \"valid\", and \"xval\".\n",
      " |      \n",
      " |      :param bool train: If train is True, then return the Mean Residual Deviance value for the training data.\n",
      " |      :param bool valid: If valid is True, then return the Mean Residual Deviance value for the validation data.\n",
      " |      :param bool xval:  If xval is True, then return the Mean Residual Deviance value for the cross validation data.\n",
      " |      \n",
      " |      :returns: The Mean Residual Deviance for this regression model.\n",
      " |  \n",
      " |  metalearner(self)\n",
      " |      Print the metalearner for the model, if any.  Currently only used by H2OStackedEnsembleEstimator.\n",
      " |  \n",
      " |  model_performance(self, test_data=None, train=False, valid=False, xval=False)\n",
      " |      Generate model metrics for this model on test_data.\n",
      " |      \n",
      " |      :param H2OFrame test_data: Data set for which model metrics shall be computed against. All three of train,\n",
      " |          valid and xval arguments are ignored if test_data is not None.\n",
      " |      :param bool train: Report the training metrics for the model.\n",
      " |      :param bool valid: Report the validation metrics for the model.\n",
      " |      :param bool xval: Report the cross-validation metrics for the model. If train and valid are True, then it\n",
      " |          defaults to True.\n",
      " |      \n",
      " |      :returns: An object of class H2OModelMetrics.\n",
      " |  \n",
      " |  mse(self, train=False, valid=False, xval=False)\n",
      " |      Get the Mean Square Error.\n",
      " |      \n",
      " |      If all are False (default), then return the training metric value.\n",
      " |      If more than one options is set to True, then return a dictionary of metrics where the keys are \"train\",\n",
      " |      \"valid\", and \"xval\".\n",
      " |      \n",
      " |      :param bool train: If train is True, then return the MSE value for the training data.\n",
      " |      :param bool valid: If valid is True, then return the MSE value for the validation data.\n",
      " |      :param bool xval:  If xval is True, then return the MSE value for the cross validation data.\n",
      " |      \n",
      " |      :returns: The MSE for this regression model.\n",
      " |  \n",
      " |  normmul(self)\n",
      " |      Normalization/Standardization multipliers for numeric predictors.\n",
      " |  \n",
      " |  normsub(self)\n",
      " |      Normalization/Standardization offsets for numeric predictors.\n",
      " |  \n",
      " |  null_degrees_of_freedom(self, train=False, valid=False, xval=False)\n",
      " |      Retreive the null degress of freedom if this model has the attribute, or None otherwise.\n",
      " |      \n",
      " |      :param bool train: Get the null dof for the training set. If both train and valid are False, then train is\n",
      " |          selected by default.\n",
      " |      :param bool valid: Get the null dof for the validation set. If both train and valid are True, then train is\n",
      " |          selected by default.\n",
      " |      \n",
      " |      :returns: Return the null dof, or None if it is not present.\n",
      " |  \n",
      " |  null_deviance(self, train=False, valid=False, xval=False)\n",
      " |      Retreive the null deviance if this model has the attribute, or None otherwise.\n",
      " |      \n",
      " |      :param bool train: Get the null deviance for the training set. If both train and valid are False, then train\n",
      " |          is selected by default.\n",
      " |      :param bool valid: Get the null deviance for the validation set. If both train and valid are True, then train\n",
      " |          is selected by default.\n",
      " |      \n",
      " |      :returns: Return the null deviance, or None if it is not present.\n",
      " |  \n",
      " |  partial_plot(self, data, cols, destination_key=None, nbins=20, plot=True, figsize=(7, 10), server=False)\n",
      " |      Create partial dependence plot which gives a graphical depiction of the marginal effect of a variable on the\n",
      " |      response. The effect of a variable is measured in change in the mean response.\n",
      " |      \n",
      " |      :param H2OFrame data: An H2OFrame object used for scoring and constructing the plot.\n",
      " |      :param cols: Feature(s) for which partial dependence will be calculated.\n",
      " |      :param destination_key: An key reference to the created partial dependence tables in H2O.\n",
      " |      :param nbins: Number of bins used. For categorical columns make sure the number of bins exceed the level count.\n",
      " |      :param plot: A boolean specifying whether to plot partial dependence table.\n",
      " |      :param figsize: Dimension/size of the returning plots, adjust to fit your output cells.\n",
      " |      :param server: ?\n",
      " |      :returns: Plot and list of calculated mean response tables for each feature requested.\n",
      " |  \n",
      " |  pprint_coef(self)\n",
      " |      Pretty print the coefficents table (includes normalized coefficients).\n",
      " |  \n",
      " |  predict(self, test_data)\n",
      " |      Predict on a dataset.\n",
      " |      \n",
      " |      :param H2OFrame test_data: Data on which to make predictions.\n",
      " |      \n",
      " |      :returns: A new H2OFrame of predictions.\n",
      " |  \n",
      " |  predict_leaf_node_assignment(self, test_data)\n",
      " |      Predict on a dataset and return the leaf node assignment (only for tree-based models).\n",
      " |      \n",
      " |      :param H2OFrame test_data: Data on which to make predictions.\n",
      " |      \n",
      " |      :returns: A new H2OFrame of predictions.\n",
      " |  \n",
      " |  r2(self, train=False, valid=False, xval=False)\n",
      " |      Return the R squared for this regression model.\n",
      " |      \n",
      " |      Will return R^2 for GLM Models and will return NaN otherwise.\n",
      " |      \n",
      " |      The R^2 value is defined to be 1 - MSE/var, where var is computed as sigma*sigma.\n",
      " |      \n",
      " |      If all are False (default), then return the training metric value.\n",
      " |      If more than one options is set to True, then return a dictionary of metrics where the keys are \"train\",\n",
      " |      \"valid\", and \"xval\".\n",
      " |      \n",
      " |      :param bool train: If train is True, then return the R^2 value for the training data.\n",
      " |      :param bool valid: If valid is True, then return the R^2 value for the validation data.\n",
      " |      :param bool xval:  If xval is True, then return the R^2 value for the cross validation data.\n",
      " |      \n",
      " |      :returns: The R squared for this regression model.\n",
      " |  \n",
      " |  residual_degrees_of_freedom(self, train=False, valid=False, xval=False)\n",
      " |      Retreive the residual degress of freedom if this model has the attribute, or None otherwise.\n",
      " |      \n",
      " |      :param bool train: Get the residual dof for the training set. If both train and valid are False, then train\n",
      " |          is selected by default.\n",
      " |      :param bool valid: Get the residual dof for the validation set. If both train and valid are True, then train\n",
      " |          is selected by default.\n",
      " |      \n",
      " |      :returns: Return the residual dof, or None if it is not present.\n",
      " |  \n",
      " |  residual_deviance(self, train=False, valid=False, xval=None)\n",
      " |      Retreive the residual deviance if this model has the attribute, or None otherwise.\n",
      " |      \n",
      " |      :param bool train: Get the residual deviance for the training set. If both train and valid are False, then\n",
      " |          train is selected by default.\n",
      " |      :param bool valid: Get the residual deviance for the validation set. If both train and valid are True, then\n",
      " |          train is selected by default.\n",
      " |      \n",
      " |      :returns: Return the residual deviance, or None if it is not present.\n",
      " |  \n",
      " |  respmul(self)\n",
      " |      Normalization/Standardization multipliers for numeric response.\n",
      " |  \n",
      " |  respsub(self)\n",
      " |      Normalization/Standardization offsets for numeric response.\n",
      " |  \n",
      " |  rmse(self, train=False, valid=False, xval=False)\n",
      " |      Get the Root Mean Square Error.\n",
      " |      \n",
      " |      If all are False (default), then return the training metric value.\n",
      " |      If more than one options is set to True, then return a dictionary of metrics where the keys are \"train\",\n",
      " |      \"valid\", and \"xval\".\n",
      " |      \n",
      " |      :param bool train: If train is True, then return the RMSE value for the training data.\n",
      " |      :param bool valid: If valid is True, then return the RMSE value for the validation data.\n",
      " |      :param bool xval:  If xval is True, then return the RMSE value for the cross validation data.\n",
      " |      \n",
      " |      :returns: The RMSE for this regression model.\n",
      " |  \n",
      " |  rmsle(self, train=False, valid=False, xval=False)\n",
      " |      Get the Root Mean Squared Logarithmic Error.\n",
      " |      \n",
      " |      If all are False (default), then return the training metric value.\n",
      " |      If more than one options is set to True, then return a dictionary of metrics where the keys are \"train\",\n",
      " |      \"valid\", and \"xval\".\n",
      " |      \n",
      " |      :param bool train: If train is True, then return the RMSLE value for the training data.\n",
      " |      :param bool valid: If valid is True, then return the RMSLE value for the validation data.\n",
      " |      :param bool xval:  If xval is True, then return the RMSLE value for the cross validation data.\n",
      " |      \n",
      " |      :returns: The RMSLE for this regression model.\n",
      " |  \n",
      " |  save_mojo(self, path=u'', force=False)\n",
      " |      Save an H2O Model as MOJO (Model Object, Optimized) to disk.\n",
      " |      \n",
      " |      :param model: The model object to save.\n",
      " |      :param path: a path to save the model at (hdfs, s3, local)\n",
      " |      :param force: if True overwrite destination directory in case it exists, or throw exception if set to False.\n",
      " |      \n",
      " |      :returns str: the path of the saved model\n",
      " |  \n",
      " |  score_history(self)\n",
      " |      DEPRECATED. Use :meth:`scoring_history` instead.\n",
      " |  \n",
      " |  scoring_history(self)\n",
      " |      Retrieve Model Score History.\n",
      " |      \n",
      " |      :returns: The score history as an H2OTwoDimTable or a Pandas DataFrame.\n",
      " |  \n",
      " |  show(self)\n",
      " |      Print innards of model, without regards to type.\n",
      " |  \n",
      " |  std_coef_plot(self, num_of_features=None, server=False)\n",
      " |      Plot a GLM model\"s standardized coefficient magnitudes.\n",
      " |      \n",
      " |      :param num_of_features: the number of features shown in the plot.\n",
      " |      :param server: ?\n",
      " |      \n",
      " |      :returns: None.\n",
      " |  \n",
      " |  summary(self)\n",
      " |      Print a detailed summary of the model.\n",
      " |  \n",
      " |  varimp(self, use_pandas=False)\n",
      " |      Pretty print the variable importances, or return them in a list.\n",
      " |      \n",
      " |      :param use_pandas: If True, then the variable importances will be returned as a pandas data frame.\n",
      " |      \n",
      " |      :returns: A list or Pandas DataFrame.\n",
      " |  \n",
      " |  varimp_plot(self, num_of_features=None, server=False)\n",
      " |      Plot the variable importance for a trained model.\n",
      " |      \n",
      " |      :param num_of_features: the number of features shown in the plot.\n",
      " |      :param server: ?\n",
      " |      \n",
      " |      :returns: None.\n",
      " |  \n",
      " |  weights(self, matrix_id=0)\n",
      " |      Return the frame for the respective weight matrix.\n",
      " |      \n",
      " |      :param: matrix_id: an integer, ranging from 0 to number of layers, that specifies the weight matrix to return.\n",
      " |      \n",
      " |      :returns: an H2OFrame which represents the weight matrix identified by matrix_id\n",
      " |  \n",
      " |  xval_keys(self)\n",
      " |      Return model keys for the cross-validated model.\n",
      " |  \n",
      " |  ----------------------------------------------------------------------\n",
      " |  Data descriptors inherited from h2o.model.model_base.ModelBase:\n",
      " |  \n",
      " |  actual_params\n",
      " |      Dictionary of actual parameters of the model.\n",
      " |  \n",
      " |  default_params\n",
      " |      Dictionary of the default parameters of the model.\n",
      " |  \n",
      " |  full_parameters\n",
      " |      Dictionary of the full specification of all parameters.\n",
      " |  \n",
      " |  model_id\n",
      " |      Model identifier.\n",
      " |  \n",
      " |  params\n",
      " |      Get the parameters and the actual/default values only.\n",
      " |      \n",
      " |      :returns: A dictionary of parameters used to build this model.\n",
      " |  \n",
      " |  type\n",
      " |      The type of model built: ``\"classifier\"`` or ``\"regressor\"`` or ``\"unsupervised\"``\n",
      " |  \n",
      " |  xvals\n",
      " |      Return a list of the cross-validated models.\n",
      " |      \n",
      " |      :returns: A list of models.\n",
      " |  \n",
      " |  ----------------------------------------------------------------------\n",
      " |  Methods inherited from h2o.utils.backward_compatibility.BackwardsCompatibleBase:\n",
      " |  \n",
      " |  __getattr__(self, item)\n",
      " |  \n",
      " |  ----------------------------------------------------------------------\n",
      " |  Data descriptors inherited from h2o.utils.backward_compatibility.BackwardsCompatibleBase:\n",
      " |  \n",
      " |  __dict__\n",
      " |      dictionary for instance variables (if defined)\n",
      " |  \n",
      " |  __weakref__\n",
      " |      list of weak references to the object (if defined)\n",
      "\n"
     ]
    }
   ],
   "source": [
    "## read about the documentation\n",
    "help(H2OGeneralizedLinearEstimator)"
   ]
  },
  {
   "cell_type": "code",
   "execution_count": 45,
   "metadata": {
    "collapsed": false
   },
   "outputs": [
    {
     "data": {
      "text/html": [
       "<table>\n",
       "<thead>\n",
       "<tr><th>C1  </th></tr>\n",
       "</thead>\n",
       "<tbody>\n",
       "<tr><td>no  </td></tr>\n",
       "<tr><td>yes </td></tr>\n",
       "</tbody>\n",
       "</table>"
      ]
     },
     "metadata": {},
     "output_type": "display_data"
    },
    {
     "name": "stdout",
     "output_type": "stream",
     "text": [
      "\n"
     ]
    }
   ],
   "source": [
    "print df['y'].unique()"
   ]
  },
  {
   "cell_type": "code",
   "execution_count": 48,
   "metadata": {
    "collapsed": false
   },
   "outputs": [],
   "source": [
    "## MODEL 1 - GENERALIZED LINEAR MODEL OR LOGISTIC REGRESSION (BINOMIAL)\n",
    "## lambda, controls the amount of regularization in a GLM model and we can find the optimal\n",
    "## value for lambda automatically by setting lambda_search = True and passing in a validation \n",
    "## frame (which is used to evaluate model performance using a particular value of lambda).\n",
    "\n",
    "glm_model = H2OGeneralizedLinearEstimator(family='binomial', model_id='glm_model', lambda_search=True)"
   ]
  },
  {
   "cell_type": "code",
   "execution_count": 49,
   "metadata": {
    "collapsed": true
   },
   "outputs": [],
   "source": [
    "#Prepare predictors and response columns\n",
    "predictors = df.col_names[:-1]     #last column is response, our desired response variable \n",
    "response = df.col_names[-1] "
   ]
  },
  {
   "cell_type": "code",
   "execution_count": 50,
   "metadata": {
    "collapsed": false
   },
   "outputs": [
    {
     "name": "stdout",
     "output_type": "stream",
     "text": [
      "glm Model Build progress: |███████████████████████████████████████████████| 100%\n"
     ]
    }
   ],
   "source": [
    "glm_model.train(predictors, response, training_frame=train, validation_frame=valid)"
   ]
  },
  {
   "cell_type": "code",
   "execution_count": 51,
   "metadata": {
    "collapsed": false
   },
   "outputs": [
    {
     "name": "stdout",
     "output_type": "stream",
     "text": [
      "Model Details\n",
      "=============\n",
      "H2OGeneralizedLinearEstimator :  Generalized Linear Modeling\n",
      "Model Key:  glm_model\n",
      "\n",
      "\n",
      "ModelMetricsBinomialGLM: glm\n",
      "** Reported on train data. **\n",
      "\n",
      "MSE: 0.0707011639635\n",
      "RMSE: 0.265896904765\n",
      "LogLoss: 0.238470624639\n",
      "Null degrees of freedom: 31679\n",
      "Residual degrees of freedom: 31640\n",
      "Null deviance: 22925.2338485\n",
      "Residual deviance: 15109.4987771\n",
      "AIC: 15189.4987771\n",
      "AUC: 0.909048872279\n",
      "Gini: 0.818097744558\n",
      "Confusion Matrix (Act/Pred) for max f1 @ threshold = 0.190614726004: \n"
     ]
    },
    {
     "data": {
      "text/html": [
       "<div style=\"overflow:auto\"><table style=\"width:50%\"><tr><td><b></b></td>\n",
       "<td><b>no</b></td>\n",
       "<td><b>yes</b></td>\n",
       "<td><b>Error</b></td>\n",
       "<td><b>Rate</b></td></tr>\n",
       "<tr><td>no</td>\n",
       "<td>25436.0</td>\n",
       "<td>2523.0</td>\n",
       "<td>0.0902</td>\n",
       "<td> (2523.0/27959.0)</td></tr>\n",
       "<tr><td>yes</td>\n",
       "<td>1160.0</td>\n",
       "<td>2561.0</td>\n",
       "<td>0.3117</td>\n",
       "<td> (1160.0/3721.0)</td></tr>\n",
       "<tr><td>Total</td>\n",
       "<td>26596.0</td>\n",
       "<td>5084.0</td>\n",
       "<td>0.1163</td>\n",
       "<td> (3683.0/31680.0)</td></tr></table></div>"
      ],
      "text/plain": [
       "       no     yes    Error    Rate\n",
       "-----  -----  -----  -------  ----------------\n",
       "no     25436  2523   0.0902   (2523.0/27959.0)\n",
       "yes    1160   2561   0.3117   (1160.0/3721.0)\n",
       "Total  26596  5084   0.1163   (3683.0/31680.0)"
      ]
     },
     "metadata": {},
     "output_type": "display_data"
    },
    {
     "name": "stdout",
     "output_type": "stream",
     "text": [
      "Maximum Metrics: Maximum metrics at their respective thresholds\n",
      "\n"
     ]
    },
    {
     "data": {
      "text/html": [
       "<div style=\"overflow:auto\"><table style=\"width:50%\"><tr><td><b>metric</b></td>\n",
       "<td><b>threshold</b></td>\n",
       "<td><b>value</b></td>\n",
       "<td><b>idx</b></td></tr>\n",
       "<tr><td>max f1</td>\n",
       "<td>0.1906147</td>\n",
       "<td>0.5817149</td>\n",
       "<td>246.0</td></tr>\n",
       "<tr><td>max f2</td>\n",
       "<td>0.1159957</td>\n",
       "<td>0.6921813</td>\n",
       "<td>287.0</td></tr>\n",
       "<tr><td>max f0point5</td>\n",
       "<td>0.3591864</td>\n",
       "<td>0.5833824</td>\n",
       "<td>179.0</td></tr>\n",
       "<tr><td>max accuracy</td>\n",
       "<td>0.3812761</td>\n",
       "<td>0.9041035</td>\n",
       "<td>171.0</td></tr>\n",
       "<tr><td>max precision</td>\n",
       "<td>0.7700209</td>\n",
       "<td>0.7220259</td>\n",
       "<td>59.0</td></tr>\n",
       "<tr><td>max recall</td>\n",
       "<td>0.0034762</td>\n",
       "<td>1.0</td>\n",
       "<td>397.0</td></tr>\n",
       "<tr><td>max specificity</td>\n",
       "<td>0.9993617</td>\n",
       "<td>0.9996066</td>\n",
       "<td>0.0</td></tr>\n",
       "<tr><td>max absolute_mcc</td>\n",
       "<td>0.1634900</td>\n",
       "<td>0.5265882</td>\n",
       "<td>259.0</td></tr>\n",
       "<tr><td>max min_per_class_accuracy</td>\n",
       "<td>0.1159957</td>\n",
       "<td>0.8379468</td>\n",
       "<td>287.0</td></tr>\n",
       "<tr><td>max mean_per_class_accuracy</td>\n",
       "<td>0.0976380</td>\n",
       "<td>0.8404838</td>\n",
       "<td>300.0</td></tr></table></div>"
      ],
      "text/plain": [
       "metric                       threshold    value     idx\n",
       "---------------------------  -----------  --------  -----\n",
       "max f1                       0.190615     0.581715  246\n",
       "max f2                       0.115996     0.692181  287\n",
       "max f0point5                 0.359186     0.583382  179\n",
       "max accuracy                 0.381276     0.904104  171\n",
       "max precision                0.770021     0.722026  59\n",
       "max recall                   0.00347624   1         397\n",
       "max specificity              0.999362     0.999607  0\n",
       "max absolute_mcc             0.16349      0.526588  259\n",
       "max min_per_class_accuracy   0.115996     0.837947  287\n",
       "max mean_per_class_accuracy  0.097638     0.840484  300"
      ]
     },
     "metadata": {},
     "output_type": "display_data"
    },
    {
     "name": "stdout",
     "output_type": "stream",
     "text": [
      "Gains/Lift Table: Avg response rate: 11.75 %\n",
      "\n"
     ]
    },
    {
     "data": {
      "text/html": [
       "<div style=\"overflow:auto\"><table style=\"width:50%\"><tr><td><b></b></td>\n",
       "<td><b>group</b></td>\n",
       "<td><b>cumulative_data_fraction</b></td>\n",
       "<td><b>lower_threshold</b></td>\n",
       "<td><b>lift</b></td>\n",
       "<td><b>cumulative_lift</b></td>\n",
       "<td><b>response_rate</b></td>\n",
       "<td><b>cumulative_response_rate</b></td>\n",
       "<td><b>capture_rate</b></td>\n",
       "<td><b>cumulative_capture_rate</b></td>\n",
       "<td><b>gain</b></td>\n",
       "<td><b>cumulative_gain</b></td></tr>\n",
       "<tr><td></td>\n",
       "<td>1</td>\n",
       "<td>0.0100063</td>\n",
       "<td>0.9138298</td>\n",
       "<td>5.9892316</td>\n",
       "<td>5.9892316</td>\n",
       "<td>0.7034700</td>\n",
       "<td>0.7034700</td>\n",
       "<td>0.0599301</td>\n",
       "<td>0.0599301</td>\n",
       "<td>498.9231550</td>\n",
       "<td>498.9231550</td></tr>\n",
       "<tr><td></td>\n",
       "<td>2</td>\n",
       "<td>0.0200126</td>\n",
       "<td>0.8277311</td>\n",
       "<td>6.0966617</td>\n",
       "<td>6.0429466</td>\n",
       "<td>0.7160883</td>\n",
       "<td>0.7097792</td>\n",
       "<td>0.0610051</td>\n",
       "<td>0.1209352</td>\n",
       "<td>509.6661713</td>\n",
       "<td>504.2946632</td></tr>\n",
       "<tr><td></td>\n",
       "<td>3</td>\n",
       "<td>0.0300189</td>\n",
       "<td>0.7429166</td>\n",
       "<td>6.2040919</td>\n",
       "<td>6.0966617</td>\n",
       "<td>0.7287066</td>\n",
       "<td>0.7160883</td>\n",
       "<td>0.0620801</td>\n",
       "<td>0.1830153</td>\n",
       "<td>520.4091875</td>\n",
       "<td>509.6661713</td></tr>\n",
       "<tr><td></td>\n",
       "<td>4</td>\n",
       "<td>0.0400253</td>\n",
       "<td>0.6580526</td>\n",
       "<td>5.6400835</td>\n",
       "<td>5.9825172</td>\n",
       "<td>0.6624606</td>\n",
       "<td>0.7026814</td>\n",
       "<td>0.0564364</td>\n",
       "<td>0.2394518</td>\n",
       "<td>464.0083523</td>\n",
       "<td>498.2517165</td></tr>\n",
       "<tr><td></td>\n",
       "<td>5</td>\n",
       "<td>0.05</td>\n",
       "<td>0.5780672</td>\n",
       "<td>5.1190812</td>\n",
       "<td>5.8102661</td>\n",
       "<td>0.6012658</td>\n",
       "<td>0.6824495</td>\n",
       "<td>0.0510615</td>\n",
       "<td>0.2905133</td>\n",
       "<td>411.9081232</td>\n",
       "<td>481.0266058</td></tr>\n",
       "<tr><td></td>\n",
       "<td>6</td>\n",
       "<td>0.1</td>\n",
       "<td>0.3260161</td>\n",
       "<td>4.3590433</td>\n",
       "<td>5.0846547</td>\n",
       "<td>0.5119949</td>\n",
       "<td>0.5972222</td>\n",
       "<td>0.2179522</td>\n",
       "<td>0.5084655</td>\n",
       "<td>335.9043268</td>\n",
       "<td>408.4654663</td></tr>\n",
       "<tr><td></td>\n",
       "<td>7</td>\n",
       "<td>0.15</td>\n",
       "<td>0.2064084</td>\n",
       "<td>3.0314432</td>\n",
       "<td>4.4002508</td>\n",
       "<td>0.3560606</td>\n",
       "<td>0.5168350</td>\n",
       "<td>0.1515722</td>\n",
       "<td>0.6600376</td>\n",
       "<td>203.1443160</td>\n",
       "<td>340.0250829</td></tr>\n",
       "<tr><td></td>\n",
       "<td>8</td>\n",
       "<td>0.2</td>\n",
       "<td>0.1461806</td>\n",
       "<td>2.2789573</td>\n",
       "<td>3.8699274</td>\n",
       "<td>0.2676768</td>\n",
       "<td>0.4545455</td>\n",
       "<td>0.1139479</td>\n",
       "<td>0.7739855</td>\n",
       "<td>127.8957270</td>\n",
       "<td>286.9927439</td></tr>\n",
       "<tr><td></td>\n",
       "<td>9</td>\n",
       "<td>0.3</td>\n",
       "<td>0.0864680</td>\n",
       "<td>1.1959151</td>\n",
       "<td>2.9785900</td>\n",
       "<td>0.1404672</td>\n",
       "<td>0.3498527</td>\n",
       "<td>0.1195915</td>\n",
       "<td>0.8935770</td>\n",
       "<td>19.5915077</td>\n",
       "<td>197.8589985</td></tr>\n",
       "<tr><td></td>\n",
       "<td>10</td>\n",
       "<td>0.4</td>\n",
       "<td>0.0604361</td>\n",
       "<td>0.5294276</td>\n",
       "<td>2.3662994</td>\n",
       "<td>0.0621843</td>\n",
       "<td>0.2779356</td>\n",
       "<td>0.0529428</td>\n",
       "<td>0.9465198</td>\n",
       "<td>-47.0572427</td>\n",
       "<td>136.6299382</td></tr>\n",
       "<tr><td></td>\n",
       "<td>11</td>\n",
       "<td>0.5</td>\n",
       "<td>0.0451149</td>\n",
       "<td>0.2176834</td>\n",
       "<td>1.9365762</td>\n",
       "<td>0.0255682</td>\n",
       "<td>0.2274621</td>\n",
       "<td>0.0217683</td>\n",
       "<td>0.9682881</td>\n",
       "<td>-78.2316582</td>\n",
       "<td>93.6576189</td></tr>\n",
       "<tr><td></td>\n",
       "<td>12</td>\n",
       "<td>0.6</td>\n",
       "<td>0.0341760</td>\n",
       "<td>0.1451223</td>\n",
       "<td>1.6380005</td>\n",
       "<td>0.0170455</td>\n",
       "<td>0.1923927</td>\n",
       "<td>0.0145122</td>\n",
       "<td>0.9828003</td>\n",
       "<td>-85.4877721</td>\n",
       "<td>63.8000537</td></tr>\n",
       "<tr><td></td>\n",
       "<td>13</td>\n",
       "<td>0.7</td>\n",
       "<td>0.0250537</td>\n",
       "<td>0.0967482</td>\n",
       "<td>1.4178216</td>\n",
       "<td>0.0113636</td>\n",
       "<td>0.1665314</td>\n",
       "<td>0.0096748</td>\n",
       "<td>0.9924751</td>\n",
       "<td>-90.3251814</td>\n",
       "<td>41.7821630</td></tr>\n",
       "<tr><td></td>\n",
       "<td>14</td>\n",
       "<td>0.8</td>\n",
       "<td>0.0170226</td>\n",
       "<td>0.0295619</td>\n",
       "<td>1.2442892</td>\n",
       "<td>0.0034722</td>\n",
       "<td>0.1461490</td>\n",
       "<td>0.0029562</td>\n",
       "<td>0.9954313</td>\n",
       "<td>-97.0438054</td>\n",
       "<td>24.4289170</td></tr>\n",
       "<tr><td></td>\n",
       "<td>15</td>\n",
       "<td>0.9</td>\n",
       "<td>0.0097970</td>\n",
       "<td>0.0214996</td>\n",
       "<td>1.1084237</td>\n",
       "<td>0.0025253</td>\n",
       "<td>0.1301908</td>\n",
       "<td>0.0021500</td>\n",
       "<td>0.9975813</td>\n",
       "<td>-97.8500403</td>\n",
       "<td>10.8423662</td></tr>\n",
       "<tr><td></td>\n",
       "<td>16</td>\n",
       "<td>1.0</td>\n",
       "<td>0.0000350</td>\n",
       "<td>0.0241870</td>\n",
       "<td>1.0</td>\n",
       "<td>0.0028409</td>\n",
       "<td>0.1174558</td>\n",
       "<td>0.0024187</td>\n",
       "<td>1.0</td>\n",
       "<td>-97.5812954</td>\n",
       "<td>0.0</td></tr></table></div>"
      ],
      "text/plain": [
       "    group    cumulative_data_fraction    lower_threshold    lift       cumulative_lift    response_rate    cumulative_response_rate    capture_rate    cumulative_capture_rate    gain      cumulative_gain\n",
       "--  -------  --------------------------  -----------------  ---------  -----------------  ---------------  --------------------------  --------------  -------------------------  --------  -----------------\n",
       "    1        0.0100063                   0.91383            5.98923    5.98923            0.70347          0.70347                     0.0599301       0.0599301                  498.923   498.923\n",
       "    2        0.0200126                   0.827731           6.09666    6.04295            0.716088         0.709779                    0.0610051       0.120935                   509.666   504.295\n",
       "    3        0.0300189                   0.742917           6.20409    6.09666            0.728707         0.716088                    0.0620801       0.183015                   520.409   509.666\n",
       "    4        0.0400253                   0.658053           5.64008    5.98252            0.662461         0.702681                    0.0564364       0.239452                   464.008   498.252\n",
       "    5        0.05                        0.578067           5.11908    5.81027            0.601266         0.682449                    0.0510615       0.290513                   411.908   481.027\n",
       "    6        0.1                         0.326016           4.35904    5.08465            0.511995         0.597222                    0.217952        0.508465                   335.904   408.465\n",
       "    7        0.15                        0.206408           3.03144    4.40025            0.356061         0.516835                    0.151572        0.660038                   203.144   340.025\n",
       "    8        0.2                         0.146181           2.27896    3.86993            0.267677         0.454545                    0.113948        0.773985                   127.896   286.993\n",
       "    9        0.3                         0.086468           1.19592    2.97859            0.140467         0.349853                    0.119592        0.893577                   19.5915   197.859\n",
       "    10       0.4                         0.0604361          0.529428   2.3663             0.0621843        0.277936                    0.0529428       0.94652                    -47.0572  136.63\n",
       "    11       0.5                         0.0451149          0.217683   1.93658            0.0255682        0.227462                    0.0217683       0.968288                   -78.2317  93.6576\n",
       "    12       0.6                         0.034176           0.145122   1.638              0.0170455        0.192393                    0.0145122       0.9828                     -85.4878  63.8001\n",
       "    13       0.7                         0.0250537          0.0967482  1.41782            0.0113636        0.166531                    0.00967482      0.992475                   -90.3252  41.7822\n",
       "    14       0.8                         0.0170226          0.0295619  1.24429            0.00347222       0.146149                    0.00295619      0.995431                   -97.0438  24.4289\n",
       "    15       0.9                         0.00979701         0.0214996  1.10842            0.00252525       0.130191                    0.00214996      0.997581                   -97.85    10.8424\n",
       "    16       1                           3.50024e-05        0.024187   1                  0.00284091       0.117456                    0.0024187       1                          -97.5813  0"
      ]
     },
     "metadata": {},
     "output_type": "display_data"
    },
    {
     "name": "stdout",
     "output_type": "stream",
     "text": [
      "\n",
      "\n",
      "ModelMetricsBinomialGLM: glm\n",
      "** Reported on validation data. **\n",
      "\n",
      "MSE: 0.071290409637\n",
      "RMSE: 0.267002639757\n",
      "LogLoss: 0.239223543276\n",
      "Null degrees of freedom: 13530\n",
      "Residual degrees of freedom: 13491\n",
      "Null deviance: 9705.81755637\n",
      "Residual deviance: 6473.86752814\n",
      "AIC: 6553.86752814\n",
      "AUC: 0.90713141135\n",
      "Gini: 0.8142628227\n",
      "Confusion Matrix (Act/Pred) for max f1 @ threshold = 0.198961499733: \n"
     ]
    },
    {
     "data": {
      "text/html": [
       "<div style=\"overflow:auto\"><table style=\"width:50%\"><tr><td><b></b></td>\n",
       "<td><b>no</b></td>\n",
       "<td><b>yes</b></td>\n",
       "<td><b>Error</b></td>\n",
       "<td><b>Rate</b></td></tr>\n",
       "<tr><td>no</td>\n",
       "<td>10882.0</td>\n",
       "<td>1081.0</td>\n",
       "<td>0.0904</td>\n",
       "<td> (1081.0/11963.0)</td></tr>\n",
       "<tr><td>yes</td>\n",
       "<td>495.0</td>\n",
       "<td>1073.0</td>\n",
       "<td>0.3157</td>\n",
       "<td> (495.0/1568.0)</td></tr>\n",
       "<tr><td>Total</td>\n",
       "<td>11377.0</td>\n",
       "<td>2154.0</td>\n",
       "<td>0.1165</td>\n",
       "<td> (1576.0/13531.0)</td></tr></table></div>"
      ],
      "text/plain": [
       "       no     yes    Error    Rate\n",
       "-----  -----  -----  -------  ----------------\n",
       "no     10882  1081   0.0904   (1081.0/11963.0)\n",
       "yes    495    1073   0.3157   (495.0/1568.0)\n",
       "Total  11377  2154   0.1165   (1576.0/13531.0)"
      ]
     },
     "metadata": {},
     "output_type": "display_data"
    },
    {
     "name": "stdout",
     "output_type": "stream",
     "text": [
      "Maximum Metrics: Maximum metrics at their respective thresholds\n",
      "\n"
     ]
    },
    {
     "data": {
      "text/html": [
       "<div style=\"overflow:auto\"><table style=\"width:50%\"><tr><td><b>metric</b></td>\n",
       "<td><b>threshold</b></td>\n",
       "<td><b>value</b></td>\n",
       "<td><b>idx</b></td></tr>\n",
       "<tr><td>max f1</td>\n",
       "<td>0.1989615</td>\n",
       "<td>0.5765717</td>\n",
       "<td>241.0</td></tr>\n",
       "<tr><td>max f2</td>\n",
       "<td>0.1053972</td>\n",
       "<td>0.6821206</td>\n",
       "<td>294.0</td></tr>\n",
       "<tr><td>max f0point5</td>\n",
       "<td>0.4038401</td>\n",
       "<td>0.5741231</td>\n",
       "<td>162.0</td></tr>\n",
       "<tr><td>max accuracy</td>\n",
       "<td>0.4038401</td>\n",
       "<td>0.9039982</td>\n",
       "<td>162.0</td></tr>\n",
       "<tr><td>max precision</td>\n",
       "<td>0.9301438</td>\n",
       "<td>0.7383178</td>\n",
       "<td>17.0</td></tr>\n",
       "<tr><td>max recall</td>\n",
       "<td>0.0081749</td>\n",
       "<td>1.0</td>\n",
       "<td>392.0</td></tr>\n",
       "<tr><td>max specificity</td>\n",
       "<td>0.9995739</td>\n",
       "<td>0.9995820</td>\n",
       "<td>0.0</td></tr>\n",
       "<tr><td>max absolute_mcc</td>\n",
       "<td>0.1967256</td>\n",
       "<td>0.5198490</td>\n",
       "<td>242.0</td></tr>\n",
       "<tr><td>max min_per_class_accuracy</td>\n",
       "<td>0.1126933</td>\n",
       "<td>0.8316327</td>\n",
       "<td>289.0</td></tr>\n",
       "<tr><td>max mean_per_class_accuracy</td>\n",
       "<td>0.0939979</td>\n",
       "<td>0.8348502</td>\n",
       "<td>301.0</td></tr></table></div>"
      ],
      "text/plain": [
       "metric                       threshold    value     idx\n",
       "---------------------------  -----------  --------  -----\n",
       "max f1                       0.198961     0.576572  241\n",
       "max f2                       0.105397     0.682121  294\n",
       "max f0point5                 0.40384      0.574123  162\n",
       "max accuracy                 0.40384      0.903998  162\n",
       "max precision                0.930144     0.738318  17\n",
       "max recall                   0.00817491   1         392\n",
       "max specificity              0.999574     0.999582  0\n",
       "max absolute_mcc             0.196726     0.519849  242\n",
       "max min_per_class_accuracy   0.112693     0.831633  289\n",
       "max mean_per_class_accuracy  0.0939979    0.83485   301"
      ]
     },
     "metadata": {},
     "output_type": "display_data"
    },
    {
     "name": "stdout",
     "output_type": "stream",
     "text": [
      "Gains/Lift Table: Avg response rate: 11.59 %\n",
      "\n"
     ]
    },
    {
     "data": {
      "text/html": [
       "<div style=\"overflow:auto\"><table style=\"width:50%\"><tr><td><b></b></td>\n",
       "<td><b>group</b></td>\n",
       "<td><b>cumulative_data_fraction</b></td>\n",
       "<td><b>lower_threshold</b></td>\n",
       "<td><b>lift</b></td>\n",
       "<td><b>cumulative_lift</b></td>\n",
       "<td><b>response_rate</b></td>\n",
       "<td><b>cumulative_response_rate</b></td>\n",
       "<td><b>capture_rate</b></td>\n",
       "<td><b>cumulative_capture_rate</b></td>\n",
       "<td><b>gain</b></td>\n",
       "<td><b>cumulative_gain</b></td></tr>\n",
       "<tr><td></td>\n",
       "<td>1</td>\n",
       "<td>0.0100510</td>\n",
       "<td>0.9049510</td>\n",
       "<td>6.1548385</td>\n",
       "<td>6.1548385</td>\n",
       "<td>0.7132353</td>\n",
       "<td>0.7132353</td>\n",
       "<td>0.0618622</td>\n",
       "<td>0.0618622</td>\n",
       "<td>515.4838498</td>\n",
       "<td>515.4838498</td></tr>\n",
       "<tr><td></td>\n",
       "<td>2</td>\n",
       "<td>0.0200281</td>\n",
       "<td>0.8158974</td>\n",
       "<td>5.6251323</td>\n",
       "<td>5.8909627</td>\n",
       "<td>0.6518519</td>\n",
       "<td>0.6826568</td>\n",
       "<td>0.0561224</td>\n",
       "<td>0.1179847</td>\n",
       "<td>462.5132275</td>\n",
       "<td>489.0962704</td></tr>\n",
       "<tr><td></td>\n",
       "<td>3</td>\n",
       "<td>0.0300052</td>\n",
       "<td>0.7188915</td>\n",
       "<td>5.6890542</td>\n",
       "<td>5.8238257</td>\n",
       "<td>0.6592593</td>\n",
       "<td>0.6748768</td>\n",
       "<td>0.0567602</td>\n",
       "<td>0.1747449</td>\n",
       "<td>468.9054233</td>\n",
       "<td>482.3825651</td></tr>\n",
       "<tr><td></td>\n",
       "<td>4</td>\n",
       "<td>0.0400562</td>\n",
       "<td>0.6387991</td>\n",
       "<td>5.0761555</td>\n",
       "<td>5.6362184</td>\n",
       "<td>0.5882353</td>\n",
       "<td>0.6531365</td>\n",
       "<td>0.0510204</td>\n",
       "<td>0.2257653</td>\n",
       "<td>407.6155462</td>\n",
       "<td>463.6218371</td></tr>\n",
       "<tr><td></td>\n",
       "<td>5</td>\n",
       "<td>0.0500333</td>\n",
       "<td>0.5721107</td>\n",
       "<td>5.6890542</td>\n",
       "<td>5.6467543</td>\n",
       "<td>0.6592593</td>\n",
       "<td>0.6543575</td>\n",
       "<td>0.0567602</td>\n",
       "<td>0.2825255</td>\n",
       "<td>468.9054233</td>\n",
       "<td>464.6754326</td></tr>\n",
       "<tr><td></td>\n",
       "<td>6</td>\n",
       "<td>0.1000665</td>\n",
       "<td>0.3385575</td>\n",
       "<td>4.4358251</td>\n",
       "<td>5.0412897</td>\n",
       "<td>0.5140325</td>\n",
       "<td>0.5841950</td>\n",
       "<td>0.2219388</td>\n",
       "<td>0.5044643</td>\n",
       "<td>343.5825069</td>\n",
       "<td>404.1289697</td></tr>\n",
       "<tr><td></td>\n",
       "<td>7</td>\n",
       "<td>0.1500259</td>\n",
       "<td>0.2153062</td>\n",
       "<td>3.0381842</td>\n",
       "<td>4.3742457</td>\n",
       "<td>0.3520710</td>\n",
       "<td>0.5068966</td>\n",
       "<td>0.1517857</td>\n",
       "<td>0.65625</td>\n",
       "<td>203.8184172</td>\n",
       "<td>337.4245690</td></tr>\n",
       "<tr><td></td>\n",
       "<td>8</td>\n",
       "<td>0.2000591</td>\n",
       "<td>0.1454468</td>\n",
       "<td>2.1031929</td>\n",
       "<td>3.8062728</td>\n",
       "<td>0.2437223</td>\n",
       "<td>0.4410787</td>\n",
       "<td>0.1052296</td>\n",
       "<td>0.7614796</td>\n",
       "<td>110.3192920</td>\n",
       "<td>280.6272758</td></tr>\n",
       "<tr><td></td>\n",
       "<td>9</td>\n",
       "<td>0.3000517</td>\n",
       "<td>0.0863514</td>\n",
       "<td>1.2819825</td>\n",
       "<td>2.9650499</td>\n",
       "<td>0.1485588</td>\n",
       "<td>0.3435961</td>\n",
       "<td>0.1281888</td>\n",
       "<td>0.8896684</td>\n",
       "<td>28.1982499</td>\n",
       "<td>196.5049921</td></tr>\n",
       "<tr><td></td>\n",
       "<td>10</td>\n",
       "<td>0.4000443</td>\n",
       "<td>0.0594913</td>\n",
       "<td>0.5548879</td>\n",
       "<td>2.3626207</td>\n",
       "<td>0.0643016</td>\n",
       "<td>0.2737853</td>\n",
       "<td>0.0554847</td>\n",
       "<td>0.9451531</td>\n",
       "<td>-44.5112053</td>\n",
       "<td>136.2620741</td></tr>\n",
       "<tr><td></td>\n",
       "<td>11</td>\n",
       "<td>0.5000370</td>\n",
       "<td>0.0448006</td>\n",
       "<td>0.2423649</td>\n",
       "<td>1.9386322</td>\n",
       "<td>0.0280857</td>\n",
       "<td>0.2246527</td>\n",
       "<td>0.0242347</td>\n",
       "<td>0.9693878</td>\n",
       "<td>-75.7635149</td>\n",
       "<td>93.8632237</td></tr>\n",
       "<tr><td></td>\n",
       "<td>12</td>\n",
       "<td>0.6000296</td>\n",
       "<td>0.0344146</td>\n",
       "<td>0.1977187</td>\n",
       "<td>1.6485157</td>\n",
       "<td>0.0229120</td>\n",
       "<td>0.1910334</td>\n",
       "<td>0.0197704</td>\n",
       "<td>0.9891582</td>\n",
       "<td>-80.2281306</td>\n",
       "<td>64.8515717</td></tr>\n",
       "<tr><td></td>\n",
       "<td>13</td>\n",
       "<td>0.7000222</td>\n",
       "<td>0.0255080</td>\n",
       "<td>0.0382681</td>\n",
       "<td>1.4185046</td>\n",
       "<td>0.0044346</td>\n",
       "<td>0.1643792</td>\n",
       "<td>0.0038265</td>\n",
       "<td>0.9929847</td>\n",
       "<td>-96.1731866</td>\n",
       "<td>41.8504634</td></tr>\n",
       "<tr><td></td>\n",
       "<td>14</td>\n",
       "<td>0.8000148</td>\n",
       "<td>0.0172321</td>\n",
       "<td>0.0318901</td>\n",
       "<td>1.2451938</td>\n",
       "<td>0.0036955</td>\n",
       "<td>0.1442956</td>\n",
       "<td>0.0031888</td>\n",
       "<td>0.9961735</td>\n",
       "<td>-96.8109888</td>\n",
       "<td>24.5193830</td></tr>\n",
       "<tr><td></td>\n",
       "<td>15</td>\n",
       "<td>0.9000074</td>\n",
       "<td>0.0100287</td>\n",
       "<td>0.0255121</td>\n",
       "<td>1.1096848</td>\n",
       "<td>0.0029564</td>\n",
       "<td>0.1285925</td>\n",
       "<td>0.0025510</td>\n",
       "<td>0.9987245</td>\n",
       "<td>-97.4487910</td>\n",
       "<td>10.9684765</td></tr>\n",
       "<tr><td></td>\n",
       "<td>16</td>\n",
       "<td>1.0</td>\n",
       "<td>0.0001286</td>\n",
       "<td>0.0127560</td>\n",
       "<td>1.0</td>\n",
       "<td>0.0014782</td>\n",
       "<td>0.1158820</td>\n",
       "<td>0.0012755</td>\n",
       "<td>1.0</td>\n",
       "<td>-98.7243955</td>\n",
       "<td>0.0</td></tr></table></div>"
      ],
      "text/plain": [
       "    group    cumulative_data_fraction    lower_threshold    lift       cumulative_lift    response_rate    cumulative_response_rate    capture_rate    cumulative_capture_rate    gain      cumulative_gain\n",
       "--  -------  --------------------------  -----------------  ---------  -----------------  ---------------  --------------------------  --------------  -------------------------  --------  -----------------\n",
       "    1        0.010051                    0.904951           6.15484    6.15484            0.713235         0.713235                    0.0618622       0.0618622                  515.484   515.484\n",
       "    2        0.0200281                   0.815897           5.62513    5.89096            0.651852         0.682657                    0.0561224       0.117985                   462.513   489.096\n",
       "    3        0.0300052                   0.718891           5.68905    5.82383            0.659259         0.674877                    0.0567602       0.174745                   468.905   482.383\n",
       "    4        0.0400562                   0.638799           5.07616    5.63622            0.588235         0.653137                    0.0510204       0.225765                   407.616   463.622\n",
       "    5        0.0500333                   0.572111           5.68905    5.64675            0.659259         0.654357                    0.0567602       0.282526                   468.905   464.675\n",
       "    6        0.100067                    0.338557           4.43583    5.04129            0.514032         0.584195                    0.221939        0.504464                   343.583   404.129\n",
       "    7        0.150026                    0.215306           3.03818    4.37425            0.352071         0.506897                    0.151786        0.65625                    203.818   337.425\n",
       "    8        0.200059                    0.145447           2.10319    3.80627            0.243722         0.441079                    0.10523         0.76148                    110.319   280.627\n",
       "    9        0.300052                    0.0863514          1.28198    2.96505            0.148559         0.343596                    0.128189        0.889668                   28.1982   196.505\n",
       "    10       0.400044                    0.0594913          0.554888   2.36262            0.0643016        0.273785                    0.0554847       0.945153                   -44.5112  136.262\n",
       "    11       0.500037                    0.0448006          0.242365   1.93863            0.0280857        0.224653                    0.0242347       0.969388                   -75.7635  93.8632\n",
       "    12       0.60003                     0.0344146          0.197719   1.64852            0.022912         0.191033                    0.0197704       0.989158                   -80.2281  64.8516\n",
       "    13       0.700022                    0.025508           0.0382681  1.4185             0.00443459       0.164379                    0.00382653      0.992985                   -96.1732  41.8505\n",
       "    14       0.800015                    0.0172321          0.0318901  1.24519            0.00369549       0.144296                    0.00318878      0.996173                   -96.811   24.5194\n",
       "    15       0.900007                    0.0100287          0.0255121  1.10968            0.00295639       0.128593                    0.00255102      0.998724                   -97.4488  10.9685\n",
       "    16       1                           0.000128556        0.012756   1                  0.0014782        0.115882                    0.00127551      1                          -98.7244  0"
      ]
     },
     "metadata": {},
     "output_type": "display_data"
    },
    {
     "name": "stdout",
     "output_type": "stream",
     "text": [
      "\n",
      "Scoring History: \n"
     ]
    },
    {
     "data": {
      "text/html": [
       "<div style=\"overflow:auto\"><table style=\"width:50%\"><tr><td><b></b></td>\n",
       "<td><b>timestamp</b></td>\n",
       "<td><b>duration</b></td>\n",
       "<td><b>iteration</b></td>\n",
       "<td><b>lambda</b></td>\n",
       "<td><b>predictors</b></td>\n",
       "<td><b>deviance_train</b></td>\n",
       "<td><b>deviance_test</b></td></tr>\n",
       "<tr><td></td>\n",
       "<td>2017-04-03 19:49:27</td>\n",
       "<td> 0.000 sec</td>\n",
       "<td>3</td>\n",
       "<td>.23E0</td>\n",
       "<td>2</td>\n",
       "<td>0.7111968</td>\n",
       "<td>0.7052345</td></tr>\n",
       "<tr><td></td>\n",
       "<td>2017-04-03 19:49:27</td>\n",
       "<td> 0.093 sec</td>\n",
       "<td>5</td>\n",
       "<td>.21E0</td>\n",
       "<td>2</td>\n",
       "<td>0.6999791</td>\n",
       "<td>0.6943485</td></tr>\n",
       "<tr><td></td>\n",
       "<td>2017-04-03 19:49:27</td>\n",
       "<td> 0.183 sec</td>\n",
       "<td>7</td>\n",
       "<td>.19E0</td>\n",
       "<td>2</td>\n",
       "<td>0.6899445</td>\n",
       "<td>0.6845913</td></tr>\n",
       "<tr><td></td>\n",
       "<td>2017-04-03 19:49:27</td>\n",
       "<td> 0.247 sec</td>\n",
       "<td>9</td>\n",
       "<td>.18E0</td>\n",
       "<td>2</td>\n",
       "<td>0.6809676</td>\n",
       "<td>0.6758427</td></tr>\n",
       "<tr><td></td>\n",
       "<td>2017-04-03 19:49:27</td>\n",
       "<td> 0.325 sec</td>\n",
       "<td>11</td>\n",
       "<td>.16E0</td>\n",
       "<td>2</td>\n",
       "<td>0.6729199</td>\n",
       "<td>0.6679821</td></tr>\n",
       "<tr><td>---</td>\n",
       "<td>---</td>\n",
       "<td>---</td>\n",
       "<td>---</td>\n",
       "<td>---</td>\n",
       "<td>---</td>\n",
       "<td>---</td>\n",
       "<td>---</td></tr>\n",
       "<tr><td></td>\n",
       "<td>2017-04-03 19:49:32</td>\n",
       "<td> 4.907 sec</td>\n",
       "<td>135</td>\n",
       "<td>.2E-3</td>\n",
       "<td>38</td>\n",
       "<td>0.4770548</td>\n",
       "<td>0.4785171</td></tr>\n",
       "<tr><td></td>\n",
       "<td>2017-04-03 19:49:32</td>\n",
       "<td> 4.952 sec</td>\n",
       "<td>136</td>\n",
       "<td>.18E-3</td>\n",
       "<td>38</td>\n",
       "<td>0.4770202</td>\n",
       "<td>0.4784969</td></tr>\n",
       "<tr><td></td>\n",
       "<td>2017-04-03 19:49:32</td>\n",
       "<td> 4.989 sec</td>\n",
       "<td>137</td>\n",
       "<td>.16E-3</td>\n",
       "<td>39</td>\n",
       "<td>0.4769912</td>\n",
       "<td>0.4784816</td></tr>\n",
       "<tr><td></td>\n",
       "<td>2017-04-03 19:49:32</td>\n",
       "<td> 5.048 sec</td>\n",
       "<td>138</td>\n",
       "<td>.15E-3</td>\n",
       "<td>39</td>\n",
       "<td>0.4769645</td>\n",
       "<td>0.4784637</td></tr>\n",
       "<tr><td></td>\n",
       "<td>2017-04-03 19:49:32</td>\n",
       "<td> 5.105 sec</td>\n",
       "<td>139</td>\n",
       "<td>.14E-3</td>\n",
       "<td>40</td>\n",
       "<td>0.4769412</td>\n",
       "<td>0.4784471</td></tr></table></div>"
      ],
      "text/plain": [
       "     timestamp            duration    iteration    lambda    predictors    deviance_train    deviance_test\n",
       "---  -------------------  ----------  -----------  --------  ------------  ----------------  ---------------\n",
       "     2017-04-03 19:49:27  0.000 sec   3            .23E0     2             0.71119680634     0.705234505673\n",
       "     2017-04-03 19:49:27  0.093 sec   5            .21E0     2             0.699979070372    0.694348535509\n",
       "     2017-04-03 19:49:27  0.183 sec   7            .19E0     2             0.689944546666    0.684591306086\n",
       "     2017-04-03 19:49:27  0.247 sec   9            .18E0     2             0.680967620354    0.675842685307\n",
       "     2017-04-03 19:49:27  0.325 sec   11           .16E0     2             0.672919941238    0.667982112139\n",
       "---  ---                  ---         ---          ---       ---           ---               ---\n",
       "     2017-04-03 19:49:32  4.907 sec   135          .2E-3     38            0.477054849687    0.478517051777\n",
       "     2017-04-03 19:49:32  4.952 sec   136          .18E-3    38            0.477020156115    0.478496915917\n",
       "     2017-04-03 19:49:32  4.989 sec   137          .16E-3    39            0.476991228506    0.478481586865\n",
       "     2017-04-03 19:49:32  5.048 sec   138          .15E-3    39            0.476964452234    0.478463708268\n",
       "     2017-04-03 19:49:32  5.105 sec   139          .14E-3    40            0.476941249277    0.478447086552"
      ]
     },
     "metadata": {},
     "output_type": "display_data"
    },
    {
     "name": "stdout",
     "output_type": "stream",
     "text": [
      "\n",
      "See the whole table with table.as_data_frame()\n"
     ]
    },
    {
     "data": {
      "text/plain": []
     },
     "execution_count": 51,
     "metadata": {},
     "output_type": "execute_result"
    }
   ],
   "source": [
    "glm_model"
   ]
  },
  {
   "cell_type": "code",
   "execution_count": 52,
   "metadata": {
    "collapsed": false
   },
   "outputs": [
    {
     "name": "stdout",
     "output_type": "stream",
     "text": [
      "accuracy [[0.38127608888448294, 0.9041035353535354]]\n",
      "auc 0.909048872279\n",
      "confusion matrix Confusion Matrix (Act/Pred) for max f1 @ threshold = 0.190614726004: \n"
     ]
    },
    {
     "data": {
      "text/html": [
       "<div style=\"overflow:auto\"><table style=\"width:50%\"><tr><td><b></b></td>\n",
       "<td><b>no</b></td>\n",
       "<td><b>yes</b></td>\n",
       "<td><b>Error</b></td>\n",
       "<td><b>Rate</b></td></tr>\n",
       "<tr><td>no</td>\n",
       "<td>25436.0</td>\n",
       "<td>2523.0</td>\n",
       "<td>0.0902</td>\n",
       "<td> (2523.0/27959.0)</td></tr>\n",
       "<tr><td>yes</td>\n",
       "<td>1160.0</td>\n",
       "<td>2561.0</td>\n",
       "<td>0.3117</td>\n",
       "<td> (1160.0/3721.0)</td></tr>\n",
       "<tr><td>Total</td>\n",
       "<td>26596.0</td>\n",
       "<td>5084.0</td>\n",
       "<td>0.1163</td>\n",
       "<td> (3683.0/31680.0)</td></tr></table></div>"
      ],
      "text/plain": [
       "       no     yes    Error    Rate\n",
       "-----  -----  -----  -------  ----------------\n",
       "no     25436  2523   0.0902   (2523.0/27959.0)\n",
       "yes    1160   2561   0.3117   (1160.0/3721.0)\n",
       "Total  26596  5084   0.1163   (3683.0/31680.0)"
      ]
     },
     "metadata": {},
     "output_type": "display_data"
    },
    {
     "name": "stdout",
     "output_type": "stream",
     "text": [
      "\n",
      "Could not find exact threshold 0.1; using closest threshold found 0.10067554089.\n",
      "Could not find exact threshold 0.5; using closest threshold found 0.500238198461.\n",
      "Could not find exact threshold 0.99; using closest threshold found 0.992534695742.\n",
      "Confusion Matrix (Act/Pred) @ threshold = 0.10067554089: \n"
     ]
    },
    {
     "data": {
      "text/html": [
       "<div style=\"overflow:auto\"><table style=\"width:50%\"><tr><td><b></b></td>\n",
       "<td><b>no</b></td>\n",
       "<td><b>yes</b></td>\n",
       "<td><b>Error</b></td>\n",
       "<td><b>Rate</b></td></tr>\n",
       "<tr><td>no</td>\n",
       "<td>22653.0</td>\n",
       "<td>5306.0</td>\n",
       "<td>0.1898</td>\n",
       "<td> (5306.0/27959.0)</td></tr>\n",
       "<tr><td>yes</td>\n",
       "<td>486.0</td>\n",
       "<td>3235.0</td>\n",
       "<td>0.1306</td>\n",
       "<td> (486.0/3721.0)</td></tr>\n",
       "<tr><td>Total</td>\n",
       "<td>23139.0</td>\n",
       "<td>8541.0</td>\n",
       "<td>0.1828</td>\n",
       "<td> (5792.0/31680.0)</td></tr></table></div>"
      ],
      "text/plain": [
       "       no     yes    Error    Rate\n",
       "-----  -----  -----  -------  ----------------\n",
       "no     22653  5306   0.1898   (5306.0/27959.0)\n",
       "yes    486    3235   0.1306   (486.0/3721.0)\n",
       "Total  23139  8541   0.1828   (5792.0/31680.0)"
      ]
     },
     "metadata": {},
     "output_type": "display_data"
    },
    {
     "name": "stdout",
     "output_type": "stream",
     "text": [
      "Confusion Matrix (Act/Pred) @ threshold = 0.500238198461: \n"
     ]
    },
    {
     "data": {
      "text/html": [
       "<div style=\"overflow:auto\"><table style=\"width:50%\"><tr><td><b></b></td>\n",
       "<td><b>no</b></td>\n",
       "<td><b>yes</b></td>\n",
       "<td><b>Error</b></td>\n",
       "<td><b>Rate</b></td></tr>\n",
       "<tr><td>no</td>\n",
       "<td>27290.0</td>\n",
       "<td>669.0</td>\n",
       "<td>0.0239</td>\n",
       "<td> (669.0/27959.0)</td></tr>\n",
       "<tr><td>yes</td>\n",
       "<td>2414.0</td>\n",
       "<td>1307.0</td>\n",
       "<td>0.6488</td>\n",
       "<td> (2414.0/3721.0)</td></tr>\n",
       "<tr><td>Total</td>\n",
       "<td>29704.0</td>\n",
       "<td>1976.0</td>\n",
       "<td>0.0973</td>\n",
       "<td> (3083.0/31680.0)</td></tr></table></div>"
      ],
      "text/plain": [
       "       no     yes    Error    Rate\n",
       "-----  -----  -----  -------  ----------------\n",
       "no     27290  669    0.0239   (669.0/27959.0)\n",
       "yes    2414   1307   0.6488   (2414.0/3721.0)\n",
       "Total  29704  1976   0.0973   (3083.0/31680.0)"
      ]
     },
     "metadata": {},
     "output_type": "display_data"
    },
    {
     "name": "stdout",
     "output_type": "stream",
     "text": [
      "Confusion Matrix (Act/Pred) @ threshold = 0.992534695742: \n"
     ]
    },
    {
     "data": {
      "text/html": [
       "<div style=\"overflow:auto\"><table style=\"width:50%\"><tr><td><b></b></td>\n",
       "<td><b>no</b></td>\n",
       "<td><b>yes</b></td>\n",
       "<td><b>Error</b></td>\n",
       "<td><b>Rate</b></td></tr>\n",
       "<tr><td>no</td>\n",
       "<td>27933.0</td>\n",
       "<td>26.0</td>\n",
       "<td>0.0009</td>\n",
       "<td> (26.0/27959.0)</td></tr>\n",
       "<tr><td>yes</td>\n",
       "<td>3683.0</td>\n",
       "<td>38.0</td>\n",
       "<td>0.9898</td>\n",
       "<td> (3683.0/3721.0)</td></tr>\n",
       "<tr><td>Total</td>\n",
       "<td>31616.0</td>\n",
       "<td>64.0</td>\n",
       "<td>0.1171</td>\n",
       "<td> (3709.0/31680.0)</td></tr></table></div>"
      ],
      "text/plain": [
       "       no     yes    Error    Rate\n",
       "-----  -----  -----  -------  ----------------\n",
       "no     27933  26     0.0009   (26.0/27959.0)\n",
       "yes    3683   38     0.9898   (3683.0/3721.0)\n",
       "Total  31616  64     0.1171   (3709.0/31680.0)"
      ]
     },
     "metadata": {},
     "output_type": "display_data"
    },
    {
     "name": "stdout",
     "output_type": "stream",
     "text": [
      "[, , ]\n"
     ]
    }
   ],
   "source": [
    "## accuracy, auc, confusion matrix\n",
    "print 'accuracy', glm_model.accuracy()\n",
    "print 'auc', glm_model.auc()\n",
    "print 'confusion matrix', glm_model.confusion_matrix()\n",
    "print glm_model.confusion_matrix(thresholds=[0.1, 0.5, 0.99])"
   ]
  },
  {
   "cell_type": "code",
   "execution_count": 53,
   "metadata": {
    "collapsed": false
   },
   "outputs": [
    {
     "name": "stdout",
     "output_type": "stream",
     "text": [
      "glm prediction progress: |████████████████████████████████████████████████| 100%\n"
     ]
    }
   ],
   "source": [
    "prediction = glm_model.predict(valid[:-1])"
   ]
  },
  {
   "cell_type": "code",
   "execution_count": 54,
   "metadata": {
    "collapsed": false
   },
   "outputs": [
    {
     "data": {
      "text/html": [
       "<table>\n",
       "<thead>\n",
       "<tr><th>predict  </th></tr>\n",
       "</thead>\n",
       "<tbody>\n",
       "<tr><td>no       </td></tr>\n",
       "<tr><td>no       </td></tr>\n",
       "<tr><td>no       </td></tr>\n",
       "<tr><td>no       </td></tr>\n",
       "<tr><td>no       </td></tr>\n",
       "<tr><td>no       </td></tr>\n",
       "<tr><td>no       </td></tr>\n",
       "<tr><td>no       </td></tr>\n",
       "<tr><td>no       </td></tr>\n",
       "<tr><td>no       </td></tr>\n",
       "</tbody>\n",
       "</table>"
      ]
     },
     "metadata": {},
     "output_type": "display_data"
    },
    {
     "name": "stdout",
     "output_type": "stream",
     "text": [
      "\n"
     ]
    },
    {
     "data": {
      "text/html": [
       "<table>\n",
       "<thead>\n",
       "<tr><th>y  </th></tr>\n",
       "</thead>\n",
       "<tbody>\n",
       "<tr><td>no </td></tr>\n",
       "<tr><td>no </td></tr>\n",
       "<tr><td>no </td></tr>\n",
       "<tr><td>no </td></tr>\n",
       "<tr><td>no </td></tr>\n",
       "<tr><td>no </td></tr>\n",
       "<tr><td>no </td></tr>\n",
       "<tr><td>no </td></tr>\n",
       "<tr><td>no </td></tr>\n",
       "<tr><td>no </td></tr>\n",
       "</tbody>\n",
       "</table>"
      ]
     },
     "metadata": {},
     "output_type": "display_data"
    },
    {
     "name": "stdout",
     "output_type": "stream",
     "text": [
      "\n"
     ]
    }
   ],
   "source": [
    "print prediction['predict']\n",
    "print valid['y']"
   ]
  },
  {
   "cell_type": "code",
   "execution_count": 57,
   "metadata": {
    "collapsed": false
   },
   "outputs": [],
   "source": [
    "## Gradient Boosting Estimator with cross validation\n",
    "gbm_model = H2OGradientBoostingEstimator(distribution=\"bernoulli\", ntrees=50, max_depth=3, min_rows=2, learn_rate=0.2, nfolds=5)"
   ]
  },
  {
   "cell_type": "code",
   "execution_count": 58,
   "metadata": {
    "collapsed": false
   },
   "outputs": [
    {
     "name": "stdout",
     "output_type": "stream",
     "text": [
      "gbm Model Build progress: |███████████████████████████████████████████████| 100%\n"
     ]
    }
   ],
   "source": [
    "# train the model\n",
    "gbm_model.train(predictors, response, training_frame=train, validation_frame=valid)"
   ]
  },
  {
   "cell_type": "code",
   "execution_count": 59,
   "metadata": {
    "collapsed": false
   },
   "outputs": [
    {
     "name": "stdout",
     "output_type": "stream",
     "text": [
      "accuracy [[0.48121123557609496, 0.9136679292929293]]\n",
      "auc 0.936265823803\n",
      "confusion matrix Confusion Matrix (Act/Pred) for max f1 @ threshold = 0.280851394502: \n"
     ]
    },
    {
     "data": {
      "text/html": [
       "<div style=\"overflow:auto\"><table style=\"width:50%\"><tr><td><b></b></td>\n",
       "<td><b>no</b></td>\n",
       "<td><b>yes</b></td>\n",
       "<td><b>Error</b></td>\n",
       "<td><b>Rate</b></td></tr>\n",
       "<tr><td>no</td>\n",
       "<td>25991.0</td>\n",
       "<td>1968.0</td>\n",
       "<td>0.0704</td>\n",
       "<td> (1968.0/27959.0)</td></tr>\n",
       "<tr><td>yes</td>\n",
       "<td>1059.0</td>\n",
       "<td>2662.0</td>\n",
       "<td>0.2846</td>\n",
       "<td> (1059.0/3721.0)</td></tr>\n",
       "<tr><td>Total</td>\n",
       "<td>27050.0</td>\n",
       "<td>4630.0</td>\n",
       "<td>0.0955</td>\n",
       "<td> (3027.0/31680.0)</td></tr></table></div>"
      ],
      "text/plain": [
       "       no     yes    Error    Rate\n",
       "-----  -----  -----  -------  ----------------\n",
       "no     25991  1968   0.0704   (1968.0/27959.0)\n",
       "yes    1059   2662   0.2846   (1059.0/3721.0)\n",
       "Total  27050  4630   0.0955   (3027.0/31680.0)"
      ]
     },
     "metadata": {},
     "output_type": "display_data"
    },
    {
     "name": "stdout",
     "output_type": "stream",
     "text": [
      "\n",
      "Could not find exact threshold 0.1; using closest threshold found 0.0997466948207.\n",
      "Could not find exact threshold 0.5; using closest threshold found 0.498556625655.\n",
      "Could not find exact threshold 0.99; using closest threshold found 0.976099373476.\n",
      "Confusion Matrix (Act/Pred) @ threshold = 0.0997466948207: \n"
     ]
    },
    {
     "data": {
      "text/html": [
       "<div style=\"overflow:auto\"><table style=\"width:50%\"><tr><td><b></b></td>\n",
       "<td><b>no</b></td>\n",
       "<td><b>yes</b></td>\n",
       "<td><b>Error</b></td>\n",
       "<td><b>Rate</b></td></tr>\n",
       "<tr><td>no</td>\n",
       "<td>22946.0</td>\n",
       "<td>5013.0</td>\n",
       "<td>0.1793</td>\n",
       "<td> (5013.0/27959.0)</td></tr>\n",
       "<tr><td>yes</td>\n",
       "<td>323.0</td>\n",
       "<td>3398.0</td>\n",
       "<td>0.0868</td>\n",
       "<td> (323.0/3721.0)</td></tr>\n",
       "<tr><td>Total</td>\n",
       "<td>23269.0</td>\n",
       "<td>8411.0</td>\n",
       "<td>0.1684</td>\n",
       "<td> (5336.0/31680.0)</td></tr></table></div>"
      ],
      "text/plain": [
       "       no     yes    Error    Rate\n",
       "-----  -----  -----  -------  ----------------\n",
       "no     22946  5013   0.1793   (5013.0/27959.0)\n",
       "yes    323    3398   0.0868   (323.0/3721.0)\n",
       "Total  23269  8411   0.1684   (5336.0/31680.0)"
      ]
     },
     "metadata": {},
     "output_type": "display_data"
    },
    {
     "name": "stdout",
     "output_type": "stream",
     "text": [
      "Confusion Matrix (Act/Pred) @ threshold = 0.498556625655: \n"
     ]
    },
    {
     "data": {
      "text/html": [
       "<div style=\"overflow:auto\"><table style=\"width:50%\"><tr><td><b></b></td>\n",
       "<td><b>no</b></td>\n",
       "<td><b>yes</b></td>\n",
       "<td><b>Error</b></td>\n",
       "<td><b>Rate</b></td></tr>\n",
       "<tr><td>no</td>\n",
       "<td>27215.0</td>\n",
       "<td>744.0</td>\n",
       "<td>0.0266</td>\n",
       "<td> (744.0/27959.0)</td></tr>\n",
       "<tr><td>yes</td>\n",
       "<td>1999.0</td>\n",
       "<td>1722.0</td>\n",
       "<td>0.5372</td>\n",
       "<td> (1999.0/3721.0)</td></tr>\n",
       "<tr><td>Total</td>\n",
       "<td>29214.0</td>\n",
       "<td>2466.0</td>\n",
       "<td>0.0866</td>\n",
       "<td> (2743.0/31680.0)</td></tr></table></div>"
      ],
      "text/plain": [
       "       no     yes    Error    Rate\n",
       "-----  -----  -----  -------  ----------------\n",
       "no     27215  744    0.0266   (744.0/27959.0)\n",
       "yes    1999   1722   0.5372   (1999.0/3721.0)\n",
       "Total  29214  2466   0.0866   (2743.0/31680.0)"
      ]
     },
     "metadata": {},
     "output_type": "display_data"
    },
    {
     "name": "stdout",
     "output_type": "stream",
     "text": [
      "Confusion Matrix (Act/Pred) @ threshold = 0.976099373476: \n"
     ]
    },
    {
     "data": {
      "text/html": [
       "<div style=\"overflow:auto\"><table style=\"width:50%\"><tr><td><b></b></td>\n",
       "<td><b>no</b></td>\n",
       "<td><b>yes</b></td>\n",
       "<td><b>Error</b></td>\n",
       "<td><b>Rate</b></td></tr>\n",
       "<tr><td>no</td>\n",
       "<td>27959.0</td>\n",
       "<td>0.0</td>\n",
       "<td>0.0</td>\n",
       "<td> (0.0/27959.0)</td></tr>\n",
       "<tr><td>yes</td>\n",
       "<td>3719.0</td>\n",
       "<td>2.0</td>\n",
       "<td>0.9995</td>\n",
       "<td> (3719.0/3721.0)</td></tr>\n",
       "<tr><td>Total</td>\n",
       "<td>31678.0</td>\n",
       "<td>2.0</td>\n",
       "<td>0.1174</td>\n",
       "<td> (3719.0/31680.0)</td></tr></table></div>"
      ],
      "text/plain": [
       "       no     yes    Error    Rate\n",
       "-----  -----  -----  -------  ----------------\n",
       "no     27959  0      0        (0.0/27959.0)\n",
       "yes    3719   2      0.9995   (3719.0/3721.0)\n",
       "Total  31678  2      0.1174   (3719.0/31680.0)"
      ]
     },
     "metadata": {},
     "output_type": "display_data"
    },
    {
     "name": "stdout",
     "output_type": "stream",
     "text": [
      "[, , ]\n"
     ]
    }
   ],
   "source": [
    "## accuracy, auc, confusion matrix\n",
    "print 'accuracy', gbm_model.accuracy()\n",
    "print 'auc', gbm_model.auc()\n",
    "print 'confusion matrix', gbm_model.confusion_matrix()\n",
    "print gbm_model.confusion_matrix(thresholds=[0.1, 0.5, 0.99])"
   ]
  },
  {
   "cell_type": "code",
   "execution_count": 60,
   "metadata": {
    "collapsed": true
   },
   "outputs": [],
   "source": [
    "## Grid Search\n",
    "ntrees_opt = [5,50,100]\n",
    "max_depth_opt = [2,3,5]\n",
    "learn_rate_opt = [0.1,0.2]\n",
    "\n",
    "hyper_params = {'ntrees': ntrees_opt, \n",
    "                'max_depth': max_depth_opt,\n",
    "                'learn_rate': learn_rate_opt}\n",
    "search_criteria = {'strategy': 'RandomDiscrete', 'max_runtime_secs': 60}  #updated"
   ]
  },
  {
   "cell_type": "code",
   "execution_count": 61,
   "metadata": {
    "collapsed": true
   },
   "outputs": [],
   "source": [
    "gs = H2OGridSearch(H2OGradientBoostingEstimator, hyper_params = hyper_params, search_criteria = search_criteria)"
   ]
  },
  {
   "cell_type": "code",
   "execution_count": 62,
   "metadata": {
    "collapsed": false
   },
   "outputs": [
    {
     "name": "stdout",
     "output_type": "stream",
     "text": [
      "gbm Grid Build progress: |████████████████████████████████████████████████| 100%\n"
     ]
    }
   ],
   "source": [
    "gs.train(predictors, response, training_frame=train, validation_frame=valid)"
   ]
  },
  {
   "cell_type": "code",
   "execution_count": 63,
   "metadata": {
    "collapsed": false
   },
   "outputs": [
    {
     "name": "stdout",
     "output_type": "stream",
     "text": [
      "     learn_rate max_depth ntrees  \\\n",
      "0           0.2         5    100   \n",
      "1           0.1         5    100   \n",
      "2           0.2         3    100   \n",
      "3           0.2         3     50   \n",
      "4           0.2         2    100   \n",
      "5           0.1         3     50   \n",
      "6           0.1         2    100   \n",
      "7           0.2         2     50   \n",
      "8           0.1         2     50   \n",
      "9           0.2         5      5   \n",
      "10          0.2         3      5   \n",
      "11          0.2         2      5   \n",
      "12          0.1         5      5   \n",
      "13          0.1         3      5   \n",
      "14          0.1         2      5   \n",
      "\n",
      "                                                          model_ids  \\\n",
      "0   Grid_GBM_py_31_sid_8e36_model_python_1491261070999_182_model_11   \n",
      "1   Grid_GBM_py_31_sid_8e36_model_python_1491261070999_182_model_12   \n",
      "2    Grid_GBM_py_31_sid_8e36_model_python_1491261070999_182_model_2   \n",
      "3    Grid_GBM_py_31_sid_8e36_model_python_1491261070999_182_model_1   \n",
      "4    Grid_GBM_py_31_sid_8e36_model_python_1491261070999_182_model_5   \n",
      "5    Grid_GBM_py_31_sid_8e36_model_python_1491261070999_182_model_0   \n",
      "6   Grid_GBM_py_31_sid_8e36_model_python_1491261070999_182_model_14   \n",
      "7    Grid_GBM_py_31_sid_8e36_model_python_1491261070999_182_model_9   \n",
      "8    Grid_GBM_py_31_sid_8e36_model_python_1491261070999_182_model_8   \n",
      "9    Grid_GBM_py_31_sid_8e36_model_python_1491261070999_182_model_7   \n",
      "10  Grid_GBM_py_31_sid_8e36_model_python_1491261070999_182_model_10   \n",
      "11   Grid_GBM_py_31_sid_8e36_model_python_1491261070999_182_model_3   \n",
      "12   Grid_GBM_py_31_sid_8e36_model_python_1491261070999_182_model_4   \n",
      "13  Grid_GBM_py_31_sid_8e36_model_python_1491261070999_182_model_13   \n",
      "14   Grid_GBM_py_31_sid_8e36_model_python_1491261070999_182_model_6   \n",
      "\n",
      "                logloss  \n",
      "0    0.1990493959553462  \n",
      "1   0.19931233643136884  \n",
      "2   0.20149607931454053  \n",
      "3     0.208699338969656  \n",
      "4   0.20966156384084259  \n",
      "5   0.21783243391529364  \n",
      "6    0.2187075067684487  \n",
      "7   0.21926649786053046  \n",
      "8   0.22868749687524242  \n",
      "9   0.24884651661247822  \n",
      "10   0.2614010193180294  \n",
      "11  0.27552667220634197  \n",
      "12  0.28012525477973377  \n",
      "13  0.28933192898194804  \n",
      "14   0.3005819464949857  \n",
      "\n"
     ]
    }
   ],
   "source": [
    "print gs"
   ]
  },
  {
   "cell_type": "code",
   "execution_count": 64,
   "metadata": {
    "collapsed": true
   },
   "outputs": [],
   "source": [
    "# sort the models by auc score\n",
    "gbm_gridperf = gs.get_grid(sort_by='auc', decreasing=True)"
   ]
  },
  {
   "cell_type": "code",
   "execution_count": 65,
   "metadata": {
    "collapsed": true
   },
   "outputs": [],
   "source": [
    "# get the best model\n",
    "best_model = gbm_gridperf.models[0]"
   ]
  },
  {
   "cell_type": "code",
   "execution_count": 66,
   "metadata": {
    "collapsed": false
   },
   "outputs": [
    {
     "name": "stdout",
     "output_type": "stream",
     "text": [
      "0.934139244388\n"
     ]
    }
   ],
   "source": [
    "# get the auc score\n",
    "gbm_perf = best_model.model_performance(valid)\n",
    "print gbm_perf.auc()"
   ]
  },
  {
   "cell_type": "code",
   "execution_count": 98,
   "metadata": {
    "collapsed": true
   },
   "outputs": [],
   "source": [
    "## RANDOM FOREST"
   ]
  },
  {
   "cell_type": "code",
   "execution_count": 67,
   "metadata": {
    "collapsed": false
   },
   "outputs": [],
   "source": [
    "rf = H2ORandomForestEstimator(seed=1, nfolds=5, model_id=\"rf\",\n",
    "    ntrees=200,\n",
    "    max_depth=30,\n",
    "    stopping_rounds=2,\n",
    "    stopping_tolerance=0.01,\n",
    "    score_each_iteration=True)"
   ]
  },
  {
   "cell_type": "code",
   "execution_count": 68,
   "metadata": {
    "collapsed": false
   },
   "outputs": [
    {
     "name": "stdout",
     "output_type": "stream",
     "text": [
      "drf Model Build progress: |███████████████████████████████████████████████| 100%\n"
     ]
    }
   ],
   "source": [
    "rf.train(x=predictors, y=response, training_frame=train, validation_frame = valid)"
   ]
  },
  {
   "cell_type": "code",
   "execution_count": 69,
   "metadata": {
    "collapsed": false
   },
   "outputs": [
    {
     "data": {
      "text/plain": [
       "[(u'duration', 17205.51953125, 1.0, 0.2693027175820283),\n",
       " (u'month', 8219.2353515625, 0.4777092221268929, 0.12864839173276904),\n",
       " (u'age', 5823.7744140625, 0.3384829155251551, 0.09115436900601238),\n",
       " (u'poutcome', 5762.84326171875, 0.334941543104922, 0.09020066778927358),\n",
       " (u'day', 5531.85693359375, 0.32151641358730043, 0.08658524392628736),\n",
       " (u'job', 4810.06640625, 0.2795653102781107, 0.07528769779955816),\n",
       " (u'balance', 3758.682861328125, 0.2184579695196831, 0.058831324869102565),\n",
       " (u'pdays', 2612.758544921875, 0.1518558355751118, 0.04089518920106726),\n",
       " (u'campaign', 2199.911865234375, 0.12786082171123775, 0.034433266759107524),\n",
       " (u'education', 2018.1630859375, 0.11729742204366195, 0.03158851452172427),\n",
       " (u'marital', 1523.8519287109375, 0.08856762075351456, 0.023851500958695915),\n",
       " (u'housing', 1300.3089599609375, 0.07557510586060569, 0.020352581389810585),\n",
       " (u'contact', 1245.947265625, 0.07241555614534126, 0.019501706065154348),\n",
       " (u'previous', 1138.54736328125, 0.06617337890979298, 0.017820670771992526),\n",
       " (u'loan', 601.2820434570312, 0.0349470437300621, 0.009411333847963705),\n",
       " (u'default', 136.39205932617188, 0.007927227020285324, 0.002134823779452522)]"
      ]
     },
     "execution_count": 69,
     "metadata": {},
     "output_type": "execute_result"
    }
   ],
   "source": [
    "rf.varimp()"
   ]
  },
  {
   "cell_type": "code",
   "execution_count": 102,
   "metadata": {
    "collapsed": false
   },
   "outputs": [
    {
     "name": "stdout",
     "output_type": "stream",
     "text": [
      "Model Details\n",
      "=============\n",
      "H2ORandomForestEstimator :  Distributed Random Forest\n",
      "Model Key:  rf\n",
      "\n",
      "\n",
      "ModelMetricsBinomial: drf\n",
      "** Reported on train data. **\n",
      "\n",
      "MSE: 0.0701776590924\n",
      "RMSE: 0.264910662474\n",
      "LogLoss: 0.47675875444\n",
      "Mean Per-Class Error: 0.156155161358\n",
      "AUC: 0.896125706055\n",
      "Gini: 0.79225141211\n",
      "Confusion Matrix (Act/Pred) for max f1 @ threshold = 0.303231111832: \n"
     ]
    },
    {
     "data": {
      "text/html": [
       "<div style=\"overflow:auto\"><table style=\"width:50%\"><tr><td><b></b></td>\n",
       "<td><b>no</b></td>\n",
       "<td><b>yes</b></td>\n",
       "<td><b>Error</b></td>\n",
       "<td><b>Rate</b></td></tr>\n",
       "<tr><td>no</td>\n",
       "<td>25364.0</td>\n",
       "<td>2556.0</td>\n",
       "<td>0.0915</td>\n",
       "<td> (2556.0/27920.0)</td></tr>\n",
       "<tr><td>yes</td>\n",
       "<td>1159.0</td>\n",
       "<td>2570.0</td>\n",
       "<td>0.3108</td>\n",
       "<td> (1159.0/3729.0)</td></tr>\n",
       "<tr><td>Total</td>\n",
       "<td>26523.0</td>\n",
       "<td>5126.0</td>\n",
       "<td>0.1174</td>\n",
       "<td> (3715.0/31649.0)</td></tr></table></div>"
      ],
      "text/plain": [
       "       no     yes    Error    Rate\n",
       "-----  -----  -----  -------  ----------------\n",
       "no     25364  2556   0.0915   (2556.0/27920.0)\n",
       "yes    1159   2570   0.3108   (1159.0/3729.0)\n",
       "Total  26523  5126   0.1174   (3715.0/31649.0)"
      ]
     },
     "metadata": {},
     "output_type": "display_data"
    },
    {
     "name": "stdout",
     "output_type": "stream",
     "text": [
      "Maximum Metrics: Maximum metrics at their respective thresholds\n",
      "\n"
     ]
    },
    {
     "data": {
      "text/html": [
       "<div style=\"overflow:auto\"><table style=\"width:50%\"><tr><td><b>metric</b></td>\n",
       "<td><b>threshold</b></td>\n",
       "<td><b>value</b></td>\n",
       "<td><b>idx</b></td></tr>\n",
       "<tr><td>max f1</td>\n",
       "<td>0.3032311</td>\n",
       "<td>0.5804630</td>\n",
       "<td>235.0</td></tr>\n",
       "<tr><td>max f2</td>\n",
       "<td>0.1511398</td>\n",
       "<td>0.6978951</td>\n",
       "<td>305.0</td></tr>\n",
       "<tr><td>max f0point5</td>\n",
       "<td>0.4741819</td>\n",
       "<td>0.5626811</td>\n",
       "<td>154.0</td></tr>\n",
       "<tr><td>max accuracy</td>\n",
       "<td>0.5133341</td>\n",
       "<td>0.8997441</td>\n",
       "<td>142.0</td></tr>\n",
       "<tr><td>max precision</td>\n",
       "<td>0.9464286</td>\n",
       "<td>0.7681159</td>\n",
       "<td>6.0</td></tr>\n",
       "<tr><td>max recall</td>\n",
       "<td>0.0</td>\n",
       "<td>1.0</td>\n",
       "<td>399.0</td></tr>\n",
       "<tr><td>max specificity</td>\n",
       "<td>1.0</td>\n",
       "<td>0.9988539</td>\n",
       "<td>0.0</td></tr>\n",
       "<tr><td>max absolute_mcc</td>\n",
       "<td>0.2352305</td>\n",
       "<td>0.5264974</td>\n",
       "<td>266.0</td></tr>\n",
       "<tr><td>max min_per_class_accuracy</td>\n",
       "<td>0.1666723</td>\n",
       "<td>0.8402579</td>\n",
       "<td>297.0</td></tr>\n",
       "<tr><td>max mean_per_class_accuracy</td>\n",
       "<td>0.1234835</td>\n",
       "<td>0.8438448</td>\n",
       "<td>320.0</td></tr></table></div>"
      ],
      "text/plain": [
       "metric                       threshold    value     idx\n",
       "---------------------------  -----------  --------  -----\n",
       "max f1                       0.303231     0.580463  235\n",
       "max f2                       0.15114      0.697895  305\n",
       "max f0point5                 0.474182     0.562681  154\n",
       "max accuracy                 0.513334     0.899744  142\n",
       "max precision                0.946429     0.768116  6\n",
       "max recall                   0            1         399\n",
       "max specificity              1            0.998854  0\n",
       "max absolute_mcc             0.23523      0.526497  266\n",
       "max min_per_class_accuracy   0.166672     0.840258  297\n",
       "max mean_per_class_accuracy  0.123484     0.843845  320"
      ]
     },
     "metadata": {},
     "output_type": "display_data"
    },
    {
     "name": "stdout",
     "output_type": "stream",
     "text": [
      "Gains/Lift Table: Avg response rate: 11.78 %\n",
      "\n"
     ]
    },
    {
     "data": {
      "text/html": [
       "<div style=\"overflow:auto\"><table style=\"width:50%\"><tr><td><b></b></td>\n",
       "<td><b>group</b></td>\n",
       "<td><b>cumulative_data_fraction</b></td>\n",
       "<td><b>lower_threshold</b></td>\n",
       "<td><b>lift</b></td>\n",
       "<td><b>cumulative_lift</b></td>\n",
       "<td><b>response_rate</b></td>\n",
       "<td><b>cumulative_response_rate</b></td>\n",
       "<td><b>capture_rate</b></td>\n",
       "<td><b>cumulative_capture_rate</b></td>\n",
       "<td><b>gain</b></td>\n",
       "<td><b>cumulative_gain</b></td></tr>\n",
       "<tr><td></td>\n",
       "<td>1</td>\n",
       "<td>0.0100161</td>\n",
       "<td>0.9370000</td>\n",
       "<td>8.4872620</td>\n",
       "<td>8.4872620</td>\n",
       "<td>1.0</td>\n",
       "<td>1.0</td>\n",
       "<td>0.0850094</td>\n",
       "<td>0.0850094</td>\n",
       "<td>748.7262001</td>\n",
       "<td>748.7262001</td></tr>\n",
       "<tr><td></td>\n",
       "<td>2</td>\n",
       "<td>0.0200006</td>\n",
       "<td>0.9072962</td>\n",
       "<td>8.4872620</td>\n",
       "<td>8.4872620</td>\n",
       "<td>1.0</td>\n",
       "<td>1.0</td>\n",
       "<td>0.0847412</td>\n",
       "<td>0.1697506</td>\n",
       "<td>748.7262001</td>\n",
       "<td>748.7262001</td></tr>\n",
       "<tr><td></td>\n",
       "<td>3</td>\n",
       "<td>0.0303643</td>\n",
       "<td>0.8928571</td>\n",
       "<td>8.4872620</td>\n",
       "<td>8.4872620</td>\n",
       "<td>1.0</td>\n",
       "<td>1.0</td>\n",
       "<td>0.0879592</td>\n",
       "<td>0.2577098</td>\n",
       "<td>748.7262001</td>\n",
       "<td>748.7262001</td></tr>\n",
       "<tr><td></td>\n",
       "<td>4</td>\n",
       "<td>0.0436665</td>\n",
       "<td>0.8571429</td>\n",
       "<td>8.4872620</td>\n",
       "<td>8.4872620</td>\n",
       "<td>1.0</td>\n",
       "<td>1.0</td>\n",
       "<td>0.1128989</td>\n",
       "<td>0.3706087</td>\n",
       "<td>748.7262001</td>\n",
       "<td>748.7262001</td></tr>\n",
       "<tr><td></td>\n",
       "<td>5</td>\n",
       "<td>0.0557364</td>\n",
       "<td>0.8214286</td>\n",
       "<td>8.4872620</td>\n",
       "<td>8.4872620</td>\n",
       "<td>1.0</td>\n",
       "<td>1.0</td>\n",
       "<td>0.1024403</td>\n",
       "<td>0.4730491</td>\n",
       "<td>748.7262001</td>\n",
       "<td>748.7262001</td></tr>\n",
       "<tr><td></td>\n",
       "<td>6</td>\n",
       "<td>0.1004139</td>\n",
       "<td>0.6785714</td>\n",
       "<td>8.4872620</td>\n",
       "<td>8.4872620</td>\n",
       "<td>1.0</td>\n",
       "<td>1.0</td>\n",
       "<td>0.3791901</td>\n",
       "<td>0.8522392</td>\n",
       "<td>748.7262001</td>\n",
       "<td>748.7262001</td></tr>\n",
       "<tr><td></td>\n",
       "<td>7</td>\n",
       "<td>0.1502733</td>\n",
       "<td>0.1964286</td>\n",
       "<td>2.9635497</td>\n",
       "<td>6.6545416</td>\n",
       "<td>0.3491762</td>\n",
       "<td>0.7840622</td>\n",
       "<td>0.1477608</td>\n",
       "<td>1.0</td>\n",
       "<td>196.3549659</td>\n",
       "<td>565.4541632</td></tr>\n",
       "<tr><td></td>\n",
       "<td>8</td>\n",
       "<td>0.2153939</td>\n",
       "<td>0.1071429</td>\n",
       "<td>0.0</td>\n",
       "<td>4.6426581</td>\n",
       "<td>0.0</td>\n",
       "<td>0.5470148</td>\n",
       "<td>0.0</td>\n",
       "<td>1.0</td>\n",
       "<td>-100.0</td>\n",
       "<td>364.2658061</td></tr>\n",
       "<tr><td></td>\n",
       "<td>9</td>\n",
       "<td>0.3608645</td>\n",
       "<td>0.0357143</td>\n",
       "<td>0.0</td>\n",
       "<td>2.7711234</td>\n",
       "<td>0.0</td>\n",
       "<td>0.3265038</td>\n",
       "<td>0.0</td>\n",
       "<td>1.0</td>\n",
       "<td>-100.0</td>\n",
       "<td>177.1123369</td></tr>\n",
       "<tr><td></td>\n",
       "<td>10</td>\n",
       "<td>0.5280104</td>\n",
       "<td>0.0015814</td>\n",
       "<td>0.0</td>\n",
       "<td>1.8939022</td>\n",
       "<td>0.0</td>\n",
       "<td>0.2231464</td>\n",
       "<td>0.0</td>\n",
       "<td>1.0</td>\n",
       "<td>-100.0</td>\n",
       "<td>89.3902220</td></tr>\n",
       "<tr><td></td>\n",
       "<td>11</td>\n",
       "<td>1.0</td>\n",
       "<td>0.0</td>\n",
       "<td>0.0</td>\n",
       "<td>1.0</td>\n",
       "<td>0.0</td>\n",
       "<td>0.1178236</td>\n",
       "<td>0.0</td>\n",
       "<td>1.0</td>\n",
       "<td>-100.0</td>\n",
       "<td>0.0</td></tr></table></div>"
      ],
      "text/plain": [
       "    group    cumulative_data_fraction    lower_threshold    lift     cumulative_lift    response_rate    cumulative_response_rate    capture_rate    cumulative_capture_rate    gain     cumulative_gain\n",
       "--  -------  --------------------------  -----------------  -------  -----------------  ---------------  --------------------------  --------------  -------------------------  -------  -----------------\n",
       "    1        0.0100161                   0.937              8.48726  8.48726            1                1                           0.0850094       0.0850094                  748.726  748.726\n",
       "    2        0.0200006                   0.907296           8.48726  8.48726            1                1                           0.0847412       0.169751                   748.726  748.726\n",
       "    3        0.0303643                   0.892857           8.48726  8.48726            1                1                           0.0879592       0.25771                    748.726  748.726\n",
       "    4        0.0436665                   0.857143           8.48726  8.48726            1                1                           0.112899        0.370609                   748.726  748.726\n",
       "    5        0.0557364                   0.821429           8.48726  8.48726            1                1                           0.10244         0.473049                   748.726  748.726\n",
       "    6        0.100414                    0.678571           8.48726  8.48726            1                1                           0.37919         0.852239                   748.726  748.726\n",
       "    7        0.150273                    0.196429           2.96355  6.65454            0.349176         0.784062                    0.147761        1                          196.355  565.454\n",
       "    8        0.215394                    0.107143           0        4.64266            0                0.547015                    0               1                          -100     364.266\n",
       "    9        0.360864                    0.0357143          0        2.77112            0                0.326504                    0               1                          -100     177.112\n",
       "    10       0.52801                     0.00158145         0        1.8939             0                0.223146                    0               1                          -100     89.3902\n",
       "    11       1                           0                  0        1                  0                0.117824                    0               1                          -100     0"
      ]
     },
     "metadata": {},
     "output_type": "display_data"
    },
    {
     "name": "stdout",
     "output_type": "stream",
     "text": [
      "\n",
      "\n",
      "ModelMetricsBinomial: drf\n",
      "** Reported on validation data. **\n",
      "\n",
      "MSE: 0.0626579193298\n",
      "RMSE: 0.250315639403\n",
      "LogLoss: 0.268976543602\n",
      "Mean Per-Class Error: 0.13860894979\n",
      "AUC: 0.923098927956\n",
      "Gini: 0.846197855913\n",
      "Confusion Matrix (Act/Pred) for max f1 @ threshold = 0.323041640982: \n"
     ]
    },
    {
     "data": {
      "text/html": [
       "<div style=\"overflow:auto\"><table style=\"width:50%\"><tr><td><b></b></td>\n",
       "<td><b>no</b></td>\n",
       "<td><b>yes</b></td>\n",
       "<td><b>Error</b></td>\n",
       "<td><b>Rate</b></td></tr>\n",
       "<tr><td>no</td>\n",
       "<td>11062.0</td>\n",
       "<td>940.0</td>\n",
       "<td>0.0783</td>\n",
       "<td> (940.0/12002.0)</td></tr>\n",
       "<tr><td>yes</td>\n",
       "<td>442.0</td>\n",
       "<td>1118.0</td>\n",
       "<td>0.2833</td>\n",
       "<td> (442.0/1560.0)</td></tr>\n",
       "<tr><td>Total</td>\n",
       "<td>11504.0</td>\n",
       "<td>2058.0</td>\n",
       "<td>0.1019</td>\n",
       "<td> (1382.0/13562.0)</td></tr></table></div>"
      ],
      "text/plain": [
       "       no     yes    Error    Rate\n",
       "-----  -----  -----  -------  ----------------\n",
       "no     11062  940    0.0783   (940.0/12002.0)\n",
       "yes    442    1118   0.2833   (442.0/1560.0)\n",
       "Total  11504  2058   0.1019   (1382.0/13562.0)"
      ]
     },
     "metadata": {},
     "output_type": "display_data"
    },
    {
     "name": "stdout",
     "output_type": "stream",
     "text": [
      "Maximum Metrics: Maximum metrics at their respective thresholds\n",
      "\n"
     ]
    },
    {
     "data": {
      "text/html": [
       "<div style=\"overflow:auto\"><table style=\"width:50%\"><tr><td><b>metric</b></td>\n",
       "<td><b>threshold</b></td>\n",
       "<td><b>value</b></td>\n",
       "<td><b>idx</b></td></tr>\n",
       "<tr><td>max f1</td>\n",
       "<td>0.3230416</td>\n",
       "<td>0.6180210</td>\n",
       "<td>222.0</td></tr>\n",
       "<tr><td>max f2</td>\n",
       "<td>0.1563736</td>\n",
       "<td>0.7232571</td>\n",
       "<td>304.0</td></tr>\n",
       "<tr><td>max f0point5</td>\n",
       "<td>0.4444131</td>\n",
       "<td>0.6049945</td>\n",
       "<td>157.0</td></tr>\n",
       "<tr><td>max accuracy</td>\n",
       "<td>0.5000018</td>\n",
       "<td>0.9098953</td>\n",
       "<td>131.0</td></tr>\n",
       "<tr><td>max precision</td>\n",
       "<td>0.7250000</td>\n",
       "<td>0.7892977</td>\n",
       "<td>39.0</td></tr>\n",
       "<tr><td>max recall</td>\n",
       "<td>0.0</td>\n",
       "<td>1.0</td>\n",
       "<td>399.0</td></tr>\n",
       "<tr><td>max specificity</td>\n",
       "<td>1.0</td>\n",
       "<td>0.9999167</td>\n",
       "<td>0.0</td></tr>\n",
       "<tr><td>max absolute_mcc</td>\n",
       "<td>0.3075893</td>\n",
       "<td>0.5685077</td>\n",
       "<td>227.0</td></tr>\n",
       "<tr><td>max min_per_class_accuracy</td>\n",
       "<td>0.1785736</td>\n",
       "<td>0.8539410</td>\n",
       "<td>293.0</td></tr>\n",
       "<tr><td>max mean_per_class_accuracy</td>\n",
       "<td>0.1444229</td>\n",
       "<td>0.8613911</td>\n",
       "<td>313.0</td></tr></table></div>"
      ],
      "text/plain": [
       "metric                       threshold    value     idx\n",
       "---------------------------  -----------  --------  -----\n",
       "max f1                       0.323042     0.618021  222\n",
       "max f2                       0.156374     0.723257  304\n",
       "max f0point5                 0.444413     0.604994  157\n",
       "max accuracy                 0.500002     0.909895  131\n",
       "max precision                0.725        0.789298  39\n",
       "max recall                   0            1         399\n",
       "max specificity              1            0.999917  0\n",
       "max absolute_mcc             0.307589     0.568508  227\n",
       "max min_per_class_accuracy   0.178574     0.853941  293\n",
       "max mean_per_class_accuracy  0.144423     0.861391  313"
      ]
     },
     "metadata": {},
     "output_type": "display_data"
    },
    {
     "name": "stdout",
     "output_type": "stream",
     "text": [
      "Gains/Lift Table: Avg response rate: 11.50 %\n",
      "\n"
     ]
    },
    {
     "data": {
      "text/html": [
       "<div style=\"overflow:auto\"><table style=\"width:50%\"><tr><td><b></b></td>\n",
       "<td><b>group</b></td>\n",
       "<td><b>cumulative_data_fraction</b></td>\n",
       "<td><b>lower_threshold</b></td>\n",
       "<td><b>lift</b></td>\n",
       "<td><b>cumulative_lift</b></td>\n",
       "<td><b>response_rate</b></td>\n",
       "<td><b>cumulative_response_rate</b></td>\n",
       "<td><b>capture_rate</b></td>\n",
       "<td><b>cumulative_capture_rate</b></td>\n",
       "<td><b>gain</b></td>\n",
       "<td><b>cumulative_gain</b></td></tr>\n",
       "<tr><td></td>\n",
       "<td>1</td>\n",
       "<td>0.0112078</td>\n",
       "<td>0.8214286</td>\n",
       "<td>6.7489710</td>\n",
       "<td>6.7489710</td>\n",
       "<td>0.7763158</td>\n",
       "<td>0.7763158</td>\n",
       "<td>0.0756410</td>\n",
       "<td>0.0756410</td>\n",
       "<td>574.8970985</td>\n",
       "<td>574.8970985</td></tr>\n",
       "<tr><td></td>\n",
       "<td>2</td>\n",
       "<td>0.0211621</td>\n",
       "<td>0.75</td>\n",
       "<td>6.8904748</td>\n",
       "<td>6.8155320</td>\n",
       "<td>0.7925926</td>\n",
       "<td>0.7839721</td>\n",
       "<td>0.0685897</td>\n",
       "<td>0.1442308</td>\n",
       "<td>589.0474834</td>\n",
       "<td>581.5532029</td></tr>\n",
       "<tr><td></td>\n",
       "<td>3</td>\n",
       "<td>0.0349506</td>\n",
       "<td>0.6785714</td>\n",
       "<td>5.7647333</td>\n",
       "<td>6.4009764</td>\n",
       "<td>0.6631016</td>\n",
       "<td>0.7362869</td>\n",
       "<td>0.0794872</td>\n",
       "<td>0.2237179</td>\n",
       "<td>476.4733306</td>\n",
       "<td>540.0976415</td></tr>\n",
       "<tr><td></td>\n",
       "<td>4</td>\n",
       "<td>0.0439463</td>\n",
       "<td>0.6428571</td>\n",
       "<td>5.3444199</td>\n",
       "<td>6.1847014</td>\n",
       "<td>0.6147541</td>\n",
       "<td>0.7114094</td>\n",
       "<td>0.0480769</td>\n",
       "<td>0.2717949</td>\n",
       "<td>434.4419924</td>\n",
       "<td>518.4701428</td></tr>\n",
       "<tr><td></td>\n",
       "<td>5</td>\n",
       "<td>0.0531633</td>\n",
       "<td>0.6071429</td>\n",
       "<td>5.7029949</td>\n",
       "<td>6.1011878</td>\n",
       "<td>0.656</td>\n",
       "<td>0.7018031</td>\n",
       "<td>0.0525641</td>\n",
       "<td>0.3243590</td>\n",
       "<td>470.2994872</td>\n",
       "<td>510.1187809</td></tr>\n",
       "<tr><td></td>\n",
       "<td>6</td>\n",
       "<td>0.1013125</td>\n",
       "<td>0.4642857</td>\n",
       "<td>4.5797778</td>\n",
       "<td>5.3781305</td>\n",
       "<td>0.5267994</td>\n",
       "<td>0.6186317</td>\n",
       "<td>0.2205128</td>\n",
       "<td>0.5448718</td>\n",
       "<td>357.9777752</td>\n",
       "<td>437.8130482</td></tr>\n",
       "<tr><td></td>\n",
       "<td>7</td>\n",
       "<td>0.1501991</td>\n",
       "<td>0.3285714</td>\n",
       "<td>3.4092509</td>\n",
       "<td>4.7373022</td>\n",
       "<td>0.3921569</td>\n",
       "<td>0.5449190</td>\n",
       "<td>0.1666667</td>\n",
       "<td>0.7115385</td>\n",
       "<td>240.9250880</td>\n",
       "<td>373.7302217</td></tr>\n",
       "<tr><td></td>\n",
       "<td>8</td>\n",
       "<td>0.2102197</td>\n",
       "<td>0.2142857</td>\n",
       "<td>2.1360171</td>\n",
       "<td>3.9945993</td>\n",
       "<td>0.2457002</td>\n",
       "<td>0.4594879</td>\n",
       "<td>0.1282051</td>\n",
       "<td>0.8397436</td>\n",
       "<td>113.6017136</td>\n",
       "<td>299.4599286</td></tr>\n",
       "<tr><td></td>\n",
       "<td>9</td>\n",
       "<td>0.3374134</td>\n",
       "<td>0.0714286</td>\n",
       "<td>0.8668391</td>\n",
       "<td>2.8155376</td>\n",
       "<td>0.0997101</td>\n",
       "<td>0.3238636</td>\n",
       "<td>0.1102564</td>\n",
       "<td>0.95</td>\n",
       "<td>-13.3160907</td>\n",
       "<td>181.5537587</td></tr>\n",
       "<tr><td></td>\n",
       "<td>10</td>\n",
       "<td>0.4492700</td>\n",
       "<td>0.0357143</td>\n",
       "<td>0.2349619</td>\n",
       "<td>2.1730407</td>\n",
       "<td>0.0270270</td>\n",
       "<td>0.2499590</td>\n",
       "<td>0.0262821</td>\n",
       "<td>0.9762821</td>\n",
       "<td>-76.5038115</td>\n",
       "<td>117.3040732</td></tr>\n",
       "<tr><td></td>\n",
       "<td>11</td>\n",
       "<td>0.5996166</td>\n",
       "<td>0.0015814</td>\n",
       "<td>0.0255819</td>\n",
       "<td>1.6345916</td>\n",
       "<td>0.0029426</td>\n",
       "<td>0.1880226</td>\n",
       "<td>0.0038462</td>\n",
       "<td>0.9801282</td>\n",
       "<td>-97.4418078</td>\n",
       "<td>63.4591579</td></tr>\n",
       "<tr><td></td>\n",
       "<td>12</td>\n",
       "<td>0.6007963</td>\n",
       "<td>0.0009653</td>\n",
       "<td>0.0</td>\n",
       "<td>1.6313818</td>\n",
       "<td>0.0</td>\n",
       "<td>0.1876534</td>\n",
       "<td>0.0</td>\n",
       "<td>0.9801282</td>\n",
       "<td>-100.0</td>\n",
       "<td>63.1381777</td></tr>\n",
       "<tr><td></td>\n",
       "<td>13</td>\n",
       "<td>1.0</td>\n",
       "<td>0.0</td>\n",
       "<td>0.0497786</td>\n",
       "<td>1.0</td>\n",
       "<td>0.0057259</td>\n",
       "<td>0.1150273</td>\n",
       "<td>0.0198718</td>\n",
       "<td>1.0</td>\n",
       "<td>-95.0221411</td>\n",
       "<td>0.0</td></tr></table></div>"
      ],
      "text/plain": [
       "    group    cumulative_data_fraction    lower_threshold    lift       cumulative_lift    response_rate    cumulative_response_rate    capture_rate    cumulative_capture_rate    gain      cumulative_gain\n",
       "--  -------  --------------------------  -----------------  ---------  -----------------  ---------------  --------------------------  --------------  -------------------------  --------  -----------------\n",
       "    1        0.0112078                   0.821429           6.74897    6.74897            0.776316         0.776316                    0.075641        0.075641                   574.897   574.897\n",
       "    2        0.0211621                   0.75               6.89047    6.81553            0.792593         0.783972                    0.0685897       0.144231                   589.047   581.553\n",
       "    3        0.0349506                   0.678571           5.76473    6.40098            0.663102         0.736287                    0.0794872       0.223718                   476.473   540.098\n",
       "    4        0.0439463                   0.642857           5.34442    6.1847             0.614754         0.711409                    0.0480769       0.271795                   434.442   518.47\n",
       "    5        0.0531633                   0.607143           5.70299    6.10119            0.656            0.701803                    0.0525641       0.324359                   470.299   510.119\n",
       "    6        0.101312                    0.464286           4.57978    5.37813            0.526799         0.618632                    0.220513        0.544872                   357.978   437.813\n",
       "    7        0.150199                    0.328571           3.40925    4.7373             0.392157         0.544919                    0.166667        0.711538                   240.925   373.73\n",
       "    8        0.21022                     0.214286           2.13602    3.9946             0.2457           0.459488                    0.128205        0.839744                   113.602   299.46\n",
       "    9        0.337413                    0.0714286          0.866839   2.81554            0.0997101        0.323864                    0.110256        0.95                       -13.3161  181.554\n",
       "    10       0.44927                     0.0357143          0.234962   2.17304            0.027027         0.249959                    0.0262821       0.976282                   -76.5038  117.304\n",
       "    11       0.599617                    0.00158145         0.0255819  1.63459            0.00294262       0.188023                    0.00384615      0.980128                   -97.4418  63.4592\n",
       "    12       0.600796                    0.00096525         0          1.63138            0                0.187653                    0               0.980128                   -100      63.1382\n",
       "    13       1                           0                  0.0497786  1                  0.0057259        0.115027                    0.0198718       1                          -95.0221  0"
      ]
     },
     "metadata": {},
     "output_type": "display_data"
    },
    {
     "name": "stdout",
     "output_type": "stream",
     "text": [
      "\n",
      "\n",
      "ModelMetricsBinomial: drf\n",
      "** Reported on cross-validation data. **\n",
      "\n",
      "MSE: 0.06679400542\n",
      "RMSE: 0.258445362543\n",
      "LogLoss: 0.277824404731\n",
      "Mean Per-Class Error: 0.142660508206\n",
      "AUC: 0.918190534616\n",
      "Gini: 0.836381069231\n",
      "Confusion Matrix (Act/Pred) for max f1 @ threshold = 0.295157658688: \n"
     ]
    },
    {
     "data": {
      "text/html": [
       "<div style=\"overflow:auto\"><table style=\"width:50%\"><tr><td><b></b></td>\n",
       "<td><b>no</b></td>\n",
       "<td><b>yes</b></td>\n",
       "<td><b>Error</b></td>\n",
       "<td><b>Rate</b></td></tr>\n",
       "<tr><td>no</td>\n",
       "<td>25304.0</td>\n",
       "<td>2616.0</td>\n",
       "<td>0.0937</td>\n",
       "<td> (2616.0/27920.0)</td></tr>\n",
       "<tr><td>yes</td>\n",
       "<td>977.0</td>\n",
       "<td>2752.0</td>\n",
       "<td>0.262</td>\n",
       "<td> (977.0/3729.0)</td></tr>\n",
       "<tr><td>Total</td>\n",
       "<td>26281.0</td>\n",
       "<td>5368.0</td>\n",
       "<td>0.1135</td>\n",
       "<td> (3593.0/31649.0)</td></tr></table></div>"
      ],
      "text/plain": [
       "       no     yes    Error    Rate\n",
       "-----  -----  -----  -------  ----------------\n",
       "no     25304  2616   0.0937   (2616.0/27920.0)\n",
       "yes    977    2752   0.262    (977.0/3729.0)\n",
       "Total  26281  5368   0.1135   (3593.0/31649.0)"
      ]
     },
     "metadata": {},
     "output_type": "display_data"
    },
    {
     "name": "stdout",
     "output_type": "stream",
     "text": [
      "Maximum Metrics: Maximum metrics at their respective thresholds\n",
      "\n"
     ]
    },
    {
     "data": {
      "text/html": [
       "<div style=\"overflow:auto\"><table style=\"width:50%\"><tr><td><b>metric</b></td>\n",
       "<td><b>threshold</b></td>\n",
       "<td><b>value</b></td>\n",
       "<td><b>idx</b></td></tr>\n",
       "<tr><td>max f1</td>\n",
       "<td>0.2951577</td>\n",
       "<td>0.6050346</td>\n",
       "<td>240.0</td></tr>\n",
       "<tr><td>max f2</td>\n",
       "<td>0.1615565</td>\n",
       "<td>0.7193602</td>\n",
       "<td>303.0</td></tr>\n",
       "<tr><td>max f0point5</td>\n",
       "<td>0.4394788</td>\n",
       "<td>0.5775748</td>\n",
       "<td>175.0</td></tr>\n",
       "<tr><td>max accuracy</td>\n",
       "<td>0.4634618</td>\n",
       "<td>0.9012923</td>\n",
       "<td>165.0</td></tr>\n",
       "<tr><td>max precision</td>\n",
       "<td>1.0</td>\n",
       "<td>1.0</td>\n",
       "<td>0.0</td></tr>\n",
       "<tr><td>max recall</td>\n",
       "<td>0.0</td>\n",
       "<td>1.0</td>\n",
       "<td>399.0</td></tr>\n",
       "<tr><td>max specificity</td>\n",
       "<td>1.0</td>\n",
       "<td>1.0</td>\n",
       "<td>0.0</td></tr>\n",
       "<tr><td>max absolute_mcc</td>\n",
       "<td>0.2951577</td>\n",
       "<td>0.5534992</td>\n",
       "<td>240.0</td></tr>\n",
       "<tr><td>max min_per_class_accuracy</td>\n",
       "<td>0.1851879</td>\n",
       "<td>0.8533119</td>\n",
       "<td>292.0</td></tr>\n",
       "<tr><td>max mean_per_class_accuracy</td>\n",
       "<td>0.1481370</td>\n",
       "<td>0.8573395</td>\n",
       "<td>311.0</td></tr></table></div>"
      ],
      "text/plain": [
       "metric                       threshold    value     idx\n",
       "---------------------------  -----------  --------  -----\n",
       "max f1                       0.295158     0.605035  240\n",
       "max f2                       0.161557     0.71936   303\n",
       "max f0point5                 0.439479     0.577575  175\n",
       "max accuracy                 0.463462     0.901292  165\n",
       "max precision                1            1         0\n",
       "max recall                   0            1         399\n",
       "max specificity              1            1         0\n",
       "max absolute_mcc             0.295158     0.553499  240\n",
       "max min_per_class_accuracy   0.185188     0.853312  292\n",
       "max mean_per_class_accuracy  0.148137     0.857339  311"
      ]
     },
     "metadata": {},
     "output_type": "display_data"
    },
    {
     "name": "stdout",
     "output_type": "stream",
     "text": [
      "Gains/Lift Table: Avg response rate: 11.78 %\n",
      "\n"
     ]
    },
    {
     "data": {
      "text/html": [
       "<div style=\"overflow:auto\"><table style=\"width:50%\"><tr><td><b></b></td>\n",
       "<td><b>group</b></td>\n",
       "<td><b>cumulative_data_fraction</b></td>\n",
       "<td><b>lower_threshold</b></td>\n",
       "<td><b>lift</b></td>\n",
       "<td><b>cumulative_lift</b></td>\n",
       "<td><b>response_rate</b></td>\n",
       "<td><b>cumulative_response_rate</b></td>\n",
       "<td><b>capture_rate</b></td>\n",
       "<td><b>cumulative_capture_rate</b></td>\n",
       "<td><b>gain</b></td>\n",
       "<td><b>cumulative_gain</b></td></tr>\n",
       "<tr><td></td>\n",
       "<td>1</td>\n",
       "<td>0.0102373</td>\n",
       "<td>0.8148148</td>\n",
       "<td>6.5226180</td>\n",
       "<td>6.5226180</td>\n",
       "<td>0.7685185</td>\n",
       "<td>0.7685185</td>\n",
       "<td>0.0667739</td>\n",
       "<td>0.0667739</td>\n",
       "<td>552.2618019</td>\n",
       "<td>552.2618019</td></tr>\n",
       "<tr><td></td>\n",
       "<td>2</td>\n",
       "<td>0.0200006</td>\n",
       "<td>0.7469953</td>\n",
       "<td>5.9603102</td>\n",
       "<td>6.2481265</td>\n",
       "<td>0.7022654</td>\n",
       "<td>0.7361769</td>\n",
       "<td>0.0581925</td>\n",
       "<td>0.1249665</td>\n",
       "<td>496.0310207</td>\n",
       "<td>524.8126528</td></tr>\n",
       "<tr><td></td>\n",
       "<td>3</td>\n",
       "<td>0.0315018</td>\n",
       "<td>0.6923077</td>\n",
       "<td>5.4560970</td>\n",
       "<td>5.9589603</td>\n",
       "<td>0.6428571</td>\n",
       "<td>0.7021063</td>\n",
       "<td>0.0627514</td>\n",
       "<td>0.1877179</td>\n",
       "<td>445.6097000</td>\n",
       "<td>495.8960281</td></tr>\n",
       "<tr><td></td>\n",
       "<td>4</td>\n",
       "<td>0.0413915</td>\n",
       "<td>0.6538462</td>\n",
       "<td>4.9350853</td>\n",
       "<td>5.7143245</td>\n",
       "<td>0.5814696</td>\n",
       "<td>0.6732824</td>\n",
       "<td>0.0488067</td>\n",
       "<td>0.2365245</td>\n",
       "<td>393.5085253</td>\n",
       "<td>471.4324492</td></tr>\n",
       "<tr><td></td>\n",
       "<td>5</td>\n",
       "<td>0.0514076</td>\n",
       "<td>0.6153846</td>\n",
       "<td>4.9531340</td>\n",
       "<td>5.5660163</td>\n",
       "<td>0.5835962</td>\n",
       "<td>0.6558082</td>\n",
       "<td>0.0496112</td>\n",
       "<td>0.2861357</td>\n",
       "<td>395.3133975</td>\n",
       "<td>456.6016321</td></tr>\n",
       "<tr><td></td>\n",
       "<td>6</td>\n",
       "<td>0.1020885</td>\n",
       "<td>0.4615385</td>\n",
       "<td>4.4605747</td>\n",
       "<td>5.0172301</td>\n",
       "<td>0.5255611</td>\n",
       "<td>0.5911483</td>\n",
       "<td>0.2260660</td>\n",
       "<td>0.5122017</td>\n",
       "<td>346.0574730</td>\n",
       "<td>401.7230090</td></tr>\n",
       "<tr><td></td>\n",
       "<td>7</td>\n",
       "<td>0.1529274</td>\n",
       "<td>0.3333333</td>\n",
       "<td>3.5288864</td>\n",
       "<td>4.5224481</td>\n",
       "<td>0.4157862</td>\n",
       "<td>0.5328512</td>\n",
       "<td>0.1794047</td>\n",
       "<td>0.6916063</td>\n",
       "<td>252.8886438</td>\n",
       "<td>352.2448078</td></tr>\n",
       "<tr><td></td>\n",
       "<td>8</td>\n",
       "<td>0.2014914</td>\n",
       "<td>0.2307692</td>\n",
       "<td>2.3854894</td>\n",
       "<td>4.0073931</td>\n",
       "<td>0.2810670</td>\n",
       "<td>0.4721656</td>\n",
       "<td>0.1158488</td>\n",
       "<td>0.8074551</td>\n",
       "<td>138.5489385</td>\n",
       "<td>300.7393113</td></tr>\n",
       "<tr><td></td>\n",
       "<td>9</td>\n",
       "<td>0.3048122</td>\n",
       "<td>0.0909091</td>\n",
       "<td>1.1368259</td>\n",
       "<td>3.0343699</td>\n",
       "<td>0.1339450</td>\n",
       "<td>0.3575205</td>\n",
       "<td>0.1174578</td>\n",
       "<td>0.9249128</td>\n",
       "<td>13.6825919</td>\n",
       "<td>203.4369922</td></tr>\n",
       "<tr><td></td>\n",
       "<td>10</td>\n",
       "<td>0.4069955</td>\n",
       "<td>0.0384615</td>\n",
       "<td>0.3805359</td>\n",
       "<td>2.3680785</td>\n",
       "<td>0.0448361</td>\n",
       "<td>0.2790156</td>\n",
       "<td>0.0388844</td>\n",
       "<td>0.9637973</td>\n",
       "<td>-61.9464134</td>\n",
       "<td>136.8078537</td></tr>\n",
       "<tr><td></td>\n",
       "<td>11</td>\n",
       "<td>0.5016588</td>\n",
       "<td>0.0003074</td>\n",
       "<td>0.1813033</td>\n",
       "<td>1.9554327</td>\n",
       "<td>0.0213618</td>\n",
       "<td>0.2303962</td>\n",
       "<td>0.0171628</td>\n",
       "<td>0.9809600</td>\n",
       "<td>-81.8696673</td>\n",
       "<td>95.5432663</td></tr>\n",
       "<tr><td></td>\n",
       "<td>12</td>\n",
       "<td>1.0</td>\n",
       "<td>0.0</td>\n",
       "<td>0.0382067</td>\n",
       "<td>1.0</td>\n",
       "<td>0.0045016</td>\n",
       "<td>0.1178236</td>\n",
       "<td>0.0190400</td>\n",
       "<td>1.0</td>\n",
       "<td>-96.1793330</td>\n",
       "<td>0.0</td></tr></table></div>"
      ],
      "text/plain": [
       "    group    cumulative_data_fraction    lower_threshold    lift       cumulative_lift    response_rate    cumulative_response_rate    capture_rate    cumulative_capture_rate    gain      cumulative_gain\n",
       "--  -------  --------------------------  -----------------  ---------  -----------------  ---------------  --------------------------  --------------  -------------------------  --------  -----------------\n",
       "    1        0.0102373                   0.814815           6.52262    6.52262            0.768519         0.768519                    0.0667739       0.0667739                  552.262   552.262\n",
       "    2        0.0200006                   0.746995           5.96031    6.24813            0.702265         0.736177                    0.0581925       0.124966                   496.031   524.813\n",
       "    3        0.0315018                   0.692308           5.4561     5.95896            0.642857         0.702106                    0.0627514       0.187718                   445.61    495.896\n",
       "    4        0.0413915                   0.653846           4.93509    5.71432            0.58147          0.673282                    0.0488067       0.236525                   393.509   471.432\n",
       "    5        0.0514076                   0.615385           4.95313    5.56602            0.583596         0.655808                    0.0496112       0.286136                   395.313   456.602\n",
       "    6        0.102089                    0.461538           4.46057    5.01723            0.525561         0.591148                    0.226066        0.512202                   346.057   401.723\n",
       "    7        0.152927                    0.333333           3.52889    4.52245            0.415786         0.532851                    0.179405        0.691606                   252.889   352.245\n",
       "    8        0.201491                    0.230769           2.38549    4.00739            0.281067         0.472166                    0.115849        0.807455                   138.549   300.739\n",
       "    9        0.304812                    0.0909091          1.13683    3.03437            0.133945         0.35752                     0.117458        0.924913                   13.6826   203.437\n",
       "    10       0.406995                    0.0384615          0.380536   2.36808            0.0448361        0.279016                    0.0388844       0.963797                   -61.9464  136.808\n",
       "    11       0.501659                    0.000307377        0.181303   1.95543            0.0213618        0.230396                    0.0171628       0.98096                    -81.8697  95.5433\n",
       "    12       1                           0                  0.0382067  1                  0.00450165       0.117824                    0.01904         1                          -96.1793  0"
      ]
     },
     "metadata": {},
     "output_type": "display_data"
    },
    {
     "name": "stdout",
     "output_type": "stream",
     "text": [
      "\n",
      "Cross-Validation Metrics Summary: \n"
     ]
    },
    {
     "data": {
      "text/html": [
       "<div style=\"overflow:auto\"><table style=\"width:50%\"><tr><td><b></b></td>\n",
       "<td><b>mean</b></td>\n",
       "<td><b>sd</b></td>\n",
       "<td><b>cv_1_valid</b></td>\n",
       "<td><b>cv_2_valid</b></td>\n",
       "<td><b>cv_3_valid</b></td>\n",
       "<td><b>cv_4_valid</b></td>\n",
       "<td><b>cv_5_valid</b></td></tr>\n",
       "<tr><td>accuracy</td>\n",
       "<td>0.8845808</td>\n",
       "<td>0.0060399</td>\n",
       "<td>0.86962</td>\n",
       "<td>0.8916587</td>\n",
       "<td>0.8814538</td>\n",
       "<td>0.886885</td>\n",
       "<td>0.8932869</td></tr>\n",
       "<tr><td>auc</td>\n",
       "<td>0.9182724</td>\n",
       "<td>0.0026785</td>\n",
       "<td>0.9157462</td>\n",
       "<td>0.9209911</td>\n",
       "<td>0.9168177</td>\n",
       "<td>0.9136567</td>\n",
       "<td>0.9241503</td></tr>\n",
       "<tr><td>err</td>\n",
       "<td>0.1154191</td>\n",
       "<td>0.0060399</td>\n",
       "<td>0.1303799</td>\n",
       "<td>0.1083413</td>\n",
       "<td>0.1185463</td>\n",
       "<td>0.1131150</td>\n",
       "<td>0.1067131</td></tr>\n",
       "<tr><td>err_count</td>\n",
       "<td>730.8</td>\n",
       "<td>40.460846</td>\n",
       "<td>827.0</td>\n",
       "<td>678.0</td>\n",
       "<td>760.0</td>\n",
       "<td>715.0</td>\n",
       "<td>674.0</td></tr>\n",
       "<tr><td>f0point5</td>\n",
       "<td>0.5435946</td>\n",
       "<td>0.0107998</td>\n",
       "<td>0.5168953</td>\n",
       "<td>0.5463259</td>\n",
       "<td>0.5412999</td>\n",
       "<td>0.5498008</td>\n",
       "<td>0.5636511</td></tr>\n",
       "<tr><td>f1</td>\n",
       "<td>0.60691</td>\n",
       "<td>0.0059715</td>\n",
       "<td>0.5991275</td>\n",
       "<td>0.6021127</td>\n",
       "<td>0.6033403</td>\n",
       "<td>0.6069269</td>\n",
       "<td>0.6230425</td></tr>\n",
       "<tr><td>f2</td>\n",
       "<td>0.6876460</td>\n",
       "<td>0.0106300</td>\n",
       "<td>0.7124740</td>\n",
       "<td>0.6705882</td>\n",
       "<td>0.6814430</td>\n",
       "<td>0.6773006</td>\n",
       "<td>0.6964241</td></tr>\n",
       "<tr><td>lift_top_group</td>\n",
       "<td>6.3798437</td>\n",
       "<td>0.2627986</td>\n",
       "<td>6.329697</td>\n",
       "<td>6.7492576</td>\n",
       "<td>6.8541565</td>\n",
       "<td>6.05984</td>\n",
       "<td>5.906267</td></tr>\n",
       "<tr><td>logloss</td>\n",
       "<td>0.2777598</td>\n",
       "<td>0.0132357</td>\n",
       "<td>0.2891578</td>\n",
       "<td>0.2529644</td>\n",
       "<td>0.2794759</td>\n",
       "<td>0.3052329</td>\n",
       "<td>0.2619678</td></tr>\n",
       "<tr><td>max_per_class_error</td>\n",
       "<td>0.2446960</td>\n",
       "<td>0.0224158</td>\n",
       "<td>0.1846966</td>\n",
       "<td>0.2743989</td>\n",
       "<td>0.2541935</td>\n",
       "<td>0.2659574</td>\n",
       "<td>0.2442334</td></tr>\n",
       "<tr><td>mcc</td>\n",
       "<td>0.5575829</td>\n",
       "<td>0.0063330</td>\n",
       "<td>0.5555246</td>\n",
       "<td>0.5522211</td>\n",
       "<td>0.5505062</td>\n",
       "<td>0.5545132</td>\n",
       "<td>0.5751494</td></tr>\n",
       "<tr><td>mean_per_class_accuracy</td>\n",
       "<td>0.8285404</td>\n",
       "<td>0.0071710</td>\n",
       "<td>0.8461477</td>\n",
       "<td>0.8192048</td>\n",
       "<td>0.8229564</td>\n",
       "<td>0.8207832</td>\n",
       "<td>0.8336101</td></tr>\n",
       "<tr><td>mean_per_class_error</td>\n",
       "<td>0.1714595</td>\n",
       "<td>0.0071710</td>\n",
       "<td>0.1538523</td>\n",
       "<td>0.1807952</td>\n",
       "<td>0.1770435</td>\n",
       "<td>0.1792168</td>\n",
       "<td>0.1663899</td></tr>\n",
       "<tr><td>mse</td>\n",
       "<td>0.0667867</td>\n",
       "<td>0.0011265</td>\n",
       "<td>0.0677336</td>\n",
       "<td>0.0654243</td>\n",
       "<td>0.0680364</td>\n",
       "<td>0.0683732</td>\n",
       "<td>0.0643660</td></tr>\n",
       "<tr><td>precision</td>\n",
       "<td>0.5083979</td>\n",
       "<td>0.0134161</td>\n",
       "<td>0.4735632</td>\n",
       "<td>0.5145437</td>\n",
       "<td>0.5065732</td>\n",
       "<td>0.5173383</td>\n",
       "<td>0.5299715</td></tr>\n",
       "<tr><td>r2</td>\n",
       "<td>0.3572815</td>\n",
       "<td>0.0073152</td>\n",
       "<td>0.3562740</td>\n",
       "<td>0.3471406</td>\n",
       "<td>0.3597935</td>\n",
       "<td>0.3476774</td>\n",
       "<td>0.3755221</td></tr>\n",
       "<tr><td>recall</td>\n",
       "<td>0.7553040</td>\n",
       "<td>0.0224158</td>\n",
       "<td>0.8153034</td>\n",
       "<td>0.7256011</td>\n",
       "<td>0.7458065</td>\n",
       "<td>0.7340425</td>\n",
       "<td>0.7557666</td></tr>\n",
       "<tr><td>rmse</td>\n",
       "<td>0.2584127</td>\n",
       "<td>0.0021862</td>\n",
       "<td>0.2602567</td>\n",
       "<td>0.2557818</td>\n",
       "<td>0.2608378</td>\n",
       "<td>0.2614827</td>\n",
       "<td>0.2537046</td></tr>\n",
       "<tr><td>specificity</td>\n",
       "<td>0.9017768</td>\n",
       "<td>0.0093029</td>\n",
       "<td>0.8769919</td>\n",
       "<td>0.9128085</td>\n",
       "<td>0.9001064</td>\n",
       "<td>0.9075238</td>\n",
       "<td>0.9114537</td></tr></table></div>"
      ],
      "text/plain": [
       "                         mean       sd          cv_1_valid    cv_2_valid    cv_3_valid    cv_4_valid    cv_5_valid\n",
       "-----------------------  ---------  ----------  ------------  ------------  ------------  ------------  ------------\n",
       "accuracy                 0.884581   0.0060399   0.86962       0.891659      0.881454      0.886885      0.893287\n",
       "auc                      0.918272   0.00267849  0.915746      0.920991      0.916818      0.913657      0.92415\n",
       "err                      0.115419   0.0060399   0.13038       0.108341      0.118546      0.113115      0.106713\n",
       "err_count                730.8      40.4608     827           678           760           715           674\n",
       "f0point5                 0.543595   0.0107998   0.516895      0.546326      0.5413        0.549801      0.563651\n",
       "f1                       0.60691    0.00597145  0.599128      0.602113      0.60334       0.606927      0.623043\n",
       "f2                       0.687646   0.01063     0.712474      0.670588      0.681443      0.677301      0.696424\n",
       "lift_top_group           6.37984    0.262799    6.3297        6.74926       6.85416       6.05984       5.90627\n",
       "logloss                  0.27776    0.0132357   0.289158      0.252964      0.279476      0.305233      0.261968\n",
       "max_per_class_error      0.244696   0.0224158   0.184697      0.274399      0.254194      0.265957      0.244233\n",
       "mcc                      0.557583   0.006333    0.555525      0.552221      0.550506      0.554513      0.575149\n",
       "mean_per_class_accuracy  0.82854    0.00717096  0.846148      0.819205      0.822956      0.820783      0.83361\n",
       "mean_per_class_error     0.17146    0.00717096  0.153852      0.180795      0.177044      0.179217      0.16639\n",
       "mse                      0.0667867  0.00112654  0.0677336     0.0654243     0.0680364     0.0683732     0.064366\n",
       "precision                0.508398   0.0134161   0.473563      0.514544      0.506573      0.517338      0.529972\n",
       "r2                       0.357282   0.00731519  0.356274      0.347141      0.359793      0.347677      0.375522\n",
       "recall                   0.755304   0.0224158   0.815303      0.725601      0.745806      0.734043      0.755767\n",
       "rmse                     0.258413   0.0021862   0.260257      0.255782      0.260838      0.261483      0.253705\n",
       "specificity              0.901777   0.00930294  0.876992      0.912809      0.900106      0.907524      0.911454"
      ]
     },
     "metadata": {},
     "output_type": "display_data"
    },
    {
     "name": "stdout",
     "output_type": "stream",
     "text": [
      "Scoring History: \n"
     ]
    },
    {
     "data": {
      "text/html": [
       "<div style=\"overflow:auto\"><table style=\"width:50%\"><tr><td><b></b></td>\n",
       "<td><b>timestamp</b></td>\n",
       "<td><b>duration</b></td>\n",
       "<td><b>number_of_trees</b></td>\n",
       "<td><b>training_rmse</b></td>\n",
       "<td><b>training_logloss</b></td>\n",
       "<td><b>training_auc</b></td>\n",
       "<td><b>training_lift</b></td>\n",
       "<td><b>training_classification_error</b></td>\n",
       "<td><b>validation_rmse</b></td>\n",
       "<td><b>validation_logloss</b></td>\n",
       "<td><b>validation_auc</b></td>\n",
       "<td><b>validation_lift</b></td>\n",
       "<td><b>validation_classification_error</b></td></tr>\n",
       "<tr><td></td>\n",
       "<td>2017-02-23 19:26:52</td>\n",
       "<td>54.119 sec</td>\n",
       "<td>0.0</td>\n",
       "<td>nan</td>\n",
       "<td>nan</td>\n",
       "<td>nan</td>\n",
       "<td>nan</td>\n",
       "<td>nan</td>\n",
       "<td>nan</td>\n",
       "<td>nan</td>\n",
       "<td>nan</td>\n",
       "<td>nan</td>\n",
       "<td>nan</td></tr>\n",
       "<tr><td></td>\n",
       "<td>2017-02-23 19:26:52</td>\n",
       "<td>54.203 sec</td>\n",
       "<td>1.0</td>\n",
       "<td>0.3586046</td>\n",
       "<td>4.4069587</td>\n",
       "<td>0.6914080</td>\n",
       "<td>6.7963311</td>\n",
       "<td>0.1306151</td>\n",
       "<td>0.3487614</td>\n",
       "<td>4.1692628</td>\n",
       "<td>0.7050370</td>\n",
       "<td>4.0789564</td>\n",
       "<td>0.1232119</td></tr>\n",
       "<tr><td></td>\n",
       "<td>2017-02-23 19:26:52</td>\n",
       "<td>54.313 sec</td>\n",
       "<td>2.0</td>\n",
       "<td>0.3449803</td>\n",
       "<td>3.8351851</td>\n",
       "<td>0.7177361</td>\n",
       "<td>8.1513728</td>\n",
       "<td>0.1330026</td>\n",
       "<td>0.3035062</td>\n",
       "<td>2.1248388</td>\n",
       "<td>0.7824082</td>\n",
       "<td>5.1812798</td>\n",
       "<td>0.1450376</td></tr>\n",
       "<tr><td></td>\n",
       "<td>2017-02-23 19:26:53</td>\n",
       "<td>54.495 sec</td>\n",
       "<td>3.0</td>\n",
       "<td>0.3379472</td>\n",
       "<td>3.4512549</td>\n",
       "<td>0.7361613</td>\n",
       "<td>8.4252789</td>\n",
       "<td>0.1381265</td>\n",
       "<td>0.2871126</td>\n",
       "<td>1.4264772</td>\n",
       "<td>0.8235846</td>\n",
       "<td>5.5283426</td>\n",
       "<td>0.1633240</td></tr>\n",
       "<tr><td></td>\n",
       "<td>2017-02-23 19:26:53</td>\n",
       "<td>54.658 sec</td>\n",
       "<td>4.0</td>\n",
       "<td>0.3288017</td>\n",
       "<td>3.0295213</td>\n",
       "<td>0.7510073</td>\n",
       "<td>8.4709403</td>\n",
       "<td>0.1437331</td>\n",
       "<td>0.2774813</td>\n",
       "<td>1.0749095</td>\n",
       "<td>0.8480628</td>\n",
       "<td>5.6419623</td>\n",
       "<td>0.1127415</td></tr>\n",
       "<tr><td>---</td>\n",
       "<td>---</td>\n",
       "<td>---</td>\n",
       "<td>---</td>\n",
       "<td>---</td>\n",
       "<td>---</td>\n",
       "<td>---</td>\n",
       "<td>---</td>\n",
       "<td>---</td>\n",
       "<td>---</td>\n",
       "<td>---</td>\n",
       "<td>---</td>\n",
       "<td>---</td>\n",
       "<td>---</td></tr>\n",
       "<tr><td></td>\n",
       "<td>2017-02-23 19:27:01</td>\n",
       "<td> 1 min  2.955 sec</td>\n",
       "<td>24.0</td>\n",
       "<td>0.2673525</td>\n",
       "<td>0.5440972</td>\n",
       "<td>0.8888501</td>\n",
       "<td>8.4872620</td>\n",
       "<td>0.1207937</td>\n",
       "<td>0.2514514</td>\n",
       "<td>0.2793526</td>\n",
       "<td>0.9211744</td>\n",
       "<td>6.6480392</td>\n",
       "<td>0.1048518</td></tr>\n",
       "<tr><td></td>\n",
       "<td>2017-02-23 19:27:02</td>\n",
       "<td> 1 min  3.608 sec</td>\n",
       "<td>25.0</td>\n",
       "<td>0.2665146</td>\n",
       "<td>0.5211094</td>\n",
       "<td>0.8913222</td>\n",
       "<td>8.4872620</td>\n",
       "<td>0.1240482</td>\n",
       "<td>0.2509901</td>\n",
       "<td>0.2789712</td>\n",
       "<td>0.9215679</td>\n",
       "<td>6.5360565</td>\n",
       "<td>0.1086123</td></tr>\n",
       "<tr><td></td>\n",
       "<td>2017-02-23 19:27:02</td>\n",
       "<td> 1 min  4.296 sec</td>\n",
       "<td>26.0</td>\n",
       "<td>0.2657235</td>\n",
       "<td>0.5034343</td>\n",
       "<td>0.8936158</td>\n",
       "<td>8.4872620</td>\n",
       "<td>0.1165598</td>\n",
       "<td>0.2506824</td>\n",
       "<td>0.2740809</td>\n",
       "<td>0.9222134</td>\n",
       "<td>6.8376549</td>\n",
       "<td>0.1019761</td></tr>\n",
       "<tr><td></td>\n",
       "<td>2017-02-23 19:27:03</td>\n",
       "<td> 1 min  5.003 sec</td>\n",
       "<td>27.0</td>\n",
       "<td>0.2652347</td>\n",
       "<td>0.4889971</td>\n",
       "<td>0.8951120</td>\n",
       "<td>8.4872620</td>\n",
       "<td>0.1175077</td>\n",
       "<td>0.2504942</td>\n",
       "<td>0.2715189</td>\n",
       "<td>0.9226019</td>\n",
       "<td>6.7968065</td>\n",
       "<td>0.1033033</td></tr>\n",
       "<tr><td></td>\n",
       "<td>2017-02-23 19:27:04</td>\n",
       "<td> 1 min  5.789 sec</td>\n",
       "<td>28.0</td>\n",
       "<td>0.2649107</td>\n",
       "<td>0.4767588</td>\n",
       "<td>0.8961257</td>\n",
       "<td>8.4872620</td>\n",
       "<td>0.1173813</td>\n",
       "<td>0.2503156</td>\n",
       "<td>0.2689765</td>\n",
       "<td>0.9230989</td>\n",
       "<td>6.7489710</td>\n",
       "<td>0.1019024</td></tr></table></div>"
      ],
      "text/plain": [
       "     timestamp            duration          number_of_trees    training_rmse    training_logloss    training_auc    training_lift    training_classification_error    validation_rmse    validation_logloss    validation_auc    validation_lift    validation_classification_error\n",
       "---  -------------------  ----------------  -----------------  ---------------  ------------------  --------------  ---------------  -------------------------------  -----------------  --------------------  ----------------  -----------------  ---------------------------------\n",
       "     2017-02-23 19:26:52  54.119 sec        0.0                nan              nan                 nan             nan              nan                              nan                nan                   nan               nan                nan\n",
       "     2017-02-23 19:26:52  54.203 sec        1.0                0.358604607381   4.40695870586       0.691407985982  6.79633109703    0.130615065653                   0.348761354858     4.16926282488         0.705036954311    4.07895642013      0.123211915647\n",
       "     2017-02-23 19:26:52  54.313 sec        2.0                0.344980279221   3.83518513968       0.717736110561  8.15137280672    0.133002610966                   0.30350624143      2.12483884968         0.78240819372     5.18127984718      0.145037605073\n",
       "     2017-02-23 19:26:53  54.495 sec        3.0                0.337947229456   3.45125486972       0.736161319686  8.42527886647    0.138126453796                   0.287112563459     1.42647722543         0.823584557488    5.52834260503      0.163323993511\n",
       "     2017-02-23 19:26:53  54.658 sec        4.0                0.328801724439   3.02952126921       0.751007261024  8.47094034284    0.143733072525                   0.277481312503     1.07490946219         0.848062822863    5.64196232339      0.112741483557\n",
       "---  ---                  ---               ---                ---              ---                 ---             ---              ---                              ---                ---                   ---               ---                ---\n",
       "     2017-02-23 19:27:01  1 min  2.955 sec  24.0               0.267352547634   0.544097242275      0.888850115566  8.48726200054    0.120793705962                   0.251451423109     0.279352605587        0.921174355556    6.64803921569      0.104851791771\n",
       "     2017-02-23 19:27:02  1 min  3.608 sec  25.0               0.266514636747   0.521109364067      0.891322173032  8.48726200054    0.12404815318                    0.250990051318     0.278971208177        0.921567853007    6.53605652255      0.108612299071\n",
       "     2017-02-23 19:27:02  1 min  4.296 sec  26.0               0.26572347191    0.503434304529      0.893615819746  8.48726200054    0.116559764921                   0.250682350718     0.274080944952        0.92221341849     6.83765485451      0.101976109718\n",
       "     2017-02-23 19:27:03  1 min  5.003 sec  27.0               0.265234732306   0.488997054142      0.895112016019  8.48726200054    0.117507662169                   0.250494229836     0.271518866146        0.92260194882     6.79680652681      0.103303347589\n",
       "     2017-02-23 19:27:04  1 min  5.789 sec  28.0               0.264910662474   0.47675875444       0.896125706055  8.48726200054    0.11738127587                    0.250315639403     0.268976543602        0.923098927956    6.74897098516      0.101902374281"
      ]
     },
     "metadata": {},
     "output_type": "display_data"
    },
    {
     "name": "stdout",
     "output_type": "stream",
     "text": [
      "\n",
      "See the whole table with table.as_data_frame()\n",
      "Variable Importances: \n"
     ]
    },
    {
     "data": {
      "text/html": [
       "<div style=\"overflow:auto\"><table style=\"width:50%\"><tr><td><b>variable</b></td>\n",
       "<td><b>relative_importance</b></td>\n",
       "<td><b>scaled_importance</b></td>\n",
       "<td><b>percentage</b></td></tr>\n",
       "<tr><td>duration</td>\n",
       "<td>16109.1289062</td>\n",
       "<td>1.0</td>\n",
       "<td>0.2709734</td></tr>\n",
       "<tr><td>month</td>\n",
       "<td>7392.9511719</td>\n",
       "<td>0.4589293</td>\n",
       "<td>0.1243576</td></tr>\n",
       "<tr><td>age</td>\n",
       "<td>5529.1386719</td>\n",
       "<td>0.3432301</td>\n",
       "<td>0.0930062</td></tr>\n",
       "<tr><td>poutcome</td>\n",
       "<td>5217.3823242</td>\n",
       "<td>0.3238774</td>\n",
       "<td>0.0877621</td></tr>\n",
       "<tr><td>day</td>\n",
       "<td>5088.8173828</td>\n",
       "<td>0.3158965</td>\n",
       "<td>0.0855995</td></tr>\n",
       "<tr><td>job</td>\n",
       "<td>4493.6137695</td>\n",
       "<td>0.2789483</td>\n",
       "<td>0.0755875</td></tr>\n",
       "<tr><td>balance</td>\n",
       "<td>3706.7463379</td>\n",
       "<td>0.2301022</td>\n",
       "<td>0.0623516</td></tr>\n",
       "<tr><td>pdays</td>\n",
       "<td>2460.3674316</td>\n",
       "<td>0.1527313</td>\n",
       "<td>0.0413861</td></tr>\n",
       "<tr><td>campaign</td>\n",
       "<td>2097.1188965</td>\n",
       "<td>0.1301820</td>\n",
       "<td>0.0352759</td></tr>\n",
       "<tr><td>education</td>\n",
       "<td>1719.0817871</td>\n",
       "<td>0.1067148</td>\n",
       "<td>0.0289169</td></tr>\n",
       "<tr><td>marital</td>\n",
       "<td>1403.2259522</td>\n",
       "<td>0.0871075</td>\n",
       "<td>0.0236038</td></tr>\n",
       "<tr><td>contact</td>\n",
       "<td>1211.5206299</td>\n",
       "<td>0.0752071</td>\n",
       "<td>0.0203791</td></tr>\n",
       "<tr><td>housing</td>\n",
       "<td>1178.2987060</td>\n",
       "<td>0.0731448</td>\n",
       "<td>0.0198203</td></tr>\n",
       "<tr><td>previous</td>\n",
       "<td>1147.6506348</td>\n",
       "<td>0.0712423</td>\n",
       "<td>0.0193048</td></tr>\n",
       "<tr><td>loan</td>\n",
       "<td>580.8748169</td>\n",
       "<td>0.0360587</td>\n",
       "<td>0.0097710</td></tr>\n",
       "<tr><td>default</td>\n",
       "<td>113.2086563</td>\n",
       "<td>0.0070276</td>\n",
       "<td>0.0019043</td></tr></table></div>"
      ],
      "text/plain": [
       "variable    relative_importance    scaled_importance    percentage\n",
       "----------  ---------------------  -------------------  ------------\n",
       "duration    16109.1                1                    0.270973\n",
       "month       7392.95                0.458929             0.124358\n",
       "age         5529.14                0.34323              0.0930062\n",
       "poutcome    5217.38                0.323877             0.0877621\n",
       "day         5088.82                0.315896             0.0855995\n",
       "job         4493.61                0.278948             0.0755875\n",
       "balance     3706.75                0.230102             0.0623516\n",
       "pdays       2460.37                0.152731             0.0413861\n",
       "campaign    2097.12                0.130182             0.0352759\n",
       "education   1719.08                0.106715             0.0289169\n",
       "marital     1403.23                0.0871075            0.0236038\n",
       "contact     1211.52                0.0752071            0.0203791\n",
       "housing     1178.3                 0.0731448            0.0198203\n",
       "previous    1147.65                0.0712423            0.0193048\n",
       "loan        580.875                0.0360587            0.00977096\n",
       "default     113.209                0.00702761           0.00190429"
      ]
     },
     "metadata": {},
     "output_type": "display_data"
    },
    {
     "name": "stdout",
     "output_type": "stream",
     "text": [
      "<bound method ?.accuracy of >\n"
     ]
    }
   ],
   "source": [
    "print rf.accuracy"
   ]
  },
  {
   "cell_type": "code",
   "execution_count": 70,
   "metadata": {
    "collapsed": false
   },
   "outputs": [
    {
     "name": "stdout",
     "output_type": "stream",
     "text": [
      "0.901961075975\n"
     ]
    }
   ],
   "source": [
    "print rf.auc()"
   ]
  },
  {
   "cell_type": "code",
   "execution_count": 71,
   "metadata": {
    "collapsed": false
   },
   "outputs": [
    {
     "name": "stdout",
     "output_type": "stream",
     "text": [
      "[WARNING] in <ipython-input-71-06c455af4589> line 1:\n",
      "    >>> h2o.shutdown(prompt=False)\n",
      "        ^^^^ Deprecated, use ``h2o.cluster().shutdown()``.\n",
      "H2O session _sid_8e36 closed.\n"
     ]
    }
   ],
   "source": [
    "h2o.shutdown(prompt=False)"
   ]
  },
  {
   "cell_type": "code",
   "execution_count": null,
   "metadata": {
    "collapsed": true
   },
   "outputs": [],
   "source": []
  }
 ],
 "metadata": {
  "kernelspec": {
   "display_name": "Python 2",
   "language": "python",
   "name": "python2"
  },
  "language_info": {
   "codemirror_mode": {
    "name": "ipython",
    "version": 2
   },
   "file_extension": ".py",
   "mimetype": "text/x-python",
   "name": "python",
   "nbconvert_exporter": "python",
   "pygments_lexer": "ipython2",
   "version": "2.7.11"
  }
 },
 "nbformat": 4,
 "nbformat_minor": 1
}
