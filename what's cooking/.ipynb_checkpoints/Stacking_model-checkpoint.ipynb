{
 "cells": [
  {
   "cell_type": "code",
   "execution_count": 2,
   "metadata": {
    "collapsed": false
   },
   "outputs": [],
   "source": [
    "import json\n",
    "import re\n",
    "import numpy as np\n",
    "import pandas as pd\n",
    "from sklearn.preprocessing import LabelEncoder\n",
    "from sklearn.feature_extraction.text import TfidfVectorizer\n",
    "from sklearn.svm import SVC\n",
    "from sklearn.multiclass import OneVsRestClassifier\n",
    "from sklearn.grid_search import GridSearchCV\n",
    "from text_unidecode import unidecode\n",
    "from sklearn.linear_model import LogisticRegression\n",
    "from sklearn.ensemble import RandomForestClassifier\n",
    "import xgboost as xgb\n",
    "from xgboost.sklearn import XGBClassifier"
   ]
  },
  {
   "cell_type": "code",
   "execution_count": 4,
   "metadata": {
    "collapsed": false
   },
   "outputs": [
    {
     "name": "stdout",
     "output_type": "stream",
     "text": [
      "all modules imported\n",
      "size of training dataset is (39774, 3)\n",
      "size of test dataset is (9944, 2)\n"
     ]
    }
   ],
   "source": [
    "verbose=1\n",
    "if verbose:\n",
    "    print 'all modules imported'\n",
    "\n",
    "##################################################################\n",
    "## STEP 1 - READING AND CLEANING DATASETS\n",
    "##################################################################\n",
    "train_df = pd.read_json('train.json')\n",
    "test_df = pd.read_json('test.json')\n",
    "\n",
    "## check the shape of training and test dataset\n",
    "if verbose:\n",
    "    print 'size of training dataset is', train_df.shape\n",
    "    print 'size of test dataset is', test_df.shape"
   ]
  },
  {
   "cell_type": "code",
   "execution_count": 6,
   "metadata": {
    "collapsed": false
   },
   "outputs": [
    {
     "name": "stdout",
     "output_type": "stream",
     "text": [
      " total number of ingedients are 39674\n",
      "total number of cusines are 20\n"
     ]
    }
   ],
   "source": [
    "## read the ingredient list and do some cleaning\n",
    "## remove digits and lower the characters. strip any whitespaces if present\n",
    "all_ingredients_train = []\n",
    "all_cuisines = []\n",
    "for i, row in train_df.iterrows():\n",
    "    all_ingredients_train.append(unidecode(re.sub('\\d+', '',' '.join(row['ingredients']).lower().strip())))\n",
    "    all_cuisines.append(row['cuisine'])\n",
    "\n",
    "all_ingredients_test= []\n",
    "for i, row in test_df.iterrows():\n",
    "    all_ingredients_test.append(unidecode(re.sub('\\d+', '',' '.join(row['ingredients']).lower().strip())))\n",
    "    \n",
    "## remove special characters from ingredients\n",
    "all_ingredients_train = [ ing.replace(\"-\", \" \").replace(\"&\", \" \").replace(\"'\", \" \").replace(\"''\", \" \").replace(\"%\", \" \")\\\n",
    "                    .replace(\"!\", \" \").replace(\"(\", \" \").replace(\")\", \" \").replace(\"/\", \" \").replace(\"/\", \" \")\\\n",
    "                    .replace(\",\", \" \").replace(\".\", \" \") for ing in all_ingredients_train]\n",
    "\n",
    "## remove extra whitespaces\n",
    "all_ingredients_train = [ re.sub('\\s+', ' ', ing).strip() for ing in all_ingredients_train]\n",
    "\n",
    "## number of unique ingredients and cuisine in the dataset\n",
    "if verbose:\n",
    "    print 'total number of ingedients are', len(set(all_ingredients_train))\n",
    "    print 'total number of cusines are', len(set(all_cuisines))"
   ]
  },
  {
   "cell_type": "code",
   "execution_count": 7,
   "metadata": {
    "collapsed": false
   },
   "outputs": [
    {
     "name": "stdout",
     "output_type": "stream",
     "text": [
      "(39774, 3)\n",
      "39774\n",
      "(9944, 2)\n",
      "9944\n"
     ]
    }
   ],
   "source": [
    "print train_df.shape\n",
    "print len(all_ingredients_train)\n",
    "print test_df.shape\n",
    "print len(all_ingredients_test)"
   ]
  },
  {
   "cell_type": "code",
   "execution_count": 8,
   "metadata": {
    "collapsed": true
   },
   "outputs": [],
   "source": [
    "## initialize tfidf vectorizer and label encoder\n",
    "tfidf = TfidfVectorizer()\n",
    "lbl = LabelEncoder()\n",
    "\n",
    "## fit and transform on the test and train dataset\n",
    "train = tfidf.fit_transform(all_ingredients_train).astype('float32')\n",
    "y = lbl.fit_transform(all_cuisines)\n",
    "\n",
    "test = tfidf.transform(all_ingredients_test).astype('float32')"
   ]
  },
  {
   "cell_type": "code",
   "execution_count": 9,
   "metadata": {
    "collapsed": true
   },
   "outputs": [],
   "source": [
    "nfolds = 5 ## use 5-fold cross validation to check the best parameters"
   ]
  },
  {
   "cell_type": "code",
   "execution_count": 10,
   "metadata": {
    "collapsed": true
   },
   "outputs": [],
   "source": [
    "model1 = OneVsRestClassifier(SVC(C=100, kernel='rbf', gamma=0.1, probability=False, tol=0.001, cache_size=200,\\\n",
    "          verbose=True, random_state=1))\n",
    "## fit the model"
   ]
  },
  {
   "cell_type": "code",
   "execution_count": 11,
   "metadata": {
    "collapsed": true
   },
   "outputs": [],
   "source": [
    "## random forest\n",
    "model2 = RandomForestClassifier(n_estimators=500, max_features='sqrt', \\\n",
    "                             max_depth=7, min_samples_split=5, min_samples_leaf=1,\\\n",
    "                             verbose=True, random_state=1, oob_score = True, class_weight='balanced_subsample')"
   ]
  },
  {
   "cell_type": "code",
   "execution_count": 12,
   "metadata": {
    "collapsed": true
   },
   "outputs": [],
   "source": [
    "## first step is to get the number of estimators. this training will stop once\n",
    "## the error stops reducing\n",
    "xgtrain = xgb.DMatrix(train, label=y)\n",
    "model3 = XGBClassifier(learning_rate =0.05, n_estimators=884, max_depth=7, \\\n",
    "                       min_child_weight=8, gamma=0.1, subsample=0.7, colsample_bytree=0.8,\\\n",
    "                       objective= 'multi:softmax', scale_pos_weight=1,seed=1)"
   ]
  },
  {
   "cell_type": "code",
   "execution_count": 16,
   "metadata": {
    "collapsed": false
   },
   "outputs": [],
   "source": [
    "n_folds = 5\n",
    "clfs = [model1, model2, model3]\n",
    "\n",
    "dataset_blend_train = np.zeros((train.shape[0], len(clfs) ))\n",
    "dataset_blend_test = np.zeros((test.shape[0], len(clfs)))"
   ]
  },
  {
   "cell_type": "code",
   "execution_count": 22,
   "metadata": {
    "collapsed": false
   },
   "outputs": [
    {
     "data": {
      "text/plain": [
       "array([ 0.,  0.,  0., ...,  0.,  0.,  0.])"
      ]
     },
     "execution_count": 22,
     "metadata": {},
     "output_type": "execute_result"
    }
   ],
   "source": [
    "dataset_blend_train[:,0]"
   ]
  },
  {
   "cell_type": "code",
   "execution_count": null,
   "metadata": {
    "collapsed": false
   },
   "outputs": [
    {
     "name": "stdout",
     "output_type": "stream",
     "text": [
      "0 OneVsRestClassifier(estimator=SVC(C=100, cache_size=200, class_weight=None, coef0=0.0,\n",
      "  decision_function_shape=None, degree=3, gamma=0.1, kernel='rbf',\n",
      "  max_iter=-1, probability=False, random_state=1, shrinking=True,\n",
      "  tol=0.001, verbose=True),\n",
      "          n_jobs=1)\n",
      "[LibSVM][LibSVM][LibSVM][LibSVM]"
     ]
    }
   ],
   "source": [
    "for j, clf in enumerate(clfs):\n",
    "    print j, clf\n",
    "    clf.fit(train, y)\n",
    "    dataset_blend_train[:, j] = clf.predict_proba(clf.predict_proba(train))\n",
    "    dataset_blend_test[:, j] = clf.predict_proba(clf.predict_proba(test))"
   ]
  },
  {
   "cell_type": "code",
   "execution_count": null,
   "metadata": {
    "collapsed": true
   },
   "outputs": [],
   "source": [
    "print\n",
    "print \"Training Logistic Regression classifier.\"\n",
    "# C parameter here set through experimentation.\n",
    "clf = LogisticRegression(C=10)\n",
    "clf.fit(dataset_blend_train, y)\n",
    "y_pred = clf.predict(dataset_blend_test)"
   ]
  },
  {
   "cell_type": "code",
   "execution_count": null,
   "metadata": {
    "collapsed": true
   },
   "outputs": [],
   "source": [
    "cuisine_pred_labels = lbl.inverse_transform(pred)"
   ]
  },
  {
   "cell_type": "code",
   "execution_count": null,
   "metadata": {
    "collapsed": true
   },
   "outputs": [],
   "source": [
    "ids = test_df['id']\n",
    "\n",
    "## make a submission file\n",
    "output = pd.DataFrame({'id': ids, 'cuisine': cuisine_pred_labels}, columns=['id', 'cuisine'])\n",
    "output.to_csv('stacking_submission.csv', index=False)"
   ]
  }
 ],
 "metadata": {
  "kernelspec": {
   "display_name": "Python 2",
   "language": "python",
   "name": "python2"
  },
  "language_info": {
   "codemirror_mode": {
    "name": "ipython",
    "version": 2
   },
   "file_extension": ".py",
   "mimetype": "text/x-python",
   "name": "python",
   "nbconvert_exporter": "python",
   "pygments_lexer": "ipython2",
   "version": "2.7.11"
  }
 },
 "nbformat": 4,
 "nbformat_minor": 1
}
